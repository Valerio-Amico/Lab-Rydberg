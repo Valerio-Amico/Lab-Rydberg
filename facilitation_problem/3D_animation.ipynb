{
 "cells": [
  {
   "cell_type": "code",
   "execution_count": 1,
   "metadata": {},
   "outputs": [],
   "source": [
    "%matplotlib Tk\n",
    "import numpy as np\n",
    "from sympy import Matrix\n",
    "import matplotlib.pyplot as plt\n",
    "from IPython.display import clear_output\n",
    "from matplotlib.animation import FuncAnimation, ArtistAnimation\n",
    "import matplotlib\n",
    "\n",
    "plt.style.use('seaborn-pastel')"
   ]
  },
  {
   "cell_type": "code",
   "execution_count": 2,
   "metadata": {},
   "outputs": [],
   "source": [
    "def excite_atoms(positions, states):\n",
    "    for position in positions:\n",
    "        states[position[0], position[1], position[2]] = 1\n",
    "    return\n",
    "\n",
    "def random_seeds_displacement(N_atoms_per_row, N_seeds):\n",
    "    seeds_positions = np.random.choice(range(N_atoms_per_row**3), N_seeds, replace=False)\n",
    "    z_positions = [seeds_positions[i]//(N_atoms_per_row**2) for i in range(N_seeds)]\n",
    "    x_positions = [(seeds_positions[i]%(N_atoms_per_row**2))//N_atoms_per_row for i in range(N_seeds)]\n",
    "    y_positions = [(seeds_positions[i]%(N_atoms_per_row**2))%N_atoms_per_row for i in range(N_seeds)]\n",
    "    return x_positions, y_positions, z_positions\n",
    "        \n",
    "def get_neighbourhood(excited_atom, N_atoms_per_row):\n",
    "    neighbours = [\n",
    "                (excited_atom[0]-1, excited_atom[1], excited_atom[2]), \n",
    "                (excited_atom[0]+1, excited_atom[1], excited_atom[2]),\n",
    "                (excited_atom[0], excited_atom[1]-1, excited_atom[2]), \n",
    "                (excited_atom[0], excited_atom[1]+1, excited_atom[2]),\n",
    "                (excited_atom[0], excited_atom[1], excited_atom[2]-1), \n",
    "                (excited_atom[0], excited_atom[1], excited_atom[2]+1)\n",
    "                ]\n",
    "    for neighbour in neighbours.copy():\n",
    "        if -1 in list(neighbour) or N_atoms_per_row in list(neighbour):\n",
    "            neighbours.remove(neighbour)\n",
    "    return neighbours\n",
    "\n",
    "def unzip(list_of_touples):\n",
    "    '''\n",
    "    works only for 3D case.\n",
    "    '''\n",
    "    if len(list_of_touples) == 0:\n",
    "        return [], [], []\n",
    "    if list_of_touples is not list:\n",
    "        list_of_touples = list(list_of_touples)\n",
    "    aus_pos = np.zeros([len(list_of_touples[0]), len(list_of_touples)], dtype=int)\n",
    "    for i in range(len(list_of_touples[0])):\n",
    "        for j in range(len(list_of_touples)):\n",
    "            aus_pos[i,j] = list_of_touples[j][i]\n",
    "    return list(aus_pos[0,:]), list(aus_pos[1,:]), list(aus_pos[2,:])"
   ]
  },
  {
   "cell_type": "code",
   "execution_count": 3,
   "metadata": {},
   "outputs": [
    {
     "ename": "",
     "evalue": "",
     "output_type": "error",
     "traceback": [
      "\u001b[1;31mThe Kernel crashed while executing code in the the current cell or a previous cell. Please review the code in the cell(s) to identify a possible cause of the failure. Click <a href='https://aka.ms/vscodeJupyterKernelCrash'>here</a> for more info. View Jupyter <a href='command:jupyter.viewOutput'>log</a> for further details."
     ]
    }
   ],
   "source": [
    "from turtle import color\n",
    "\n",
    "\n",
    "N_steps = 100\n",
    "N_atoms_per_row = 10\n",
    "mu_exct_on_resonance = 0.2\n",
    "p_exct_OFF = 0.1\n",
    "p_spontaneus_decay = 0.1\n",
    "\n",
    "N_seeds = np.random.poisson(mu_exct_on_resonance) # extract from a poassonian the inital seeds\n",
    "x_excited, y_excited, z_excited = random_seeds_displacement(N_atoms_per_row=N_atoms_per_row, N_seeds=N_seeds) # extract the random positions of the seeds\n",
    "excited_atoms = list(zip(x_excited, y_excited, z_excited))\n",
    "\n",
    "fig = plt.figure(figsize=(13,10))\n",
    "ims = []\n",
    "\n",
    "for i in range(N_steps):\n",
    "    # first phase: check if the neighbours are already excited excite them with a certain probability.\n",
    "    for excited_atom in excited_atoms.copy():\n",
    "        neighbours = get_neighbourhood(excited_atom, N_atoms_per_row)\n",
    "        for neighbour in neighbours:\n",
    "            if neighbour not in excited_atoms and np.random.random()<p_exct_OFF:\n",
    "                excited_atoms.append(neighbour)\n",
    "    # second phase: spontaneous decay of atoms.\n",
    "    for excited_atom in excited_atoms.copy():\n",
    "        if np.random.random()<p_spontaneus_decay:\n",
    "            excited_atoms.remove(excited_atom)\n",
    "\n",
    "    N_seeds = np.random.poisson(mu_exct_on_resonance) # extract from a poassonian the inital seeds\n",
    "    x_excited, y_excited, z_excited = random_seeds_displacement(N_atoms_per_row=N_atoms_per_row, N_seeds=N_seeds) # extract the random positions of the seeds\n",
    "    excited_atoms = excited_atoms + list(zip(x_excited, y_excited, z_excited))\n",
    "\n",
    "    states = np.zeros([N_atoms_per_row, N_atoms_per_row, N_atoms_per_row])\n",
    "    excite_atoms(excited_atoms, states)\n",
    "    final_pos = list(unzip(excited_atoms))\n",
    "    x_pos, y_pos, z_pos = final_pos[0]+np.random.random(len(final_pos[0]))*0.4-0.2, final_pos[1]+np.random.random(len(final_pos[0]))*0.4-0.2, final_pos[2]+np.random.random(len(final_pos[0]))*0.4-0.2\n",
    "\n",
    "    im = plt.axes(projection =\"3d\")\n",
    "    im.scatter3D(x_pos, y_pos, z_pos, marker=\"o\", alpha=1, s=70, color=\"blue\")\n",
    "    im.plot(x_pos, y_pos, marker=\"o\", alpha=0.3, color=\"gray\", linestyle=\"\")\n",
    "\n",
    "    im.set_zlim(0,N_atoms_per_row)\n",
    "    im.set_xlim(0,N_atoms_per_row)\n",
    "    im.set_ylim(0,N_atoms_per_row)\n",
    "\n",
    "    im.view_init(30, 80/N_steps*i)\n",
    "\n",
    "    ims.append([im])\n",
    "\n",
    "ani = ArtistAnimation(fig, ims, interval=100, blit=True, repeat_delay=10)\n",
    "#ani.save('active_phase_3d.mp4')"
   ]
  },
  {
   "cell_type": "code",
   "execution_count": 8,
   "metadata": {},
   "outputs": [
    {
     "name": "stdout",
     "output_type": "stream",
     "text": [
      "N atoms:  125000\n"
     ]
    },
    {
     "ename": "NameError",
     "evalue": "name 'simulation' is not defined",
     "output_type": "error",
     "traceback": [
      "\u001b[0;31m---------------------------------------------------------------------------\u001b[0m",
      "\u001b[0;31mNameError\u001b[0m                                 Traceback (most recent call last)",
      "\u001b[1;32m/Users/valerio/Documents/lab/Lab-Rydberg/facilitation_problem/3D_animation.ipynb Cell 4\u001b[0m in \u001b[0;36m<cell line: 9>\u001b[0;34m()\u001b[0m\n\u001b[1;32m      <a href='vscode-notebook-cell:/Users/valerio/Documents/lab/Lab-Rydberg/facilitation_problem/3D_animation.ipynb#W3sZmlsZQ%3D%3D?line=5'>6</a>\u001b[0m N_steps \u001b[39m=\u001b[39m \u001b[39m80\u001b[39m\n\u001b[1;32m      <a href='vscode-notebook-cell:/Users/valerio/Documents/lab/Lab-Rydberg/facilitation_problem/3D_animation.ipynb#W3sZmlsZQ%3D%3D?line=7'>8</a>\u001b[0m states \u001b[39m=\u001b[39m np\u001b[39m.\u001b[39mzeros([N_atoms_per_row, N_atoms_per_row, N_atoms_per_row])\n\u001b[0;32m----> <a href='vscode-notebook-cell:/Users/valerio/Documents/lab/Lab-Rydberg/facilitation_problem/3D_animation.ipynb#W3sZmlsZQ%3D%3D?line=8'>9</a>\u001b[0m excited_atoms \u001b[39m=\u001b[39m simulation(mu_exct_on_resonance, p_exct_OFF, p_spontaneus_decay, N_atoms_per_row, N_steps)\n\u001b[1;32m     <a href='vscode-notebook-cell:/Users/valerio/Documents/lab/Lab-Rydberg/facilitation_problem/3D_animation.ipynb#W3sZmlsZQ%3D%3D?line=9'>10</a>\u001b[0m excite_atoms(excited_atoms, states)\n\u001b[1;32m     <a href='vscode-notebook-cell:/Users/valerio/Documents/lab/Lab-Rydberg/facilitation_problem/3D_animation.ipynb#W3sZmlsZQ%3D%3D?line=10'>11</a>\u001b[0m final_pos \u001b[39m=\u001b[39m \u001b[39mlist\u001b[39m(unzip(excited_atoms))\n",
      "\u001b[0;31mNameError\u001b[0m: name 'simulation' is not defined"
     ]
    }
   ],
   "source": [
    "N_atoms_per_row = 50\n",
    "print(\"N atoms: \", N_atoms_per_row*N_atoms_per_row*N_atoms_per_row)\n",
    "mu_exct_on_resonance = 6\n",
    "p_exct_OFF = 0.1\n",
    "p_spontaneus_decay = 0.1\n",
    "N_steps = 80\n",
    "\n",
    "states = np.zeros([N_atoms_per_row, N_atoms_per_row, N_atoms_per_row])\n",
    "excited_atoms = simulation(mu_exct_on_resonance, p_exct_OFF, p_spontaneus_decay, N_atoms_per_row, N_steps)\n",
    "excite_atoms(excited_atoms, states)\n",
    "final_pos = list(unzip(excited_atoms))\n",
    "#print(final_pos)\n",
    "x_pos, y_pos, z_pos = final_pos[0], final_pos[1], final_pos[2]\n",
    "plt.figure(figsize=(13,10))\n",
    "ax = plt.axes(projection =\"3d\")\n",
    "ax.scatter3D(x_pos, y_pos, z_pos, marker=\"o\", alpha=1, s=100)\n",
    "\n",
    "ax.set_zlim(0,N_atoms_per_row)\n",
    "ax.set_xlim(0,N_atoms_per_row)\n",
    "ax.set_ylim(0,N_atoms_per_row)\n",
    "plt.show()"
   ]
  },
  {
   "cell_type": "code",
   "execution_count": null,
   "metadata": {},
   "outputs": [],
   "source": []
  }
 ],
 "metadata": {
  "kernelspec": {
   "display_name": "Python 3.10.2 64-bit",
   "language": "python",
   "name": "python3"
  },
  "language_info": {
   "codemirror_mode": {
    "name": "ipython",
    "version": 3
   },
   "file_extension": ".py",
   "mimetype": "text/x-python",
   "name": "python",
   "nbconvert_exporter": "python",
   "pygments_lexer": "ipython3",
   "version": "3.10.2"
  },
  "orig_nbformat": 4,
  "vscode": {
   "interpreter": {
    "hash": "aee8b7b246df8f9039afb4144a1f6fd8d2ca17a180786b69acc140d282b71a49"
   }
  }
 },
 "nbformat": 4,
 "nbformat_minor": 2
}
