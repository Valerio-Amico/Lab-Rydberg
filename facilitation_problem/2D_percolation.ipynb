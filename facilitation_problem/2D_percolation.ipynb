{
 "cells": [
  {
   "cell_type": "markdown",
   "metadata": {},
   "source": [
    "# percolation simulation in a random finite lattice\n",
    "\n",
    "here i will simulate a percolation process with the following scheme:\n",
    "\n",
    "- fist i will simulate the expancion of one cluster, starting from a single point.\n",
    "\n",
    "- than I will consider the case in witch different clusters can interact.\n"
   ]
  },
  {
   "cell_type": "code",
   "execution_count": 1,
   "metadata": {},
   "outputs": [],
   "source": [
    "#%matplotlib Tk\n",
    "import numpy as np\n",
    "from sympy import Matrix\n",
    "import matplotlib.pyplot as plt\n",
    "plt.rcParams[\"figure.figsize\"] = (10,10)\n",
    "from IPython.display import clear_output\n",
    "from matplotlib.animation import FuncAnimation, ArtistAnimation\n",
    "\n",
    "plt.style.use('seaborn-pastel')"
   ]
  },
  {
   "cell_type": "code",
   "execution_count": 23,
   "metadata": {},
   "outputs": [],
   "source": [
    "def print_cluster(cluster, radius):\n",
    "    x = cluster[0,:] * np.cos(cluster[1,:])\n",
    "    y = cluster[0,:] * np.sin(cluster[1,:])\n",
    "    ax = plt.gca()\n",
    "    ax.plot(x, y, \"o\", color=\"black\")\n",
    "    circ = plt.Circle((0,0), radius, color='b', fill=False)\n",
    "    ax.add_patch(circ)\n",
    "    ax.set_xlim([-radius,radius])\n",
    "    ax.set_ylim([-radius,radius])\n",
    "    plt.show()\n",
    "    return\n",
    "\n",
    "def N_interacting_points(cluster, radius_shell, delta_shell):\n",
    "    N=0\n",
    "    for i in range(len(cluster[0,:])):\n",
    "        for j in range(i+1, len(cluster[0,:])):\n",
    "            if (cluster[0,i]-cluster[0,j])>radius_shell:\n",
    "                break\n",
    "            x_i = cluster[0,i]*np.cos(cluster[1,i])\n",
    "            x_j = cluster[0,j]*np.cos(cluster[1,j])\n",
    "            y_i = cluster[0,i]*np.sin(cluster[1,i])\n",
    "            y_j = cluster[0,j]*np.sin(cluster[1,j])\n",
    "            distance = np.sqrt((x_i-x_j)**2 + (y_i - y_j)**2)\n",
    "            if distance < radius_shell and distance > (radius_shell-delta_shell):\n",
    "                #plt.plot([x_i,x_j], [y_i, y_j], color=\"blue\")\n",
    "                N = N+1\n",
    "    return N"
   ]
  },
  {
   "cell_type": "code",
   "execution_count": 24,
   "metadata": {},
   "outputs": [
    {
     "name": "stdout",
     "output_type": "stream",
     "text": [
      "0.4420970641441536\n"
     ]
    }
   ],
   "source": [
    "radius_space = 60\n",
    "radius_shell = 6\n",
    "delta_shell = 0.2\n",
    "N_points = 5000\n",
    "\n",
    "random_r = (np.random.random(N_points) + np.random.random(N_points)) *radius_space\n",
    "random_r = [random_r[i] if random_r[i] < radius_space else 2*radius_space-random_r[i] for i in range(len(random_r))]\n",
    "cluster = np.reshape(list(np.sort(random_r)) + list(np.random.random(N_points)*2*np.pi), (2, N_points))\n",
    "#x, y = np.reshape(np.random.normal(0, radius_space, 2*N_points),(2, N_points))\n",
    "#gaussian_cluster = np.array([[x[i]**2 + y[i]**2, np.arctan(y[i]/x[i])] for i in range(N_points)])\n",
    "density = N_points/(np.pi*(radius_shell*10**-4)**2)\n",
    "print(density*10**-10)\n"
   ]
  },
  {
   "cell_type": "code",
   "execution_count": 25,
   "metadata": {},
   "outputs": [
    {
     "name": "stdout",
     "output_type": "stream",
     "text": [
      "7630\n"
     ]
    },
    {
     "data": {
      "text/plain": [
       "<Figure size 720x720 with 0 Axes>"
      ]
     },
     "metadata": {},
     "output_type": "display_data"
    }
   ],
   "source": [
    "plt.figure(figsize=(10,10))\n",
    "print(N_interacting_points(cluster, radius_shell, delta_shell))\n",
    "#print_cluster(cluster, radius_space)"
   ]
  },
  {
   "cell_type": "code",
   "execution_count": 146,
   "metadata": {},
   "outputs": [
    {
     "data": {
      "image/png": "[encoded data removed]",
      "text/plain": [
       "<Figure size 720x720 with 1 Axes>"
      ]
     },
     "metadata": {
      "needs_background": "light"
     },
     "output_type": "display_data"
    }
   ],
   "source": [
    "plt.hist(x, bins=np.linspace(-radius, radius, 20))\n",
    "plt.show()"
   ]
  },
  {
   "cell_type": "code",
   "execution_count": null,
   "metadata": {},
   "outputs": [],
   "source": []
  }
 ],
 "metadata": {
  "kernelspec": {
   "display_name": "Python 3.10.2 64-bit",
   "language": "python",
   "name": "python3"
  },
  "language_info": {
   "codemirror_mode": {
    "name": "ipython",
    "version": 3
   },
   "file_extension": ".py",
   "mimetype": "text/x-python",
   "name": "python",
   "nbconvert_exporter": "python",
   "pygments_lexer": "ipython3",
   "version": "3.10.2"
  },
  "orig_nbformat": 4,
  "vscode": {
   "interpreter": {
    "hash": "aee8b7b246df8f9039afb4144a1f6fd8d2ca17a180786b69acc140d282b71a49"
   }
  }
 },
 "nbformat": 4,
 "nbformat_minor": 2
}
