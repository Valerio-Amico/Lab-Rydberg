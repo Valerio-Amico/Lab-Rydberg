{
 "cells": [
  {
   "cell_type": "code",
   "execution_count": 1,
   "metadata": {},
   "outputs": [],
   "source": [
    "%matplotlib Tk\n",
    "import numpy as np\n",
    "from sympy import Matrix\n",
    "import matplotlib.pyplot as plt\n",
    "from IPython.display import clear_output\n",
    "from matplotlib.animation import FuncAnimation, ArtistAnimation\n",
    "\n",
    "plt.style.use('seaborn-pastel')"
   ]
  },
  {
   "cell_type": "code",
   "execution_count": 2,
   "metadata": {},
   "outputs": [],
   "source": [
    "def excite_atoms(positions, states):\n",
    "    for i in range(len(positions)):\n",
    "        states[positions[i][0], positions[i][1]] = 1\n",
    "    return\n",
    "\n",
    "def random_seeds_displacement(N_atoms_per_row, N_seeds):\n",
    "    seeds_positions = np.random.choice(range(N_atoms_per_row**2), N_seeds, replace=False)\n",
    "    x_positions = [seeds_positions[i]//N_atoms_per_row for i in range(N_seeds)]\n",
    "    y_positions = [seeds_positions[i]%N_atoms_per_row for i in range(N_seeds)]\n",
    "    return x_positions, y_positions\n",
    "        \n",
    "def get_neighbourhood(excited_atom, N_atoms_per_row):\n",
    "    neighbours = [\n",
    "                (excited_atom[0]-1, excited_atom[1]), \n",
    "                (excited_atom[0]+1, excited_atom[1]),\n",
    "                (excited_atom[0], excited_atom[1]-1), \n",
    "                (excited_atom[0], excited_atom[1]+1)\n",
    "                ]\n",
    "    for neighbour in neighbours.copy():\n",
    "        if -1 in list(neighbour) or N_atoms_per_row in list(neighbour):\n",
    "            neighbours.remove(neighbour)\n",
    "    return neighbours"
   ]
  },
  {
   "cell_type": "code",
   "execution_count": 3,
   "metadata": {},
   "outputs": [],
   "source": [
    "N_steps = 300\n",
    "N_atoms_per_row = 40\n",
    "mu_exct_on_resonance = 0.1\n",
    "p_exct_OFF = 0.1\n",
    "p_spontaneus_decay = 0.3\n",
    "\n",
    "N_seeds = np.random.poisson(mu_exct_on_resonance) # extract from a poassonian the inital seeds\n",
    "x_excited, y_excited = random_seeds_displacement(N_atoms_per_row=N_atoms_per_row, N_seeds=N_seeds) # extract the random positions of the seeds\n",
    "excited_atoms = list(zip(x_excited, y_excited))\n",
    "\n",
    "fig = plt.figure(figsize=(13,10))\n",
    "ims = []\n",
    "\n",
    "for i in range(N_steps):\n",
    "    # first phase: check if the neighbours are already excited excite them with a certain probability.\n",
    "    for excited_atom in excited_atoms.copy():\n",
    "        neighbours = get_neighbourhood(excited_atom, N_atoms_per_row)\n",
    "        for neighbour in neighbours:\n",
    "            if neighbour not in excited_atoms and np.random.random()<p_exct_OFF:\n",
    "                excited_atoms.append(neighbour)\n",
    "    # second phase: spontaneous decay of atoms.\n",
    "    for excited_atom in excited_atoms.copy():\n",
    "        if np.random.random()<p_spontaneus_decay:\n",
    "            excited_atoms.remove(excited_atom)\n",
    "    \n",
    "    N_seeds = np.random.poisson(mu_exct_on_resonance) # extract from a poassonian the inital seeds\n",
    "    x_excited, y_excited = random_seeds_displacement(N_atoms_per_row=N_atoms_per_row, N_seeds=N_seeds) # extract the random positions of the seeds\n",
    "\n",
    "    excited_atoms = excited_atoms + list(zip(x_excited, y_excited))\n",
    "\n",
    "    if i%2 == 0:\n",
    "        states = np.zeros([N_atoms_per_row, N_atoms_per_row])\n",
    "        excite_atoms(excited_atoms, states)\n",
    "\n",
    "        im = plt.imshow(states, animated=True)\n",
    "        ims.append([im])\n",
    "\n",
    "ani = ArtistAnimation(fig, ims, interval=100, blit=True, repeat_delay=10)\n",
    "ani.save('absorbing_phase_2d.mp4')"
   ]
  },
  {
   "cell_type": "code",
   "execution_count": null,
   "metadata": {},
   "outputs": [],
   "source": []
  }
 ],
 "metadata": {
  "kernelspec": {
   "display_name": "Python 3.10.2 64-bit",
   "language": "python",
   "name": "python3"
  },
  "language_info": {
   "codemirror_mode": {
    "name": "ipython",
    "version": 3
   },
   "file_extension": ".py",
   "mimetype": "text/x-python",
   "name": "python",
   "nbconvert_exporter": "python",
   "pygments_lexer": "ipython3",
   "version": "3.10.2"
  },
  "orig_nbformat": 4,
  "vscode": {
   "interpreter": {
    "hash": "aee8b7b246df8f9039afb4144a1f6fd8d2ca17a180786b69acc140d282b71a49"
   }
  }
 },
 "nbformat": 4,
 "nbformat_minor": 2
}
