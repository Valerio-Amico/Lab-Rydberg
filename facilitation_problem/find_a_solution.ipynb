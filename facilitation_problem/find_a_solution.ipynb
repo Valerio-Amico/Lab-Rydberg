{
 "cells": [
  {
   "cell_type": "markdown",
   "metadata": {},
   "source": [
    "Here I try to figure out how to do the facilitation experiment controlling the dissipation well."
   ]
  },
  {
   "cell_type": "code",
   "execution_count": 3,
   "metadata": {},
   "outputs": [],
   "source": [
    "# Constants:\n",
    "F2_to_3 = 87.05\n",
    "F1_to_2 = 51.44\n",
    "F0_to_1 = 23.74\n",
    "\n",
    "# variables:\n",
    "AOMm1RF = 80\n",
    "AOMp1RF = 77.06\n",
    "detuning_blue = 70\n",
    "detuning_fac = 25\n",
    "order_0_freq = 0"
   ]
  },
  {
   "cell_type": "code",
   "execution_count": 4,
   "metadata": {},
   "outputs": [
    {
     "name": "stdout",
     "output_type": "stream",
     "text": [
      "orders:\n",
      "  0 : 10 \n",
      " +1 : 0.010000000000005116 \n",
      " -1 : 0\n",
      "defference (+1)-(-1): 157.06\n"
     ]
    }
   ],
   "source": [
    "order_0_freq = AOMm1RF - detuning_blue\n",
    "order_p1_freq = order_0_freq+AOMp1RF\n",
    "order_m1_freq = order_0_freq-AOMm1RF\n",
    "print(f\"orders:\\n  0 : {order_0_freq} \\n +1 : {order_p1_freq-F2_to_3} \\n -1 : {order_m1_freq+detuning_blue}\")\n",
    "print(f\"defference (+1)-(-1): {order_p1_freq-order_m1_freq}\")"
   ]
  },
  {
   "cell_type": "code",
   "execution_count": 5,
   "metadata": {},
   "outputs": [
    {
     "data": {
      "text/plain": [
       "162.23000000000002"
      ]
     },
     "execution_count": 5,
     "metadata": {},
     "output_type": "execute_result"
    }
   ],
   "source": [
    "F2_to_3+F1_to_2+F0_to_1"
   ]
  },
  {
   "cell_type": "code",
   "execution_count": 6,
   "metadata": {},
   "outputs": [
    {
     "data": {
      "text/plain": [
       "157.05"
      ]
     },
     "execution_count": 6,
     "metadata": {},
     "output_type": "execute_result"
    }
   ],
   "source": [
    "detuning_blue+F2_to_3"
   ]
  },
  {
   "cell_type": "code",
   "execution_count": 11,
   "metadata": {},
   "outputs": [
    {
     "data": {
      "text/plain": [
       "245.05"
      ]
     },
     "execution_count": 11,
     "metadata": {},
     "output_type": "execute_result"
    }
   ],
   "source": [
    "87.05+78+80"
   ]
  },
  {
   "cell_type": "code",
   "execution_count": 10,
   "metadata": {},
   "outputs": [
    {
     "data": {
      "text/plain": [
       "84.82000000000001"
      ]
     },
     "execution_count": 10,
     "metadata": {},
     "output_type": "execute_result"
    }
   ],
   "source": [
    "247.05-F2_to_3-F1_to_2-F0_to_1"
   ]
  },
  {
   "cell_type": "code",
   "execution_count": null,
   "metadata": {},
   "outputs": [],
   "source": []
  }
 ],
 "metadata": {
  "kernelspec": {
   "display_name": "Python 3.10.2 64-bit",
   "language": "python",
   "name": "python3"
  },
  "language_info": {
   "codemirror_mode": {
    "name": "ipython",
    "version": 3
   },
   "file_extension": ".py",
   "mimetype": "text/x-python",
   "name": "python",
   "nbconvert_exporter": "python",
   "pygments_lexer": "ipython3",
   "version": "3.10.2"
  },
  "orig_nbformat": 4,
  "vscode": {
   "interpreter": {
    "hash": "aee8b7b246df8f9039afb4144a1f6fd8d2ca17a180786b69acc140d282b71a49"
   }
  }
 },
 "nbformat": 4,
 "nbformat_minor": 2
}
