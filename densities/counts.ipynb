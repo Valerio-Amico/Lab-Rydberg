{
 "cells": [
  {
   "cell_type": "code",
   "execution_count": 10,
   "metadata": {},
   "outputs": [],
   "source": [
    "import numpy as np"
   ]
  },
  {
   "cell_type": "code",
   "execution_count": 11,
   "metadata": {},
   "outputs": [
    {
     "name": "stdout",
     "output_type": "stream",
     "text": [
      "1.4416666666666667  +-  0.1303094607292792\n",
      "relative error =  0.0903880652457428\n"
     ]
    }
   ],
   "source": [
    "arr = [5.5, 5.41, 4.66, 4.76, 5.59]\n",
    "arr = [5.55, 6.01, 5.53, 5.95, 6.62]\n",
    "arr = [8.11, 8.31, 8.19, 8.47, 8.04]\n",
    "arr = [5.51, 5.68, 6.15, 6.15, 6.08]\n",
    "arr = [3.98, 4.03, 4.18, 4.78, 5.55]\n",
    "arr = [3.34, 3.51, 3.57, 3.77, 3.61]\n",
    "arr = [2.78, 2.71, 2.9, 2.82, 2.88]\n",
    "arr = [1.87, 2.16, 2.32, 2.27, 2.12]\n",
    "arr = [7.26, 6.66, 6.77, 6.48, 5.73, 6.44]\n",
    "arr = [8, 7.73, 8.44, 8.31, 7.54, 8.25]\n",
    "arr = [6.28, 6.16, 6.1, 6.38, 6.3, 6.32]\n",
    "arr = [3.46, 3.73, 4.01, 3.8,3.8,3.41]\n",
    "arr = [4.21, 4.23, 4.28, 4.66, 4.95, 4.19]\n",
    "arr = [2.74, 2.68, 2.79, 3.1, 2.55, 2.77]\n",
    "\n",
    "# 7 10 22\n",
    " \n",
    "arr = [2.08, 2.25, 1.92, 2.17, 1.97, 2.34] # 1245\n",
    "arr = [0.46, 0.44, 0.51, 0.42, 0.65, 0.62] # 126\n",
    "#arr = [1.36, 1.39, 1.31, 1.35, 1.55, 1.33] # 125\n",
    "#arr = [0.12, 0.13, 0.08, 0.15, 0.18, 0.15] # 128\n",
    "#arr = [0.64, 0.4, 0.64, 0.52, 0.64, 0.52] # 127\n",
    "#arr = [1.35, 1.59, 1.71, 1.94, 1.83, 1.61] # 122.7\n",
    "arr = [1.23, 1.08, 1.16, 0.95, 0.86, 0.9] # 121.5\n",
    "arr = [1.44, 1.48, 1.57, 1.28, 1.27, 1.61] # 123.7\n",
    "\n",
    "mean = np.mean(arr)\n",
    "std = np.std(arr)\n",
    "print(mean, \" +- \", std)\n",
    "print(\"relative error = \", std/mean)"
   ]
  },
  {
   "cell_type": "code",
   "execution_count": 12,
   "metadata": {},
   "outputs": [
    {
     "name": "stdout",
     "output_type": "stream",
     "text": [
      "2059523.8095238097  +-  186156.37247039887\n"
     ]
    }
   ],
   "source": [
    "beta = mean/(0.7*10**(-6))\n",
    "print(beta, \" +- \", beta*std/mean)"
   ]
  },
  {
   "cell_type": "code",
   "execution_count": 13,
   "metadata": {},
   "outputs": [
    {
     "ename": "NameError",
     "evalue": "name 'most' is not defined",
     "output_type": "error",
     "traceback": [
      "\u001b[0;31m---------------------------------------------------------------------------\u001b[0m",
      "\u001b[0;31mNameError\u001b[0m                                 Traceback (most recent call last)",
      "\u001b[1;32m/Users/valerio/Documents/lab/Lab-Rydberg/densities/counts.ipynb Cell 4\u001b[0m in \u001b[0;36m<cell line: 1>\u001b[0;34m()\u001b[0m\n\u001b[0;32m----> <a href='vscode-notebook-cell:/Users/valerio/Documents/lab/Lab-Rydberg/densities/counts.ipynb#W3sZmlsZQ%3D%3D?line=0'>1</a>\u001b[0m most [\u001b[39m3\u001b[39m, \u001b[39m2.8\u001b[39m, \u001b[39m3.18\u001b[39m, \u001b[39m3.27\u001b[39m, \u001b[39m3.04\u001b[39m, \u001b[39m2.94\u001b[39m]\n\u001b[1;32m      <a href='vscode-notebook-cell:/Users/valerio/Documents/lab/Lab-Rydberg/densities/counts.ipynb#W3sZmlsZQ%3D%3D?line=1'>2</a>\u001b[0m low [\u001b[39m1.54\u001b[39m, \u001b[39m1.48\u001b[39m, \u001b[39m1.83\u001b[39m, \u001b[39m1.93\u001b[39m, \u001b[39m1.6\u001b[39m, \u001b[39m1.63\u001b[39m]\n\u001b[1;32m      <a href='vscode-notebook-cell:/Users/valerio/Documents/lab/Lab-Rydberg/densities/counts.ipynb#W3sZmlsZQ%3D%3D?line=3'>4</a>\u001b[0m [\u001b[39m2.99\u001b[39m, \u001b[39m2.89\u001b[39m, \u001b[39m3.21\u001b[39m, \u001b[39m3.19\u001b[39m, \u001b[39m3.2\u001b[39m, \u001b[39m2.88\u001b[39m]\n",
      "\u001b[0;31mNameError\u001b[0m: name 'most' is not defined"
     ]
    }
   ],
   "source": [
    "most [3, 2.8, 3.18, 3.27, 3.04, 2.94]\n",
    "low [1.54, 1.48, 1.83, 1.93, 1.6, 1.63]\n",
    "\n",
    "[2.99, 2.89, 3.21, 3.19, 3.2, 2.88]\n",
    "\n",
    "[2.57, 2.26, 2.37, 2.66, 2.41, 2.27]\n",
    "[1.07, 1.11, 1.15, 1.1, 1.07, 1.18]\n",
    "\n",
    "[2.74, 2.68, 2.79, 3.1, 2.55, 2.77]"
   ]
  },
  {
   "cell_type": "code",
   "execution_count": 14,
   "metadata": {},
   "outputs": [
    {
     "data": {
      "text/plain": [
       "0.46415888336127814"
      ]
     },
     "execution_count": 14,
     "metadata": {},
     "output_type": "execute_result"
    }
   ],
   "source": [
    "metri_cubi = 0.01**3\n",
    "N = 10**13\n",
    "\n",
    "L = N**(1/3)\n",
    "\n",
    "dist = 0.01/L\n",
    "\n",
    "dist*10**6"
   ]
  },
  {
   "cell_type": "code",
   "execution_count": 49,
   "metadata": {},
   "outputs": [
    {
     "name": "stdout",
     "output_type": "stream",
     "text": [
      "1.4917728491399998e-08\n"
     ]
    },
    {
     "data": {
      "text/plain": [
       "22664431.01093892"
      ]
     },
     "execution_count": 49,
     "metadata": {},
     "output_type": "execute_result"
    }
   ],
   "source": [
    "hbar = 6.582e-16 # 6.6e-34/(2*np.pi)\n",
    "a0 = 5.291e-11 # bohr radius [m] \n",
    "a0 = 7e-8 #\n",
    "Ha = 4.35974e-18 # hartree [J]\n",
    "Ha = 27.21\n",
    "C6 = 4660 * Ha * a0**6 # \n",
    "\n",
    "atom_distance = 10e-6 # [m]\n",
    "\n",
    "Energy = C6/atom_distance**6\n",
    "\n",
    "print(Energy)\n",
    "\n",
    "frequency = Energy/hbar # E=h*omega\n",
    "\n",
    "frequency"
   ]
  },
  {
   "cell_type": "code",
   "execution_count": null,
   "metadata": {},
   "outputs": [],
   "source": []
  }
 ],
 "metadata": {
  "kernelspec": {
   "display_name": "Python 3.10.2 64-bit",
   "language": "python",
   "name": "python3"
  },
  "language_info": {
   "codemirror_mode": {
    "name": "ipython",
    "version": 3
   },
   "file_extension": ".py",
   "mimetype": "text/x-python",
   "name": "python",
   "nbconvert_exporter": "python",
   "pygments_lexer": "ipython3",
   "version": "3.10.2"
  },
  "orig_nbformat": 4,
  "vscode": {
   "interpreter": {
    "hash": "aee8b7b246df8f9039afb4144a1f6fd8d2ca17a180786b69acc140d282b71a49"
   }
  }
 },
 "nbformat": 4,
 "nbformat_minor": 2
}
