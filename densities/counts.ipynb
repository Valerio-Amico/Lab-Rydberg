{
 "cells": [
  {
   "cell_type": "code",
   "execution_count": 2,
   "metadata": {},
   "outputs": [],
   "source": [
    "import numpy as np"
   ]
  },
  {
   "cell_type": "code",
   "execution_count": 3,
   "metadata": {},
   "outputs": [
    {
     "name": "stdout",
     "output_type": "stream",
     "text": [
      "7.876666666666668  +-  0.2902680753296091\n",
      "relative error =  0.03685163884844803\n"
     ]
    }
   ],
   "source": [
    "arr = [5.5, 5.41, 4.66, 4.76, 5.59]\n",
    "arr = [5.55, 6.01, 5.53, 5.95, 6.62]\n",
    "arr = [8.11, 8.31, 8.19, 8.47, 8.04]\n",
    "arr = [5.51, 5.68, 6.15, 6.15, 6.08]\n",
    "arr = [3.98, 4.03, 4.18, 4.78, 5.55]\n",
    "arr = [3.34, 3.51, 3.57, 3.77, 3.61]\n",
    "arr = [2.78, 2.71, 2.9, 2.82, 2.88]\n",
    "arr = [1.87, 2.16, 2.32, 2.27, 2.12]\n",
    "arr = [7.26, 6.66, 6.77, 6.48, 5.73, 6.44]\n",
    "arr = [8, 7.73, 8.44, 8.31, 7.54, 8.25]\n",
    "arr = [6.28, 6.16, 6.1, 6.38, 6.3, 6.32]\n",
    "arr = [3.46, 3.73, 4.01, 3.8,3.8,3.41]\n",
    "arr = [4.21, 4.23, 4.28, 4.66, 4.95, 4.19]\n",
    "arr = [2.74, 2.68, 2.79, 3.1, 2.55, 2.77]\n",
    "\n",
    "# 7 10 22\n",
    " \n",
    "arr = [2.08, 2.25, 1.92, 2.17, 1.97, 2.34] # 1245\n",
    "arr = [0.46, 0.44, 0.51, 0.42, 0.65, 0.62] # 126\n",
    "#arr = [1.36, 1.39, 1.31, 1.35, 1.55, 1.33] # 125\n",
    "#arr = [0.12, 0.13, 0.08, 0.15, 0.18, 0.15] # 128\n",
    "#arr = [0.64, 0.4, 0.64, 0.52, 0.64, 0.52] # 127\n",
    "#arr = [1.35, 1.59, 1.71, 1.94, 1.83, 1.61] # 122.7\n",
    "arr = [1.23, 1.08, 1.16, 0.95, 0.86, 0.9] # 121.5\n",
    "arr = [1.44, 1.48, 1.57, 1.28, 1.27, 1.61] # 123.7\n",
    "\n",
    "arr = [5.24, 5.22, 4.98, 4.88, 4.93, 5.06] # 0.32\n",
    "arr = [10.09, 10.45, 10.72] # 0.09\n",
    "arr = [5.22, 4.81, 4.56, 4.92, 4.99, 5.26] # 0.3\n",
    "arr = [7.44, 7.13, 7.28, 7.07, 7.49, 7.13] # 0.2\n",
    "arr = [3.65, 3.13, 3.63, 3.29, 3.37, 2.98] # 0.35\n",
    "arr = [4.76, 4.95, 4.68, 5.13, 4.95, 5.24] # 0.25\n",
    "arr = [4.85, 4.6, 4.84, 4.22, 5.23, 5.09] # 0.28\n",
    "arr = [7.59, 7.48, 8.17, 7.87, 8.3, 7.85] # 0.15\n",
    "\n",
    "mean = np.mean(arr)\n",
    "std = np.std(arr)\n",
    "print(mean, \" +- \", std)\n",
    "print(\"relative error = \", std/mean)"
   ]
  },
  {
   "cell_type": "code",
   "execution_count": 4,
   "metadata": {},
   "outputs": [
    {
     "name": "stdout",
     "output_type": "stream",
     "text": [
      "3938333.333333334  +-  145134.03766480455\n"
     ]
    }
   ],
   "source": [
    "beta = mean/(2*10**(-6))\n",
    "print(beta, \" +- \", beta*std/mean)"
   ]
  },
  {
   "cell_type": "code",
   "execution_count": 5,
   "metadata": {},
   "outputs": [
    {
     "ename": "NameError",
     "evalue": "name 'most' is not defined",
     "output_type": "error",
     "traceback": [
      "\u001b[0;31m---------------------------------------------------------------------------\u001b[0m",
      "\u001b[0;31mNameError\u001b[0m                                 Traceback (most recent call last)",
      "\u001b[1;32m/Users/valerio/Documents/lab/Lab-Rydberg/densities/counts.ipynb Cell 4\u001b[0m in \u001b[0;36m<cell line: 1>\u001b[0;34m()\u001b[0m\n\u001b[0;32m----> <a href='vscode-notebook-cell:/Users/valerio/Documents/lab/Lab-Rydberg/densities/counts.ipynb#W3sZmlsZQ%3D%3D?line=0'>1</a>\u001b[0m most [\u001b[39m3\u001b[39m, \u001b[39m2.8\u001b[39m, \u001b[39m3.18\u001b[39m, \u001b[39m3.27\u001b[39m, \u001b[39m3.04\u001b[39m, \u001b[39m2.94\u001b[39m]\n\u001b[1;32m      <a href='vscode-notebook-cell:/Users/valerio/Documents/lab/Lab-Rydberg/densities/counts.ipynb#W3sZmlsZQ%3D%3D?line=1'>2</a>\u001b[0m low [\u001b[39m1.54\u001b[39m, \u001b[39m1.48\u001b[39m, \u001b[39m1.83\u001b[39m, \u001b[39m1.93\u001b[39m, \u001b[39m1.6\u001b[39m, \u001b[39m1.63\u001b[39m]\n\u001b[1;32m      <a href='vscode-notebook-cell:/Users/valerio/Documents/lab/Lab-Rydberg/densities/counts.ipynb#W3sZmlsZQ%3D%3D?line=3'>4</a>\u001b[0m [\u001b[39m2.99\u001b[39m, \u001b[39m2.89\u001b[39m, \u001b[39m3.21\u001b[39m, \u001b[39m3.19\u001b[39m, \u001b[39m3.2\u001b[39m, \u001b[39m2.88\u001b[39m]\n",
      "\u001b[0;31mNameError\u001b[0m: name 'most' is not defined"
     ]
    }
   ],
   "source": [
    "most [3, 2.8, 3.18, 3.27, 3.04, 2.94]\n",
    "low [1.54, 1.48, 1.83, 1.93, 1.6, 1.63]\n",
    "\n",
    "[2.99, 2.89, 3.21, 3.19, 3.2, 2.88]\n",
    "\n",
    "[2.57, 2.26, 2.37, 2.66, 2.41, 2.27]\n",
    "[1.07, 1.11, 1.15, 1.1, 1.07, 1.18]\n",
    "\n",
    "[2.74, 2.68, 2.79, 3.1, 2.55, 2.77]"
   ]
  },
  {
   "cell_type": "code",
   "execution_count": 6,
   "metadata": {},
   "outputs": [
    {
     "data": {
      "text/plain": [
       "0.46415888336127814"
      ]
     },
     "execution_count": 6,
     "metadata": {},
     "output_type": "execute_result"
    }
   ],
   "source": [
    "metri_cubi = 0.01**3\n",
    "N = 10**13\n",
    "\n",
    "L = N**(1/3)\n",
    "\n",
    "dist = 0.01/L\n",
    "\n",
    "dist*10**6"
   ]
  },
  {
   "cell_type": "code",
   "execution_count": 28,
   "metadata": {},
   "outputs": [
    {
     "name": "stdout",
     "output_type": "stream",
     "text": [
      "10.563336469136287  MHz\n"
     ]
    },
    {
     "data": {
      "text/plain": [
       "132742800.99534282"
      ]
     },
     "execution_count": 28,
     "metadata": {},
     "output_type": "execute_result"
    }
   ],
   "source": [
    "h = 6.6e-34\n",
    "hbar = h/(2*np.pi)\n",
    "a0 = 5.291e-11 # bohr radius [m] \n",
    "a0 = 7e-8 #\n",
    "Ha = 4.35974e-18 # hartree [J]\n",
    "Ha = 27.21\n",
    "C6 = h*1.2*10**12 #4660 * Ha * a0**6 # \n",
    "\n",
    "atom_distance = 6.2 # [um]\n",
    "\n",
    "Energy = C6/atom_distance**6 # = 2 * hbar * Delta\n",
    "\n",
    "print(Energy/(2*h)*10**-6, \" MHz\")\n",
    "\n",
    "frequency = Energy/hbar # E=h*omega\n",
    "\n",
    "frequency"
   ]
  },
  {
   "cell_type": "code",
   "execution_count": 39,
   "metadata": {},
   "outputs": [
    {
     "name": "stdout",
     "output_type": "stream",
     "text": [
      "4.641588833612778 um\n"
     ]
    }
   ],
   "source": [
    "detuning = 60 * 10**6  # MHz\n",
    "\n",
    "Energy = detuning * 2 * h\n",
    "\n",
    "atom_distance = (C6/Energy)**(1/6) # um\n",
    "\n",
    "print(atom_distance, \"um\")\n"
   ]
  },
  {
   "cell_type": "code",
   "execution_count": null,
   "metadata": {},
   "outputs": [],
   "source": []
  }
 ],
 "metadata": {
  "kernelspec": {
   "display_name": "Python 3.10.2 64-bit",
   "language": "python",
   "name": "python3"
  },
  "language_info": {
   "codemirror_mode": {
    "name": "ipython",
    "version": 3
   },
   "file_extension": ".py",
   "mimetype": "text/x-python",
   "name": "python",
   "nbconvert_exporter": "python",
   "pygments_lexer": "ipython3",
   "version": "3.10.2"
  },
  "orig_nbformat": 4,
  "vscode": {
   "interpreter": {
    "hash": "aee8b7b246df8f9039afb4144a1f6fd8d2ca17a180786b69acc140d282b71a49"
   }
  }
 },
 "nbformat": 4,
 "nbformat_minor": 2
}
