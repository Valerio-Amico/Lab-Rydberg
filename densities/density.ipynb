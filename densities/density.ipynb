{
 "cells": [
  {
   "cell_type": "code",
   "execution_count": 2,
   "metadata": {},
   "outputs": [],
   "source": [
    "import numpy as np\n",
    "import matplotlib.pyplot as plt"
   ]
  },
  {
   "cell_type": "code",
   "execution_count": 3,
   "metadata": {},
   "outputs": [],
   "source": [
    "#Code to calculate density\n",
    "def dens(N, R1, R2):\n",
    "    R1=(R1)*3.125\n",
    "    R2=(R2)*3.125\n",
    "    AvR=(R1+R2)/(2*np.sqrt(2))\n",
    "    Volume=(4/3)*np.pi*((AvR*10**(-4))**3)\n",
    "    print(f\"The volume is: {Volume}\")\n",
    "    D=(N/((4/3)*np.pi*(AvR*10**(-4))**3))\n",
    "    print(f\"Density = {D}\")\n",
    "    scientific_notation=\"{:e}\".format(D)\n",
    "    print(f\"Density = {scientific_notation}\")\n",
    "    AverageR =(R1+R2)/(2*np.sqrt(2))\n",
    "    print(f\"Radius = {AverageR}\")\n",
    "    Int_dist=(1/D)**(1/3)\n",
    "    print(f\"interatomic distance = {Int_dist*10**4}\")\n",
    "\n",
    "def dens_peak_half(N, R1, R2):\n",
    "    R1=(R1)*3.125\n",
    "    R2=(R2)*3.125\n",
    "    AvR=(R1+R2)/(2*np.sqrt(2))*10**(-4)\n",
    "    d_peak = \"{:e}\".format(N/((2*np.pi*AvR**2)**(3/2)))\n",
    "    d_half = \"{:e}\".format(N/((2*np.pi*np.e*AvR**2)**(3/2)))\n",
    "    print(\"peak =\", d_peak)\n",
    "    print(\"half =\", d_half)"
   ]
  },
  {
   "cell_type": "code",
   "execution_count": 4,
   "metadata": {},
   "outputs": [
    {
     "name": "stdout",
     "output_type": "stream",
     "text": [
      "peak = 7.160035e+09\n",
      "half = 1.597620e+09\n"
     ]
    }
   ],
   "source": [
    "dens_peak_half(49314, 41.8, 26.9)"
   ]
  },
  {
   "cell_type": "code",
   "execution_count": 8,
   "metadata": {},
   "outputs": [
    {
     "name": "stdout",
     "output_type": "stream",
     "text": [
      "The volume is: 1.0462326303690112e-06\n",
      "Density = 74285582139.21103\n",
      "Density = 7.428558e+10\n",
      "Radius = 62.976697699426886\n",
      "interatomic distance = 2.3788395826160564\n"
     ]
    }
   ],
   "source": [
    "dens(116000*0.67, 39, 18)"
   ]
  },
  {
   "cell_type": "code",
   "execution_count": null,
   "metadata": {},
   "outputs": [],
   "source": [
    "V=4/3*np.pi*62.9**2"
   ]
  },
  {
   "cell_type": "code",
   "execution_count": 6,
   "metadata": {},
   "outputs": [
    {
     "name": "stdout",
     "output_type": "stream",
     "text": [
      "The volume is: 5.6494177985615626e-06\n",
      "Density = 412254869978.46094\n",
      "Density = 4.122549e+11\n",
      "Radius = 110.48543456039805\n",
      "interatomic distance = 1.3436249769393855\n"
     ]
    }
   ],
   "source": [
    "dens(2329000, 60, 40)"
   ]
  },
  {
   "cell_type": "code",
   "execution_count": 7,
   "metadata": {},
   "outputs": [
    {
     "data": {
      "text/plain": [
       "1.2547619047619047"
      ]
     },
     "execution_count": 7,
     "metadata": {},
     "output_type": "execute_result"
    }
   ],
   "source": [
    "52.7/(3.5*12)"
   ]
  },
  {
   "cell_type": "code",
   "execution_count": 8,
   "metadata": {},
   "outputs": [
    {
     "data": {
      "text/plain": [
       "[25394, 50.12, 32.48]"
      ]
     },
     "execution_count": 8,
     "metadata": {},
     "output_type": "execute_result"
    }
   ],
   "source": [
    "Ns=30000\n",
    "R1s=(49)*3.125\n",
    "R2s=(31)*3.125\n",
    "\n",
    "[30000, 49.4, 31.95, 1.04e10],\n",
    "[30890, 50.69, 32.1, 9.6e9],\n",
    "[31470, 49.26, 32.13, 1.03e10],\n",
    "[25394, 50.12, 32.48]\n",
    "\n"
   ]
  },
  {
   "cell_type": "code",
   "execution_count": 9,
   "metadata": {},
   "outputs": [
    {
     "name": "stdout",
     "output_type": "stream",
     "text": [
      "The volume is: 7.76606255707685e-06\n",
      "Density = 20512325110.597694\n",
      "Density = 2.051233e+10\n",
      "Radius = 122.84875468770659\n",
      "interatomic distance = 3.6531011957780075\n"
     ]
    }
   ],
   "source": [
    "dens(159300, 64.05, 47.14)"
   ]
  },
  {
   "cell_type": "code",
   "execution_count": 10,
   "metadata": {},
   "outputs": [
    {
     "data": {
      "text/plain": [
       "0.03980891719745223"
      ]
     },
     "execution_count": 10,
     "metadata": {},
     "output_type": "execute_result"
    }
   ],
   "source": [
    "100000/(3.14*5*40**2*10**2)"
   ]
  },
  {
   "cell_type": "code",
   "execution_count": 11,
   "metadata": {},
   "outputs": [],
   "source": [
    "def gaussian(x, mu, sigma):\n",
    "    return 1/(2*np.pi*sigma**2)**(1/2)*np.e**(-((x-mu)**2)/(2*sigma**2))"
   ]
  },
  {
   "cell_type": "code",
   "execution_count": 12,
   "metadata": {},
   "outputs": [
    {
     "data": {
      "image/png": "[encoded data removed]",
      "text/plain": [
       "<Figure size 432x288 with 1 Axes>"
      ]
     },
     "metadata": {
      "needs_background": "light"
     },
     "output_type": "display_data"
    }
   ],
   "source": [
    "mean = 0\n",
    "sigma = 1\n",
    "\n",
    "x = np.linspace(-10,10,1000)\n",
    "y = gaussian(x, mean, sigma)\n",
    "plt.plot(x, y)\n",
    "plt.plot([sigma,sigma], [0, max(y)], color=\"gray\")\n",
    "plt.plot([-sigma,-sigma], [0, max(y)], color=\"gray\")\n",
    "\n",
    "D = 1/(2*sigma) #((4/3)*np.pi*(sigma)**3)\n",
    "plt.plot([-2*sigma, 2*sigma], [D, D])\n",
    "\n",
    "peak = 1/((2*np.pi*sigma**2)**(1/2))\n",
    "plt.plot([-2*sigma, 2*sigma], [peak, peak])\n",
    "\n",
    "peak = 1/((2*np.pi*np.e*sigma**2)**(1/2))\n",
    "plt.plot([-2*sigma, 2*sigma], [peak, peak])\n",
    "\n",
    "plt.show()\n"
   ]
  },
  {
   "cell_type": "code",
   "execution_count": null,
   "metadata": {},
   "outputs": [],
   "source": []
  }
 ],
 "metadata": {
  "kernelspec": {
   "display_name": "Python 3.10.2 64-bit",
   "language": "python",
   "name": "python3"
  },
  "language_info": {
   "codemirror_mode": {
    "name": "ipython",
    "version": 3
   },
   "file_extension": ".py",
   "mimetype": "text/x-python",
   "name": "python",
   "nbconvert_exporter": "python",
   "pygments_lexer": "ipython3",
   "version": "3.10.2"
  },
  "orig_nbformat": 4,
  "vscode": {
   "interpreter": {
    "hash": "aee8b7b246df8f9039afb4144a1f6fd8d2ca17a180786b69acc140d282b71a49"
   }
  }
 },
 "nbformat": 4,
 "nbformat_minor": 2
}
