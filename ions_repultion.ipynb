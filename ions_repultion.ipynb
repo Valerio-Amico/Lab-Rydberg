{
 "cells": [
  {
   "attachments": {},
   "cell_type": "markdown",
   "metadata": {},
   "source": [
    "# rubidium 87 ions repultion\n",
    "\n",
    "Repulsion force between two electric charges:\n",
    "\n",
    "$$ F = \\frac{1}{4 \\pi \\epsilon_0} q_1 q_2 \\frac{\\vec{r_1} - \\vec{r_2}}{|\\vec{r_1} - \\vec{r_2}|^3} $$\n",
    "\n",
    "so the acceleration of one ion due to interaction with other ions:\n",
    "\n",
    "$$ \\vec{a} = \\frac{\\vec{F}}{m} $$\n",
    "\n",
    "the motion equation with $\\vec{r}$ the relative distance:\n",
    "\n",
    "$$ \\vec{r}(t) = \\vec{r}_0 + \\frac{1}{2} \\vec{a} t ^2 = \\vec{r}_0 + \\frac{1}{2} \\frac{\\vec{F}}{m} t ^2 = \\vec{r}_0 + \\frac{q_1 q_2}{8 m \\pi \\epsilon_0}  \\frac{\\vec{r}}{|\\vec{r}|^3} t^2 $$"
   ]
  },
  {
   "cell_type": "code",
   "execution_count": 1,
   "metadata": {},
   "outputs": [],
   "source": [
    "import numpy as np\n",
    "import scipy as sp\n",
    "import scipy.constants as spc"
   ]
  },
  {
   "cell_type": "code",
   "execution_count": 2,
   "metadata": {},
   "outputs": [],
   "source": [
    "rubidium_mass = 1.4192261 * 10**-25 * spc.kilo*spc.gram # Kg\n",
    "r = 10 * spc.micron # micron\n",
    "\n",
    "def coulomb_force(q_1, q_2, r_diff):\n",
    "    \"\"\"\n",
    "    returns coloumb force vector\n",
    "    \"\"\"\n",
    "    r_3 = np.dot(r_diff, r_diff)**(3/2)\n",
    "    return 1/(4*np.pi*spc.epsilon_0) * q_1 * q_2 / r_3 * r_diff"
   ]
  },
  {
   "cell_type": "code",
   "execution_count": 4,
   "metadata": {},
   "outputs": [
    {
     "name": "stdout",
     "output_type": "stream",
     "text": [
      "movement in 1 us =  429.9076885561434\n"
     ]
    }
   ],
   "source": [
    "r_diff = np.array([11, 0, 0]) * spc.micron\n",
    "\n",
    "static_force = coulomb_force(spc.elementary_charge, spc.elementary_charge, r_diff)\n",
    "rubidium_acceleration = static_force / rubidium_mass\n",
    "\n",
    "print (\"movement in 1 us = \", (1/2) * rubidium_acceleration[0] * (8*spc.micro)**2 / spc.micron)"
   ]
  },
  {
   "cell_type": "code",
   "execution_count": null,
   "metadata": {},
   "outputs": [],
   "source": []
  }
 ],
 "metadata": {
  "kernelspec": {
   "display_name": "Python 3",
   "language": "python",
   "name": "python3"
  },
  "language_info": {
   "codemirror_mode": {
    "name": "ipython",
    "version": 3
   },
   "file_extension": ".py",
   "mimetype": "text/x-python",
   "name": "python",
   "nbconvert_exporter": "python",
   "pygments_lexer": "ipython3",
   "version": "3.10.2"
  },
  "orig_nbformat": 4,
  "vscode": {
   "interpreter": {
    "hash": "aee8b7b246df8f9039afb4144a1f6fd8d2ca17a180786b69acc140d282b71a49"
   }
  }
 },
 "nbformat": 4,
 "nbformat_minor": 2
}
