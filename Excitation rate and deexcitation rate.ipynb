{
 "cells": [
  {
   "cell_type": "code",
   "execution_count": 30,
   "id": "727002c0",
   "metadata": {},
   "outputs": [],
   "source": [
    "import matplotlib.pyplot as plt\n",
    "import numpy as np \n",
    "from IPython.core.display import display, HTML\n",
    "from arc import * \n",
    "from arc.advanced.population_lifetime import getPopulationLifetime\n",
    "import arc.calculations_atom_single\n",
    "import arc.alkali_atom_data\n",
    "import arc.calculations_atom_pairstate\n",
    "from matplotlib import pyplot as plt\n",
    "import numpy as np\n",
    "from arc.materials import Sapphire\n",
    "from arc import DynamicPolarizability\n",
    "from arc.calculations_atom_single import DynamicPolarizability\n",
    "import scipy.constants as sp"
   ]
  },
  {
   "cell_type": "code",
   "execution_count": 31,
   "id": "39a22b34",
   "metadata": {},
   "outputs": [],
   "source": [
    "atom=Rubidium87()"
   ]
  },
  {
   "cell_type": "markdown",
   "id": "e6d23b4a",
   "metadata": {},
   "source": [
    "# Code to calculate density"
   ]
  },
  {
   "cell_type": "code",
   "execution_count": 40,
   "id": "e9c79eb6",
   "metadata": {},
   "outputs": [
    {
     "name": "stdout",
     "output_type": "stream",
     "text": [
      "1.786620e+10\n",
      "49.563765943794564\n",
      "3.8252157050486972\n"
     ]
    }
   ],
   "source": [
    "#Code to calculate density\n",
    "N=9112\n",
    "R1=(26.06)*3.125\n",
    "R2=(18.80)*3.125\n",
    "AvR=(R1+R2)/(2*np.sqrt(2))\n",
    "D=(N/((4/3)*sp.pi*(AvR*10**(-4))**3))\n",
    "scientific_notation=\"{:e}\".format(D)\n",
    "print(scientific_notation)\n",
    "AverageR =(R1+R2)/(2*np.sqrt(2))\n",
    "print(AverageR)\n",
    "Int_dist=(1/D)**(1/3)\n",
    "print(Int_dist*10**4)"
   ]
  },
  {
   "cell_type": "markdown",
   "id": "e25e791f",
   "metadata": {},
   "source": [
    "# Code to calculate deexcitation and excitation rate starting from the slope and the tau"
   ]
  },
  {
   "cell_type": "code",
   "execution_count": 41,
   "id": "8a1d9a15",
   "metadata": {},
   "outputs": [
    {
     "name": "stdout",
     "output_type": "stream",
     "text": [
      "Il tasso di deeccitazione per 300 mVpp P IR = 5.84 mW è: 21.176470588235293 kHz\n",
      "Il tasso di deeccitazione per 400 mVpp P IR = 9.60 mW è: 30.224626602375636 kHz\n",
      "Il tasso di deeccitazione per 200 mVpp P IR = 2.75 mW è: 13.957518832840659 kHz\n",
      "Il tasso di deeccitazione per 535 and 72.4 è: 218.44660194174756\n"
     ]
    }
   ],
   "source": [
    "#Deexcitation\n",
    "N=1 #N atoms\n",
    "tau=9.7\n",
    "err_tau=1.1\n",
    "wIR=200\n",
    "Gamma2=0.09\n",
    "#err_gamma2\n",
    "Vexc_dep=wIR**2*(2*np.pi)**(1.5)*AverageR\n",
    "Gamma_real=(Gamma2/4.25)*10**3\n",
    "print('Il tasso di deeccitazione per 300 mVpp P IR = 5.84 mW è:',Gamma_real, 'kHz')\n",
    "Gamma_real1=(0.1028/3.4012)*10**3\n",
    "print('Il tasso di deeccitazione per 400 mVpp P IR = 9.60 mW è:',Gamma_real1, 'kHz')\n",
    "Gamma_real2=(0.058549/4.1948)*10**3\n",
    "print('Il tasso di deeccitazione per 200 mVpp P IR = 2.75 mW è:',Gamma_real2, 'kHz')\n",
    "#tau=\n",
    "#err_tau=\n",
    "#N0=\n",
    "#Gamma2=1/tau\n",
    "#Gamma_real=Gamma2/N0\n",
    "#print('Il tasso di deeccitazione per 300 mVpp è:',Gamma_real)\n",
    "#OmegaIR=np.sqrt(2*gamma*Gamma2*Vmot/(Vexc*N*0.4))/(2*np.pi)\n",
    "#print('La frequenza di Rabi dell IR è:',OmegaIR)\n",
    "slope=0.45\n",
    "a=2.06\n",
    "print('Il tasso di deeccitazione per 535 and 72.4 è:', slope/a*10**3)"
   ]
  },
  {
   "cell_type": "code",
   "execution_count": 33,
   "id": "30159091",
   "metadata": {},
   "outputs": [
    {
     "name": "stdout",
     "output_type": "stream",
     "text": [
      "1.7169939378230568\n",
      "Per il 70 S 1/2\n",
      "The 2-Photon Rabi Frequency calculated with the slope is: 8.70597929077604 kHz\n",
      "Il tasso di eccitazione è, per Blue a 2.6 %,: 0.3416629464020727 kHz\n",
      "Il tasso di eccitazione è, per Blue a 0.87 %,: 0.17218676836315178 kHz\n",
      "Il tasso di eccitazione è, per Blue a 2.6 %,: 0.006914727510882402 kHz\n"
     ]
    }
   ],
   "source": [
    "#Excitation rate starting from the slope\n",
    "N=7203 #N atoms\n",
    "#slope \n",
    "gamma=2*np.pi*0.7 #dephasing rate in MHz\n",
    "wb=40 #blue waist in micron \n",
    "Vexc=wb**2*(2*np.pi)**(1.5)*AverageR #Excitation volume\n",
    "Vmot=(4/3)*np.pi*AverageR**3 #MOT Volume\n",
    "print(Vexc/10**6)\n",
    "print('Per il 70 S 1/2')\n",
    "Rabi_two=(np.sqrt(1.27*2*gamma*Vmot/(Vexc*N*0.4)))/(2*np.pi) #2-Photon Rabi Frequency\n",
    "print('The 2-Photon Rabi Frequency calculated with the slope is:',Rabi_two*10**3, 'kHz')#Deexcitation\n",
    "#Excitation\n",
    "b1=1.2756\n",
    "b2=0.64286\n",
    "b_real1=b1*(Vmot/(Vexc*N*0.4))\n",
    "print('Il tasso di eccitazione è, per Blue a 2.6 %,:', b_real1*10**3, 'kHz')\n",
    "b_real2=b2*(Vmot/(Vexc*N*0.4))\n",
    "print('Il tasso di eccitazione è, per Blue a 0.87 %,:', b_real2*10**3, 'kHz')\n",
    "N=103000 #N atoms\n",
    "R1=(46.59)*3.125\n",
    "R2=(52.67)*3.125\n",
    "AverageR =(R1+R2)/(2*np.sqrt(2))\n",
    "Vexc=wb**2*(2*np.pi)**(1.5)*AverageR #Excitation volume\n",
    "Vmot=(4/3)*np.pi*AverageR**3 #MOT Volume\n",
    "AvR=(R1+R2)/(2*np.sqrt(2))\n",
    "b3=\n",
    "b_real3=b3*(Vmot/(Vexc*N*0.4))\n",
    "print('Il tasso di eccitazione è, per Blue a 2.6 %,:', b_real3*10**3, 'kHz')"
   ]
  },
  {
   "cell_type": "code",
   "execution_count": 39,
   "id": "2396e716",
   "metadata": {},
   "outputs": [
    {
     "name": "stdout",
     "output_type": "stream",
     "text": [
      "0.24803989134262291\n",
      "0.500198722022568\n"
     ]
    },
    {
     "data": {
      "text/plain": [
       "[<matplotlib.lines.Line2D at 0x18ec0baa1f0>]"
      ]
     },
     "execution_count": 39,
     "metadata": {},
     "output_type": "execute_result"
    },
    {
     "data": {
      "image/png": "[encoded data removed]",
      "text/plain": [
       "<Figure size 432x288 with 1 Axes>"
      ]
     },
     "metadata": {
      "needs_background": "light"
     },
     "output_type": "display_data"
    }
   ],
   "source": [
    "n=b_real3*10**3*(Vexc*N/Vmot)/(slope/a*10**3)\n",
    "print(n)\n",
    "print(Vexc/Vmot)\n",
    "t=np.linspace(0,1200,1000)\n",
    "Nat=n*(1-np.exp(-b_real3*10**3*t))\n",
    "plt.plot(t, Nat)\n"
   ]
  }
 ],
 "metadata": {
  "kernelspec": {
   "display_name": "Python 3",
   "language": "python",
   "name": "python3"
  },
  "language_info": {
   "codemirror_mode": {
    "name": "ipython",
    "version": 3
   },
   "file_extension": ".py",
   "mimetype": "text/x-python",
   "name": "python",
   "nbconvert_exporter": "python",
   "pygments_lexer": "ipython3",
   "version": "3.8.8"
  }
 },
 "nbformat": 4,
 "nbformat_minor": 5
}
