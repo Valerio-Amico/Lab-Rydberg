{
 "cells": [
  {
   "cell_type": "code",
   "execution_count": 1,
   "metadata": {},
   "outputs": [],
   "source": [
    "import matplotlib.pyplot as plt\n",
    "import time"
   ]
  },
  {
   "cell_type": "code",
   "execution_count": 2,
   "metadata": {},
   "outputs": [
    {
     "ename": "FileNotFoundError",
     "evalue": "[Errno 2] No such file or directory: 'dati/output22-05-2022.txt'",
     "output_type": "error",
     "traceback": [
      "\u001b[0;31m---------------------------------------------------------------------------\u001b[0m",
      "\u001b[0;31mFileNotFoundError\u001b[0m                         Traceback (most recent call last)",
      "\u001b[1;32m/Users/valerio/Documents/lab/Lab-Rydberg/arduino_for_conditioner/plot_temperature.ipynb Cell 2'\u001b[0m in \u001b[0;36m<cell line: 5>\u001b[0;34m()\u001b[0m\n\u001b[1;32m      <a href='vscode-notebook-cell:/Users/valerio/Documents/lab/Lab-Rydberg/arduino_for_conditioner/plot_temperature.ipynb#ch0000001?line=0'>1</a>\u001b[0m date \u001b[39m=\u001b[39m \u001b[39m\"\u001b[39m\u001b[39m22-05-2022\u001b[39m\u001b[39m\"\u001b[39m\n\u001b[1;32m      <a href='vscode-notebook-cell:/Users/valerio/Documents/lab/Lab-Rydberg/arduino_for_conditioner/plot_temperature.ipynb#ch0000001?line=2'>3</a>\u001b[0m nome \u001b[39m=\u001b[39m \u001b[39m\"\u001b[39m\u001b[39mdati/output\u001b[39m\u001b[39m\"\u001b[39m\u001b[39m+\u001b[39mdate\u001b[39m+\u001b[39m\u001b[39m\"\u001b[39m\u001b[39m.txt\u001b[39m\u001b[39m\"\u001b[39m\n\u001b[0;32m----> <a href='vscode-notebook-cell:/Users/valerio/Documents/lab/Lab-Rydberg/arduino_for_conditioner/plot_temperature.ipynb#ch0000001?line=4'>5</a>\u001b[0m file \u001b[39m=\u001b[39m \u001b[39mopen\u001b[39;49m(nome, \u001b[39m\"\u001b[39;49m\u001b[39mr\u001b[39;49m\u001b[39m\"\u001b[39;49m)\n\u001b[1;32m      <a href='vscode-notebook-cell:/Users/valerio/Documents/lab/Lab-Rydberg/arduino_for_conditioner/plot_temperature.ipynb#ch0000001?line=6'>7</a>\u001b[0m times \u001b[39m=\u001b[39m []\n\u001b[1;32m      <a href='vscode-notebook-cell:/Users/valerio/Documents/lab/Lab-Rydberg/arduino_for_conditioner/plot_temperature.ipynb#ch0000001?line=7'>8</a>\u001b[0m temperatures \u001b[39m=\u001b[39m []\n",
      "\u001b[0;31mFileNotFoundError\u001b[0m: [Errno 2] No such file or directory: 'dati/output22-05-2022.txt'"
     ]
    }
   ],
   "source": [
    "date = \"22-05-2022\"\n",
    "\n",
    "nome = \"dati/output\"+date+\".txt\"\n",
    "\n",
    "file = open(nome, \"r\")\n",
    "\n",
    "times = []\n",
    "temperatures = []\n",
    "\n",
    "for line in file:\n",
    "    print(\"ciao\")\n",
    "    # qui lo splitto e riempio times e temperatures\n",
    "    # stando attento alle date che ancora non ho capito che tipo sono\n",
    "\n",
    "plt.plot(times, temperatures)\n",
    "plt.xlabel(\"time\")\n",
    "plt.ylabel(\"temperature °C\")\n",
    "plt.title(f\"master trap temperature. day {date}\")\n",
    "plt.grid()\n",
    "\n",
    "plt.show()"
   ]
  },
  {
   "cell_type": "code",
   "execution_count": null,
   "metadata": {},
   "outputs": [],
   "source": []
  }
 ],
 "metadata": {
  "interpreter": {
   "hash": "aee8b7b246df8f9039afb4144a1f6fd8d2ca17a180786b69acc140d282b71a49"
  },
  "kernelspec": {
   "display_name": "Python 3.10.2 64-bit",
   "language": "python",
   "name": "python3"
  },
  "language_info": {
   "codemirror_mode": {
    "name": "ipython",
    "version": 3
   },
   "file_extension": ".py",
   "mimetype": "text/x-python",
   "name": "python",
   "nbconvert_exporter": "python",
   "pygments_lexer": "ipython3",
   "version": "3.10.2 (v3.10.2:a58ebcc701, Jan 13 2022, 14:50:16) [Clang 13.0.0 (clang-1300.0.29.30)]"
  },
  "orig_nbformat": 4
 },
 "nbformat": 4,
 "nbformat_minor": 2
}
