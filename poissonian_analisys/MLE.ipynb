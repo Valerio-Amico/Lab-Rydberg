{
 "cells": [
  {
   "cell_type": "markdown",
   "metadata": {},
   "source": [
    "Assumptions:\n",
    "- the depumping process, in a time range $t<<\\tau$ (where $\\tau$ is the depumping lifetime), the probability distribution of the stimolated emission process is exponential.\n",
    "$$ p(t, \\lambda) = \\lambda e^{-t \\lambda} $$\n",
    "where $\\lambda = 1/\\tau$ is the depumping rate.\n",
    "- there are no interaction among atoms: each atom behave in the same way, and they are indipendent each other.\n",
    "\n",
    "- the number of atoms at time 0 is distribuited as a poissonian.\n",
    "$$ p(N_0, \\mu_0) = \\frac{e^{-\\mu_0}\\mu_0^{N_0}}{N_0!} $$\n",
    "The probability of measure $N$ atoms after a time $t$ of depumping is:\n",
    "$$ p(N; p, N_0) = \\binom{N_0}{N}  p^{N_0-N}(1-p)^N$$ \n",
    "where $p$ is the probability of an atom to decay in a interval time $[0, t]$ and with a rate $\\lambda$.\n",
    "$$ p = \\int_{0}^{t} \\lambda e^{-\\lambda t'}dt' = 1 - e^{-\\lambda t} $$\n",
    "\n",
    "One can compute the likelihood and than the MLE.\n",
    "$$ L_N(p) = \\binom{N_0}{N}  p^{N_0-N}(1-p)^N $$\n",
    "$$ \\frac{dL_N}{dp} = 0 \\;\\;\\; \\rightarrow \\;\\;\\; \\hat{p} = -\\frac{N-N_0}{N_0} $$"
   ]
  },
  {
   "cell_type": "code",
   "execution_count": 5,
   "metadata": {},
   "outputs": [],
   "source": [
    "import numpy as np\n",
    "from scipy.special import binom\n",
    "import matplotlib.pyplot as plt"
   ]
  },
  {
   "cell_type": "code",
   "execution_count": 11,
   "metadata": {},
   "outputs": [],
   "source": [
    "def prob(N, N0, t, alpha):\n",
    "    p = 1-np.exp(-alpha*t)\n",
    "    return binom(N0, N)*p**(N0-N)*(1-p)**(N)"
   ]
  },
  {
   "cell_type": "code",
   "execution_count": 25,
   "metadata": {},
   "outputs": [
    {
     "data": {
      "image/png": "[encoded data removed]",
      "text/plain": [
       "<Figure size 432x288 with 1 Axes>"
      ]
     },
     "metadata": {
      "needs_background": "light"
     },
     "output_type": "display_data"
    }
   ],
   "source": [
    "N0 = 10\n",
    "N_values = np.arange(0,20)\n",
    "t = 1 # us\n",
    "rate = 1 # MHz\n",
    "\n",
    "plt.plot(N_values, [prob(N, N0, t, rate) for N in N_values], linestyle=\"\", marker=\"o\")\n",
    "plt.show()"
   ]
  },
  {
   "cell_type": "code",
   "execution_count": 19,
   "metadata": {},
   "outputs": [
    {
     "data": {
      "image/png": "[encoded data removed]",
      "text/plain": [
       "<Figure size 432x288 with 1 Axes>"
      ]
     },
     "metadata": {
      "needs_background": "light"
     },
     "output_type": "display_data"
    }
   ],
   "source": [
    "N0 = 4\n",
    "N = 1\n",
    "t_values = np.linspace(0, 10, 1000) # us\n",
    "rate = 1 # MHz\n",
    "\n",
    "plt.plot(t_values, [prob(N, N0, t, rate) for t in t_values])\n",
    "plt.show()"
   ]
  },
  {
   "cell_type": "code",
   "execution_count": null,
   "metadata": {},
   "outputs": [],
   "source": []
  }
 ],
 "metadata": {
  "interpreter": {
   "hash": "aee8b7b246df8f9039afb4144a1f6fd8d2ca17a180786b69acc140d282b71a49"
  },
  "kernelspec": {
   "display_name": "Python 3.10.2 64-bit",
   "language": "python",
   "name": "python3"
  },
  "language_info": {
   "codemirror_mode": {
    "name": "ipython",
    "version": 3
   },
   "file_extension": ".py",
   "mimetype": "text/x-python",
   "name": "python",
   "nbconvert_exporter": "python",
   "pygments_lexer": "ipython3",
   "version": "3.10.2"
  },
  "orig_nbformat": 4
 },
 "nbformat": 4,
 "nbformat_minor": 2
}
