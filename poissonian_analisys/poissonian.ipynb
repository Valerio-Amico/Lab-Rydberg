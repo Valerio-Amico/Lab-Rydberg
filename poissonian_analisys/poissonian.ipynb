{
 "cells": [
  {
   "cell_type": "code",
   "execution_count": 1,
   "metadata": {},
   "outputs": [],
   "source": [
    "import numpy as np\n",
    "import matplotlib.pyplot as plt"
   ]
  },
  {
   "cell_type": "code",
   "execution_count": 2,
   "metadata": {},
   "outputs": [],
   "source": [
    "def poissonian(k, mu):\n",
    "    return np.e**(-mu)*mu**k/np.math.factorial(k)"
   ]
  },
  {
   "cell_type": "code",
   "execution_count": 3,
   "metadata": {},
   "outputs": [
    {
     "name": "stdout",
     "output_type": "stream",
     "text": [
      "mean,  prob. in 0.\n",
      "0   ;  1.0\n",
      "1   ;  0.36787944117144233\n",
      "2   ;  0.1353352832366127\n",
      "3   ;  0.04978706836786395\n",
      "4   ;  0.018315638888734186\n",
      "5   ;  0.006737946999085469\n",
      "6   ;  0.0024787521766663594\n",
      "7   ;  0.0009118819655545166\n",
      "8   ;  0.00033546262790251196\n",
      "9   ;  0.00012340980408667962\n",
      "10   ;  4.5399929762484875e-05\n",
      "11   ;  1.670170079024567e-05\n",
      "12   ;  6.144212353328214e-06\n",
      "13   ;  2.260329406981056e-06\n",
      "14   ;  8.315287191035685e-07\n",
      "15   ;  3.0590232050182605e-07\n",
      "16   ;  1.1253517471925921e-07\n",
      "17   ;  4.13993771878517e-08\n",
      "18   ;  1.5229979744712642e-08\n",
      "19   ;  5.602796437537273e-09\n"
     ]
    },
    {
     "data": {
      "image/png": "[encoded data removed]",
      "text/plain": [
       "<Figure size 432x288 with 1 Axes>"
      ]
     },
     "metadata": {
      "needs_background": "light"
     },
     "output_type": "display_data"
    }
   ],
   "source": [
    "mu_range = 20\n",
    "poissonian_in_zero = np.zeros(mu_range)\n",
    "print(\"mean,  prob. in 0.\")\n",
    "for i in range(mu_range):\n",
    "    poissonian_in_zero[i] = poissonian(0, i)\n",
    "    print(i,\"  ; \", poissonian_in_zero[i])\n",
    "\n",
    "plt.plot(range(mu_range), poissonian_in_zero, marker=\"*\")\n",
    "plt.show()"
   ]
  },
  {
   "cell_type": "code",
   "execution_count": 19,
   "metadata": {},
   "outputs": [
    {
     "name": "stdout",
     "output_type": "stream",
     "text": [
      "mean =  3.64 +- 2.4638181751095187\n",
      "Q =  0.6676923076923074\n"
     ]
    },
    {
     "data": {
      "image/png": "[encoded data removed]",
      "text/plain": [
       "<Figure size 432x288 with 1 Axes>"
      ]
     },
     "metadata": {
      "needs_background": "light"
     },
     "output_type": "display_data"
    }
   ],
   "source": [
    "name = \"F-2022-05-13-Q_buono_ris.txt\"\n",
    "name = \"F-2022-07-18-0000.txt\"\n",
    "occurrences = []\n",
    "\n",
    "data = open(\"dati/2022-07-18/\"+name, \"r\")\n",
    "\n",
    "for row in data:\n",
    "    row = row.replace(\"\\n\", \"\")\n",
    "    row = row.replace(\",\", \".\")\n",
    "    terms = row.split(\"\\t\")\n",
    "    occurrences.append(float(terms[2]))\n",
    "\n",
    "mu = np.mean(occurrences)\n",
    "std = np.std(occurrences)\n",
    "x = np.arange(int(max(occurrences)))\n",
    "y = [poissonian(xx, mu)*len(occurrences) for xx in x]\n",
    "\n",
    "print(\"mean = \", mu, \"+-\", std)\n",
    "print(\"Q = \", std**2/mu-1)\n",
    "\n",
    "plt.plot(x+0.5, y, marker=\"o\", linestyle=\"\", label=\"ideal\")\n",
    "plt.hist(occurrences, bins=x, label=\"measured\")\n",
    "plt.vlines(mu+0.5, 0, max(y)+1, color=\"gray\", linestyle=\"--\", label=\"mean\")\n",
    "plt.legend()\n",
    "plt.xlabel(\"Nions\")\n",
    "plt.ylabel(\"occurrences\")\n",
    "\n",
    "plt.show() "
   ]
  },
  {
   "cell_type": "code",
   "execution_count": 6,
   "metadata": {},
   "outputs": [
    {
     "data": {
      "image/png": "[encoded data removed]",
      "text/plain": [
       "<Figure size 432x288 with 1 Axes>"
      ]
     },
     "metadata": {
      "needs_background": "light"
     },
     "output_type": "display_data"
    }
   ],
   "source": [
    "names = [\"0003\", \"0004\", \"0005\", \"0006\", \"0007\", \"0008\", \"0009\", \"0010\"]\n",
    "occurrences = []\n",
    "\n",
    "for name in names:\n",
    "    data = open(\"dati/presa_iniziale_q_alti/F-2022-05-13-\"+name+\".txt\", \"r\")\n",
    "\n",
    "    for row in data:\n",
    "        row = row.replace(\"\\n\", \"\")\n",
    "        row = row.replace(\",\", \".\")\n",
    "        terms = row.split(\"\\t\")\n",
    "        occurrences.append(float(terms[2]))\n",
    "\n",
    "mu = np.mean(occurrences)\n",
    "x = np.arange(int(max(occurrences)))\n",
    "y = [poissonian(xx, mu)*len(occurrences) for xx in x]\n",
    "\n",
    "plt.plot(x+0.5, y, marker=\"o\", linestyle=\"\", label=\"ideal\")\n",
    "plt.hist(occurrences, bins=x, label=\"measured\")\n",
    "plt.vlines(mu+0.5, 0, max(y)+1, color=\"gray\", linestyle=\"--\", label=\"mean\")\n",
    "plt.legend()\n",
    "plt.xlabel(\"Nions\")\n",
    "plt.ylabel(\"occurrences\")\n",
    "\n",
    "plt.show() "
   ]
  },
  {
   "cell_type": "code",
   "execution_count": null,
   "metadata": {},
   "outputs": [],
   "source": []
  }
 ],
 "metadata": {
  "interpreter": {
   "hash": "aee8b7b246df8f9039afb4144a1f6fd8d2ca17a180786b69acc140d282b71a49"
  },
  "kernelspec": {
   "display_name": "Python 3.10.2 64-bit",
   "language": "python",
   "name": "python3"
  },
  "language_info": {
   "codemirror_mode": {
    "name": "ipython",
    "version": 3
   },
   "file_extension": ".py",
   "mimetype": "text/x-python",
   "name": "python",
   "nbconvert_exporter": "python",
   "pygments_lexer": "ipython3",
   "version": "3.10.2"
  },
  "orig_nbformat": 4
 },
 "nbformat": 4,
 "nbformat_minor": 2
}
