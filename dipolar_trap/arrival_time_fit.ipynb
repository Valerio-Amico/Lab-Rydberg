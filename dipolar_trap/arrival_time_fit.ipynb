{
 "cells": [
  {
   "cell_type": "code",
   "execution_count": 1,
   "metadata": {},
   "outputs": [],
   "source": [
    "from lib import histfit\n",
    "import numpy as np\n",
    "import matplotlib.pyplot as plt\n",
    "import scipy"
   ]
  },
  {
   "cell_type": "code",
   "execution_count": 2,
   "metadata": {},
   "outputs": [],
   "source": [
    "def get_means_stds(names):\n",
    "    times = {} \n",
    "    diffs = {}\n",
    "    means = {}\n",
    "    stds = {}\n",
    "\n",
    "    for name in names:\n",
    "        diffs[name] = []\n",
    "        times[name] = []\n",
    "\n",
    "        data_times = open(\"data/2023-01-16/Time-2023-01-16-\"+name+\".txt\", \"r\")\n",
    "\n",
    "        for row in data_times:\n",
    "\n",
    "            row = row.replace(\"\\n\", \"\")\n",
    "            row = row.replace(\",\", \".\")\n",
    "            terms = row.split(\"\\t\")\n",
    "            terms = np.sort([float(terms[term]) for term in range(len(terms))])\n",
    "            #diffs[name] = diffs[name] + [terms[i+1] - terms[i] for i in range(len(terms)-1)]\n",
    "            \n",
    "            for i, term in enumerate(terms):\n",
    "                if term > 1:\n",
    "                    times[name].append(term)\n",
    "                    if i < len(terms)-1 and terms[i+1] > 1:\n",
    "                        diffs[name].append(terms[i+1] - term)\n",
    "\n",
    "        if len(times[name]) > 1:\n",
    "            means[name] = np.mean(times[name])\n",
    "            stds[name] = np.std(times[name])/np.sqrt(len(times[name]))\n",
    "        else:\n",
    "            means[name] = 0\n",
    "            stds[name] = 0\n",
    "    \n",
    "    N_tot = sum([len(lista_i) for lista_i in list(times.values())])\n",
    "    print(N_tot)\n",
    "    \n",
    "    return times, diffs, means, stds"
   ]
  },
  {
   "cell_type": "code",
   "execution_count": 3,
   "metadata": {},
   "outputs": [
    {
     "name": "stdout",
     "output_type": "stream",
     "text": [
      "305\n"
     ]
    },
    {
     "data": {
      "image/png": "[encoded data removed]",
      "text/plain": [
       "<Figure size 640x480 with 1 Axes>"
      ]
     },
     "metadata": {},
     "output_type": "display_data"
    }
   ],
   "source": [
    "names = [\"20_\", \"175_\", \"400_\", \"500_\", \"600_\", \"1000_\", \"1600_\", \"1800_\", \"2100_\", \"2500_\", \"3000_\"] \n",
    "eval_times = [20, 175, 400, 500, 600, 1000, 1600, 1800, 2100, 2500, 3000]\n",
    "\n",
    "names = [\"0_200\", \"1_3000\", \"2_10\", \"3_1000\", \"4_2000\", \"5_400\", \"6_800\", \"7_1200\", \"8_100\", \"9_600\", \"10_150\", \"11_1600\"] \n",
    "eval_times = [200, 3000, 10, 1000, 2000, 400, 800, 1200, 100, 600, 150, 1600]\n",
    "\n",
    "times, diffs, means, stds = get_means_stds(names)\n",
    "#print(diffs)\n",
    "\n",
    "for i, name in enumerate(names):\n",
    "    #plt.plot(eval_times[i], means[name], marker=\"o\", c=\"blue\")\n",
    "    plt.errorbar(eval_times[i], means[name], stds[name], marker=\"o\", c=\"blue\")\n",
    "    #plt.plot(eval_times[i], stds[name], marker=\"o\", c=\"blue\")\n",
    "plt.show()"
   ]
  },
  {
   "cell_type": "code",
   "execution_count": 19,
   "metadata": {},
   "outputs": [],
   "source": [
    "def fit_function(theta):\n",
    "   if theta[1] <= 0:\n",
    "      def fun(x):\n",
    "         return 0\n",
    "   else:\n",
    "      def fun(x):\n",
    "         return np.e**(-(x-theta[0])**2/(2*theta[1]**2)) / np.sqrt(2*np.pi*theta[1]**2)\n",
    "   return fun"
   ]
  },
  {
   "cell_type": "code",
   "execution_count": 20,
   "metadata": {},
   "outputs": [],
   "source": [
    "i = 4\n",
    "range_h=[8.3,8.5]\n",
    "#range_h = [min(times[names[0]]), 8.5]\n",
    "n_bins = 10\n",
    "name = names[i]\n",
    "theta_0 = [np.mean(times[name]), np.std(times[name])]\n",
    "data = np.histogram(times[name], bins=np.linspace(range_h[0], range_h[1], n_bins))"
   ]
  },
  {
   "cell_type": "code",
   "execution_count": 21,
   "metadata": {},
   "outputs": [
    {
     "name": "stdout",
     "output_type": "stream",
     "text": [
      "[8.36117746e+00 8.45200906e-04]\n",
      "[8.3586055, 0.004982499999999668]\n"
     ]
    }
   ],
   "source": [
    "min_fit = histfit.hist_fit2(data[0], data[1], fit_function, theta_0)\n",
    "print(min_fit.x)\n",
    "print(theta_0)"
   ]
  },
  {
   "cell_type": "code",
   "execution_count": null,
   "metadata": {},
   "outputs": [
    {
     "data": {
      "image/png": "[encoded data removed]",
      "text/plain": [
       "<Figure size 640x480 with 1 Axes>"
      ]
     },
     "metadata": {},
     "output_type": "display_data"
    }
   ],
   "source": [
    "best_fun = fit_function(theta_0)\n",
    "N = np.sum(data[0])\n",
    "\n",
    "def binned_fit_function(i):\n",
    "   return scipy.integrate.quad(best_fun, data[1][i], data[1][i+1])\n",
    "\n",
    "x = np.linspace(range_h[0],range_h[1], n_bins)\n",
    "y = np.array([binned_fit_function(i)[0] for i in range(n_bins-1)])\n",
    "\n",
    "plt.hist(times[name], bins=np.linspace(range_h[0], range_h[1], n_bins))\n",
    "plt.plot(x[:-1],y*N)\n",
    "plt.show()"
   ]
  },
  {
   "cell_type": "code",
   "execution_count": null,
   "metadata": {},
   "outputs": [],
   "source": []
  },
  {
   "cell_type": "code",
   "execution_count": null,
   "metadata": {},
   "outputs": [],
   "source": []
  }
 ],
 "metadata": {
  "kernelspec": {
   "display_name": "Python 3",
   "language": "python",
   "name": "python3"
  },
  "language_info": {
   "codemirror_mode": {
    "name": "ipython",
    "version": 3
   },
   "file_extension": ".py",
   "mimetype": "text/x-python",
   "name": "python",
   "nbconvert_exporter": "python",
   "pygments_lexer": "ipython3",
   "version": "3.10.2 (v3.10.2:a58ebcc701, Jan 13 2022, 14:50:16) [Clang 13.0.0 (clang-1300.0.29.30)]"
  },
  "orig_nbformat": 4,
  "vscode": {
   "interpreter": {
    "hash": "aee8b7b246df8f9039afb4144a1f6fd8d2ca17a180786b69acc140d282b71a49"
   }
  }
 },
 "nbformat": 4,
 "nbformat_minor": 2
}
