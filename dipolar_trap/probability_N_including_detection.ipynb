{
 "cells": [
  {
   "attachments": {},
   "cell_type": "markdown",
   "metadata": {},
   "source": [
    "$$  p(N; \\mu, \\nu) = \\frac{   \\left(\\sqrt{ \\mu } \\right)^{2N+\\nu-1}  }{\\Gamma\\left( N+1 \\right) \\Gamma \\left( \\nu+N \\right)  I_{\\nu-1} \\left(2\\sqrt{\\mu}\\right) } \n",
    "$$\n",
    "$$\n",
    "\\mu = \\frac{R}{\\beta} \\ ; \\ \\nu = \\frac{\\gamma}{\\beta}\n",
    "$$\n",
    "\n",
    "$$\n",
    "p(n)= \\sum_{N=n}^{\\infty} \\binom{N}{n} (\\lambda \\gamma)^n (1-\\lambda \\gamma)^{N-n} p(N; \\mu, \\nu) $$"
   ]
  },
  {
   "cell_type": "code",
   "execution_count": 13,
   "metadata": {},
   "outputs": [],
   "source": [
    "from scipy.special import iv as BesselI\n",
    "from scipy.special import gamma as Gamma\n",
    "from scipy.special import loggamma as logGamma\n",
    "from scipy.stats import binom\n",
    "import numpy as np\n",
    "import numpy as np\n",
    "import matplotlib.pyplot as plt\n",
    "from lib import histfit\n",
    "from scipy.interpolate import make_interp_spline, BSpline\n",
    "\n",
    "\n",
    "def log_probability_N(i_, R_beta, gamma_beta):\n",
    "    #print(R_beta, gamma_beta)\n",
    "    #print((1-gamma_beta)*np.log(np.sqrt(R_beta)), np.log( BesselI(gamma_beta-1, 2*np.sqrt(R_beta)) ), logGamma(gamma_beta))\n",
    "    #print(\"\\n\")\n",
    "    log_p_0 = -(  (1-gamma_beta)*np.log(np.sqrt(R_beta)) + np.log( BesselI(gamma_beta-1, 2*np.sqrt(R_beta)) ) + logGamma(gamma_beta) )\n",
    "    log_p_i = log_p_0 + logGamma(gamma_beta) + i_*np.log(R_beta) - logGamma(i_+1) - logGamma(gamma_beta+i_)\n",
    "    return log_p_i\n",
    "\n",
    "def p_to_measure_n(n, mu, nu, lambda_):\n",
    "    FIRST = True\n",
    "    N = n+1\n",
    "    p_i = binom.pmf(n, n, lambda_) * np.e**log_probability_N(n, mu, nu)\n",
    "    p_ip1 = binom.pmf(n, n+1, lambda_) * np.e**log_probability_N(n+1, mu, nu)\n",
    "    p_ = p_i\n",
    "    while (FIRST == True or p_i > 1e-9):\n",
    "        FIRST = False\n",
    "        #print(N-1, p_i, p_ip1)\n",
    "        p_i = p_ip1\n",
    "        p_ip1 = binom.pmf(n, N, lambda_) * np.e**log_probability_N(N, mu, nu)\n",
    "        p_ += p_i\n",
    "        N += 1\n",
    "    return p_\n",
    "\n",
    "def mean_var_mandel_Q(probability_vec):\n",
    "    mean = 0\n",
    "    men_2 = 0\n",
    "    for i in range(len(probability_vec)):\n",
    "        mean += i*probability_vec[i]\n",
    "        men_2 += i**2*probability_vec[i]\n",
    "    variance = men_2 - mean**2\n",
    "    Q = variance/mean - 1\n",
    "    return mean, variance, Q"
   ]
  },
  {
   "cell_type": "code",
   "execution_count": 36,
   "metadata": {},
   "outputs": [],
   "source": [
    "mu = 1430.0\n",
    "nu = 50\n",
    "lambd = 0.5\n",
    "\n",
    "N = 3\n",
    "\n",
    "lp = log_probability_N(N, mu, nu)"
   ]
  },
  {
   "cell_type": "code",
   "execution_count": 37,
   "metadata": {},
   "outputs": [
    {
     "name": "stdout",
     "output_type": "stream",
     "text": [
      "good:  (20.365362993029272, 15.899813845323422, -0.21927176791468606)\n",
      "with detection error:  (10.193788301132127, 9.028634150579393, -0.11430040688831367)\n"
     ]
    },
    {
     "data": {
      "image/png": "[encoded data removed]",
      "text/plain": [
       "<Figure size 640x480 with 1 Axes>"
      ]
     },
     "metadata": {},
     "output_type": "display_data"
    }
   ],
   "source": [
    "x = np.arange(0,35)\n",
    "p_s = [p_to_measure_n(x_i, mu, nu, lambd) for x_i in x]\n",
    "p_s_good = [p_to_measure_n(x_i, mu, nu, 1) for x_i in x]\n",
    "plt.plot(x, p_s_good, \"o\", label=\"exact\")\n",
    "plt.plot(x, p_s, \"o\", label=\"with detection error\")\n",
    "print(\"good: \", mean_var_mandel_Q(p_s_good))\n",
    "print(\"with detection error: \", mean_var_mandel_Q(p_s))\n",
    "plt.legend()\n",
    "plt.show()"
   ]
  },
  {
   "cell_type": "code",
   "execution_count": null,
   "metadata": {},
   "outputs": [],
   "source": []
  },
  {
   "cell_type": "code",
   "execution_count": null,
   "metadata": {},
   "outputs": [],
   "source": []
  }
 ],
 "metadata": {
  "kernelspec": {
   "display_name": "Python 3",
   "language": "python",
   "name": "python3"
  },
  "language_info": {
   "codemirror_mode": {
    "name": "ipython",
    "version": 3
   },
   "file_extension": ".py",
   "mimetype": "text/x-python",
   "name": "python",
   "nbconvert_exporter": "python",
   "pygments_lexer": "ipython3",
   "version": "3.10.2 (v3.10.2:a58ebcc701, Jan 13 2022, 14:50:16) [Clang 13.0.0 (clang-1300.0.29.30)]"
  },
  "orig_nbformat": 4,
  "vscode": {
   "interpreter": {
    "hash": "aee8b7b246df8f9039afb4144a1f6fd8d2ca17a180786b69acc140d282b71a49"
   }
  }
 },
 "nbformat": 4,
 "nbformat_minor": 2
}
