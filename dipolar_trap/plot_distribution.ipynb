{
 "cells": [
  {
   "cell_type": "code",
   "execution_count": 6,
   "metadata": {},
   "outputs": [],
   "source": [
    "import numpy as np\n",
    "import matplotlib.pyplot as plt\n",
    "\n",
    "def poissonian(k, mu):\n",
    "    return np.e**(-mu)*mu**k/np.math.factorial(k)"
   ]
  },
  {
   "cell_type": "code",
   "execution_count": 16,
   "metadata": {},
   "outputs": [],
   "source": [
    "occurrences = []"
   ]
  },
  {
   "cell_type": "code",
   "execution_count": 22,
   "metadata": {},
   "outputs": [],
   "source": [
    "## the files 0, 1, 2, 3 are for the long time case.\n",
    "\n",
    "name = \"F-2022-12-21-0000.txt\"\n",
    "\n",
    "data = open(\"data/2022-12-21/\"+name, \"r\")\n",
    "\n",
    "for row in data:\n",
    "    row = row.replace(\"\\n\", \"\")\n",
    "    row = row.replace(\",\", \".\")\n",
    "    terms = row.split(\"\\t\")\n",
    "    occurrences.append(float(terms[2]))\n",
    "    \n"
   ]
  },
  {
   "cell_type": "code",
   "execution_count": 24,
   "metadata": {},
   "outputs": [
    {
     "name": "stdout",
     "output_type": "stream",
     "text": [
      "mean =  12.695652173913043 +- 1.9656790531230113\n",
      "Q =  -0.6956521739130435\n"
     ]
    },
    {
     "data": {
      "image/png": "[encoded data removed]",
      "text/plain": [
       "<Figure size 432x288 with 1 Axes>"
      ]
     },
     "metadata": {
      "needs_background": "light"
     },
     "output_type": "display_data"
    }
   ],
   "source": [
    "\n",
    "mu = np.mean(occurrences)\n",
    "std = np.std(occurrences)\n",
    "x = np.arange(int(min(occurrences)), int(max(occurrences)))\n",
    "y = [poissonian(xx, mu)*len(occurrences) for xx in x]\n",
    "\n",
    "print(\"mean = \", mu, \"+-\", std)\n",
    "print(\"Q = \", std**2/mu-1)\n",
    "\n",
    "#plt.plot(x+0.5, y, marker=\"o\", linestyle=\"\", label=\"ideal\")\n",
    "plt.hist(occurrences, bins=x, label=\"measured\")\n",
    "#plt.vlines(mu+0.5, 0, max(y)+1, color=\"gray\", linestyle=\"--\", label=\"mean\")\n",
    "#plt.legend()\n",
    "plt.xlabel(\"Nions\")\n",
    "plt.ylabel(\"occurrences\")\n",
    "plt.xlim([0,18])\n",
    "\n",
    "plt.show() "
   ]
  },
  {
   "cell_type": "code",
   "execution_count": 1,
   "metadata": {},
   "outputs": [],
   "source": [
    "occurrences = []\n"
   ]
  },
  {
   "cell_type": "code",
   "execution_count": 4,
   "metadata": {},
   "outputs": [],
   "source": [
    "## the files 6, 7, 8 are for the -1 ms delay case.\n",
    "\n",
    "name = \"F-2022-12-21-0008.txt\"\n",
    "\n",
    "data = open(\"data/2022-12-21/\"+name, \"r\")\n",
    "\n",
    "for row in data:\n",
    "    row = row.replace(\"\\n\", \"\")\n",
    "    row = row.replace(\",\", \".\")\n",
    "    terms = row.split(\"\\t\")\n",
    "    occurrences.append(float(terms[2]))"
   ]
  },
  {
   "cell_type": "code",
   "execution_count": 7,
   "metadata": {},
   "outputs": [
    {
     "name": "stdout",
     "output_type": "stream",
     "text": [
      "mean =  4.4 +- 2.054495651237155\n",
      "Q =  -0.04069264069264056\n"
     ]
    },
    {
     "data": {
      "image/png": "[encoded data removed]",
      "text/plain": [
       "<Figure size 432x288 with 1 Axes>"
      ]
     },
     "metadata": {
      "needs_background": "light"
     },
     "output_type": "display_data"
    }
   ],
   "source": [
    "mu = np.mean(occurrences)\n",
    "std = np.std(occurrences)\n",
    "x = np.arange(int(min(occurrences)), int(max(occurrences)))\n",
    "y = [poissonian(xx, mu)*len(occurrences) for xx in x]\n",
    "\n",
    "print(\"mean = \", mu, \"+-\", std)\n",
    "print(\"Q = \", std**2/mu-1)\n",
    "\n",
    "#plt.plot(x+0.5, y, marker=\"o\", linestyle=\"\", label=\"ideal\")\n",
    "plt.hist(occurrences, bins=x, label=\"measured\")\n",
    "#plt.vlines(mu+0.5, 0, max(y)+1, color=\"gray\", linestyle=\"--\", label=\"mean\")\n",
    "#plt.legend()\n",
    "plt.xlabel(\"Nions\")\n",
    "plt.ylabel(\"occurrences\")\n",
    "plt.xlim([0,18])\n",
    "\n",
    "plt.show() "
   ]
  },
  {
   "cell_type": "code",
   "execution_count": null,
   "metadata": {},
   "outputs": [],
   "source": []
  }
 ],
 "metadata": {
  "kernelspec": {
   "display_name": "Python 3",
   "language": "python",
   "name": "python3"
  },
  "language_info": {
   "codemirror_mode": {
    "name": "ipython",
    "version": 3
   },
   "file_extension": ".py",
   "mimetype": "text/x-python",
   "name": "python",
   "nbconvert_exporter": "python",
   "pygments_lexer": "ipython3",
   "version": "3.10.2 (v3.10.2:a58ebcc701, Jan 13 2022, 14:50:16) [Clang 13.0.0 (clang-1300.0.29.30)]"
  },
  "orig_nbformat": 4,
  "vscode": {
   "interpreter": {
    "hash": "aee8b7b246df8f9039afb4144a1f6fd8d2ca17a180786b69acc140d282b71a49"
   }
  }
 },
 "nbformat": 4,
 "nbformat_minor": 2
}
