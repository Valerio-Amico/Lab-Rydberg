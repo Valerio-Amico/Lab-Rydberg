{
 "cells": [
  {
   "cell_type": "code",
   "execution_count": 1,
   "metadata": {},
   "outputs": [],
   "source": [
    "import numpy as np"
   ]
  },
  {
   "cell_type": "code",
   "execution_count": 2,
   "metadata": {},
   "outputs": [
    {
     "name": "stdout",
     "output_type": "stream",
     "text": [
      "1.7006802721088434 0.6991685563114134\n"
     ]
    }
   ],
   "source": [
    "freq = 294 # [Hz]\n",
    "phase = 148 # deg\n",
    "\n",
    "pulse_duration = 1/(2*freq)\n",
    "pulse_delay = phase/360*pulse_duration\n",
    "\n",
    "print(pulse_duration*1e3, pulse_delay*1e3)"
   ]
  },
  {
   "cell_type": "code",
   "execution_count": 17,
   "metadata": {},
   "outputs": [
    {
     "name": "stdout",
     "output_type": "stream",
     "text": [
      "500.0 90.0\n"
     ]
    }
   ],
   "source": [
    "pulse_duration = 1 * 1e-3 # s\n",
    "pulse_delay = 0.5 * 1e-3  # s\n",
    "\n",
    "phase = pulse_delay*360/(2*pulse_duration)\n",
    "freq = 1/(2*pulse_duration)\n",
    "\n",
    "print(freq, phase)"
   ]
  },
  {
   "cell_type": "code",
   "execution_count": null,
   "metadata": {},
   "outputs": [],
   "source": []
  }
 ],
 "metadata": {
  "kernelspec": {
   "display_name": "Python 3",
   "language": "python",
   "name": "python3"
  },
  "language_info": {
   "codemirror_mode": {
    "name": "ipython",
    "version": 3
   },
   "file_extension": ".py",
   "mimetype": "text/x-python",
   "name": "python",
   "nbconvert_exporter": "python",
   "pygments_lexer": "ipython3",
   "version": "3.10.2"
  },
  "orig_nbformat": 4,
  "vscode": {
   "interpreter": {
    "hash": "aee8b7b246df8f9039afb4144a1f6fd8d2ca17a180786b69acc140d282b71a49"
   }
  }
 },
 "nbformat": 4,
 "nbformat_minor": 2
}
