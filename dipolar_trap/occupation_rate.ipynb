{
 "cells": [
  {
   "attachments": {},
   "cell_type": "markdown",
   "metadata": {},
   "source": [
    "using the refernece https://journals.aps.org/prl/pdf/10.1103/PhysRevLett.89.023005, the differential equation for the number of atoms trapped in the mot is\n",
    "\n",
    "$$ \\frac{dN}{dt} = R - \\gamma N - \\beta N (N-1) $$\n",
    "\n",
    "where $\\gamma$ is the one-atom collision rate (due to the collisions with the atoms in the cloud),\n",
    "$\\beta$ is the two-atom collision rate (due to the collision of two trapped ions) and $R$ is the loading rate. \n",
    "\n",
    "for $N \\gg 1$: the ladder differential equation is valid,\n",
    "else one can run a monte carlo simulation with the following rules:\n",
    "\n",
    "\n",
    "\n"
   ]
  },
  {
   "cell_type": "code",
   "execution_count": null,
   "metadata": {},
   "outputs": [],
   "source": []
  }
 ],
 "metadata": {
  "language_info": {
   "name": "python"
  },
  "orig_nbformat": 4
 },
 "nbformat": 4,
 "nbformat_minor": 2
}
