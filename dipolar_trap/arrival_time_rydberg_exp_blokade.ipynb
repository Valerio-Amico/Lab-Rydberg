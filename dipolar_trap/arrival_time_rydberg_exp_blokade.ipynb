{
 "cells": [
  {
   "cell_type": "code",
   "execution_count": 1,
   "metadata": {},
   "outputs": [],
   "source": [
    "import matplotlib.pyplot as plt\n",
    "import numpy as np\n",
    "from lib import histfit"
   ]
  },
  {
   "cell_type": "code",
   "execution_count": 24,
   "metadata": {},
   "outputs": [],
   "source": [
    "\n",
    "def get_means_stds(names):\n",
    "    times = {} \n",
    "    diffs = {}\n",
    "    means = {}\n",
    "    stds = {}\n",
    "\n",
    "    for name in names:\n",
    "        diffs[name] = []\n",
    "        times[name] = []\n",
    "\n",
    "        #data_times = open(\"data/2023-01-16/Time-2023-01-17-\"+name+\".txt\", \"r\")\n",
    "        data_times = open(\"/Users/valerio/Documents/lab/Lab-Rydberg/wavw_lec_20-01-23/2023-01-17/Time-2023-01-17-\"+name+\".txt\", \"r\")\n",
    "        N_row = 0\n",
    "\n",
    "        for row in data_times:\n",
    "            N_row += 1\n",
    "            row = row.replace(\"\\n\", \"\")\n",
    "            row = row.replace(\",\", \".\")\n",
    "            terms = row.split(\"\\t\")\n",
    "            terms = np.sort([float(terms[term]) for term in range(len(terms))])\n",
    "            #diffs[name] = diffs[name] + [terms[i+1] - terms[i] for i in range(len(terms)-1)]\n",
    "            \n",
    "            for i, term in enumerate(terms):\n",
    "                if term > 1:\n",
    "                    times[name].append(term)\n",
    "                    if i < len(terms)-1 and terms[i+1] > 1:\n",
    "                        diffs[name].append(terms[i+1] - term)\n",
    "\n",
    "        if len(times[name]) >= 1:\n",
    "            means[name] = np.mean(times[name])\n",
    "            stds[name] = np.std(times[name])/np.sqrt(N_row)#/np.sqrt(len(times[name]))\n",
    "        else:\n",
    "            means[name] = 0\n",
    "            stds[name] = 0\n",
    "        \n",
    "        print(N_row)\n",
    "    \n",
    "    N_tot = sum([len(lista_i) for lista_i in list(times.values())])\n",
    "    print(N_tot)\n",
    "    \n",
    "    return times, diffs, means, stds\n",
    "\n",
    "#def fit_function(theta):\n",
    "#    def fun(x):\n",
    "#        return np.e**(-(x-theta[0])**2/(2*theta[1]**2)) / np.sqrt(2*np.pi*theta[1]**2)\n",
    "#    return fun\n",
    "\n",
    "def fit_function(theta):\n",
    "   if theta[1] <= 0:\n",
    "      def fun(x):\n",
    "         return 0\n",
    "   else:\n",
    "      def fun(x):\n",
    "         return np.e**(-(x-theta[0])**2/(2*theta[1]**2)) / np.sqrt(2*np.pi*theta[1]**2)\n",
    "   return fun    "
   ]
  },
  {
   "cell_type": "code",
   "execution_count": 27,
   "metadata": {},
   "outputs": [
    {
     "name": "stdout",
     "output_type": "stream",
     "text": [
      "10\n",
      "10\n",
      "10\n",
      "10\n",
      "10\n",
      "10\n",
      "10\n",
      "10\n",
      "10\n",
      "10\n",
      "10\n",
      "10\n",
      "10\n",
      "10\n",
      "320\n"
     ]
    },
    {
     "data": {
      "image/png": "[encoded data removed]",
      "text/plain": [
       "<Figure size 640x480 with 1 Axes>"
      ]
     },
     "metadata": {},
     "output_type": "display_data"
    }
   ],
   "source": [
    "names = [\"1\", \"10\", \"500\", \"750\", \"1250\", \"1500\", \"2000\", \"3000\", \"4000\", \"5000\", \"6000\", \"7000\", \"8000\", \"10000\"] \n",
    "eval_times = [1, 10, 500, 750, 1250, 1500, 2000, 3000, 4000, 5000, 6000, 7000, 8000, 10000]\n",
    "\n",
    "max_N_row = 0\n",
    "\n",
    "times, diffs, means, stds = get_means_stds(names)\n",
    "stds_fit = []\n",
    "mean_fit = []\n",
    "\n",
    "for i, name in enumerate(names):\n",
    "\n",
    "    bins_range = [8.3,8.5]\n",
    "    #theta_0 = [8.4, 0.03]\n",
    "    theta_0 = [np.mean(times[name]), np.std(times[name])]\n",
    "    n_bins = 50\n",
    "    min_fit = histfit.hist_fit(times[name], bins_range, n_bins, fit_function, theta_0)\n",
    "    mean_fit.append(min_fit.x[0])\n",
    "    stds_fit.append(min_fit.x[1])\n",
    "    #plt.plot(eval_times[i], means[name], marker=\"o\", c=\"blue\")\n",
    "    #plt.errorbar(eval_times[i], means[name], stds[name], marker=\"o\", c=\"blue\")\n",
    "    plt.plot(eval_times[i], stds_fit[i]/np.sqrt(10), marker=\"o\", c=\"orange\")\n",
    "    plt.plot(eval_times[i], stds[name], marker=\"*\", c=\"blue\")\n",
    "plt.plot([], [], marker=\"o\", c=\"orange\", label=\"fit\")\n",
    "plt.plot([], [], marker=\"*\", c=\"blue\", label=\"row\")\n",
    "plt.title(\"17-01-23\")\n",
    "plt.show()"
   ]
  },
  {
   "cell_type": "code",
   "execution_count": null,
   "metadata": {},
   "outputs": [],
   "source": []
  },
  {
   "cell_type": "code",
   "execution_count": 28,
   "metadata": {},
   "outputs": [],
   "source": [
    "def get_means_stds(names):\n",
    "    times = {} \n",
    "    diffs = {}\n",
    "    means = {}\n",
    "    stds = {}\n",
    "\n",
    "    for name in names:\n",
    "        diffs[name] = []\n",
    "        times[name] = []\n",
    "\n",
    "        #data_times = open(\"data/2023-01-16/Time-2023-01-18-\"+name+\".txt\", \"r\")\n",
    "        data_times = open(\"/Users/valerio/Documents/lab/Lab-Rydberg/wavw_lec_20-01-23/2023-01-18/Time-2023-01-18-\"+name+\".txt\", \"r\")\n",
    "        N_row = 0\n",
    "\n",
    "        for row in data_times:\n",
    "            N_row += 1\n",
    "            row = row.replace(\"\\n\", \"\")\n",
    "            row = row.replace(\",\", \".\")\n",
    "            terms = row.split(\"\\t\")\n",
    "            terms = np.sort([float(terms[term]) for term in range(len(terms))])\n",
    "            #diffs[name] = diffs[name] + [terms[i+1] - terms[i] for i in range(len(terms)-1)]\n",
    "            \n",
    "            for i, term in enumerate(terms):\n",
    "                if term > 1:\n",
    "                    times[name].append(term)\n",
    "                    if i < len(terms)-1 and terms[i+1] > 1:\n",
    "                        diffs[name].append(terms[i+1] - term)\n",
    "        #print(N_row)\n",
    "        if len(times[name]) >= 1:\n",
    "            means[name] = np.mean(times[name])\n",
    "            stds[name] = np.std(times[name])/np.sqrt(N_row)#/np.sqrt(len(times[name]))\n",
    "        else:\n",
    "            means[name] = 0\n",
    "            stds[name] = 0\n",
    "    \n",
    "    N_tot = sum([len(lista_i) for lista_i in list(times.values())])\n",
    "    print(N_tot)\n",
    "    \n",
    "    return times, diffs, means, stds\n",
    "\n",
    "#def fit_function(theta):\n",
    "#    def fun(x):\n",
    "#        return np.e**(-(x-theta[0])**2/(2*theta[1]**2)) / np.sqrt(2*np.pi*theta[1]**2)\n",
    "#    return fun\n",
    "\n",
    "def fit_function(theta):\n",
    "   if theta[1] <= 0:\n",
    "      def fun(x):\n",
    "         return 0\n",
    "   else:\n",
    "      def fun(x):\n",
    "         return np.e**(-(x-theta[0])**2/(2*theta[1]**2)) / np.sqrt(2*np.pi*theta[1]**2)\n",
    "   return fun   "
   ]
  },
  {
   "cell_type": "code",
   "execution_count": 29,
   "metadata": {},
   "outputs": [
    {
     "name": "stdout",
     "output_type": "stream",
     "text": [
      "461\n"
     ]
    },
    {
     "data": {
      "image/png": "[encoded data removed]",
      "text/plain": [
       "<Figure size 640x480 with 1 Axes>"
      ]
     },
     "metadata": {},
     "output_type": "display_data"
    }
   ],
   "source": [
    "names = [\"1_1\", \"1_2\", \"1_5\", \"1_10\", \"1_25\", \"1_50\", \"1_100\", \"1_150\", \"1_200\", \"1_400\", \"1_425\", \"1_450\", \"1_500\", \"1_550\", \"1_600\", \"1_700\", \"1_800\", \"1_900\", \"1_1000\"] \n",
    "eval_times = [1, 2, 5, 10, 25, 50, 100, 150, 200, 400, 425, 450, 500, 550, 600, 700, 800, 900, 1000]\n",
    "\n",
    "times, diffs, means, stds = get_means_stds(names)\n",
    "stds_fit = []\n",
    "mean_fit = []\n",
    "\n",
    "for i, name in enumerate(names):\n",
    "\n",
    "    bins_range = [8.3,8.5]\n",
    "    #theta_0 = [8.4, 0.03]\n",
    "    theta_0 = [np.mean(times[name]), np.std(times[name])]\n",
    "    n_bins = 50\n",
    "    min_fit = histfit.hist_fit(times[name], bins_range, n_bins, fit_function, theta_0)\n",
    "    mean_fit.append(min_fit.x[0])\n",
    "    stds_fit.append(min_fit.x[1])\n",
    "    #plt.plot(eval_times[i], means[name], marker=\"o\", c=\"blue\")\n",
    "    #plt.errorbar(eval_times[i], means[name], stds[name], marker=\"o\", c=\"blue\")\n",
    "    plt.plot(eval_times[i], stds_fit[i]/np.sqrt(10), marker=\"o\", c=\"orange\")\n",
    "    plt.plot(eval_times[i], stds[name], marker=\"*\", c=\"blue\")\n",
    "plt.plot([], [], marker=\"o\", c=\"orange\", label=\"fit\")\n",
    "plt.plot([], [], marker=\"*\", c=\"blue\", label=\"row\")\n",
    "plt.title(\"18-01-23\")\n",
    "plt.legend()\n",
    "plt.show()"
   ]
  },
  {
   "cell_type": "code",
   "execution_count": 189,
   "metadata": {},
   "outputs": [],
   "source": [
    "pois_extr = np.random.poisson(lam=10, size = 20)\n",
    "values = np.zeros(20)\n",
    "values = pois_extr\n",
    "#values[19] = 10"
   ]
  },
  {
   "cell_type": "code",
   "execution_count": 190,
   "metadata": {},
   "outputs": [
    {
     "data": {
      "text/plain": [
       "array([ 9, 12,  6, 11, 14, 11, 12,  7,  7,  3,  2,  9,  7,  8, 10, 11,  7,\n",
       "        8,  6,  9])"
      ]
     },
     "execution_count": 190,
     "metadata": {},
     "output_type": "execute_result"
    }
   ],
   "source": [
    "values"
   ]
  },
  {
   "cell_type": "code",
   "execution_count": 191,
   "metadata": {},
   "outputs": [
    {
     "data": {
      "text/plain": [
       "0.01153846153846172"
      ]
     },
     "execution_count": 191,
     "metadata": {},
     "output_type": "execute_result"
    }
   ],
   "source": [
    "Q = np.var(values)/np.mean(values) - 1\n",
    "Q"
   ]
  },
  {
   "cell_type": "code",
   "execution_count": null,
   "metadata": {},
   "outputs": [],
   "source": []
  },
  {
   "cell_type": "code",
   "execution_count": null,
   "metadata": {},
   "outputs": [],
   "source": []
  }
 ],
 "metadata": {
  "kernelspec": {
   "display_name": "Python 3",
   "language": "python",
   "name": "python3"
  },
  "language_info": {
   "codemirror_mode": {
    "name": "ipython",
    "version": 3
   },
   "file_extension": ".py",
   "mimetype": "text/x-python",
   "name": "python",
   "nbconvert_exporter": "python",
   "pygments_lexer": "ipython3",
   "version": "3.10.2 (v3.10.2:a58ebcc701, Jan 13 2022, 14:50:16) [Clang 13.0.0 (clang-1300.0.29.30)]"
  },
  "orig_nbformat": 4,
  "vscode": {
   "interpreter": {
    "hash": "aee8b7b246df8f9039afb4144a1f6fd8d2ca17a180786b69acc140d282b71a49"
   }
  }
 },
 "nbformat": 4,
 "nbformat_minor": 2
}
