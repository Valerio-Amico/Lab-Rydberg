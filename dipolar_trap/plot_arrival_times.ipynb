{
 "cells": [
  {
   "cell_type": "code",
   "execution_count": 1,
   "metadata": {},
   "outputs": [],
   "source": [
    "import matplotlib.pyplot as plt\n",
    "import numpy as np"
   ]
  },
  {
   "cell_type": "code",
   "execution_count": 11,
   "metadata": {},
   "outputs": [],
   "source": [
    "## the files 0, 1, 2, 3 are for the long time case.\n",
    "times_dic = {}\n",
    "diffs = []\n",
    "diffs2 = []\n",
    "\n",
    "names = [\"Time-2023-01-20-3_1.txt\", \"Time-2023-01-20-3_-0,3.txt\"]\n",
    "\n",
    "for name in names:\n",
    "    data = open(\"/Users/valerio/Documents/lab/Lab-Rydberg/wavw_lec_20-01-23/2023-01-20/\"+name, \"r\")\n",
    "    times = []\n",
    "    ii = 0\n",
    "    for row in data:\n",
    "        ii += 1\n",
    "        row = row.replace(\"\\n\", \"\")\n",
    "        row = row.replace(\",\", \".\")\n",
    "        terms = row.split(\"\\t\")\n",
    "        terms = np.sort([float(terms[term]) for term in range(len(terms))])\n",
    "        diffs = diffs + [terms[i+1] - terms[i] for i in range(len(terms)-1)]\n",
    "        for term in terms:\n",
    "            \n",
    "            if float(term) > 1:\n",
    "                #print(float(term))\n",
    "                times.append(float(term))\n",
    "\n",
    "    for _ in range(ii):\n",
    "        times_aus = np.random.choice(times, int(len(times)/ii), replace=False)\n",
    "        times_aus = np.sort(times_aus)\n",
    "        diffs2 = diffs2 + [float(times_aus[i+1]) - float(times_aus[i]) for i in range(len(times_aus)-1)]\n",
    "    times_dic[name] = times"
   ]
  },
  {
   "cell_type": "code",
   "execution_count": 17,
   "metadata": {},
   "outputs": [
    {
     "data": {
      "image/png": "[encoded data removed]",
      "text/plain": [
       "<Figure size 640x480 with 1 Axes>"
      ]
     },
     "metadata": {},
     "output_type": "display_data"
    }
   ],
   "source": [
    "for name in names:\n",
    "    plt.hist(times_dic[name], bins=np.linspace(min(times), max(times), 100), alpha = 0.5)\n",
    "plt.xlim([8.25, 9.3])\n",
    "plt.show()"
   ]
  },
  {
   "cell_type": "code",
   "execution_count": 4,
   "metadata": {},
   "outputs": [],
   "source": [
    "## the files 0, 1, 2, 3 are for the long time case.\n",
    "times = []\n",
    "diffs = []\n",
    "diffs2 = []\n",
    "\n",
    "name = \"Time-2023-01-20-3_0,5.txt\"\n",
    "\n",
    "data = open(\"/Users/valerio/Documents/lab/Lab-Rydberg/wavw_lec_20-01-23/2023-01-20/\"+name, \"r\")\n",
    "\n",
    "ii = 0\n",
    "for row in data:\n",
    "    ii += 1\n",
    "    row = row.replace(\"\\n\", \"\")\n",
    "    row = row.replace(\",\", \".\")\n",
    "    terms = row.split(\"\\t\")\n",
    "    terms = np.sort([float(terms[term]) for term in range(len(terms))])\n",
    "    diffs = diffs + [terms[i+1] - terms[i] for i in range(len(terms)-1)]\n",
    "    for term in terms:\n",
    "        \n",
    "        if float(term) > 1:\n",
    "            #print(float(term))\n",
    "            times.append(float(term))\n",
    "\n",
    "for _ in range(ii):\n",
    "    times_aus = np.random.choice(times, int(len(times)/ii), replace=False)\n",
    "    times_aus = np.sort(times_aus)\n",
    "    diffs2 = diffs2 + [float(times_aus[i+1]) - float(times_aus[i]) for i in range(len(times_aus)-1)]"
   ]
  },
  {
   "cell_type": "code",
   "execution_count": 5,
   "metadata": {},
   "outputs": [
    {
     "data": {
      "image/png": "[encoded data removed]",
      "text/plain": [
       "<Figure size 640x480 with 1 Axes>"
      ]
     },
     "metadata": {},
     "output_type": "display_data"
    }
   ],
   "source": [
    "plt.hist(times, bins=np.linspace(min(times), max(times), 50))\n",
    "plt.xlim([8.25, 8.65])\n",
    "plt.show()"
   ]
  },
  {
   "cell_type": "code",
   "execution_count": null,
   "metadata": {},
   "outputs": [],
   "source": []
  }
 ],
 "metadata": {
  "kernelspec": {
   "display_name": "Python 3",
   "language": "python",
   "name": "python3"
  },
  "language_info": {
   "codemirror_mode": {
    "name": "ipython",
    "version": 3
   },
   "file_extension": ".py",
   "mimetype": "text/x-python",
   "name": "python",
   "nbconvert_exporter": "python",
   "pygments_lexer": "ipython3",
   "version": "3.10.2"
  },
  "orig_nbformat": 4,
  "vscode": {
   "interpreter": {
    "hash": "aee8b7b246df8f9039afb4144a1f6fd8d2ca17a180786b69acc140d282b71a49"
   }
  }
 },
 "nbformat": 4,
 "nbformat_minor": 2
}
