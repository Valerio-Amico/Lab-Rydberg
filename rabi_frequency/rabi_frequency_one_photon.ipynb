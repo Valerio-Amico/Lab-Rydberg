{
 "cells": [
  {
   "cell_type": "code",
   "execution_count": 1,
   "metadata": {},
   "outputs": [],
   "source": [
    "from arc import *\n",
    "from arc.alkali_atom_functions import AlkaliAtom\n",
    "import matplotlib.pyplot as plt"
   ]
  },
  {
   "cell_type": "code",
   "execution_count": 2,
   "metadata": {},
   "outputs": [
    {
     "name": "stdout",
     "output_type": "stream",
     "text": [
      "omega/2pi = 7696358.668994951\n",
      "omega = 48357647.707813315\n"
     ]
    }
   ],
   "source": [
    "atom=Rubidium87()\n",
    "f = atom.getRabiFrequency(n1=70,  l1=0, j1=0.5, mj1=0.5,  n2=6,  l2=1, j2=3/2, q=1, laserPower=75*10**(-3), laserWaist=90*10**(-6), s=0.5)\n",
    "                           ### n1, l1,  j1, mj1, n2, l2,  j2,  q,   laserPower,  laserWaist, s=0.5 \n",
    "print(f\"omega/2pi = {f/(2*pi)}\")\n",
    "print(f\"omega = {f}\")"
   ]
  },
  {
   "cell_type": "code",
   "execution_count": 3,
   "metadata": {},
   "outputs": [
    {
     "name": "stdout",
     "output_type": "stream",
     "text": [
      "omega/2pi = 4.511251e+07\n",
      "omega = 2.834502e+08\n"
     ]
    }
   ],
   "source": [
    "atom=Rubidium87()\n",
    "# transition from 5s to 6p\n",
    "O5s_6p = atom.getRabiFrequency(n1=5,  l1=0, j1=0.5, mj1=0.5,  n2=6,  l2=1, j2=3/2, q=-1, laserPower=1.7*10**(-3), laserWaist=40*10**(-6), s=0.5)\n",
    "                           ### n1, l1,  j1, mj1, n2, l2,  j2,  q,   laserPower,  laserWaist, s=0.5 \n",
    "print(\"omega/2pi =\", \"{:e}\".format(O5s_6p/(2*pi)))\n",
    "print(\"omega =\", \"{:e}\".format(O5s_6p))"
   ]
  },
  {
   "cell_type": "code",
   "execution_count": 4,
   "metadata": {},
   "outputs": [
    {
     "data": {
      "text/plain": [
       "0.4685197434473813"
      ]
     },
     "execution_count": 4,
     "metadata": {},
     "output_type": "execute_result"
    }
   ],
   "source": [
    "atom=Rubidium87()\n",
    "atom.getReducedMatrixElementL(n1=5,  l1=0, j1=0.5,  n2=6,  l2=1, j2=3/2)"
   ]
  },
  {
   "cell_type": "code",
   "execution_count": 5,
   "metadata": {},
   "outputs": [
    {
     "data": {
      "text/plain": [
       "0.015632626928671633"
      ]
     },
     "execution_count": 5,
     "metadata": {},
     "output_type": "execute_result"
    }
   ],
   "source": [
    "atom=Rubidium87()\n",
    "atom.getReducedMatrixElementL(n1=70,  l1=0, j1=0.5,  n2=6,  l2=1, j2=3/2)"
   ]
  },
  {
   "cell_type": "code",
   "execution_count": 6,
   "metadata": {},
   "outputs": [
    {
     "name": "stdout",
     "output_type": "stream",
     "text": [
      "omega/2pi = 1.999573e+06\n",
      "omega = 1.256369e+07\n"
     ]
    }
   ],
   "source": [
    "atom=Rubidium87()\n",
    "# transition from 6p to 70s\n",
    "O6p_70s = atom.getRabiFrequency(n1=70,  l1=0, j1=0.5, mj1=0.5,  n2=6,  l2=1, j2=3/2, q=-1, laserPower=75*10**(-3), laserWaist=200*10**(-6), s=0.5)\n",
    "                           ### n1, l1,  j1, mj1, n2, l2,  j2,  q,   laserPower,  laserWaist, s=0.5 \n",
    "print(\"omega/2pi =\", \"{:e}\".format(O6p_70s/(2*pi)))\n",
    "print(\"omega =\", \"{:e}\".format(O6p_70s))"
   ]
  },
  {
   "cell_type": "code",
   "execution_count": 16,
   "metadata": {},
   "outputs": [
    {
     "name": "stdout",
     "output_type": "stream",
     "text": [
      "omega_2ph/2pi = 4.712562e+05\n",
      "omega_2ph = 2.960990e+06\n"
     ]
    }
   ],
   "source": [
    "delta_blue = 218*10**(6) # Hz\n",
    "blue_waiste = 40*10**(-6) # m\n",
    "blue_power = 1.6*10**(-3) # Watt\n",
    "IR_waste = 129*10**(-6) # m\n",
    "IR_power = 43*10**(-3) # Watt\n",
    "\n",
    "atom=Rubidium87()\n",
    "\n",
    "# transition from 5s to 6p\n",
    "O5s_6p = atom.getRabiFrequency(n1=5,  l1=0, j1=0.5, mj1=0.5,  n2=6,  l2=1, j2=3/2, q=-1, laserPower=blue_power, laserWaist=blue_waiste, s=0.5)/(2*pi)\n",
    "# transition from 6p to 70s\n",
    "O6p_70s = atom.getRabiFrequency(n1=70,  l1=0, j1=0.5, mj1=0.5,  n2=6,  l2=1, j2=3/2, q=-1, laserPower=IR_power, laserWaist=IR_waste, s=0.5)/(2*pi)\n",
    "\n",
    "def omega_two_ph(delta_IR=0): return np.sqrt((O5s_6p**2*O6p_70s**2)/(delta_blue)**2+(2*pi*delta_IR)**2)\n",
    "\n",
    "print(\"omega_2ph/2pi =\", \"{:e}\".format(omega_two_ph()))#/(2*pi)))\n",
    "print(\"omega_2ph =\", \"{:e}\".format(omega_two_ph()*(2*pi)))"
   ]
  },
  {
   "cell_type": "code",
   "execution_count": 8,
   "metadata": {},
   "outputs": [
    {
     "data": {
      "image/png": "[encoded data removed]",
      "text/plain": [
       "<Figure size 432x288 with 1 Axes>"
      ]
     },
     "metadata": {
      "needs_background": "light"
     },
     "output_type": "display_data"
    }
   ],
   "source": [
    "detunings = np.linspace(-40, 40, 100)\n",
    "rabi_2_ph = omega_two_ph(detunings)\n",
    "\n",
    "plt.plot(detunings, rabi_2_ph)\n",
    "plt.show()"
   ]
  },
  {
   "cell_type": "code",
   "execution_count": 9,
   "metadata": {},
   "outputs": [
    {
     "ename": "KeyboardInterrupt",
     "evalue": "",
     "output_type": "error",
     "traceback": [
      "\u001b[0;31m---------------------------------------------------------------------------\u001b[0m",
      "\u001b[0;31mKeyboardInterrupt\u001b[0m                         Traceback (most recent call last)",
      "\u001b[1;32m/Users/valerio/Documents/lab/Lab-Rydberg/rabi_frequency/rabi_frequency_one_photon.ipynb Cell 9\u001b[0m in \u001b[0;36m<cell line: 3>\u001b[0;34m()\u001b[0m\n\u001b[1;32m      <a href='vscode-notebook-cell:/Users/valerio/Documents/lab/Lab-Rydberg/rabi_frequency/rabi_frequency_one_photon.ipynb#X11sZmlsZQ%3D%3D?line=2'>3</a>\u001b[0m \u001b[39mfor\u001b[39;00m theta \u001b[39min\u001b[39;00m np\u001b[39m.\u001b[39mlinspace(\u001b[39m0\u001b[39m,\u001b[39m2\u001b[39m\u001b[39m*\u001b[39mnp\u001b[39m.\u001b[39mpi,\u001b[39m10\u001b[39m):\n\u001b[1;32m      <a href='vscode-notebook-cell:/Users/valerio/Documents/lab/Lab-Rydberg/rabi_frequency/rabi_frequency_one_photon.ipynb#X11sZmlsZQ%3D%3D?line=3'>4</a>\u001b[0m     \u001b[39mfor\u001b[39;00m phi \u001b[39min\u001b[39;00m np\u001b[39m.\u001b[39mlinspace(\u001b[39m0\u001b[39m,\u001b[39m2\u001b[39m\u001b[39m*\u001b[39mnp\u001b[39m.\u001b[39mpi,\u001b[39m10\u001b[39m):\n\u001b[0;32m----> <a href='vscode-notebook-cell:/Users/valerio/Documents/lab/Lab-Rydberg/rabi_frequency/rabi_frequency_one_photon.ipynb#X11sZmlsZQ%3D%3D?line=4'>5</a>\u001b[0m         tet_c6s\u001b[39m.\u001b[39mappend(\u001b[39m-\u001b[39mPairStateInteractions(atom, \u001b[39m70\u001b[39;49m, \u001b[39m0\u001b[39;49m, \u001b[39m0.5\u001b[39;49m, \u001b[39m70\u001b[39;49m, \u001b[39m0\u001b[39;49m, \u001b[39m0.5\u001b[39;49m, \u001b[39m0.5\u001b[39;49m, \u001b[39m0.5\u001b[39;49m, interactionsUpTo\u001b[39m=\u001b[39;49m\u001b[39m1\u001b[39;49m, s\u001b[39m=\u001b[39;49m\u001b[39m0.5\u001b[39;49m)\u001b[39m.\u001b[39;49mgetC6perturbatively(theta,phi, \u001b[39m6\u001b[39;49m, \u001b[39m25e9\u001b[39;49m))\n\u001b[1;32m      <a href='vscode-notebook-cell:/Users/valerio/Documents/lab/Lab-Rydberg/rabi_frequency/rabi_frequency_one_photon.ipynb#X11sZmlsZQ%3D%3D?line=5'>6</a>\u001b[0m plt\u001b[39m.\u001b[39mplot(tet_c6s)\n",
      "File \u001b[0;32m/Library/Frameworks/Python.framework/Versions/3.10/lib/python3.10/site-packages/arc/calculations_atom_pairstate.py:1025\u001b[0m, in \u001b[0;36mPairStateInteractions.getC6perturbatively\u001b[0;34m(self, theta, phi, nRange, energyDelta, degeneratePerturbation)\u001b[0m\n\u001b[1;32m    927\u001b[0m \u001b[39mdef\u001b[39;00m \u001b[39mgetC6perturbatively\u001b[39m(\u001b[39mself\u001b[39m, theta, phi, nRange, energyDelta,\n\u001b[1;32m    928\u001b[0m                         degeneratePerturbation\u001b[39m=\u001b[39m\u001b[39mFalse\u001b[39;00m):\n\u001b[1;32m    929\u001b[0m     \u001b[39mr\u001b[39m\u001b[39m\"\"\"\u001b[39;00m\n\u001b[1;32m    930\u001b[0m \u001b[39m    Calculates :math:`C_6` from second order perturbation theory.\u001b[39;00m\n\u001b[1;32m    931\u001b[0m \n\u001b[0;32m   (...)\u001b[0m\n\u001b[1;32m   1023\u001b[0m \n\u001b[1;32m   1024\u001b[0m \u001b[39m    \"\"\"\u001b[39;00m\n\u001b[0;32m-> 1025\u001b[0m     \u001b[39mself\u001b[39;49m\u001b[39m.\u001b[39;49m__initializeDatabaseForMemoization()\n\u001b[1;32m   1027\u001b[0m     \u001b[39m# ========= START OF THE MAIN CODE ===========\u001b[39;00m\n\u001b[1;32m   1028\u001b[0m \n\u001b[1;32m   1029\u001b[0m     \u001b[39m# wigner D matrix allows calculations with arbitrary orientation of\u001b[39;00m\n\u001b[1;32m   1030\u001b[0m     \u001b[39m# the two atoms\u001b[39;00m\n\u001b[1;32m   1031\u001b[0m     wgd \u001b[39m=\u001b[39m WignerDmatrix(theta, phi)\n",
      "File \u001b[0;32m/Library/Frameworks/Python.framework/Versions/3.10/lib/python3.10/site-packages/arc/calculations_atom_pairstate.py:876\u001b[0m, in \u001b[0;36mPairStateInteractions.__initializeDatabaseForMemoization\u001b[0;34m(self)\u001b[0m\n\u001b[1;32m    874\u001b[0m         \u001b[39mprint\u001b[39m(e)\n\u001b[1;32m    875\u001b[0m     \u001b[39mself\u001b[39m\u001b[39m.\u001b[39mconn\u001b[39m.\u001b[39mcommit()\n\u001b[0;32m--> 876\u001b[0m \u001b[39mself\u001b[39;49m\u001b[39m.\u001b[39;49m__loadAngularMatrixElementsFile()\n\u001b[1;32m    877\u001b[0m \u001b[39mself\u001b[39m\u001b[39m.\u001b[39msavedAngularMatrixChanged \u001b[39m=\u001b[39m \u001b[39mFalse\u001b[39;00m\n",
      "File \u001b[0;32m/Library/Frameworks/Python.framework/Versions/3.10/lib/python3.10/site-packages/arc/calculations_atom_pairstate.py:548\u001b[0m, in \u001b[0;36mPairStateInteractions.__loadAngularMatrixElementsFile\u001b[0;34m(self)\u001b[0m\n\u001b[1;32m    543\u001b[0m \u001b[39mtry\u001b[39;00m:\n\u001b[1;32m    544\u001b[0m     fileHandle \u001b[39m=\u001b[39m gzip\u001b[39m.\u001b[39mGzipFile(\n\u001b[1;32m    545\u001b[0m         os\u001b[39m.\u001b[39mpath\u001b[39m.\u001b[39mjoin(\u001b[39mself\u001b[39m\u001b[39m.\u001b[39mdataFolder, \u001b[39mself\u001b[39m\u001b[39m.\u001b[39mangularMatrixFile),\n\u001b[1;32m    546\u001b[0m         \u001b[39m'\u001b[39m\u001b[39mrb\u001b[39m\u001b[39m'\u001b[39m\n\u001b[1;32m    547\u001b[0m         )\n\u001b[0;32m--> 548\u001b[0m     \u001b[39mself\u001b[39m\u001b[39m.\u001b[39msavedAngularMatrix_matrix \u001b[39m=\u001b[39m np\u001b[39m.\u001b[39;49mload(\n\u001b[1;32m    549\u001b[0m         fileHandle,\n\u001b[1;32m    550\u001b[0m         encoding\u001b[39m=\u001b[39;49m\u001b[39m'\u001b[39;49m\u001b[39mlatin1\u001b[39;49m\u001b[39m'\u001b[39;49m,\n\u001b[1;32m    551\u001b[0m         allow_pickle\u001b[39m=\u001b[39;49m\u001b[39mTrue\u001b[39;49;00m)\u001b[39m.\u001b[39mtolist()\n\u001b[1;32m    552\u001b[0m     fileHandle\u001b[39m.\u001b[39mclose()\n\u001b[1;32m    553\u001b[0m \u001b[39mexcept\u001b[39;00m \u001b[39mException\u001b[39;00m \u001b[39mas\u001b[39;00m ex:\n",
      "File \u001b[0;32m/Library/Frameworks/Python.framework/Versions/3.10/lib/python3.10/site-packages/numpy/lib/npyio.py:430\u001b[0m, in \u001b[0;36mload\u001b[0;34m(file, mmap_mode, allow_pickle, fix_imports, encoding)\u001b[0m\n\u001b[1;32m    428\u001b[0m         \u001b[39mreturn\u001b[39;00m \u001b[39mformat\u001b[39m\u001b[39m.\u001b[39mopen_memmap(file, mode\u001b[39m=\u001b[39mmmap_mode)\n\u001b[1;32m    429\u001b[0m     \u001b[39melse\u001b[39;00m:\n\u001b[0;32m--> 430\u001b[0m         \u001b[39mreturn\u001b[39;00m \u001b[39mformat\u001b[39;49m\u001b[39m.\u001b[39;49mread_array(fid, allow_pickle\u001b[39m=\u001b[39;49mallow_pickle,\n\u001b[1;32m    431\u001b[0m                                  pickle_kwargs\u001b[39m=\u001b[39;49mpickle_kwargs)\n\u001b[1;32m    432\u001b[0m \u001b[39melse\u001b[39;00m:\n\u001b[1;32m    433\u001b[0m     \u001b[39m# Try a pickle\u001b[39;00m\n\u001b[1;32m    434\u001b[0m     \u001b[39mif\u001b[39;00m \u001b[39mnot\u001b[39;00m allow_pickle:\n",
      "File \u001b[0;32m/Library/Frameworks/Python.framework/Versions/3.10/lib/python3.10/site-packages/numpy/lib/format.py:747\u001b[0m, in \u001b[0;36mread_array\u001b[0;34m(fp, allow_pickle, pickle_kwargs)\u001b[0m\n\u001b[1;32m    745\u001b[0m     pickle_kwargs \u001b[39m=\u001b[39m {}\n\u001b[1;32m    746\u001b[0m \u001b[39mtry\u001b[39;00m:\n\u001b[0;32m--> 747\u001b[0m     array \u001b[39m=\u001b[39m pickle\u001b[39m.\u001b[39;49mload(fp, \u001b[39m*\u001b[39;49m\u001b[39m*\u001b[39;49mpickle_kwargs)\n\u001b[1;32m    748\u001b[0m \u001b[39mexcept\u001b[39;00m \u001b[39mUnicodeError\u001b[39;00m \u001b[39mas\u001b[39;00m err:\n\u001b[1;32m    749\u001b[0m     \u001b[39m# Friendlier error message\u001b[39;00m\n\u001b[1;32m    750\u001b[0m     \u001b[39mraise\u001b[39;00m \u001b[39mUnicodeError\u001b[39;00m(\u001b[39m\"\u001b[39m\u001b[39mUnpickling a python object failed: \u001b[39m\u001b[39m%r\u001b[39;00m\u001b[39m\\n\u001b[39;00m\u001b[39m\"\u001b[39m\n\u001b[1;32m    751\u001b[0m                        \u001b[39m\"\u001b[39m\u001b[39mYou may need to pass the encoding= option \u001b[39m\u001b[39m\"\u001b[39m\n\u001b[1;32m    752\u001b[0m                        \u001b[39m\"\u001b[39m\u001b[39mto numpy.load\u001b[39m\u001b[39m\"\u001b[39m \u001b[39m%\u001b[39m (err,)) \u001b[39mfrom\u001b[39;00m \u001b[39merr\u001b[39;00m\n",
      "File \u001b[0;32m/Library/Frameworks/Python.framework/Versions/3.10/lib/python3.10/gzip.py:301\u001b[0m, in \u001b[0;36mGzipFile.read\u001b[0;34m(self, size)\u001b[0m\n\u001b[1;32m    299\u001b[0m     \u001b[39mimport\u001b[39;00m \u001b[39merrno\u001b[39;00m\n\u001b[1;32m    300\u001b[0m     \u001b[39mraise\u001b[39;00m \u001b[39mOSError\u001b[39;00m(errno\u001b[39m.\u001b[39mEBADF, \u001b[39m\"\u001b[39m\u001b[39mread() on write-only GzipFile object\u001b[39m\u001b[39m\"\u001b[39m)\n\u001b[0;32m--> 301\u001b[0m \u001b[39mreturn\u001b[39;00m \u001b[39mself\u001b[39;49m\u001b[39m.\u001b[39;49m_buffer\u001b[39m.\u001b[39;49mread(size)\n",
      "File \u001b[0;32m/Library/Frameworks/Python.framework/Versions/3.10/lib/python3.10/_compression.py:68\u001b[0m, in \u001b[0;36mDecompressReader.readinto\u001b[0;34m(self, b)\u001b[0m\n\u001b[1;32m     66\u001b[0m \u001b[39mdef\u001b[39;00m \u001b[39mreadinto\u001b[39m(\u001b[39mself\u001b[39m, b):\n\u001b[1;32m     67\u001b[0m     \u001b[39mwith\u001b[39;00m \u001b[39mmemoryview\u001b[39m(b) \u001b[39mas\u001b[39;00m view, view\u001b[39m.\u001b[39mcast(\u001b[39m\"\u001b[39m\u001b[39mB\u001b[39m\u001b[39m\"\u001b[39m) \u001b[39mas\u001b[39;00m byte_view:\n\u001b[0;32m---> 68\u001b[0m         data \u001b[39m=\u001b[39m \u001b[39mself\u001b[39;49m\u001b[39m.\u001b[39;49mread(\u001b[39mlen\u001b[39;49m(byte_view))\n\u001b[1;32m     69\u001b[0m         byte_view[:\u001b[39mlen\u001b[39m(data)] \u001b[39m=\u001b[39m data\n\u001b[1;32m     70\u001b[0m     \u001b[39mreturn\u001b[39;00m \u001b[39mlen\u001b[39m(data)\n",
      "File \u001b[0;32m/Library/Frameworks/Python.framework/Versions/3.10/lib/python3.10/gzip.py:496\u001b[0m, in \u001b[0;36m_GzipReader.read\u001b[0;34m(self, size)\u001b[0m\n\u001b[1;32m    493\u001b[0m \u001b[39m# Read a chunk of data from the file\u001b[39;00m\n\u001b[1;32m    494\u001b[0m buf \u001b[39m=\u001b[39m \u001b[39mself\u001b[39m\u001b[39m.\u001b[39m_fp\u001b[39m.\u001b[39mread(io\u001b[39m.\u001b[39mDEFAULT_BUFFER_SIZE)\n\u001b[0;32m--> 496\u001b[0m uncompress \u001b[39m=\u001b[39m \u001b[39mself\u001b[39;49m\u001b[39m.\u001b[39;49m_decompressor\u001b[39m.\u001b[39;49mdecompress(buf, size)\n\u001b[1;32m    497\u001b[0m \u001b[39mif\u001b[39;00m \u001b[39mself\u001b[39m\u001b[39m.\u001b[39m_decompressor\u001b[39m.\u001b[39munconsumed_tail \u001b[39m!=\u001b[39m \u001b[39mb\u001b[39m\u001b[39m\"\u001b[39m\u001b[39m\"\u001b[39m:\n\u001b[1;32m    498\u001b[0m     \u001b[39mself\u001b[39m\u001b[39m.\u001b[39m_fp\u001b[39m.\u001b[39mprepend(\u001b[39mself\u001b[39m\u001b[39m.\u001b[39m_decompressor\u001b[39m.\u001b[39munconsumed_tail)\n",
      "\u001b[0;31mKeyboardInterrupt\u001b[0m: "
     ]
    }
   ],
   "source": [
    "tet_c6s = []\n",
    "\n",
    "for theta in np.linspace(0,2*np.pi,10):\n",
    "    for phi in np.linspace(0,2*np.pi,10):\n",
    "        tet_c6s.append(-PairStateInteractions(atom, 70, 0, 0.5, 70, 0, 0.5, 0.5, 0.5, interactionsUpTo=1, s=0.5).getC6perturbatively(theta,phi, 6, 25e9))\n",
    "plt.plot(tet_c6s)"
   ]
  },
  {
   "cell_type": "code",
   "execution_count": null,
   "metadata": {},
   "outputs": [],
   "source": []
  }
 ],
 "metadata": {
  "interpreter": {
   "hash": "aee8b7b246df8f9039afb4144a1f6fd8d2ca17a180786b69acc140d282b71a49"
  },
  "kernelspec": {
   "display_name": "Python 3.10.2 64-bit",
   "language": "python",
   "name": "python3"
  },
  "language_info": {
   "codemirror_mode": {
    "name": "ipython",
    "version": 3
   },
   "file_extension": ".py",
   "mimetype": "text/x-python",
   "name": "python",
   "nbconvert_exporter": "python",
   "pygments_lexer": "ipython3",
   "version": "3.10.2"
  },
  "orig_nbformat": 4
 },
 "nbformat": 4,
 "nbformat_minor": 2
}
