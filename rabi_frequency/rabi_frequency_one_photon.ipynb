{
 "cells": [
  {
   "cell_type": "code",
   "execution_count": 2,
   "metadata": {},
   "outputs": [],
   "source": [
    "from arc import *\n",
    "from arc.alkali_atom_functions import AlkaliAtom\n",
    "import matplotlib.pyplot as plt"
   ]
  },
  {
   "cell_type": "code",
   "execution_count": 3,
   "metadata": {},
   "outputs": [
    {
     "name": "stdout",
     "output_type": "stream",
     "text": [
      "omega/2pi = 7696358.668994951\n",
      "omega = 48357647.707813315\n"
     ]
    }
   ],
   "source": [
    "atom=Rubidium87()\n",
    "f = atom.getRabiFrequency(n1=70,  l1=0, j1=0.5, mj1=0.5,  n2=6,  l2=1, j2=3/2, q=1, laserPower=75*10**(-3), laserWaist=90*10**(-6), s=0.5)\n",
    "                           ### n1, l1,  j1, mj1, n2, l2,  j2,  q,   laserPower,  laserWaist, s=0.5 \n",
    "print(f\"omega/2pi = {f/(2*pi)}\")\n",
    "print(f\"omega = {f}\")"
   ]
  },
  {
   "cell_type": "code",
   "execution_count": 4,
   "metadata": {},
   "outputs": [
    {
     "name": "stdout",
     "output_type": "stream",
     "text": [
      "omega/2pi = 4.511251e+07\n",
      "omega = 2.834502e+08\n"
     ]
    }
   ],
   "source": [
    "atom=Rubidium87()\n",
    "# transition from 5s to 6p\n",
    "O5s_6p = atom.getRabiFrequency(n1=5,  l1=0, j1=0.5, mj1=0.5,  n2=6,  l2=1, j2=3/2, q=-1, laserPower=1.7*10**(-3), laserWaist=40*10**(-6), s=0.5)\n",
    "                           ### n1, l1,  j1, mj1, n2, l2,  j2,  q,   laserPower,  laserWaist, s=0.5 \n",
    "print(\"omega/2pi =\", \"{:e}\".format(O5s_6p/(2*pi)))\n",
    "print(\"omega =\", \"{:e}\".format(O5s_6p))"
   ]
  },
  {
   "cell_type": "code",
   "execution_count": 5,
   "metadata": {},
   "outputs": [
    {
     "data": {
      "text/plain": [
       "0.4685197434473813"
      ]
     },
     "execution_count": 5,
     "metadata": {},
     "output_type": "execute_result"
    }
   ],
   "source": [
    "atom=Rubidium87()\n",
    "atom.getReducedMatrixElementL(n1=5,  l1=0, j1=0.5,  n2=6,  l2=1, j2=3/2)"
   ]
  },
  {
   "cell_type": "code",
   "execution_count": 6,
   "metadata": {},
   "outputs": [
    {
     "data": {
      "text/plain": [
       "0.015632626928671633"
      ]
     },
     "execution_count": 6,
     "metadata": {},
     "output_type": "execute_result"
    }
   ],
   "source": [
    "atom=Rubidium87()\n",
    "atom.getReducedMatrixElementL(n1=70,  l1=0, j1=0.5,  n2=6,  l2=1, j2=3/2)"
   ]
  },
  {
   "cell_type": "code",
   "execution_count": 7,
   "metadata": {},
   "outputs": [
    {
     "name": "stdout",
     "output_type": "stream",
     "text": [
      "omega/2pi = 1.999573e+06\n",
      "omega = 1.256369e+07\n"
     ]
    }
   ],
   "source": [
    "atom=Rubidium87()\n",
    "# transition from 6p to 70s\n",
    "O6p_70s = atom.getRabiFrequency(n1=70,  l1=0, j1=0.5, mj1=0.5,  n2=6,  l2=1, j2=3/2, q=-1, laserPower=75*10**(-3), laserWaist=200*10**(-6), s=0.5)\n",
    "                           ### n1, l1,  j1, mj1, n2, l2,  j2,  q,   laserPower,  laserWaist, s=0.5 \n",
    "print(\"omega/2pi =\", \"{:e}\".format(O6p_70s/(2*pi)))\n",
    "print(\"omega =\", \"{:e}\".format(O6p_70s))"
   ]
  },
  {
   "cell_type": "code",
   "execution_count": 11,
   "metadata": {},
   "outputs": [
    {
     "name": "stdout",
     "output_type": "stream",
     "text": [
      "omega_2ph/2pi = 3.069028e+05\n",
      "omega_2ph = 1.928327e+06\n"
     ]
    }
   ],
   "source": [
    "delta_blue = 222*10**(6) # Hz\n",
    "blue_waiste = 40*10**(-6) # m\n",
    "blue_power = 1.7*10**(-3) # Watt\n",
    "IR_waste = 129*10**(-6) # m\n",
    "IR_power = 17.8*10**(-3) # Watt\n",
    "\n",
    "atom=Rubidium87()\n",
    "\n",
    "# transition from 5s to 6p\n",
    "O5s_6p = atom.getRabiFrequency(n1=5,  l1=0, j1=0.5, mj1=0.5,  n2=6,  l2=1, j2=3/2, q=-1, laserPower=blue_power, laserWaist=blue_waiste, s=0.5)\n",
    "# transition from 6p to 70s\n",
    "O6p_70s = atom.getRabiFrequency(n1=70,  l1=0, j1=0.5, mj1=0.5,  n2=6,  l2=1, j2=3/2, q=-1, laserPower=IR_power, laserWaist=IR_waste, s=0.5)\n",
    "\n",
    "def omega_two_ph(delta_IR=0): return np.sqrt((O5s_6p**2*O6p_70s**2)/(2*pi*delta_blue)**2+(2*pi*delta_IR)**2)\n",
    "\n",
    "print(\"omega_2ph/2pi =\", \"{:e}\".format(omega_two_ph()/(2*pi)))\n",
    "print(\"omega_2ph =\", \"{:e}\".format(omega_two_ph()))"
   ]
  },
  {
   "cell_type": "code",
   "execution_count": 9,
   "metadata": {},
   "outputs": [
    {
     "data": {
      "image/png": "[encoded data removed]",
      "text/plain": [
       "<Figure size 432x288 with 1 Axes>"
      ]
     },
     "metadata": {
      "needs_background": "light"
     },
     "output_type": "display_data"
    }
   ],
   "source": [
    "detunings = np.linspace(-40, 40, 100)\n",
    "rabi_2_ph = omega_two_ph(detunings)\n",
    "\n",
    "plt.plot(detunings, rabi_2_ph)\n",
    "plt.show()"
   ]
  },
  {
   "cell_type": "code",
   "execution_count": null,
   "metadata": {},
   "outputs": [],
   "source": []
  }
 ],
 "metadata": {
  "interpreter": {
   "hash": "aee8b7b246df8f9039afb4144a1f6fd8d2ca17a180786b69acc140d282b71a49"
  },
  "kernelspec": {
   "display_name": "Python 3.10.2 64-bit",
   "language": "python",
   "name": "python3"
  },
  "language_info": {
   "codemirror_mode": {
    "name": "ipython",
    "version": 3
   },
   "file_extension": ".py",
   "mimetype": "text/x-python",
   "name": "python",
   "nbconvert_exporter": "python",
   "pygments_lexer": "ipython3",
   "version": "3.10.2"
  },
  "orig_nbformat": 4
 },
 "nbformat": 4,
 "nbformat_minor": 2
}
