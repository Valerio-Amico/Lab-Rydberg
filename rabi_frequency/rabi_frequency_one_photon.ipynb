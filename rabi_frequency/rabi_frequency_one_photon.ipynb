{
 "cells": [
  {
   "cell_type": "code",
   "execution_count": 31,
   "metadata": {},
   "outputs": [],
   "source": [
    "from arc import *\n",
    "from arc.alkali_atom_functions import AlkaliAtom\n",
    "import matplotlib.pyplot as plt"
   ]
  },
  {
   "cell_type": "code",
   "execution_count": 3,
   "metadata": {},
   "outputs": [
    {
     "name": "stdout",
     "output_type": "stream",
     "text": [
      "omega/2pi = 2190422.077524538\n",
      "omega = 13762827.814023964\n"
     ]
    }
   ],
   "source": [
    "atom=Rubidium87()\n",
    "f = atom.getRabiFrequency(n1=70,  l1=0, j1=0.5, mj1=0.5,  n2=6,  l2=1, j2=3/2, q=1, laserPower=30*10**(-3), laserWaist=200*10**(-6), s=0.5)\n",
    "                           ### n1, l1,  j1, mj1, n2, l2,  j2,  q,   laserPower,  laserWaist, s=0.5 \n",
    "print(f\"omega/2pi = {f/(2*pi)}\")\n",
    "print(f\"omega = {f}\")"
   ]
  },
  {
   "cell_type": "code",
   "execution_count": 25,
   "metadata": {},
   "outputs": [
    {
     "name": "stdout",
     "output_type": "stream",
     "text": [
      "omega/2pi = 5.360164e+07\n",
      "omega = 3.367891e+08\n"
     ]
    }
   ],
   "source": [
    "atom=Rubidium87()\n",
    "# transition from 5s to 6p\n",
    "O5s_6p = atom.getRabiFrequency(n1=5,  l1=0, j1=0.5, mj1=0.5,  n2=6,  l2=1, j2=3/2, q=0, laserPower=1.2*10**(-3), laserWaist=40*10**(-6), s=0.5)\n",
    "                           ### n1, l1,  j1, mj1, n2, l2,  j2,  q,   laserPower,  laserWaist, s=0.5 \n",
    "print(\"omega/2pi =\", \"{:e}\".format(O5s_6p/(2*pi)))\n",
    "print(\"omega =\", \"{:e}\".format(O5s_6p))"
   ]
  },
  {
   "cell_type": "code",
   "execution_count": 26,
   "metadata": {},
   "outputs": [
    {
     "name": "stdout",
     "output_type": "stream",
     "text": [
      "omega/2pi = 7.461897e+05\n",
      "omega = 4.688448e+06\n"
     ]
    }
   ],
   "source": [
    "atom=Rubidium87()\n",
    "# transition from 6p to 70s\n",
    "O6p_70s = atom.getRabiFrequency(n1=70,  l1=0, j1=0.5, mj1=0.5,  n2=6,  l2=1, j2=3/2, q=-1, laserPower=23.5*10**(-3), laserWaist=300*10**(-6), s=0.5)\n",
    "                           ### n1, l1,  j1, mj1, n2, l2,  j2,  q,   laserPower,  laserWaist, s=0.5 \n",
    "print(\"omega/2pi =\", \"{:e}\".format(O6p_70s/(2*pi)))\n",
    "print(\"omega =\", \"{:e}\".format(O6p_70s))"
   ]
  },
  {
   "cell_type": "code",
   "execution_count": 38,
   "metadata": {},
   "outputs": [
    {
     "name": "stdout",
     "output_type": "stream",
     "text": [
      "omega_2ph/2pi = 4.999624e+05\n",
      "omega_2ph = 3.141356e+06\n"
     ]
    }
   ],
   "source": [
    "delta_blue = 80*10**(6)\n",
    "\n",
    "def omega_two_ph(delta_IR=0): return np.sqrt((O5s_6p**2*O6p_70s**2)/(2*pi*delta_blue)**2+(2*pi*delta_IR)**2)\n",
    "\n",
    "print(\"omega_2ph/2pi =\", \"{:e}\".format(omega_two_ph()/(2*pi)))\n",
    "print(\"omega_2ph =\", \"{:e}\".format(omega_two_ph()))"
   ]
  },
  {
   "cell_type": "code",
   "execution_count": 39,
   "metadata": {},
   "outputs": [
    {
     "data": {
      "image/png": "[encoded data removed]",
      "text/plain": [
       "<Figure size 432x288 with 1 Axes>"
      ]
     },
     "metadata": {
      "needs_background": "light"
     },
     "output_type": "display_data"
    }
   ],
   "source": [
    "detunings = np.linspace(-40, 40, 100)\n",
    "rabi_2_ph = omega_two_ph(detunings)\n",
    "\n",
    "plt.plot(detunings, rabi_2_ph)\n",
    "plt.show()"
   ]
  },
  {
   "cell_type": "code",
   "execution_count": null,
   "metadata": {},
   "outputs": [],
   "source": []
  }
 ],
 "metadata": {
  "interpreter": {
   "hash": "aee8b7b246df8f9039afb4144a1f6fd8d2ca17a180786b69acc140d282b71a49"
  },
  "kernelspec": {
   "display_name": "Python 3.10.2 64-bit",
   "language": "python",
   "name": "python3"
  },
  "language_info": {
   "codemirror_mode": {
    "name": "ipython",
    "version": 3
   },
   "file_extension": ".py",
   "mimetype": "text/x-python",
   "name": "python",
   "nbconvert_exporter": "python",
   "pygments_lexer": "ipython3",
   "version": "3.10.2"
  },
  "orig_nbformat": 4
 },
 "nbformat": 4,
 "nbformat_minor": 2
}
