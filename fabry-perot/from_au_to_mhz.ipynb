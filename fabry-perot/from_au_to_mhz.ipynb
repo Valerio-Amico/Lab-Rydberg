{
 "cells": [
  {
   "cell_type": "code",
   "execution_count": 1,
   "metadata": {},
   "outputs": [
    {
     "name": "stdout",
     "output_type": "stream",
     "text": [
      "307.687648456057 78.187648456057 417.1\n"
     ]
    }
   ],
   "source": [
    "unit_blue = 780/421\n",
    "unit_IR = 780/1013\n",
    "\n",
    "blue_au = 415.1 # blue fabry-perot arbitrary unit\n",
    "infrared_fp_au = 312.5 # infrared fabry-perot arbitrary unit\n",
    "depumping_RF_Mhz = 83 # AOM+1 radio-frequency\n",
    "\n",
    "\n",
    "blue_movement = +2\n",
    "new_blue = blue_au + blue_movement\n",
    "infrared_movement = - blue_movement*unit_blue/unit_IR\n",
    "new_infrared = infrared_fp_au + infrared_movement\n",
    "new_depumping = depumping_RF_Mhz + infrared_movement\n",
    "\n",
    "print(new_infrared, new_depumping, new_blue)"
   ]
  },
  {
   "cell_type": "code",
   "execution_count": 46,
   "metadata": {},
   "outputs": [
    {
     "name": "stdout",
     "output_type": "stream",
     "text": [
      "taking as denominator the N_ions in the start:  461.14649681528664 +- 51.93759056668979\n",
      "taking as denominator the N_ions in the half:  521.2383009359252 +- 59.25146554456595\n"
     ]
    }
   ],
   "source": [
    "a_aus = 2.512 # intercept fitted\n",
    "b = 1.1584 # angular coefficient fitted\n",
    "da = 0.0734\n",
    "db = 0.126\n",
    "time_fit = 1\n",
    "\n",
    "rate = b/a_aus*1000\n",
    "err = ((da/a_aus)**2+(db/b)**2)**(1/2)*(b/a_aus)*1000\n",
    "print(\"taking as denominator the N_ions in the start: \", rate, \"+-\", err)\n",
    "\n",
    "a = (a_aus + (a_aus-b*time_fit/2))/2\n",
    "\n",
    "rate = b/a*1000\n",
    "err = ((da/a)**2+(db/b)**2)**(1/2)*(b/a)*1000\n",
    "print(\"taking as denominator the N_ions in the half: \", rate, \"+-\", err)\n"
   ]
  },
  {
   "cell_type": "code",
   "execution_count": null,
   "metadata": {},
   "outputs": [],
   "source": []
  }
 ],
 "metadata": {
  "interpreter": {
   "hash": "aee8b7b246df8f9039afb4144a1f6fd8d2ca17a180786b69acc140d282b71a49"
  },
  "kernelspec": {
   "display_name": "Python 3.10.2 64-bit",
   "language": "python",
   "name": "python3"
  },
  "language_info": {
   "codemirror_mode": {
    "name": "ipython",
    "version": 3
   },
   "file_extension": ".py",
   "mimetype": "text/x-python",
   "name": "python",
   "nbconvert_exporter": "python",
   "pygments_lexer": "ipython3",
   "version": "3.10.2"
  },
  "orig_nbformat": 4
 },
 "nbformat": 4,
 "nbformat_minor": 2
}
