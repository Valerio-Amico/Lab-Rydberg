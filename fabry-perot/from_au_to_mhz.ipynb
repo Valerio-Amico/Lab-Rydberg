{
 "cells": [
  {
   "cell_type": "code",
   "execution_count": 3,
   "metadata": {},
   "outputs": [
    {
     "name": "stdout",
     "output_type": "stream",
     "text": [
      "594.0938242280286 78.59382422802851 488.6\n"
     ]
    }
   ],
   "source": [
    "unit_blue = 780/421\n",
    "unit_IR = 780/1013\n",
    "\n",
    "blue_au = 487.6 # blue fabry-perot arbitrary unit\n",
    "infrared_fp_au = 596.5 # infrared fabry-perot arbitrary unit\n",
    "depumping_RF_Mhz = 81 # AOM+1 radio-frequency\n",
    "\n",
    "\n",
    "blue_movement = +1\n",
    "new_blue = blue_au + blue_movement\n",
    "infrared_movement = - blue_movement*unit_blue/unit_IR\n",
    "new_infrared = infrared_fp_au + infrared_movement\n",
    "new_depumping = depumping_RF_Mhz + infrared_movement\n",
    "\n",
    "print(new_infrared, new_depumping, new_blue)"
   ]
  },
  {
   "cell_type": "code",
   "execution_count": 9,
   "metadata": {},
   "outputs": [
    {
     "data": {
      "text/plain": [
       "421.9576923076923"
      ]
     },
     "execution_count": 9,
     "metadata": {},
     "output_type": "execute_result"
    }
   ],
   "source": [
    "342.8-87*421/780\n",
    "789.1+87*1013/780\n",
    "\n",
    "375+87*421/780\n"
   ]
  },
  {
   "cell_type": "code",
   "execution_count": 20,
   "metadata": {},
   "outputs": [
    {
     "name": "stdout",
     "output_type": "stream",
     "text": [
      " F0 = 382.5626025641026\n",
      " F1 = 369.74908974358976\n",
      " F2 = 341.9846794871795\n",
      " F3 = 295\n"
     ]
    }
   ],
   "source": [
    "### for the blue\n",
    "F3 = 295\n",
    "F2 = F3+87.05/unit_blue\n",
    "F1 = F2+51.44/unit_blue\n",
    "F0 = F1+23.74/unit_blue\n",
    "\n",
    "print(f\" F0 = {F0}\\n\", f\"F1 = {F1}\\n\", f\"F2 = {F2}\\n\", f\"F3 = {F3}\")"
   ]
  },
  {
   "cell_type": "code",
   "execution_count": 22,
   "metadata": {},
   "outputs": [
    {
     "name": "stdout",
     "output_type": "stream",
     "text": [
      " F0 = 692.3089871794872\n",
      " F1 = 723.1405512820513\n",
      " F2 = 789.9466025641026\n",
      " F3 = 903\n"
     ]
    }
   ],
   "source": [
    "### for the IR\n",
    "F3 = 290.2            # write here the fabry-perot resonance for the 6p F=3\n",
    "F2 = F3-87.05/unit_IR\n",
    "F1 = F2-51.44/unit_IR\n",
    "F0 = F1-23.74/unit_IR\n",
    "\n",
    "print(f\" F0 = {F0}\\n\", f\"F1 = {F1}\\n\", f\"F2 = {F2}\\n\", f\"F3 = {F3}\")"
   ]
  },
  {
   "cell_type": "code",
   "execution_count": 46,
   "metadata": {},
   "outputs": [
    {
     "name": "stdout",
     "output_type": "stream",
     "text": [
      "taking as denominator the N_ions in the start:  461.14649681528664 +- 51.93759056668979\n",
      "taking as denominator the N_ions in the half:  521.2383009359252 +- 59.25146554456595\n"
     ]
    }
   ],
   "source": [
    "a_aus = 2.512 # intercept fitted\n",
    "b = 1.1584 # angular coefficient fitted\n",
    "da = 0.0734\n",
    "db = 0.126\n",
    "time_fit = 1\n",
    "\n",
    "rate = b/a_aus*1000\n",
    "err = ((da/a_aus)**2+(db/b)**2)**(1/2)*(b/a_aus)*1000\n",
    "print(\"taking as denominator the N_ions in the start: \", rate, \"+-\", err)\n",
    "\n",
    "a = (a_aus + (a_aus-b*time_fit/2))/2\n",
    "\n",
    "rate = b/a*1000\n",
    "err = ((da/a)**2+(db/b)**2)**(1/2)*(b/a)*1000\n",
    "print(\"taking as denominator the N_ions in the half: \", rate, \"+-\", err)\n"
   ]
  },
  {
   "cell_type": "code",
   "execution_count": null,
   "metadata": {},
   "outputs": [],
   "source": []
  }
 ],
 "metadata": {
  "interpreter": {
   "hash": "aee8b7b246df8f9039afb4144a1f6fd8d2ca17a180786b69acc140d282b71a49"
  },
  "kernelspec": {
   "display_name": "Python 3.10.2 64-bit",
   "language": "python",
   "name": "python3"
  },
  "language_info": {
   "codemirror_mode": {
    "name": "ipython",
    "version": 3
   },
   "file_extension": ".py",
   "mimetype": "text/x-python",
   "name": "python",
   "nbconvert_exporter": "python",
   "pygments_lexer": "ipython3",
   "version": "3.10.2"
  },
  "orig_nbformat": 4
 },
 "nbformat": 4,
 "nbformat_minor": 2
}
