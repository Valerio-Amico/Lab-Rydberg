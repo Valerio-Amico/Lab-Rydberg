{
 "cells": [
  {
   "cell_type": "code",
   "execution_count": 1,
   "metadata": {},
   "outputs": [],
   "source": [
    "%matplotlib Tk\n",
    "import numpy as np\n",
    "import matplotlib.pyplot as plt\n",
    "from scipy.constants import hbar\n",
    "from sympy import Matrix\n",
    "from matplotlib.animation import FuncAnimation, ArtistAnimation\n",
    "\n",
    "#plt.style.use('seaborn-pastel')"
   ]
  },
  {
   "cell_type": "markdown",
   "metadata": {},
   "source": [
    "# Here is simulated the evolution of a two-levels systems\n",
    "\n",
    "paper = https://arxiv.org/pdf/1906.04478.pdf\n",
    "\n",
    "Without an external field\n",
    "$$ H = E_0 \\ket{0}\\bra{0} + E_1 \\ket{1}\\bra{1} =  E \\ket{1}\\bra{1} = \n",
    "\\begin{pmatrix}\n",
    "  0 & 0\\\\ \n",
    "  0 & E\n",
    "\\end{pmatrix} $$\n",
    "where $ E_0 = 0 $ and $ E_1 = E $.\n",
    "\n",
    "With a laser ligth\n",
    "$$ H = E \\ket{1}\\bra{1} + \\Omega(\\ket{1}\\bra{0} + \\ket{0}\\bra{1}) = \n",
    "\\begin{pmatrix}\n",
    "  0 & \\Omega\\\\ \n",
    "  \\Omega & E\n",
    "\\end{pmatrix} $$\n"
   ]
  },
  {
   "cell_type": "code",
   "execution_count": 2,
   "metadata": {},
   "outputs": [],
   "source": [
    "def rho_dot(H, rho):\n",
    "    return -1j*(np.dot(H,rho)-np.dot(rho, H))\n",
    "\n",
    "def evolution(steps, dt, initial_state, H):\n",
    "    state = initial_state\n",
    "    state_evolution = [state]\n",
    "    for i in range(steps):\n",
    "        state = state + rho_dot(H, state)*dt\n",
    "        state_evolution.append(state)\n",
    "    return state_evolution"
   ]
  },
  {
   "cell_type": "code",
   "execution_count": 3,
   "metadata": {},
   "outputs": [
    {
     "name": "stderr",
     "output_type": "stream",
     "text": [
      "/Library/Frameworks/Python.framework/Versions/3.10/lib/python3.10/site-packages/matplotlib/cbook/__init__.py:1298: ComplexWarning: Casting complex values to real discards the imaginary part\n",
      "  return np.asarray(x, float)\n"
     ]
    }
   ],
   "source": [
    "dt = 0.00001\n",
    "rho_0 = np.array([[1,0],[0,0]])#np.array([[1/2,1/np.sqrt(2)],[1/np.sqrt(2),1/2]])\n",
    "steps = 1000000\n",
    "Om = 1\n",
    "delta = 1\n",
    "H = np.array([[0,Om],[Om, delta]])\n",
    "\n",
    "evo = evolution(steps, dt, rho_0, H)\n",
    "rho_00 = [evo[i][0,0] for i in range(steps+1)]\n",
    "rho_11 = [evo[i][1,1] for i in range(steps+1)]\n",
    "times = np.linspace(0,dt*(steps+1), steps+1)\n",
    "\n",
    "plt.plot(times, rho_00)\n",
    "plt.plot(times, rho_11)\n",
    "plt.plot([0,times[-1]],[1,1],\"--\", alpha=0.5)\n",
    "plt.plot([0,times[-1]],[0,0],\"--\", alpha=0.5)\n",
    "plt.show()"
   ]
  },
  {
   "cell_type": "markdown",
   "metadata": {},
   "source": [
    "Now add the interaction with the vacum\n",
    "\n",
    "$$ H = \n",
    "\\begin{pmatrix}\n",
    "  0 & \\Omega\\\\ \n",
    "  \\Omega & E\n",
    "\\end{pmatrix} $$\n",
    "\n",
    "and the enviroment described by the lindblad master equation\n",
    "\n",
    "$$ \\dot{\\rho} = -i[H,\\rho] + \\Gamma (\\sigma^- \\rho \\sigma^+ - \\frac{1}{2} \\{\\sigma^- \\sigma^+, \\rho\\}) =\n",
    "-i(H \\rho - \\rho H) + \\Gamma(\\sigma^- \\rho \\sigma^+ -  \\frac{1}{2} (\\sigma^- \\sigma^+ \\rho\\ + \\rho \\sigma^- \\sigma^+ ))\n",
    "$$ \n",
    "\n",
    "where\n",
    "$$ \\sigma^+ =\n",
    "\\begin{pmatrix}\n",
    "  0 & 0\\\\ \n",
    "  1 & 0\n",
    "\\end{pmatrix} \\ \\ \\text{ and } \\ \\ \\ \\\n",
    "\\sigma^- =\n",
    "\\begin{pmatrix}\n",
    "  0 & 1\\\\ \n",
    "  0 & 0\n",
    "\\end{pmatrix} $$"
   ]
  },
  {
   "cell_type": "code",
   "execution_count": 4,
   "metadata": {},
   "outputs": [],
   "source": [
    "sigma_down = np.array([[0,1],[0,0]])\n",
    "sigma_up = np.array([[0,0],[1,0]])\n",
    "\n",
    "def rho_dot(H, rho, Gamma):\n",
    "    return -1j*(np.dot(H,rho)-np.dot(rho, H))+Gamma*(np.dot(sigma_down,rho).dot(sigma_up)-(np.dot(sigma_up, sigma_down).dot(rho)+np.dot(rho,sigma_up).dot(sigma_down))/2)\n",
    "\n",
    "def evolution(steps, dt, initial_state, H, Gamma):\n",
    "    state = initial_state\n",
    "    state_evolution = [state]\n",
    "    for i in range(steps):\n",
    "        state = state + rho_dot(H, state, Gamma)*dt\n",
    "        state_evolution.append(state)\n",
    "    return state_evolution"
   ]
  },
  {
   "cell_type": "code",
   "execution_count": 5,
   "metadata": {},
   "outputs": [
    {
     "data": {
      "text/plain": [
       "'\\nfig = plt.figure(figsize=(7,7))\\nims = []\\n\\nfor i in range(len(times)):\\n\\n    im = [plt.plot(times, rho_11, animated=True)]\\n    \\n    im.append(plt.plot(times, rho_00, animated=True))\\n    im.append(plt.plot(times[i], rho_00[i], marker=\"o\", animated=True))\\n    im.append(plt.plot(times[i], rho_11[i], marker=\"o\", animated=True))\\n\\n    ims += im\\n'"
      ]
     },
     "execution_count": 5,
     "metadata": {},
     "output_type": "execute_result"
    }
   ],
   "source": [
    "t = 10e-6\n",
    "steps = 100000\n",
    "dt = t/steps\n",
    "rho_0 = np.array([[0,0],[0,1]])\n",
    "Gamma = 0.1e6 # MHz\n",
    "Om = 2e6 # MHz\n",
    "delta = 0\n",
    "E = 0\n",
    "E = ((1/420)*10**9 + (1/1013)*10**9)\n",
    "H = np.array([[0,Om],[Om, E+delta]])\n",
    "\n",
    "evo = evolution(steps, dt, rho_0, H, Gamma)\n",
    "rho_00 = [evo[i][0,0] for i in range(steps+1)]\n",
    "rho_11 = [evo[i][1,1] for i in range(steps+1)]\n",
    "times = np.linspace(0,dt*(steps+1), steps+1)\n",
    "\n",
    "plt.plot(times, rho_00, label=\"prob 0\")\n",
    "plt.plot(times, rho_11, label=\"prob 1\")\n",
    "plt.plot([0,times[-1]],[1,1],\"--\", alpha=0.5)\n",
    "plt.plot([0,times[-1]],[0,0],\"--\", alpha=0.5)\n",
    "plt.plot([0,times[-1]],[1/2,1/2],\"--\", alpha=0.5)\n",
    "plt.legend()\n",
    "plt.show()\n",
    "\"\"\"\n",
    "fig = plt.figure(figsize=(7,7))\n",
    "ims = []\n",
    "\n",
    "for i in range(len(times)):\n",
    "\n",
    "    im = [plt.plot(times, rho_11, animated=True)]\n",
    "    \n",
    "    im.append(plt.plot(times, rho_00, animated=True))\n",
    "    im.append(plt.plot(times[i], rho_00[i], marker=\"o\", animated=True))\n",
    "    im.append(plt.plot(times[i], rho_11[i], marker=\"o\", animated=True))\n",
    "\n",
    "    ims += im\n",
    "\"\"\"\n",
    "#ani = ArtistAnimation(fig, ims, interval=10, blit=True, repeat_delay=10)\n",
    "#ani.save('single_atom.mp4')"
   ]
  },
  {
   "cell_type": "code",
   "execution_count": 6,
   "metadata": {},
   "outputs": [],
   "source": [
    "N1 = [np.trace(np.dot(evo[i],np.array([[1,0],[0,0]]))) for i in range(steps+1)]\n",
    "N2 = [np.trace(np.dot(evo[i],np.array([[0,0],[0,1]]))) for i in range(steps+1)]\n",
    "\n",
    "plt.plot(times, N1)\n",
    "plt.plot(times, N2)\n",
    "plt.plot([0,times[-1]],[1,1],\"--\", alpha=0.5)\n",
    "plt.plot([0,times[-1]],[0,0],\"--\", alpha=0.5)\n",
    "plt.plot([0,times[-1]],[1/2,1/2],\"--\", alpha=0.5)\n",
    "plt.show()"
   ]
  },
  {
   "cell_type": "markdown",
   "metadata": {},
   "source": [
    "Now I simulate a 3 level system, introducing a ground state, and intermediate state, and the rydber state. \n",
    "The laser couple the intermediate with the rydberg.\n",
    "\n",
    "$$ H = \n",
    "\\begin{pmatrix}\n",
    "  \\omega_g & 0 & 0 \\\\\n",
    "  0 & \\omega_i & \\Omega\\\\ \n",
    "  0 & \\Omega & \\omega_r + \\delta\n",
    "\\end{pmatrix} $$\n"
   ]
  },
  {
   "cell_type": "code",
   "execution_count": 7,
   "metadata": {},
   "outputs": [],
   "source": [
    "def rho_dot(H, rho, Gamma, jump_op):\n",
    "    sigma_down = jump_op\n",
    "    sigma_up = jump_op.transpose().conjugate()\n",
    "    return -1j*(np.dot(H,rho)-np.dot(rho, H))+Gamma*(np.dot(sigma_down,rho).dot(sigma_up)-(np.dot(sigma_up,sigma_down).dot(rho)+np.dot(rho,sigma_up).dot(sigma_down))/2)\n",
    "\n",
    "def evolution(steps, dt, initial_state, H, Gamma, jump_op):\n",
    "    state = initial_state\n",
    "    state_evolution = [state]\n",
    "    for i in range(steps):\n",
    "        state = state + rho_dot(H, state, Gamma, jump_op)*dt\n",
    "        state_evolution.append(state)\n",
    "    return state_evolution"
   ]
  },
  {
   "cell_type": "code",
   "execution_count": 12,
   "metadata": {},
   "outputs": [
    {
     "name": "stderr",
     "output_type": "stream",
     "text": [
      "/var/folders/gq/pyfb45qx3wg52k7kygqcjy840000gn/T/ipykernel_2646/1038305130.py:4: RuntimeWarning: invalid value encountered in subtract\n",
      "  return -1j*(np.dot(H,rho)-np.dot(rho, H))+Gamma*(np.dot(sigma_down,rho).dot(sigma_up)-(np.dot(sigma_up,sigma_down).dot(rho)+np.dot(rho,sigma_up).dot(sigma_down))/2)\n"
     ]
    }
   ],
   "source": [
    "t = 2e-6\n",
    "steps = 100000\n",
    "dt = t/steps\n",
    "rho_0 = np.array([\n",
    "    [0,0,0],\n",
    "    [0,0,0],\n",
    "    [0,0,1]\n",
    "    ])\n",
    "Gamma = 3e6\n",
    "Om = 0.8e6\n",
    "delta = 0\n",
    "E_g = 0\n",
    "E_i = 749*10**12\n",
    "E_r = 1048*10**12#-50e6\n",
    "H = np.array([\n",
    "    [E_g,0,0],\n",
    "    [0,E_i, Om],\n",
    "    [0, Om, E_r+delta]\n",
    "    ])\n",
    "\n",
    "jump_operators = [np.array([[0,1,0],[0,0,0],[0,0,0]])]#, np.array([[0,1,0],[0,0,0],[0,0,1]])]\n",
    "linestyles = [\"-\", \"--\"]\n",
    "jump_type = [\"a_rr = 0\", \"a_rr=1\"]\n",
    "\n",
    "for k, jump_operator in enumerate(jump_operators):\n",
    "    evo = evolution(steps, dt, rho_0, H, Gamma, jump_operator)\n",
    "    rho_gg = [evo[i][0,0] for i in range(steps+1)]\n",
    "    rho_ii = [evo[i][1,1] for i in range(steps+1)]\n",
    "    rho_rr = [evo[i][2,2] for i in range(steps+1)]\n",
    "    times = np.linspace(0,dt*(steps+1), steps+1)*10**6\n",
    "\n",
    "    plt.plot(times, rho_gg, label=\"ground, \"+jump_type[k], color=\"black\", linestyle = linestyles[k])\n",
    "    plt.plot(times, rho_ii, label=\"intermediate, \"+jump_type[k], color=\"green\", linestyle = linestyles[k])\n",
    "    plt.plot(times, rho_rr, label=\"rydberg, \"+jump_type[k], color=\"blue\", linestyle = linestyles[k])\n",
    "    plt.plot([0,times[-1]],[1,1],\"--\", alpha=0.2, color = \"gray\")\n",
    "    plt.plot([0,times[-1]],[0,0],\"--\", alpha=0.2, color = \"gray\")\n",
    "    plt.plot([0,times[-1]],[1/2,1/2],\"--\", alpha=0.2, color = \"gray\")\n",
    "plt.legend()\n",
    "plt.show()\n"
   ]
  },
  {
   "cell_type": "code",
   "execution_count": 9,
   "metadata": {},
   "outputs": [
    {
     "data": {
      "text/plain": [
       "0.03571428571428571"
      ]
     },
     "execution_count": 9,
     "metadata": {},
     "output_type": "execute_result"
    }
   ],
   "source": [
    "0.5/14"
   ]
  },
  {
   "cell_type": "code",
   "execution_count": 10,
   "metadata": {},
   "outputs": [
    {
     "ename": "ValueError",
     "evalue": "shapes (2,2) and (3,3) not aligned: 2 (dim 1) != 3 (dim 0)",
     "output_type": "error",
     "traceback": [
      "\u001b[0;31m---------------------------------------------------------------------------\u001b[0m",
      "\u001b[0;31mValueError\u001b[0m                                Traceback (most recent call last)",
      "\u001b[1;32m/Users/valerio/Documents/open quantum systems/single_atom/non_interacting.ipynb Cell 13\u001b[0m in \u001b[0;36m<cell line: 7>\u001b[0;34m()\u001b[0m\n\u001b[1;32m      <a href='vscode-notebook-cell:/Users/valerio/Documents/open%20quantum%20systems/single_atom/non_interacting.ipynb#X15sZmlsZQ%3D%3D?line=0'>1</a>\u001b[0m rho_0 \u001b[39m=\u001b[39m np\u001b[39m.\u001b[39marray([\n\u001b[1;32m      <a href='vscode-notebook-cell:/Users/valerio/Documents/open%20quantum%20systems/single_atom/non_interacting.ipynb#X15sZmlsZQ%3D%3D?line=1'>2</a>\u001b[0m     [\u001b[39m0\u001b[39m,\u001b[39m0\u001b[39m,\u001b[39m0\u001b[39m],\n\u001b[1;32m      <a href='vscode-notebook-cell:/Users/valerio/Documents/open%20quantum%20systems/single_atom/non_interacting.ipynb#X15sZmlsZQ%3D%3D?line=2'>3</a>\u001b[0m     [\u001b[39m0\u001b[39m,\u001b[39m0.5\u001b[39m,\u001b[39m0\u001b[39m],\n\u001b[1;32m      <a href='vscode-notebook-cell:/Users/valerio/Documents/open%20quantum%20systems/single_atom/non_interacting.ipynb#X15sZmlsZQ%3D%3D?line=3'>4</a>\u001b[0m     [\u001b[39m0\u001b[39m,\u001b[39m0\u001b[39m,\u001b[39m0.5\u001b[39m]\n\u001b[1;32m      <a href='vscode-notebook-cell:/Users/valerio/Documents/open%20quantum%20systems/single_atom/non_interacting.ipynb#X15sZmlsZQ%3D%3D?line=4'>5</a>\u001b[0m     ])\n\u001b[0;32m----> <a href='vscode-notebook-cell:/Users/valerio/Documents/open%20quantum%20systems/single_atom/non_interacting.ipynb#X15sZmlsZQ%3D%3D?line=6'>7</a>\u001b[0m np\u001b[39m.\u001b[39;49mdot(sigma_down,rho_0)\u001b[39m.\u001b[39mdot(sigma_up)\n",
      "File \u001b[0;32m<__array_function__ internals>:180\u001b[0m, in \u001b[0;36mdot\u001b[0;34m(*args, **kwargs)\u001b[0m\n",
      "\u001b[0;31mValueError\u001b[0m: shapes (2,2) and (3,3) not aligned: 2 (dim 1) != 3 (dim 0)"
     ]
    }
   ],
   "source": [
    "rho_0 = np.array([\n",
    "    [0,0,0],\n",
    "    [0,0.5,0],\n",
    "    [0,0,0.5]\n",
    "    ])\n",
    "\n",
    "np.dot(sigma_down,rho_0).dot(sigma_up)"
   ]
  },
  {
   "cell_type": "code",
   "execution_count": null,
   "metadata": {},
   "outputs": [],
   "source": []
  }
 ],
 "metadata": {
  "kernelspec": {
   "display_name": "Python 3.10.2 64-bit",
   "language": "python",
   "name": "python3"
  },
  "language_info": {
   "codemirror_mode": {
    "name": "ipython",
    "version": 3
   },
   "file_extension": ".py",
   "mimetype": "text/x-python",
   "name": "python",
   "nbconvert_exporter": "python",
   "pygments_lexer": "ipython3",
   "version": "3.10.2"
  },
  "orig_nbformat": 4,
  "vscode": {
   "interpreter": {
    "hash": "aee8b7b246df8f9039afb4144a1f6fd8d2ca17a180786b69acc140d282b71a49"
   }
  }
 },
 "nbformat": 4,
 "nbformat_minor": 2
}
