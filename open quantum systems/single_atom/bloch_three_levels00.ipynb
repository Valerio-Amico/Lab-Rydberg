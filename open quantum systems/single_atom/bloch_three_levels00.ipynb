{
 "cells": [
  {
   "cell_type": "code",
   "execution_count": 2,
   "metadata": {},
   "outputs": [],
   "source": [
    "import numpy as np\n",
    "import sympy as sp\n",
    "from sympy.physics.quantum.commutator import Commutator as commut\n",
    "from sympy.solvers import solve"
   ]
  },
  {
   "cell_type": "code",
   "execution_count": 3,
   "metadata": {},
   "outputs": [
    {
     "data": {
      "text/latex": [
       "$\\displaystyle \\left[\\begin{matrix}- i \\left(- \\frac{\\Omega \\rho_{12} e^{i \\omega t}}{2} + \\frac{\\Omega \\rho_{21} e^{- i \\omega t}}{2}\\right) & - i \\left(- \\frac{\\Omega \\rho_{11} e^{- i \\omega t}}{2} + \\frac{\\Omega \\rho_{22} e^{- i \\omega t}}{2} - \\rho_{12} \\left(- \\frac{i \\Gamma}{2} - \\delta\\right)\\right)\\\\- i \\left(\\frac{\\Omega \\rho_{11} e^{i \\omega t}}{2} - \\frac{\\Omega \\rho_{22} e^{i \\omega t}}{2} + \\rho_{21} \\left(- \\frac{i \\Gamma}{2} - \\delta\\right)\\right) & - i \\left(\\frac{\\Omega \\rho_{12} e^{i \\omega t}}{2} - \\frac{\\Omega \\rho_{21} e^{- i \\omega t}}{2}\\right)\\end{matrix}\\right]$"
      ],
      "text/plain": [
       "Matrix([\n",
       "[                              -I*(-\\Omega*rho_12*exp(I*\\omega*t)/2 + \\Omega*rho_21*exp(-I*\\omega*t)/2), -I*(-\\Omega*rho_11*exp(-I*\\omega*t)/2 + \\Omega*rho_22*exp(-I*\\omega*t)/2 - rho_12*(-I*\\Gamma/2 - \\delta))],\n",
       "[-I*(\\Omega*rho_11*exp(I*\\omega*t)/2 - \\Omega*rho_22*exp(I*\\omega*t)/2 + rho_21*(-I*\\Gamma/2 - \\delta)),                                   -I*(\\Omega*rho_12*exp(I*\\omega*t)/2 - \\Omega*rho_21*exp(-I*\\omega*t)/2)]])"
      ]
     },
     "execution_count": 3,
     "metadata": {},
     "output_type": "execute_result"
    }
   ],
   "source": [
    "Om = sp.Symbol(\"\\Omega\")\n",
    "om = sp.Symbol(\"\\omega\")\n",
    "delta = sp.Symbol(\"\\delta\")\n",
    "Gamma = sp.Symbol(\"\\Gamma\")\n",
    "t = sp.Symbol(\"t\")\n",
    "\n",
    "rho = sp.symbols(\"rho_11, rho_12, rho_21, rho_22\")\n",
    "\n",
    "Rho = sp.Matrix([\n",
    "    [rho[0],rho[1]],\n",
    "    [rho[2],rho[3]]\n",
    "])\n",
    "\n",
    "H = sp.Matrix([\n",
    "    [0, Om/2 * sp.exp(-sp.I*om*t)],\n",
    "    [Om/2 * sp.exp(sp.I*om*t), -(delta+sp.I*Gamma/2)]\n",
    "])\n",
    "\n",
    "rho_dot = -sp.I*(H*Rho-Rho*H)\n",
    "rho_dot"
   ]
  },
  {
   "cell_type": "code",
   "execution_count": 4,
   "metadata": {},
   "outputs": [
    {
     "data": {
      "text/latex": [
       "$\\displaystyle \\left[\\begin{matrix}- i \\left(- \\frac{\\Omega \\rho_{12} e^{i \\omega t}}{2} + \\frac{\\Omega \\rho_{21} e^{- i \\omega t}}{2}\\right)\\\\- i \\left(- \\frac{\\Omega \\rho_{11} e^{- i \\omega t}}{2} + \\frac{\\Omega \\rho_{22} e^{- i \\omega t}}{2} - \\rho_{12} \\left(- \\frac{i \\Gamma}{2} - \\delta\\right)\\right)\\\\- i \\left(\\frac{\\Omega \\rho_{12} e^{i \\omega t}}{2} - \\frac{\\Omega \\rho_{21} e^{- i \\omega t}}{2}\\right)\\\\\\rho_{11} + \\rho_{22} - 1\\\\\\rho_{12} - \\overline{\\rho_{21}}\\end{matrix}\\right]$"
      ],
      "text/plain": [
       "Matrix([\n",
       "[                                 -I*(-\\Omega*rho_12*exp(I*\\omega*t)/2 + \\Omega*rho_21*exp(-I*\\omega*t)/2)],\n",
       "[-I*(-\\Omega*rho_11*exp(-I*\\omega*t)/2 + \\Omega*rho_22*exp(-I*\\omega*t)/2 - rho_12*(-I*\\Gamma/2 - \\delta))],\n",
       "[                                  -I*(\\Omega*rho_12*exp(I*\\omega*t)/2 - \\Omega*rho_21*exp(-I*\\omega*t)/2)],\n",
       "[                                                                                      rho_11 + rho_22 - 1],\n",
       "[                                                                               rho_12 - conjugate(rho_21)]])"
      ]
     },
     "execution_count": 4,
     "metadata": {},
     "output_type": "execute_result"
    }
   ],
   "source": [
    "eqs = [rho_dot[0], rho_dot[1], rho_dot[3]] + [rho[0]+rho[3]-1, rho[1]-rho[2].conjugate()]\n",
    "sp.Matrix(eqs)"
   ]
  },
  {
   "cell_type": "code",
   "execution_count": 5,
   "metadata": {},
   "outputs": [
    {
     "name": "stderr",
     "output_type": "stream",
     "text": [
      "/Library/Frameworks/Python.framework/Versions/3.10/lib/python3.10/site-packages/sympy/matrices/repmatrix.py:103: SymPyDeprecationWarning: \n",
      "\n",
      "non-Expr objects in a Matrix has been deprecated since SymPy 1.9. Use\n",
      "list of lists, TableForm or some other data structure instead. See\n",
      "https://github.com/sympy/sympy/issues/21497 for more info.\n",
      "\n",
      "  ).warn()\n"
     ]
    },
    {
     "data": {
      "text/latex": [
       "$\\displaystyle \\left[\\begin{matrix}\\left( 1 - \\frac{\\overline{\\Omega}}{4 \\Omega} - \\frac{e^{- i \\omega t + i \\overline{\\omega} \\overline{t}} \\overline{\\Gamma}}{4 \\Gamma} - \\frac{i e^{- i \\omega t + i \\overline{\\omega} \\overline{t}} \\overline{\\delta}}{2 \\Gamma} + \\frac{i \\delta \\overline{\\Omega}}{2 \\Gamma \\Omega}, \\  \\frac{i \\left(- 2 \\Gamma \\Omega e^{i \\left(\\omega t - \\overline{\\omega} \\overline{t}\\right)} + \\Omega \\left(\\overline{\\Gamma} + 2 i \\overline{\\delta}\\right) + \\left(\\Gamma - 2 i \\delta\\right) e^{i \\left(\\omega t - \\overline{\\omega} \\overline{t}\\right)} \\overline{\\Omega}\\right) e^{- i \\left(2 \\omega t - \\overline{\\omega} \\overline{t}\\right)}}{2 \\Gamma \\left(\\Gamma - 2 i \\delta\\right)}, \\  \\frac{- i \\Gamma \\Omega e^{i \\omega t} + \\frac{i \\Gamma e^{i \\omega t} \\overline{\\Omega}}{2} + \\frac{i \\Omega e^{i \\overline{\\omega} \\overline{t}} \\overline{\\Gamma}}{2} - \\Omega e^{i \\overline{\\omega} \\overline{t}} \\overline{\\delta} + \\delta e^{i \\omega t} \\overline{\\Omega}}{\\Gamma \\left(\\Gamma - 2 i \\delta\\right)}, \\  \\frac{\\left(\\Omega \\left(\\overline{\\Gamma} + 2 i \\overline{\\delta}\\right) + \\left(\\Gamma - 2 i \\delta\\right) e^{i \\left(\\omega t - \\overline{\\omega} \\overline{t}\\right)} \\overline{\\Omega}\\right) e^{- i \\left(\\omega t - \\overline{\\omega} \\overline{t}\\right)}}{4 \\Gamma \\Omega}\\right)\\end{matrix}\\right]$"
      ],
      "text/plain": [
       "Matrix([[(1 - conjugate(\\Omega)/(4*\\Omega) - exp(-I*\\omega*t + I*conjugate(\\omega)*conjugate(t))*conjugate(\\Gamma)/(4*\\Gamma) - I*exp(-I*\\omega*t + I*conjugate(\\omega)*conjugate(t))*conjugate(\\delta)/(2*\\Gamma) + I*\\delta*conjugate(\\Omega)/(2*\\Gamma*\\Omega), I*(-2*\\Gamma*\\Omega*exp(I*(\\omega*t - conjugate(\\omega)*conjugate(t))) + \\Omega*(conjugate(\\Gamma) + 2*I*conjugate(\\delta)) + (\\Gamma - 2*I*\\delta)*exp(I*(\\omega*t - conjugate(\\omega)*conjugate(t)))*conjugate(\\Omega))*exp(-I*(2*\\omega*t - conjugate(\\omega)*conjugate(t)))/(2*\\Gamma*(\\Gamma - 2*I*\\delta)), (-I*\\Gamma*\\Omega*exp(I*\\omega*t) + I*\\Gamma*exp(I*\\omega*t)*conjugate(\\Omega)/2 + I*\\Omega*exp(I*conjugate(\\omega)*conjugate(t))*conjugate(\\Gamma)/2 - \\Omega*exp(I*conjugate(\\omega)*conjugate(t))*conjugate(\\delta) + \\delta*exp(I*\\omega*t)*conjugate(\\Omega))/(\\Gamma*(\\Gamma - 2*I*\\delta)), (\\Omega*(conjugate(\\Gamma) + 2*I*conjugate(\\delta)) + (\\Gamma - 2*I*\\delta)*exp(I*(\\omega*t - conjugate(\\omega)*conjugate(t)))*conjugate(\\Omega))*exp(-I*(\\omega*t - conjugate(\\omega)*conjugate(t)))/(4*\\Gamma*\\Omega))]])"
      ]
     },
     "execution_count": 5,
     "metadata": {},
     "output_type": "execute_result"
    }
   ],
   "source": [
    "sol = solve(eqs, [rho[i] for i in range(4)])\n",
    "sp.Matrix([sol])"
   ]
  },
  {
   "cell_type": "code",
   "execution_count": 49,
   "metadata": {},
   "outputs": [
    {
     "data": {
      "text/latex": [
       "$\\displaystyle \\left[\\begin{matrix}\\frac{i \\Omega_{b} \\left(\\rho_{12} e^{2 i \\omega_{b} t} - \\rho_{21}\\right) e^{- i \\omega_{b} t}}{2}\\\\\\frac{i \\left(\\Omega_{b} \\left(\\rho_{11} - \\rho_{22}\\right) e^{i \\omega_{r} t} + \\Omega_{r} \\rho_{13} e^{i \\omega_{b} t} - \\rho_{12} \\left(2 \\Delta + i \\Gamma_{i}\\right) e^{i t \\left(\\omega_{b} + \\omega_{r}\\right)}\\right) e^{- i t \\left(\\omega_{b} + \\omega_{r}\\right)}}{2}\\\\\\frac{\\Gamma_{r} \\rho_{13}}{2} - \\frac{i \\Omega_{b} \\rho_{23} e^{- i \\omega_{b} t}}{2} + \\frac{i \\Omega_{r} \\rho_{12} e^{i \\omega_{r} t}}{2} - i \\delta \\rho_{13}\\\\- \\frac{i \\Omega_{b} \\rho_{12} e^{i \\omega_{b} t}}{2} + \\frac{i \\Omega_{b} \\rho_{21} e^{- i \\omega_{b} t}}{2} + \\frac{i \\Omega_{r} \\rho_{23} e^{- i \\omega_{r} t}}{2} - \\frac{i \\Omega_{r} \\rho_{32} e^{i \\omega_{r} t}}{2}\\\\\\frac{i \\left(- \\Omega_{b} \\rho_{13} e^{i \\omega_{b} t} + \\Omega_{r} \\rho_{22} e^{i \\omega_{r} t} - \\Omega_{r} \\rho_{33} e^{i \\omega_{r} t} + \\rho_{23} \\left(2 \\Delta + i \\Gamma_{i}\\right) - \\rho_{23} \\left(i \\Gamma_{r} + 2 \\delta\\right)\\right)}{2}\\\\\\frac{i \\Omega_{r} \\left(- \\rho_{23} + \\rho_{32} e^{2 i \\omega_{r} t}\\right) e^{- i \\omega_{r} t}}{2}\\\\\\rho_{11} + \\rho_{22} + \\rho_{33} - 1\\\\\\rho_{12} - \\overline{\\rho_{21}}\\\\\\rho_{13} - \\overline{\\rho_{31}}\\\\\\rho_{23} - \\overline{\\rho_{32}}\\end{matrix}\\right]$"
      ],
      "text/plain": [
       "Matrix([\n",
       "[                                                                                                                 I*\\Omega_b*(rho_12*exp(2*I*\\omega_b*t) - rho_21)*exp(-I*\\omega_b*t)/2],\n",
       "[I*(\\Omega_b*(rho_11 - rho_22)*exp(I*\\omega_r*t) + \\Omega_r*rho_13*exp(I*\\omega_b*t) - rho_12*(2*\\Delta + I*\\Gamma_i)*exp(I*t*(\\omega_b + \\omega_r)))*exp(-I*t*(\\omega_b + \\omega_r))/2],\n",
       "[                                                                  \\Gamma_r*rho_13/2 - I*\\Omega_b*rho_23*exp(-I*\\omega_b*t)/2 + I*\\Omega_r*rho_12*exp(I*\\omega_r*t)/2 - I*\\delta*rho_13],\n",
       "[                      -I*\\Omega_b*rho_12*exp(I*\\omega_b*t)/2 + I*\\Omega_b*rho_21*exp(-I*\\omega_b*t)/2 + I*\\Omega_r*rho_23*exp(-I*\\omega_r*t)/2 - I*\\Omega_r*rho_32*exp(I*\\omega_r*t)/2],\n",
       "[    I*(-\\Omega_b*rho_13*exp(I*\\omega_b*t) + \\Omega_r*rho_22*exp(I*\\omega_r*t) - \\Omega_r*rho_33*exp(I*\\omega_r*t) + rho_23*(2*\\Delta + I*\\Gamma_i) - rho_23*(I*\\Gamma_r + 2*\\delta))/2],\n",
       "[                                                                                                                I*\\Omega_r*(-rho_23 + rho_32*exp(2*I*\\omega_r*t))*exp(-I*\\omega_r*t)/2],\n",
       "[                                                                                                                                                          rho_11 + rho_22 + rho_33 - 1],\n",
       "[                                                                                                                                                            rho_12 - conjugate(rho_21)],\n",
       "[                                                                                                                                                            rho_13 - conjugate(rho_31)],\n",
       "[                                                                                                                                                            rho_23 - conjugate(rho_32)]])"
      ]
     },
     "execution_count": 49,
     "metadata": {},
     "output_type": "execute_result"
    }
   ],
   "source": [
    "Om_b = sp.Symbol(\"\\Omega_b\")\n",
    "Om_r = sp.Symbol(\"\\Omega_r\")\n",
    "om_b = sp.Symbol(\"\\omega_b\")\n",
    "om_r = sp.Symbol(\"\\omega_r\")\n",
    "Delta = sp.Symbol(\"\\Delta\")\n",
    "delta = sp.Symbol(\"\\delta\")\n",
    "Gamma_r = sp.Symbol(\"\\Gamma_r\")\n",
    "Gamma_i = sp.Symbol(\"\\Gamma_i\")\n",
    "t = sp.Symbol(\"t\")\n",
    "\n",
    "rho = sp.symbols(\"rho_11,rho_12,rho_13, rho_21,rho_22,rho_23, rho_31,rho_32,rho_33\")\n",
    "\n",
    "Rho = sp.Matrix([\n",
    "    [rho[0],rho[1],rho[2]],\n",
    "    [rho[3],rho[4],rho[5]],\n",
    "    [rho[6],rho[7],rho[8]]\n",
    "])\n",
    "\n",
    "H = sp.Matrix([\n",
    "    [0, Om_b/2 * sp.exp(-sp.I*om_b*t), 0],\n",
    "    [Om_b/2 * sp.exp(sp.I*om_b*t), -(Delta+sp.I*Gamma_i/2), Om_r/2 * sp.exp(sp.I*om_r*t)],\n",
    "    [0, Om_r/2 * sp.exp(-sp.I*om_r*t), -(delta+sp.I*Gamma_r/2)],\n",
    "])\n",
    "\n",
    "rho_dot = -sp.I*(H*Rho-Rho*H)\n",
    "range_ = [0,1,2,4,5,8]\n",
    "eqs = [sp.simplify(rho_dot[i]) for i in range_] + [rho[0]+rho[4]+rho[8]-1, rho[1]-rho[3].conjugate(), rho[2]-rho[6].conjugate(), rho[5]-rho[7].conjugate()]\n",
    "\n",
    "sp.Matrix(eqs)"
   ]
  },
  {
   "cell_type": "code",
   "execution_count": 50,
   "metadata": {},
   "outputs": [
    {
     "ename": "KeyboardInterrupt",
     "evalue": "",
     "output_type": "error",
     "traceback": [
      "\u001b[0;31m---------------------------------------------------------------------------\u001b[0m",
      "\u001b[0;31mKeyboardInterrupt\u001b[0m                         Traceback (most recent call last)",
      "\u001b[1;32m/Users/valerio/Documents/open quantum systems/single_atom/bloch_three_levels.ipynb Cell 6\u001b[0m in \u001b[0;36m<cell line: 1>\u001b[0;34m()\u001b[0m\n\u001b[0;32m----> <a href='vscode-notebook-cell:/Users/valerio/Documents/open%20quantum%20systems/single_atom/bloch_three_levels.ipynb#W4sZmlsZQ%3D%3D?line=0'>1</a>\u001b[0m sol \u001b[39m=\u001b[39m solve(eqs, rho)\n",
      "File \u001b[0;32m/Library/Frameworks/Python.framework/Versions/3.10/lib/python3.10/site-packages/sympy/solvers/solvers.py:1097\u001b[0m, in \u001b[0;36msolve\u001b[0;34m(f, *symbols, **flags)\u001b[0m\n\u001b[1;32m   1095\u001b[0m     solution \u001b[39m=\u001b[39m _solve(f[\u001b[39m0\u001b[39m], \u001b[39m*\u001b[39msymbols, \u001b[39m*\u001b[39m\u001b[39m*\u001b[39mflags)\n\u001b[1;32m   1096\u001b[0m \u001b[39melse\u001b[39;00m:\n\u001b[0;32m-> 1097\u001b[0m     solution \u001b[39m=\u001b[39m _solve_system(f, symbols, \u001b[39m*\u001b[39;49m\u001b[39m*\u001b[39;49mflags)\n\u001b[1;32m   1099\u001b[0m \u001b[39m#\u001b[39;00m\n\u001b[1;32m   1100\u001b[0m \u001b[39m# postprocessing\u001b[39;00m\n\u001b[1;32m   1101\u001b[0m \u001b[39m###########################################################################\u001b[39;00m\n\u001b[1;32m   1102\u001b[0m \u001b[39m# Restore masked-off objects\u001b[39;00m\n\u001b[1;32m   1103\u001b[0m \u001b[39mif\u001b[39;00m non_inverts:\n",
      "File \u001b[0;32m/Library/Frameworks/Python.framework/Versions/3.10/lib/python3.10/site-packages/sympy/solvers/solvers.py:1934\u001b[0m, in \u001b[0;36m_solve_system\u001b[0;34m(exprs, symbols, **flags)\u001b[0m\n\u001b[1;32m   1932\u001b[0m \u001b[39mfor\u001b[39;00m s \u001b[39min\u001b[39;00m ok_syms:\n\u001b[1;32m   1933\u001b[0m     \u001b[39mtry\u001b[39;00m:\n\u001b[0;32m-> 1934\u001b[0m         soln \u001b[39m=\u001b[39m _solve(eq2, s, \u001b[39m*\u001b[39;49m\u001b[39m*\u001b[39;49mflags)\n\u001b[1;32m   1935\u001b[0m     \u001b[39mexcept\u001b[39;00m \u001b[39mNotImplementedError\u001b[39;00m:\n\u001b[1;32m   1936\u001b[0m         \u001b[39mcontinue\u001b[39;00m\n",
      "File \u001b[0;32m/Library/Frameworks/Python.framework/Versions/3.10/lib/python3.10/site-packages/sympy/solvers/solvers.py:1701\u001b[0m, in \u001b[0;36m_solve\u001b[0;34m(f, *symbols, **flags)\u001b[0m\n\u001b[1;32m   1699\u001b[0m flags\u001b[39m.\u001b[39mpop(\u001b[39m'\u001b[39m\u001b[39mtsolve\u001b[39m\u001b[39m'\u001b[39m, \u001b[39mNone\u001b[39;00m)  \u001b[39m# allow tsolve to be used on next pass\u001b[39;00m\n\u001b[1;32m   1700\u001b[0m \u001b[39mtry\u001b[39;00m:\n\u001b[0;32m-> 1701\u001b[0m     soln \u001b[39m=\u001b[39m _tsolve(f_num, symbol, \u001b[39m*\u001b[39;49m\u001b[39m*\u001b[39;49mflags)\n\u001b[1;32m   1702\u001b[0m     \u001b[39mif\u001b[39;00m soln \u001b[39mis\u001b[39;00m \u001b[39mnot\u001b[39;00m \u001b[39mNone\u001b[39;00m:\n\u001b[1;32m   1703\u001b[0m         result \u001b[39m=\u001b[39m soln\n",
      "File \u001b[0;32m/Library/Frameworks/Python.framework/Versions/3.10/lib/python3.10/site-packages/sympy/solvers/solvers.py:2558\u001b[0m, in \u001b[0;36m_tsolve\u001b[0;34m(eq, sym, **flags)\u001b[0m\n\u001b[1;32m   2554\u001b[0m \u001b[39mtry\u001b[39;00m:\n\u001b[1;32m   2555\u001b[0m     \u001b[39mif\u001b[39;00m lhs\u001b[39m.\u001b[39mis_Add:\n\u001b[1;32m   2556\u001b[0m         \u001b[39m# it's time to try factoring; powdenest is used\u001b[39;00m\n\u001b[1;32m   2557\u001b[0m         \u001b[39m# to try get powers in standard form for better factoring\u001b[39;00m\n\u001b[0;32m-> 2558\u001b[0m         f \u001b[39m=\u001b[39m factor(powdenest(lhs \u001b[39m-\u001b[39;49m rhs))\n\u001b[1;32m   2559\u001b[0m         \u001b[39mif\u001b[39;00m f\u001b[39m.\u001b[39mis_Mul:\n\u001b[1;32m   2560\u001b[0m             \u001b[39mreturn\u001b[39;00m _solve(f, sym, \u001b[39m*\u001b[39m\u001b[39m*\u001b[39mflags)\n",
      "File \u001b[0;32m/Library/Frameworks/Python.framework/Versions/3.10/lib/python3.10/site-packages/sympy/polys/polytools.py:6384\u001b[0m, in \u001b[0;36mfactor\u001b[0;34m(f, deep, *gens, **args)\u001b[0m\n\u001b[1;32m   6381\u001b[0m     \u001b[39mreturn\u001b[39;00m f\u001b[39m.\u001b[39mxreplace(partials)\n\u001b[1;32m   6383\u001b[0m \u001b[39mtry\u001b[39;00m:\n\u001b[0;32m-> 6384\u001b[0m     \u001b[39mreturn\u001b[39;00m _generic_factor(f, gens, args, method\u001b[39m=\u001b[39;49m\u001b[39m'\u001b[39;49m\u001b[39mfactor\u001b[39;49m\u001b[39m'\u001b[39;49m)\n\u001b[1;32m   6385\u001b[0m \u001b[39mexcept\u001b[39;00m PolynomialError \u001b[39mas\u001b[39;00m msg:\n\u001b[1;32m   6386\u001b[0m     \u001b[39mif\u001b[39;00m \u001b[39mnot\u001b[39;00m f\u001b[39m.\u001b[39mis_commutative:\n",
      "File \u001b[0;32m/Library/Frameworks/Python.framework/Versions/3.10/lib/python3.10/site-packages/sympy/polys/polytools.py:6062\u001b[0m, in \u001b[0;36m_generic_factor\u001b[0;34m(expr, gens, args, method)\u001b[0m\n\u001b[1;32m   6060\u001b[0m opt \u001b[39m=\u001b[39m options\u001b[39m.\u001b[39mbuild_options(gens, args)\n\u001b[1;32m   6061\u001b[0m opt[\u001b[39m'\u001b[39m\u001b[39mfraction\u001b[39m\u001b[39m'\u001b[39m] \u001b[39m=\u001b[39m fraction\n\u001b[0;32m-> 6062\u001b[0m \u001b[39mreturn\u001b[39;00m _symbolic_factor(sympify(expr), opt, method)\n",
      "File \u001b[0;32m/Library/Frameworks/Python.framework/Versions/3.10/lib/python3.10/site-packages/sympy/polys/polytools.py:6002\u001b[0m, in \u001b[0;36m_symbolic_factor\u001b[0;34m(expr, opt, method)\u001b[0m\n\u001b[1;32m   6000\u001b[0m     \u001b[39mif\u001b[39;00m \u001b[39mhasattr\u001b[39m(expr,\u001b[39m'\u001b[39m\u001b[39m_eval_factor\u001b[39m\u001b[39m'\u001b[39m):\n\u001b[1;32m   6001\u001b[0m         \u001b[39mreturn\u001b[39;00m expr\u001b[39m.\u001b[39m_eval_factor()\n\u001b[0;32m-> 6002\u001b[0m     coeff, factors \u001b[39m=\u001b[39m _symbolic_factor_list(together(expr, fraction\u001b[39m=\u001b[39;49mopt[\u001b[39m'\u001b[39;49m\u001b[39mfraction\u001b[39;49m\u001b[39m'\u001b[39;49m]), opt, method)\n\u001b[1;32m   6003\u001b[0m     \u001b[39mreturn\u001b[39;00m _keep_coeff(coeff, _factors_product(factors))\n\u001b[1;32m   6004\u001b[0m \u001b[39melif\u001b[39;00m \u001b[39mhasattr\u001b[39m(expr, \u001b[39m'\u001b[39m\u001b[39margs\u001b[39m\u001b[39m'\u001b[39m):\n",
      "File \u001b[0;32m/Library/Frameworks/Python.framework/Versions/3.10/lib/python3.10/site-packages/sympy/polys/polytools.py:5967\u001b[0m, in \u001b[0;36m_symbolic_factor_list\u001b[0;34m(expr, opt, method)\u001b[0m\n\u001b[1;32m   5964\u001b[0m \u001b[39melse\u001b[39;00m:\n\u001b[1;32m   5965\u001b[0m     func \u001b[39m=\u001b[39m \u001b[39mgetattr\u001b[39m(poly, method \u001b[39m+\u001b[39m \u001b[39m'\u001b[39m\u001b[39m_list\u001b[39m\u001b[39m'\u001b[39m)\n\u001b[0;32m-> 5967\u001b[0m     _coeff, _factors \u001b[39m=\u001b[39m func()\n\u001b[1;32m   5968\u001b[0m     \u001b[39mif\u001b[39;00m _coeff \u001b[39mis\u001b[39;00m \u001b[39mnot\u001b[39;00m S\u001b[39m.\u001b[39mOne:\n\u001b[1;32m   5969\u001b[0m         \u001b[39mif\u001b[39;00m exp\u001b[39m.\u001b[39mis_Integer:\n",
      "File \u001b[0;32m/Library/Frameworks/Python.framework/Versions/3.10/lib/python3.10/site-packages/sympy/polys/polytools.py:3336\u001b[0m, in \u001b[0;36mPoly.factor_list\u001b[0;34m(f)\u001b[0m\n\u001b[1;32m   3334\u001b[0m \u001b[39mif\u001b[39;00m \u001b[39mhasattr\u001b[39m(f\u001b[39m.\u001b[39mrep, \u001b[39m'\u001b[39m\u001b[39mfactor_list\u001b[39m\u001b[39m'\u001b[39m):\n\u001b[1;32m   3335\u001b[0m     \u001b[39mtry\u001b[39;00m:\n\u001b[0;32m-> 3336\u001b[0m         coeff, factors \u001b[39m=\u001b[39m f\u001b[39m.\u001b[39;49mrep\u001b[39m.\u001b[39;49mfactor_list()\n\u001b[1;32m   3337\u001b[0m     \u001b[39mexcept\u001b[39;00m DomainError:\n\u001b[1;32m   3338\u001b[0m         \u001b[39mreturn\u001b[39;00m S\u001b[39m.\u001b[39mOne, [(f, \u001b[39m1\u001b[39m)]\n",
      "File \u001b[0;32m/Library/Frameworks/Python.framework/Versions/3.10/lib/python3.10/site-packages/sympy/polys/polyclasses.py:793\u001b[0m, in \u001b[0;36mDMP.factor_list\u001b[0;34m(f)\u001b[0m\n\u001b[1;32m    791\u001b[0m \u001b[39mdef\u001b[39;00m \u001b[39mfactor_list\u001b[39m(f):\n\u001b[1;32m    792\u001b[0m     \u001b[39m\"\"\"Returns a list of irreducible factors of ``f``. \"\"\"\u001b[39;00m\n\u001b[0;32m--> 793\u001b[0m     coeff, factors \u001b[39m=\u001b[39m dmp_factor_list(f\u001b[39m.\u001b[39;49mrep, f\u001b[39m.\u001b[39;49mlev, f\u001b[39m.\u001b[39;49mdom)\n\u001b[1;32m    794\u001b[0m     \u001b[39mreturn\u001b[39;00m coeff, [ (f\u001b[39m.\u001b[39mper(g), k) \u001b[39mfor\u001b[39;00m g, k \u001b[39min\u001b[39;00m factors ]\n",
      "File \u001b[0;32m/Library/Frameworks/Python.framework/Versions/3.10/lib/python3.10/site-packages/sympy/polys/factortools.py:1391\u001b[0m, in \u001b[0;36mdmp_factor_list\u001b[0;34m(f, u, K0)\u001b[0m\n\u001b[1;32m   1389\u001b[0m     coeff, factors \u001b[39m=\u001b[39m dmp_ext_factor(f, u, K0)\n\u001b[1;32m   1390\u001b[0m \u001b[39melif\u001b[39;00m K0\u001b[39m.\u001b[39mis_GaussianRing:\n\u001b[0;32m-> 1391\u001b[0m     coeff, factors \u001b[39m=\u001b[39m dmp_zz_i_factor(f, u, K0)\n\u001b[1;32m   1392\u001b[0m \u001b[39melif\u001b[39;00m K0\u001b[39m.\u001b[39mis_GaussianField:\n\u001b[1;32m   1393\u001b[0m     coeff, factors \u001b[39m=\u001b[39m dmp_qq_i_factor(f, u, K0)\n",
      "File \u001b[0;32m/Library/Frameworks/Python.framework/Versions/3.10/lib/python3.10/site-packages/sympy/polys/factortools.py:1206\u001b[0m, in \u001b[0;36mdmp_zz_i_factor\u001b[0;34m(f, u, K0)\u001b[0m\n\u001b[1;32m   1204\u001b[0m K1 \u001b[39m=\u001b[39m K0\u001b[39m.\u001b[39mget_field()\n\u001b[1;32m   1205\u001b[0m f \u001b[39m=\u001b[39m dmp_convert(f, u, K0, K1)\n\u001b[0;32m-> 1206\u001b[0m coeff, factors \u001b[39m=\u001b[39m dmp_qq_i_factor(f, u, K1)\n\u001b[1;32m   1208\u001b[0m new_factors \u001b[39m=\u001b[39m []\n\u001b[1;32m   1209\u001b[0m \u001b[39mfor\u001b[39;00m fac, i \u001b[39min\u001b[39;00m factors:\n\u001b[1;32m   1210\u001b[0m     \u001b[39m# Extract content\u001b[39;00m\n",
      "File \u001b[0;32m/Library/Frameworks/Python.framework/Versions/3.10/lib/python3.10/site-packages/sympy/polys/factortools.py:1195\u001b[0m, in \u001b[0;36mdmp_qq_i_factor\u001b[0;34m(f, u, K0)\u001b[0m\n\u001b[1;32m   1193\u001b[0m K1 \u001b[39m=\u001b[39m K0\u001b[39m.\u001b[39mas_AlgebraicField()\n\u001b[1;32m   1194\u001b[0m f \u001b[39m=\u001b[39m dmp_convert(f, u, K0, K1)\n\u001b[0;32m-> 1195\u001b[0m coeff, factors \u001b[39m=\u001b[39m dmp_factor_list(f, u, K1)\n\u001b[1;32m   1196\u001b[0m factors \u001b[39m=\u001b[39m [(dmp_convert(fac, u, K1, K0), i) \u001b[39mfor\u001b[39;00m fac, i \u001b[39min\u001b[39;00m factors]\n\u001b[1;32m   1197\u001b[0m coeff \u001b[39m=\u001b[39m K0\u001b[39m.\u001b[39mconvert(coeff, K1)\n",
      "File \u001b[0;32m/Library/Frameworks/Python.framework/Versions/3.10/lib/python3.10/site-packages/sympy/polys/factortools.py:1389\u001b[0m, in \u001b[0;36mdmp_factor_list\u001b[0;34m(f, u, K0)\u001b[0m\n\u001b[1;32m   1387\u001b[0m     coeff, factors \u001b[39m=\u001b[39m dmp_gf_factor(f, u, K0)\n\u001b[1;32m   1388\u001b[0m \u001b[39melif\u001b[39;00m K0\u001b[39m.\u001b[39mis_Algebraic:\n\u001b[0;32m-> 1389\u001b[0m     coeff, factors \u001b[39m=\u001b[39m dmp_ext_factor(f, u, K0)\n\u001b[1;32m   1390\u001b[0m \u001b[39melif\u001b[39;00m K0\u001b[39m.\u001b[39mis_GaussianRing:\n\u001b[1;32m   1391\u001b[0m     coeff, factors \u001b[39m=\u001b[39m dmp_zz_i_factor(f, u, K0)\n",
      "File \u001b[0;32m/Library/Frameworks/Python.framework/Versions/3.10/lib/python3.10/site-packages/sympy/polys/factortools.py:1265\u001b[0m, in \u001b[0;36mdmp_ext_factor\u001b[0;34m(f, u, K)\u001b[0m\n\u001b[1;32m   1262\u001b[0m \u001b[39mif\u001b[39;00m \u001b[39mall\u001b[39m(d \u001b[39m<\u001b[39m\u001b[39m=\u001b[39m \u001b[39m0\u001b[39m \u001b[39mfor\u001b[39;00m d \u001b[39min\u001b[39;00m dmp_degree_list(f, u)):\n\u001b[1;32m   1263\u001b[0m     \u001b[39mreturn\u001b[39;00m lc, []\n\u001b[0;32m-> 1265\u001b[0m f, F \u001b[39m=\u001b[39m dmp_sqf_part(f, u, K), f\n\u001b[1;32m   1266\u001b[0m s, g, r \u001b[39m=\u001b[39m dmp_sqf_norm(f, u, K)\n\u001b[1;32m   1268\u001b[0m factors \u001b[39m=\u001b[39m dmp_factor_list_include(r, u, K\u001b[39m.\u001b[39mdom)\n",
      "File \u001b[0;32m/Library/Frameworks/Python.framework/Versions/3.10/lib/python3.10/site-packages/sympy/polys/sqfreetools.py:256\u001b[0m, in \u001b[0;36mdmp_sqf_part\u001b[0;34m(f, u, K)\u001b[0m\n\u001b[1;32m    254\u001b[0m gcd \u001b[39m=\u001b[39m f\n\u001b[1;32m    255\u001b[0m \u001b[39mfor\u001b[39;00m i \u001b[39min\u001b[39;00m \u001b[39mrange\u001b[39m(u\u001b[39m+\u001b[39m\u001b[39m1\u001b[39m):\n\u001b[0;32m--> 256\u001b[0m     gcd \u001b[39m=\u001b[39m dmp_gcd(gcd, dmp_diff_in(f, \u001b[39m1\u001b[39;49m, i, u, K), u, K)\n\u001b[1;32m    257\u001b[0m sqf \u001b[39m=\u001b[39m dmp_quo(f, gcd, u, K)\n\u001b[1;32m    259\u001b[0m \u001b[39mif\u001b[39;00m K\u001b[39m.\u001b[39mis_Field:\n",
      "File \u001b[0;32m/Library/Frameworks/Python.framework/Versions/3.10/lib/python3.10/site-packages/sympy/polys/euclidtools.py:1624\u001b[0m, in \u001b[0;36mdmp_gcd\u001b[0;34m(f, g, u, K)\u001b[0m\n\u001b[1;32m   1607\u001b[0m \u001b[39mdef\u001b[39;00m \u001b[39mdmp_gcd\u001b[39m(f, g, u, K):\n\u001b[1;32m   1608\u001b[0m     \u001b[39m\"\"\"\u001b[39;00m\n\u001b[1;32m   1609\u001b[0m \u001b[39m    Computes polynomial GCD of `f` and `g` in `K[X]`.\u001b[39;00m\n\u001b[1;32m   1610\u001b[0m \n\u001b[0;32m   (...)\u001b[0m\n\u001b[1;32m   1622\u001b[0m \n\u001b[1;32m   1623\u001b[0m \u001b[39m    \"\"\"\u001b[39;00m\n\u001b[0;32m-> 1624\u001b[0m     \u001b[39mreturn\u001b[39;00m dmp_inner_gcd(f, g, u, K)[\u001b[39m0\u001b[39m]\n",
      "File \u001b[0;32m/Library/Frameworks/Python.framework/Versions/3.10/lib/python3.10/site-packages/sympy/polys/euclidtools.py:1583\u001b[0m, in \u001b[0;36mdmp_inner_gcd\u001b[0;34m(f, g, u, K)\u001b[0m\n\u001b[1;32m   1580\u001b[0m     \u001b[39mreturn\u001b[39;00m dup_inner_gcd(f, g, K)\n\u001b[1;32m   1582\u001b[0m J, (f, g) \u001b[39m=\u001b[39m dmp_multi_deflate((f, g), u, K)\n\u001b[0;32m-> 1583\u001b[0m h, cff, cfg \u001b[39m=\u001b[39m _dmp_inner_gcd(f, g, u, K)\n\u001b[1;32m   1585\u001b[0m \u001b[39mreturn\u001b[39;00m (dmp_inflate(h, J, u, K),\n\u001b[1;32m   1586\u001b[0m         dmp_inflate(cff, J, u, K),\n\u001b[1;32m   1587\u001b[0m         dmp_inflate(cfg, J, u, K))\n",
      "File \u001b[0;32m/Library/Frameworks/Python.framework/Versions/3.10/lib/python3.10/site-packages/sympy/polys/euclidtools.py:1548\u001b[0m, in \u001b[0;36m_dmp_inner_gcd\u001b[0;34m(f, g, u, K)\u001b[0m\n\u001b[1;32m   1545\u001b[0m         \u001b[39mexcept\u001b[39;00m HeuristicGCDFailed:\n\u001b[1;32m   1546\u001b[0m             \u001b[39mpass\u001b[39;00m\n\u001b[0;32m-> 1548\u001b[0m     \u001b[39mreturn\u001b[39;00m dmp_ff_prs_gcd(f, g, u, K)\n\u001b[1;32m   1549\u001b[0m \u001b[39melse\u001b[39;00m:\n\u001b[1;32m   1550\u001b[0m     \u001b[39mif\u001b[39;00m K\u001b[39m.\u001b[39mis_ZZ \u001b[39mand\u001b[39;00m query(\u001b[39m'\u001b[39m\u001b[39mUSE_HEU_GCD\u001b[39m\u001b[39m'\u001b[39m):\n",
      "File \u001b[0;32m/Library/Frameworks/Python.framework/Versions/3.10/lib/python3.10/site-packages/sympy/polys/euclidtools.py:1105\u001b[0m, in \u001b[0;36mdmp_ff_prs_gcd\u001b[0;34m(f, g, u, K)\u001b[0m\n\u001b[1;32m   1102\u001b[0m \u001b[39mif\u001b[39;00m \u001b[39mnot\u001b[39;00m u:\n\u001b[1;32m   1103\u001b[0m     \u001b[39mreturn\u001b[39;00m dup_ff_prs_gcd(f, g, K)\n\u001b[0;32m-> 1105\u001b[0m result \u001b[39m=\u001b[39m _dmp_ff_trivial_gcd(f, g, u, K)\n\u001b[1;32m   1107\u001b[0m \u001b[39mif\u001b[39;00m result \u001b[39mis\u001b[39;00m \u001b[39mnot\u001b[39;00m \u001b[39mNone\u001b[39;00m:\n\u001b[1;32m   1108\u001b[0m     \u001b[39mreturn\u001b[39;00m result\n",
      "File \u001b[0;32m/Library/Frameworks/Python.framework/Versions/3.10/lib/python3.10/site-packages/sympy/polys/euclidtools.py:932\u001b[0m, in \u001b[0;36m_dmp_ff_trivial_gcd\u001b[0;34m(f, g, u, K)\u001b[0m\n\u001b[1;32m    928\u001b[0m     \u001b[39mreturn\u001b[39;00m (dmp_ground_monic(f, u, K),\n\u001b[1;32m    929\u001b[0m             dmp_ground(dmp_ground_LC(f, u, K), u),\n\u001b[1;32m    930\u001b[0m             dmp_zero(u))\n\u001b[1;32m    931\u001b[0m \u001b[39melif\u001b[39;00m query(\u001b[39m'\u001b[39m\u001b[39mUSE_SIMPLIFY_GCD\u001b[39m\u001b[39m'\u001b[39m):\n\u001b[0;32m--> 932\u001b[0m     \u001b[39mreturn\u001b[39;00m _dmp_simplify_gcd(f, g, u, K)\n\u001b[1;32m    933\u001b[0m \u001b[39melse\u001b[39;00m:\n\u001b[1;32m    934\u001b[0m     \u001b[39mreturn\u001b[39;00m \u001b[39mNone\u001b[39;00m\n",
      "File \u001b[0;32m/Library/Frameworks/Python.framework/Versions/3.10/lib/python3.10/site-packages/sympy/polys/euclidtools.py:951\u001b[0m, in \u001b[0;36m_dmp_simplify_gcd\u001b[0;34m(f, g, u, K)\u001b[0m\n\u001b[1;32m    949\u001b[0m \u001b[39mif\u001b[39;00m \u001b[39mnot\u001b[39;00m df:\n\u001b[1;32m    950\u001b[0m     F \u001b[39m=\u001b[39m dmp_LC(f, K)\n\u001b[0;32m--> 951\u001b[0m     G \u001b[39m=\u001b[39m dmp_content(g, u, K)\n\u001b[1;32m    952\u001b[0m \u001b[39melse\u001b[39;00m:\n\u001b[1;32m    953\u001b[0m     F \u001b[39m=\u001b[39m dmp_content(f, u, K)\n",
      "File \u001b[0;32m/Library/Frameworks/Python.framework/Versions/3.10/lib/python3.10/site-packages/sympy/polys/euclidtools.py:1792\u001b[0m, in \u001b[0;36mdmp_content\u001b[0;34m(f, u, K)\u001b[0m\n\u001b[1;32m   1789\u001b[0m     \u001b[39mreturn\u001b[39;00m cont\n\u001b[1;32m   1791\u001b[0m \u001b[39mfor\u001b[39;00m c \u001b[39min\u001b[39;00m f[\u001b[39m1\u001b[39m:]:\n\u001b[0;32m-> 1792\u001b[0m     cont \u001b[39m=\u001b[39m dmp_gcd(cont, c, v, K)\n\u001b[1;32m   1794\u001b[0m     \u001b[39mif\u001b[39;00m dmp_one_p(cont, v, K):\n\u001b[1;32m   1795\u001b[0m         \u001b[39mbreak\u001b[39;00m\n",
      "File \u001b[0;32m/Library/Frameworks/Python.framework/Versions/3.10/lib/python3.10/site-packages/sympy/polys/euclidtools.py:1624\u001b[0m, in \u001b[0;36mdmp_gcd\u001b[0;34m(f, g, u, K)\u001b[0m\n\u001b[1;32m   1607\u001b[0m \u001b[39mdef\u001b[39;00m \u001b[39mdmp_gcd\u001b[39m(f, g, u, K):\n\u001b[1;32m   1608\u001b[0m     \u001b[39m\"\"\"\u001b[39;00m\n\u001b[1;32m   1609\u001b[0m \u001b[39m    Computes polynomial GCD of `f` and `g` in `K[X]`.\u001b[39;00m\n\u001b[1;32m   1610\u001b[0m \n\u001b[0;32m   (...)\u001b[0m\n\u001b[1;32m   1622\u001b[0m \n\u001b[1;32m   1623\u001b[0m \u001b[39m    \"\"\"\u001b[39;00m\n\u001b[0;32m-> 1624\u001b[0m     \u001b[39mreturn\u001b[39;00m dmp_inner_gcd(f, g, u, K)[\u001b[39m0\u001b[39m]\n",
      "File \u001b[0;32m/Library/Frameworks/Python.framework/Versions/3.10/lib/python3.10/site-packages/sympy/polys/euclidtools.py:1583\u001b[0m, in \u001b[0;36mdmp_inner_gcd\u001b[0;34m(f, g, u, K)\u001b[0m\n\u001b[1;32m   1580\u001b[0m     \u001b[39mreturn\u001b[39;00m dup_inner_gcd(f, g, K)\n\u001b[1;32m   1582\u001b[0m J, (f, g) \u001b[39m=\u001b[39m dmp_multi_deflate((f, g), u, K)\n\u001b[0;32m-> 1583\u001b[0m h, cff, cfg \u001b[39m=\u001b[39m _dmp_inner_gcd(f, g, u, K)\n\u001b[1;32m   1585\u001b[0m \u001b[39mreturn\u001b[39;00m (dmp_inflate(h, J, u, K),\n\u001b[1;32m   1586\u001b[0m         dmp_inflate(cff, J, u, K),\n\u001b[1;32m   1587\u001b[0m         dmp_inflate(cfg, J, u, K))\n",
      "File \u001b[0;32m/Library/Frameworks/Python.framework/Versions/3.10/lib/python3.10/site-packages/sympy/polys/euclidtools.py:1548\u001b[0m, in \u001b[0;36m_dmp_inner_gcd\u001b[0;34m(f, g, u, K)\u001b[0m\n\u001b[1;32m   1545\u001b[0m         \u001b[39mexcept\u001b[39;00m HeuristicGCDFailed:\n\u001b[1;32m   1546\u001b[0m             \u001b[39mpass\u001b[39;00m\n\u001b[0;32m-> 1548\u001b[0m     \u001b[39mreturn\u001b[39;00m dmp_ff_prs_gcd(f, g, u, K)\n\u001b[1;32m   1549\u001b[0m \u001b[39melse\u001b[39;00m:\n\u001b[1;32m   1550\u001b[0m     \u001b[39mif\u001b[39;00m K\u001b[39m.\u001b[39mis_ZZ \u001b[39mand\u001b[39;00m query(\u001b[39m'\u001b[39m\u001b[39mUSE_HEU_GCD\u001b[39m\u001b[39m'\u001b[39m):\n",
      "File \u001b[0;32m/Library/Frameworks/Python.framework/Versions/3.10/lib/python3.10/site-packages/sympy/polys/euclidtools.py:1105\u001b[0m, in \u001b[0;36mdmp_ff_prs_gcd\u001b[0;34m(f, g, u, K)\u001b[0m\n\u001b[1;32m   1102\u001b[0m \u001b[39mif\u001b[39;00m \u001b[39mnot\u001b[39;00m u:\n\u001b[1;32m   1103\u001b[0m     \u001b[39mreturn\u001b[39;00m dup_ff_prs_gcd(f, g, K)\n\u001b[0;32m-> 1105\u001b[0m result \u001b[39m=\u001b[39m _dmp_ff_trivial_gcd(f, g, u, K)\n\u001b[1;32m   1107\u001b[0m \u001b[39mif\u001b[39;00m result \u001b[39mis\u001b[39;00m \u001b[39mnot\u001b[39;00m \u001b[39mNone\u001b[39;00m:\n\u001b[1;32m   1108\u001b[0m     \u001b[39mreturn\u001b[39;00m result\n",
      "File \u001b[0;32m/Library/Frameworks/Python.framework/Versions/3.10/lib/python3.10/site-packages/sympy/polys/euclidtools.py:932\u001b[0m, in \u001b[0;36m_dmp_ff_trivial_gcd\u001b[0;34m(f, g, u, K)\u001b[0m\n\u001b[1;32m    928\u001b[0m     \u001b[39mreturn\u001b[39;00m (dmp_ground_monic(f, u, K),\n\u001b[1;32m    929\u001b[0m             dmp_ground(dmp_ground_LC(f, u, K), u),\n\u001b[1;32m    930\u001b[0m             dmp_zero(u))\n\u001b[1;32m    931\u001b[0m \u001b[39melif\u001b[39;00m query(\u001b[39m'\u001b[39m\u001b[39mUSE_SIMPLIFY_GCD\u001b[39m\u001b[39m'\u001b[39m):\n\u001b[0;32m--> 932\u001b[0m     \u001b[39mreturn\u001b[39;00m _dmp_simplify_gcd(f, g, u, K)\n\u001b[1;32m    933\u001b[0m \u001b[39melse\u001b[39;00m:\n\u001b[1;32m    934\u001b[0m     \u001b[39mreturn\u001b[39;00m \u001b[39mNone\u001b[39;00m\n",
      "File \u001b[0;32m/Library/Frameworks/Python.framework/Versions/3.10/lib/python3.10/site-packages/sympy/polys/euclidtools.py:957\u001b[0m, in \u001b[0;36m_dmp_simplify_gcd\u001b[0;34m(f, g, u, K)\u001b[0m\n\u001b[1;32m    954\u001b[0m         G \u001b[39m=\u001b[39m dmp_LC(g, K)\n\u001b[1;32m    956\u001b[0m v \u001b[39m=\u001b[39m u \u001b[39m-\u001b[39m \u001b[39m1\u001b[39m\n\u001b[0;32m--> 957\u001b[0m h \u001b[39m=\u001b[39m dmp_gcd(F, G, v, K)\n\u001b[1;32m    959\u001b[0m cff \u001b[39m=\u001b[39m [ dmp_quo(cf, h, v, K) \u001b[39mfor\u001b[39;00m cf \u001b[39min\u001b[39;00m f ]\n\u001b[1;32m    960\u001b[0m cfg \u001b[39m=\u001b[39m [ dmp_quo(cg, h, v, K) \u001b[39mfor\u001b[39;00m cg \u001b[39min\u001b[39;00m g ]\n",
      "File \u001b[0;32m/Library/Frameworks/Python.framework/Versions/3.10/lib/python3.10/site-packages/sympy/polys/euclidtools.py:1624\u001b[0m, in \u001b[0;36mdmp_gcd\u001b[0;34m(f, g, u, K)\u001b[0m\n\u001b[1;32m   1607\u001b[0m \u001b[39mdef\u001b[39;00m \u001b[39mdmp_gcd\u001b[39m(f, g, u, K):\n\u001b[1;32m   1608\u001b[0m     \u001b[39m\"\"\"\u001b[39;00m\n\u001b[1;32m   1609\u001b[0m \u001b[39m    Computes polynomial GCD of `f` and `g` in `K[X]`.\u001b[39;00m\n\u001b[1;32m   1610\u001b[0m \n\u001b[0;32m   (...)\u001b[0m\n\u001b[1;32m   1622\u001b[0m \n\u001b[1;32m   1623\u001b[0m \u001b[39m    \"\"\"\u001b[39;00m\n\u001b[0;32m-> 1624\u001b[0m     \u001b[39mreturn\u001b[39;00m dmp_inner_gcd(f, g, u, K)[\u001b[39m0\u001b[39m]\n",
      "File \u001b[0;32m/Library/Frameworks/Python.framework/Versions/3.10/lib/python3.10/site-packages/sympy/polys/euclidtools.py:1583\u001b[0m, in \u001b[0;36mdmp_inner_gcd\u001b[0;34m(f, g, u, K)\u001b[0m\n\u001b[1;32m   1580\u001b[0m     \u001b[39mreturn\u001b[39;00m dup_inner_gcd(f, g, K)\n\u001b[1;32m   1582\u001b[0m J, (f, g) \u001b[39m=\u001b[39m dmp_multi_deflate((f, g), u, K)\n\u001b[0;32m-> 1583\u001b[0m h, cff, cfg \u001b[39m=\u001b[39m _dmp_inner_gcd(f, g, u, K)\n\u001b[1;32m   1585\u001b[0m \u001b[39mreturn\u001b[39;00m (dmp_inflate(h, J, u, K),\n\u001b[1;32m   1586\u001b[0m         dmp_inflate(cff, J, u, K),\n\u001b[1;32m   1587\u001b[0m         dmp_inflate(cfg, J, u, K))\n",
      "File \u001b[0;32m/Library/Frameworks/Python.framework/Versions/3.10/lib/python3.10/site-packages/sympy/polys/euclidtools.py:1548\u001b[0m, in \u001b[0;36m_dmp_inner_gcd\u001b[0;34m(f, g, u, K)\u001b[0m\n\u001b[1;32m   1545\u001b[0m         \u001b[39mexcept\u001b[39;00m HeuristicGCDFailed:\n\u001b[1;32m   1546\u001b[0m             \u001b[39mpass\u001b[39;00m\n\u001b[0;32m-> 1548\u001b[0m     \u001b[39mreturn\u001b[39;00m dmp_ff_prs_gcd(f, g, u, K)\n\u001b[1;32m   1549\u001b[0m \u001b[39melse\u001b[39;00m:\n\u001b[1;32m   1550\u001b[0m     \u001b[39mif\u001b[39;00m K\u001b[39m.\u001b[39mis_ZZ \u001b[39mand\u001b[39;00m query(\u001b[39m'\u001b[39m\u001b[39mUSE_HEU_GCD\u001b[39m\u001b[39m'\u001b[39m):\n",
      "File \u001b[0;32m/Library/Frameworks/Python.framework/Versions/3.10/lib/python3.10/site-packages/sympy/polys/euclidtools.py:1105\u001b[0m, in \u001b[0;36mdmp_ff_prs_gcd\u001b[0;34m(f, g, u, K)\u001b[0m\n\u001b[1;32m   1102\u001b[0m \u001b[39mif\u001b[39;00m \u001b[39mnot\u001b[39;00m u:\n\u001b[1;32m   1103\u001b[0m     \u001b[39mreturn\u001b[39;00m dup_ff_prs_gcd(f, g, K)\n\u001b[0;32m-> 1105\u001b[0m result \u001b[39m=\u001b[39m _dmp_ff_trivial_gcd(f, g, u, K)\n\u001b[1;32m   1107\u001b[0m \u001b[39mif\u001b[39;00m result \u001b[39mis\u001b[39;00m \u001b[39mnot\u001b[39;00m \u001b[39mNone\u001b[39;00m:\n\u001b[1;32m   1108\u001b[0m     \u001b[39mreturn\u001b[39;00m result\n",
      "File \u001b[0;32m/Library/Frameworks/Python.framework/Versions/3.10/lib/python3.10/site-packages/sympy/polys/euclidtools.py:932\u001b[0m, in \u001b[0;36m_dmp_ff_trivial_gcd\u001b[0;34m(f, g, u, K)\u001b[0m\n\u001b[1;32m    928\u001b[0m     \u001b[39mreturn\u001b[39;00m (dmp_ground_monic(f, u, K),\n\u001b[1;32m    929\u001b[0m             dmp_ground(dmp_ground_LC(f, u, K), u),\n\u001b[1;32m    930\u001b[0m             dmp_zero(u))\n\u001b[1;32m    931\u001b[0m \u001b[39melif\u001b[39;00m query(\u001b[39m'\u001b[39m\u001b[39mUSE_SIMPLIFY_GCD\u001b[39m\u001b[39m'\u001b[39m):\n\u001b[0;32m--> 932\u001b[0m     \u001b[39mreturn\u001b[39;00m _dmp_simplify_gcd(f, g, u, K)\n\u001b[1;32m    933\u001b[0m \u001b[39melse\u001b[39;00m:\n\u001b[1;32m    934\u001b[0m     \u001b[39mreturn\u001b[39;00m \u001b[39mNone\u001b[39;00m\n",
      "File \u001b[0;32m/Library/Frameworks/Python.framework/Versions/3.10/lib/python3.10/site-packages/sympy/polys/euclidtools.py:953\u001b[0m, in \u001b[0;36m_dmp_simplify_gcd\u001b[0;34m(f, g, u, K)\u001b[0m\n\u001b[1;32m    951\u001b[0m         G \u001b[39m=\u001b[39m dmp_content(g, u, K)\n\u001b[1;32m    952\u001b[0m     \u001b[39melse\u001b[39;00m:\n\u001b[0;32m--> 953\u001b[0m         F \u001b[39m=\u001b[39m dmp_content(f, u, K)\n\u001b[1;32m    954\u001b[0m         G \u001b[39m=\u001b[39m dmp_LC(g, K)\n\u001b[1;32m    956\u001b[0m v \u001b[39m=\u001b[39m u \u001b[39m-\u001b[39m \u001b[39m1\u001b[39m\n",
      "File \u001b[0;32m/Library/Frameworks/Python.framework/Versions/3.10/lib/python3.10/site-packages/sympy/polys/euclidtools.py:1792\u001b[0m, in \u001b[0;36mdmp_content\u001b[0;34m(f, u, K)\u001b[0m\n\u001b[1;32m   1789\u001b[0m     \u001b[39mreturn\u001b[39;00m cont\n\u001b[1;32m   1791\u001b[0m \u001b[39mfor\u001b[39;00m c \u001b[39min\u001b[39;00m f[\u001b[39m1\u001b[39m:]:\n\u001b[0;32m-> 1792\u001b[0m     cont \u001b[39m=\u001b[39m dmp_gcd(cont, c, v, K)\n\u001b[1;32m   1794\u001b[0m     \u001b[39mif\u001b[39;00m dmp_one_p(cont, v, K):\n\u001b[1;32m   1795\u001b[0m         \u001b[39mbreak\u001b[39;00m\n",
      "File \u001b[0;32m/Library/Frameworks/Python.framework/Versions/3.10/lib/python3.10/site-packages/sympy/polys/euclidtools.py:1624\u001b[0m, in \u001b[0;36mdmp_gcd\u001b[0;34m(f, g, u, K)\u001b[0m\n\u001b[1;32m   1607\u001b[0m \u001b[39mdef\u001b[39;00m \u001b[39mdmp_gcd\u001b[39m(f, g, u, K):\n\u001b[1;32m   1608\u001b[0m     \u001b[39m\"\"\"\u001b[39;00m\n\u001b[1;32m   1609\u001b[0m \u001b[39m    Computes polynomial GCD of `f` and `g` in `K[X]`.\u001b[39;00m\n\u001b[1;32m   1610\u001b[0m \n\u001b[0;32m   (...)\u001b[0m\n\u001b[1;32m   1622\u001b[0m \n\u001b[1;32m   1623\u001b[0m \u001b[39m    \"\"\"\u001b[39;00m\n\u001b[0;32m-> 1624\u001b[0m     \u001b[39mreturn\u001b[39;00m dmp_inner_gcd(f, g, u, K)[\u001b[39m0\u001b[39m]\n",
      "File \u001b[0;32m/Library/Frameworks/Python.framework/Versions/3.10/lib/python3.10/site-packages/sympy/polys/euclidtools.py:1583\u001b[0m, in \u001b[0;36mdmp_inner_gcd\u001b[0;34m(f, g, u, K)\u001b[0m\n\u001b[1;32m   1580\u001b[0m     \u001b[39mreturn\u001b[39;00m dup_inner_gcd(f, g, K)\n\u001b[1;32m   1582\u001b[0m J, (f, g) \u001b[39m=\u001b[39m dmp_multi_deflate((f, g), u, K)\n\u001b[0;32m-> 1583\u001b[0m h, cff, cfg \u001b[39m=\u001b[39m _dmp_inner_gcd(f, g, u, K)\n\u001b[1;32m   1585\u001b[0m \u001b[39mreturn\u001b[39;00m (dmp_inflate(h, J, u, K),\n\u001b[1;32m   1586\u001b[0m         dmp_inflate(cff, J, u, K),\n\u001b[1;32m   1587\u001b[0m         dmp_inflate(cfg, J, u, K))\n",
      "File \u001b[0;32m/Library/Frameworks/Python.framework/Versions/3.10/lib/python3.10/site-packages/sympy/polys/euclidtools.py:1548\u001b[0m, in \u001b[0;36m_dmp_inner_gcd\u001b[0;34m(f, g, u, K)\u001b[0m\n\u001b[1;32m   1545\u001b[0m         \u001b[39mexcept\u001b[39;00m HeuristicGCDFailed:\n\u001b[1;32m   1546\u001b[0m             \u001b[39mpass\u001b[39;00m\n\u001b[0;32m-> 1548\u001b[0m     \u001b[39mreturn\u001b[39;00m dmp_ff_prs_gcd(f, g, u, K)\n\u001b[1;32m   1549\u001b[0m \u001b[39melse\u001b[39;00m:\n\u001b[1;32m   1550\u001b[0m     \u001b[39mif\u001b[39;00m K\u001b[39m.\u001b[39mis_ZZ \u001b[39mand\u001b[39;00m query(\u001b[39m'\u001b[39m\u001b[39mUSE_HEU_GCD\u001b[39m\u001b[39m'\u001b[39m):\n",
      "File \u001b[0;32m/Library/Frameworks/Python.framework/Versions/3.10/lib/python3.10/site-packages/sympy/polys/euclidtools.py:1110\u001b[0m, in \u001b[0;36mdmp_ff_prs_gcd\u001b[0;34m(f, g, u, K)\u001b[0m\n\u001b[1;32m   1107\u001b[0m \u001b[39mif\u001b[39;00m result \u001b[39mis\u001b[39;00m \u001b[39mnot\u001b[39;00m \u001b[39mNone\u001b[39;00m:\n\u001b[1;32m   1108\u001b[0m     \u001b[39mreturn\u001b[39;00m result\n\u001b[0;32m-> 1110\u001b[0m fc, F \u001b[39m=\u001b[39m dmp_primitive(f, u, K)\n\u001b[1;32m   1111\u001b[0m gc, G \u001b[39m=\u001b[39m dmp_primitive(g, u, K)\n\u001b[1;32m   1113\u001b[0m h \u001b[39m=\u001b[39m dmp_subresultants(F, G, u, K)[\u001b[39m-\u001b[39m\u001b[39m1\u001b[39m]\n",
      "File \u001b[0;32m/Library/Frameworks/Python.framework/Versions/3.10/lib/python3.10/site-packages/sympy/polys/euclidtools.py:1817\u001b[0m, in \u001b[0;36mdmp_primitive\u001b[0;34m(f, u, K)\u001b[0m\n\u001b[1;32m   1803\u001b[0m \u001b[39mdef\u001b[39;00m \u001b[39mdmp_primitive\u001b[39m(f, u, K):\n\u001b[1;32m   1804\u001b[0m     \u001b[39m\"\"\"\u001b[39;00m\n\u001b[1;32m   1805\u001b[0m \u001b[39m    Returns multivariate content and a primitive polynomial.\u001b[39;00m\n\u001b[1;32m   1806\u001b[0m \n\u001b[0;32m   (...)\u001b[0m\n\u001b[1;32m   1815\u001b[0m \n\u001b[1;32m   1816\u001b[0m \u001b[39m    \"\"\"\u001b[39;00m\n\u001b[0;32m-> 1817\u001b[0m     cont, v \u001b[39m=\u001b[39m dmp_content(f, u, K), u \u001b[39m-\u001b[39m \u001b[39m1\u001b[39m\n\u001b[1;32m   1819\u001b[0m     \u001b[39mif\u001b[39;00m dmp_zero_p(f, u) \u001b[39mor\u001b[39;00m dmp_one_p(cont, v, K):\n\u001b[1;32m   1820\u001b[0m         \u001b[39mreturn\u001b[39;00m cont, f\n",
      "File \u001b[0;32m/Library/Frameworks/Python.framework/Versions/3.10/lib/python3.10/site-packages/sympy/polys/euclidtools.py:1792\u001b[0m, in \u001b[0;36mdmp_content\u001b[0;34m(f, u, K)\u001b[0m\n\u001b[1;32m   1789\u001b[0m     \u001b[39mreturn\u001b[39;00m cont\n\u001b[1;32m   1791\u001b[0m \u001b[39mfor\u001b[39;00m c \u001b[39min\u001b[39;00m f[\u001b[39m1\u001b[39m:]:\n\u001b[0;32m-> 1792\u001b[0m     cont \u001b[39m=\u001b[39m dmp_gcd(cont, c, v, K)\n\u001b[1;32m   1794\u001b[0m     \u001b[39mif\u001b[39;00m dmp_one_p(cont, v, K):\n\u001b[1;32m   1795\u001b[0m         \u001b[39mbreak\u001b[39;00m\n",
      "File \u001b[0;32m/Library/Frameworks/Python.framework/Versions/3.10/lib/python3.10/site-packages/sympy/polys/euclidtools.py:1624\u001b[0m, in \u001b[0;36mdmp_gcd\u001b[0;34m(f, g, u, K)\u001b[0m\n\u001b[1;32m   1607\u001b[0m \u001b[39mdef\u001b[39;00m \u001b[39mdmp_gcd\u001b[39m(f, g, u, K):\n\u001b[1;32m   1608\u001b[0m     \u001b[39m\"\"\"\u001b[39;00m\n\u001b[1;32m   1609\u001b[0m \u001b[39m    Computes polynomial GCD of `f` and `g` in `K[X]`.\u001b[39;00m\n\u001b[1;32m   1610\u001b[0m \n\u001b[0;32m   (...)\u001b[0m\n\u001b[1;32m   1622\u001b[0m \n\u001b[1;32m   1623\u001b[0m \u001b[39m    \"\"\"\u001b[39;00m\n\u001b[0;32m-> 1624\u001b[0m     \u001b[39mreturn\u001b[39;00m dmp_inner_gcd(f, g, u, K)[\u001b[39m0\u001b[39m]\n",
      "File \u001b[0;32m/Library/Frameworks/Python.framework/Versions/3.10/lib/python3.10/site-packages/sympy/polys/euclidtools.py:1583\u001b[0m, in \u001b[0;36mdmp_inner_gcd\u001b[0;34m(f, g, u, K)\u001b[0m\n\u001b[1;32m   1580\u001b[0m     \u001b[39mreturn\u001b[39;00m dup_inner_gcd(f, g, K)\n\u001b[1;32m   1582\u001b[0m J, (f, g) \u001b[39m=\u001b[39m dmp_multi_deflate((f, g), u, K)\n\u001b[0;32m-> 1583\u001b[0m h, cff, cfg \u001b[39m=\u001b[39m _dmp_inner_gcd(f, g, u, K)\n\u001b[1;32m   1585\u001b[0m \u001b[39mreturn\u001b[39;00m (dmp_inflate(h, J, u, K),\n\u001b[1;32m   1586\u001b[0m         dmp_inflate(cff, J, u, K),\n\u001b[1;32m   1587\u001b[0m         dmp_inflate(cfg, J, u, K))\n",
      "File \u001b[0;32m/Library/Frameworks/Python.framework/Versions/3.10/lib/python3.10/site-packages/sympy/polys/euclidtools.py:1548\u001b[0m, in \u001b[0;36m_dmp_inner_gcd\u001b[0;34m(f, g, u, K)\u001b[0m\n\u001b[1;32m   1545\u001b[0m         \u001b[39mexcept\u001b[39;00m HeuristicGCDFailed:\n\u001b[1;32m   1546\u001b[0m             \u001b[39mpass\u001b[39;00m\n\u001b[0;32m-> 1548\u001b[0m     \u001b[39mreturn\u001b[39;00m dmp_ff_prs_gcd(f, g, u, K)\n\u001b[1;32m   1549\u001b[0m \u001b[39melse\u001b[39;00m:\n\u001b[1;32m   1550\u001b[0m     \u001b[39mif\u001b[39;00m K\u001b[39m.\u001b[39mis_ZZ \u001b[39mand\u001b[39;00m query(\u001b[39m'\u001b[39m\u001b[39mUSE_HEU_GCD\u001b[39m\u001b[39m'\u001b[39m):\n",
      "File \u001b[0;32m/Library/Frameworks/Python.framework/Versions/3.10/lib/python3.10/site-packages/sympy/polys/euclidtools.py:1105\u001b[0m, in \u001b[0;36mdmp_ff_prs_gcd\u001b[0;34m(f, g, u, K)\u001b[0m\n\u001b[1;32m   1102\u001b[0m \u001b[39mif\u001b[39;00m \u001b[39mnot\u001b[39;00m u:\n\u001b[1;32m   1103\u001b[0m     \u001b[39mreturn\u001b[39;00m dup_ff_prs_gcd(f, g, K)\n\u001b[0;32m-> 1105\u001b[0m result \u001b[39m=\u001b[39m _dmp_ff_trivial_gcd(f, g, u, K)\n\u001b[1;32m   1107\u001b[0m \u001b[39mif\u001b[39;00m result \u001b[39mis\u001b[39;00m \u001b[39mnot\u001b[39;00m \u001b[39mNone\u001b[39;00m:\n\u001b[1;32m   1108\u001b[0m     \u001b[39mreturn\u001b[39;00m result\n",
      "File \u001b[0;32m/Library/Frameworks/Python.framework/Versions/3.10/lib/python3.10/site-packages/sympy/polys/euclidtools.py:932\u001b[0m, in \u001b[0;36m_dmp_ff_trivial_gcd\u001b[0;34m(f, g, u, K)\u001b[0m\n\u001b[1;32m    928\u001b[0m     \u001b[39mreturn\u001b[39;00m (dmp_ground_monic(f, u, K),\n\u001b[1;32m    929\u001b[0m             dmp_ground(dmp_ground_LC(f, u, K), u),\n\u001b[1;32m    930\u001b[0m             dmp_zero(u))\n\u001b[1;32m    931\u001b[0m \u001b[39melif\u001b[39;00m query(\u001b[39m'\u001b[39m\u001b[39mUSE_SIMPLIFY_GCD\u001b[39m\u001b[39m'\u001b[39m):\n\u001b[0;32m--> 932\u001b[0m     \u001b[39mreturn\u001b[39;00m _dmp_simplify_gcd(f, g, u, K)\n\u001b[1;32m    933\u001b[0m \u001b[39melse\u001b[39;00m:\n\u001b[1;32m    934\u001b[0m     \u001b[39mreturn\u001b[39;00m \u001b[39mNone\u001b[39;00m\n",
      "File \u001b[0;32m/Library/Frameworks/Python.framework/Versions/3.10/lib/python3.10/site-packages/sympy/polys/euclidtools.py:957\u001b[0m, in \u001b[0;36m_dmp_simplify_gcd\u001b[0;34m(f, g, u, K)\u001b[0m\n\u001b[1;32m    954\u001b[0m         G \u001b[39m=\u001b[39m dmp_LC(g, K)\n\u001b[1;32m    956\u001b[0m v \u001b[39m=\u001b[39m u \u001b[39m-\u001b[39m \u001b[39m1\u001b[39m\n\u001b[0;32m--> 957\u001b[0m h \u001b[39m=\u001b[39m dmp_gcd(F, G, v, K)\n\u001b[1;32m    959\u001b[0m cff \u001b[39m=\u001b[39m [ dmp_quo(cf, h, v, K) \u001b[39mfor\u001b[39;00m cf \u001b[39min\u001b[39;00m f ]\n\u001b[1;32m    960\u001b[0m cfg \u001b[39m=\u001b[39m [ dmp_quo(cg, h, v, K) \u001b[39mfor\u001b[39;00m cg \u001b[39min\u001b[39;00m g ]\n",
      "File \u001b[0;32m/Library/Frameworks/Python.framework/Versions/3.10/lib/python3.10/site-packages/sympy/polys/euclidtools.py:1624\u001b[0m, in \u001b[0;36mdmp_gcd\u001b[0;34m(f, g, u, K)\u001b[0m\n\u001b[1;32m   1607\u001b[0m \u001b[39mdef\u001b[39;00m \u001b[39mdmp_gcd\u001b[39m(f, g, u, K):\n\u001b[1;32m   1608\u001b[0m     \u001b[39m\"\"\"\u001b[39;00m\n\u001b[1;32m   1609\u001b[0m \u001b[39m    Computes polynomial GCD of `f` and `g` in `K[X]`.\u001b[39;00m\n\u001b[1;32m   1610\u001b[0m \n\u001b[0;32m   (...)\u001b[0m\n\u001b[1;32m   1622\u001b[0m \n\u001b[1;32m   1623\u001b[0m \u001b[39m    \"\"\"\u001b[39;00m\n\u001b[0;32m-> 1624\u001b[0m     \u001b[39mreturn\u001b[39;00m dmp_inner_gcd(f, g, u, K)[\u001b[39m0\u001b[39m]\n",
      "File \u001b[0;32m/Library/Frameworks/Python.framework/Versions/3.10/lib/python3.10/site-packages/sympy/polys/euclidtools.py:1583\u001b[0m, in \u001b[0;36mdmp_inner_gcd\u001b[0;34m(f, g, u, K)\u001b[0m\n\u001b[1;32m   1580\u001b[0m     \u001b[39mreturn\u001b[39;00m dup_inner_gcd(f, g, K)\n\u001b[1;32m   1582\u001b[0m J, (f, g) \u001b[39m=\u001b[39m dmp_multi_deflate((f, g), u, K)\n\u001b[0;32m-> 1583\u001b[0m h, cff, cfg \u001b[39m=\u001b[39m _dmp_inner_gcd(f, g, u, K)\n\u001b[1;32m   1585\u001b[0m \u001b[39mreturn\u001b[39;00m (dmp_inflate(h, J, u, K),\n\u001b[1;32m   1586\u001b[0m         dmp_inflate(cff, J, u, K),\n\u001b[1;32m   1587\u001b[0m         dmp_inflate(cfg, J, u, K))\n",
      "File \u001b[0;32m/Library/Frameworks/Python.framework/Versions/3.10/lib/python3.10/site-packages/sympy/polys/euclidtools.py:1548\u001b[0m, in \u001b[0;36m_dmp_inner_gcd\u001b[0;34m(f, g, u, K)\u001b[0m\n\u001b[1;32m   1545\u001b[0m         \u001b[39mexcept\u001b[39;00m HeuristicGCDFailed:\n\u001b[1;32m   1546\u001b[0m             \u001b[39mpass\u001b[39;00m\n\u001b[0;32m-> 1548\u001b[0m     \u001b[39mreturn\u001b[39;00m dmp_ff_prs_gcd(f, g, u, K)\n\u001b[1;32m   1549\u001b[0m \u001b[39melse\u001b[39;00m:\n\u001b[1;32m   1550\u001b[0m     \u001b[39mif\u001b[39;00m K\u001b[39m.\u001b[39mis_ZZ \u001b[39mand\u001b[39;00m query(\u001b[39m'\u001b[39m\u001b[39mUSE_HEU_GCD\u001b[39m\u001b[39m'\u001b[39m):\n",
      "File \u001b[0;32m/Library/Frameworks/Python.framework/Versions/3.10/lib/python3.10/site-packages/sympy/polys/euclidtools.py:1105\u001b[0m, in \u001b[0;36mdmp_ff_prs_gcd\u001b[0;34m(f, g, u, K)\u001b[0m\n\u001b[1;32m   1102\u001b[0m \u001b[39mif\u001b[39;00m \u001b[39mnot\u001b[39;00m u:\n\u001b[1;32m   1103\u001b[0m     \u001b[39mreturn\u001b[39;00m dup_ff_prs_gcd(f, g, K)\n\u001b[0;32m-> 1105\u001b[0m result \u001b[39m=\u001b[39m _dmp_ff_trivial_gcd(f, g, u, K)\n\u001b[1;32m   1107\u001b[0m \u001b[39mif\u001b[39;00m result \u001b[39mis\u001b[39;00m \u001b[39mnot\u001b[39;00m \u001b[39mNone\u001b[39;00m:\n\u001b[1;32m   1108\u001b[0m     \u001b[39mreturn\u001b[39;00m result\n",
      "File \u001b[0;32m/Library/Frameworks/Python.framework/Versions/3.10/lib/python3.10/site-packages/sympy/polys/euclidtools.py:932\u001b[0m, in \u001b[0;36m_dmp_ff_trivial_gcd\u001b[0;34m(f, g, u, K)\u001b[0m\n\u001b[1;32m    928\u001b[0m     \u001b[39mreturn\u001b[39;00m (dmp_ground_monic(f, u, K),\n\u001b[1;32m    929\u001b[0m             dmp_ground(dmp_ground_LC(f, u, K), u),\n\u001b[1;32m    930\u001b[0m             dmp_zero(u))\n\u001b[1;32m    931\u001b[0m \u001b[39melif\u001b[39;00m query(\u001b[39m'\u001b[39m\u001b[39mUSE_SIMPLIFY_GCD\u001b[39m\u001b[39m'\u001b[39m):\n\u001b[0;32m--> 932\u001b[0m     \u001b[39mreturn\u001b[39;00m _dmp_simplify_gcd(f, g, u, K)\n\u001b[1;32m    933\u001b[0m \u001b[39melse\u001b[39;00m:\n\u001b[1;32m    934\u001b[0m     \u001b[39mreturn\u001b[39;00m \u001b[39mNone\u001b[39;00m\n",
      "File \u001b[0;32m/Library/Frameworks/Python.framework/Versions/3.10/lib/python3.10/site-packages/sympy/polys/euclidtools.py:957\u001b[0m, in \u001b[0;36m_dmp_simplify_gcd\u001b[0;34m(f, g, u, K)\u001b[0m\n\u001b[1;32m    954\u001b[0m         G \u001b[39m=\u001b[39m dmp_LC(g, K)\n\u001b[1;32m    956\u001b[0m v \u001b[39m=\u001b[39m u \u001b[39m-\u001b[39m \u001b[39m1\u001b[39m\n\u001b[0;32m--> 957\u001b[0m h \u001b[39m=\u001b[39m dmp_gcd(F, G, v, K)\n\u001b[1;32m    959\u001b[0m cff \u001b[39m=\u001b[39m [ dmp_quo(cf, h, v, K) \u001b[39mfor\u001b[39;00m cf \u001b[39min\u001b[39;00m f ]\n\u001b[1;32m    960\u001b[0m cfg \u001b[39m=\u001b[39m [ dmp_quo(cg, h, v, K) \u001b[39mfor\u001b[39;00m cg \u001b[39min\u001b[39;00m g ]\n",
      "File \u001b[0;32m/Library/Frameworks/Python.framework/Versions/3.10/lib/python3.10/site-packages/sympy/polys/euclidtools.py:1624\u001b[0m, in \u001b[0;36mdmp_gcd\u001b[0;34m(f, g, u, K)\u001b[0m\n\u001b[1;32m   1607\u001b[0m \u001b[39mdef\u001b[39;00m \u001b[39mdmp_gcd\u001b[39m(f, g, u, K):\n\u001b[1;32m   1608\u001b[0m     \u001b[39m\"\"\"\u001b[39;00m\n\u001b[1;32m   1609\u001b[0m \u001b[39m    Computes polynomial GCD of `f` and `g` in `K[X]`.\u001b[39;00m\n\u001b[1;32m   1610\u001b[0m \n\u001b[0;32m   (...)\u001b[0m\n\u001b[1;32m   1622\u001b[0m \n\u001b[1;32m   1623\u001b[0m \u001b[39m    \"\"\"\u001b[39;00m\n\u001b[0;32m-> 1624\u001b[0m     \u001b[39mreturn\u001b[39;00m dmp_inner_gcd(f, g, u, K)[\u001b[39m0\u001b[39m]\n",
      "File \u001b[0;32m/Library/Frameworks/Python.framework/Versions/3.10/lib/python3.10/site-packages/sympy/polys/euclidtools.py:1583\u001b[0m, in \u001b[0;36mdmp_inner_gcd\u001b[0;34m(f, g, u, K)\u001b[0m\n\u001b[1;32m   1580\u001b[0m     \u001b[39mreturn\u001b[39;00m dup_inner_gcd(f, g, K)\n\u001b[1;32m   1582\u001b[0m J, (f, g) \u001b[39m=\u001b[39m dmp_multi_deflate((f, g), u, K)\n\u001b[0;32m-> 1583\u001b[0m h, cff, cfg \u001b[39m=\u001b[39m _dmp_inner_gcd(f, g, u, K)\n\u001b[1;32m   1585\u001b[0m \u001b[39mreturn\u001b[39;00m (dmp_inflate(h, J, u, K),\n\u001b[1;32m   1586\u001b[0m         dmp_inflate(cff, J, u, K),\n\u001b[1;32m   1587\u001b[0m         dmp_inflate(cfg, J, u, K))\n",
      "File \u001b[0;32m/Library/Frameworks/Python.framework/Versions/3.10/lib/python3.10/site-packages/sympy/polys/euclidtools.py:1548\u001b[0m, in \u001b[0;36m_dmp_inner_gcd\u001b[0;34m(f, g, u, K)\u001b[0m\n\u001b[1;32m   1545\u001b[0m         \u001b[39mexcept\u001b[39;00m HeuristicGCDFailed:\n\u001b[1;32m   1546\u001b[0m             \u001b[39mpass\u001b[39;00m\n\u001b[0;32m-> 1548\u001b[0m     \u001b[39mreturn\u001b[39;00m dmp_ff_prs_gcd(f, g, u, K)\n\u001b[1;32m   1549\u001b[0m \u001b[39melse\u001b[39;00m:\n\u001b[1;32m   1550\u001b[0m     \u001b[39mif\u001b[39;00m K\u001b[39m.\u001b[39mis_ZZ \u001b[39mand\u001b[39;00m query(\u001b[39m'\u001b[39m\u001b[39mUSE_HEU_GCD\u001b[39m\u001b[39m'\u001b[39m):\n",
      "File \u001b[0;32m/Library/Frameworks/Python.framework/Versions/3.10/lib/python3.10/site-packages/sympy/polys/euclidtools.py:1114\u001b[0m, in \u001b[0;36mdmp_ff_prs_gcd\u001b[0;34m(f, g, u, K)\u001b[0m\n\u001b[1;32m   1111\u001b[0m gc, G \u001b[39m=\u001b[39m dmp_primitive(g, u, K)\n\u001b[1;32m   1113\u001b[0m h \u001b[39m=\u001b[39m dmp_subresultants(F, G, u, K)[\u001b[39m-\u001b[39m\u001b[39m1\u001b[39m]\n\u001b[0;32m-> 1114\u001b[0m c, _, _ \u001b[39m=\u001b[39m dmp_ff_prs_gcd(fc, gc, u \u001b[39m-\u001b[39;49m \u001b[39m1\u001b[39;49m, K)\n\u001b[1;32m   1116\u001b[0m _, h \u001b[39m=\u001b[39m dmp_primitive(h, u, K)\n\u001b[1;32m   1117\u001b[0m h \u001b[39m=\u001b[39m dmp_mul_term(h, c, \u001b[39m0\u001b[39m, u, K)\n",
      "File \u001b[0;32m/Library/Frameworks/Python.framework/Versions/3.10/lib/python3.10/site-packages/sympy/polys/euclidtools.py:1105\u001b[0m, in \u001b[0;36mdmp_ff_prs_gcd\u001b[0;34m(f, g, u, K)\u001b[0m\n\u001b[1;32m   1102\u001b[0m \u001b[39mif\u001b[39;00m \u001b[39mnot\u001b[39;00m u:\n\u001b[1;32m   1103\u001b[0m     \u001b[39mreturn\u001b[39;00m dup_ff_prs_gcd(f, g, K)\n\u001b[0;32m-> 1105\u001b[0m result \u001b[39m=\u001b[39m _dmp_ff_trivial_gcd(f, g, u, K)\n\u001b[1;32m   1107\u001b[0m \u001b[39mif\u001b[39;00m result \u001b[39mis\u001b[39;00m \u001b[39mnot\u001b[39;00m \u001b[39mNone\u001b[39;00m:\n\u001b[1;32m   1108\u001b[0m     \u001b[39mreturn\u001b[39;00m result\n",
      "File \u001b[0;32m/Library/Frameworks/Python.framework/Versions/3.10/lib/python3.10/site-packages/sympy/polys/euclidtools.py:932\u001b[0m, in \u001b[0;36m_dmp_ff_trivial_gcd\u001b[0;34m(f, g, u, K)\u001b[0m\n\u001b[1;32m    928\u001b[0m     \u001b[39mreturn\u001b[39;00m (dmp_ground_monic(f, u, K),\n\u001b[1;32m    929\u001b[0m             dmp_ground(dmp_ground_LC(f, u, K), u),\n\u001b[1;32m    930\u001b[0m             dmp_zero(u))\n\u001b[1;32m    931\u001b[0m \u001b[39melif\u001b[39;00m query(\u001b[39m'\u001b[39m\u001b[39mUSE_SIMPLIFY_GCD\u001b[39m\u001b[39m'\u001b[39m):\n\u001b[0;32m--> 932\u001b[0m     \u001b[39mreturn\u001b[39;00m _dmp_simplify_gcd(f, g, u, K)\n\u001b[1;32m    933\u001b[0m \u001b[39melse\u001b[39;00m:\n\u001b[1;32m    934\u001b[0m     \u001b[39mreturn\u001b[39;00m \u001b[39mNone\u001b[39;00m\n",
      "File \u001b[0;32m/Library/Frameworks/Python.framework/Versions/3.10/lib/python3.10/site-packages/sympy/polys/euclidtools.py:960\u001b[0m, in \u001b[0;36m_dmp_simplify_gcd\u001b[0;34m(f, g, u, K)\u001b[0m\n\u001b[1;32m    957\u001b[0m h \u001b[39m=\u001b[39m dmp_gcd(F, G, v, K)\n\u001b[1;32m    959\u001b[0m cff \u001b[39m=\u001b[39m [ dmp_quo(cf, h, v, K) \u001b[39mfor\u001b[39;00m cf \u001b[39min\u001b[39;00m f ]\n\u001b[0;32m--> 960\u001b[0m cfg \u001b[39m=\u001b[39m [ dmp_quo(cg, h, v, K) \u001b[39mfor\u001b[39;00m cg \u001b[39min\u001b[39;00m g ]\n\u001b[1;32m    962\u001b[0m \u001b[39mreturn\u001b[39;00m [h], cff, cfg\n",
      "File \u001b[0;32m/Library/Frameworks/Python.framework/Versions/3.10/lib/python3.10/site-packages/sympy/polys/euclidtools.py:960\u001b[0m, in \u001b[0;36m<listcomp>\u001b[0;34m(.0)\u001b[0m\n\u001b[1;32m    957\u001b[0m h \u001b[39m=\u001b[39m dmp_gcd(F, G, v, K)\n\u001b[1;32m    959\u001b[0m cff \u001b[39m=\u001b[39m [ dmp_quo(cf, h, v, K) \u001b[39mfor\u001b[39;00m cf \u001b[39min\u001b[39;00m f ]\n\u001b[0;32m--> 960\u001b[0m cfg \u001b[39m=\u001b[39m [ dmp_quo(cg, h, v, K) \u001b[39mfor\u001b[39;00m cg \u001b[39min\u001b[39;00m g ]\n\u001b[1;32m    962\u001b[0m \u001b[39mreturn\u001b[39;00m [h], cff, cfg\n",
      "File \u001b[0;32m/Library/Frameworks/Python.framework/Versions/3.10/lib/python3.10/site-packages/sympy/polys/densearith.py:1671\u001b[0m, in \u001b[0;36mdmp_quo\u001b[0;34m(f, g, u, K)\u001b[0m\n\u001b[1;32m   1653\u001b[0m \u001b[39mdef\u001b[39;00m \u001b[39mdmp_quo\u001b[39m(f, g, u, K):\n\u001b[1;32m   1654\u001b[0m     \u001b[39m\"\"\"\u001b[39;00m\n\u001b[1;32m   1655\u001b[0m \u001b[39m    Returns exact polynomial quotient in ``K[X]``.\u001b[39;00m\n\u001b[1;32m   1656\u001b[0m \n\u001b[0;32m   (...)\u001b[0m\n\u001b[1;32m   1669\u001b[0m \n\u001b[1;32m   1670\u001b[0m \u001b[39m    \"\"\"\u001b[39;00m\n\u001b[0;32m-> 1671\u001b[0m     \u001b[39mreturn\u001b[39;00m dmp_div(f, g, u, K)[\u001b[39m0\u001b[39m]\n",
      "File \u001b[0;32m/Library/Frameworks/Python.framework/Versions/3.10/lib/python3.10/site-packages/sympy/polys/densearith.py:1627\u001b[0m, in \u001b[0;36mdmp_div\u001b[0;34m(f, g, u, K)\u001b[0m\n\u001b[1;32m   1609\u001b[0m \u001b[39m\"\"\"\u001b[39;00m\n\u001b[1;32m   1610\u001b[0m \u001b[39mPolynomial division with remainder in ``K[X]``.\u001b[39;00m\n\u001b[1;32m   1611\u001b[0m \n\u001b[0;32m   (...)\u001b[0m\n\u001b[1;32m   1624\u001b[0m \n\u001b[1;32m   1625\u001b[0m \u001b[39m\"\"\"\u001b[39;00m\n\u001b[1;32m   1626\u001b[0m \u001b[39mif\u001b[39;00m K\u001b[39m.\u001b[39mis_Field:\n\u001b[0;32m-> 1627\u001b[0m     \u001b[39mreturn\u001b[39;00m dmp_ff_div(f, g, u, K)\n\u001b[1;32m   1628\u001b[0m \u001b[39melse\u001b[39;00m:\n\u001b[1;32m   1629\u001b[0m     \u001b[39mreturn\u001b[39;00m dmp_rr_div(f, g, u, K)\n",
      "File \u001b[0;32m/Library/Frameworks/Python.framework/Versions/3.10/lib/python3.10/site-packages/sympy/polys/densearith.py:1494\u001b[0m, in \u001b[0;36mdmp_ff_div\u001b[0;34m(f, g, u, K)\u001b[0m\n\u001b[1;32m   1492\u001b[0m \u001b[39mwhile\u001b[39;00m \u001b[39mTrue\u001b[39;00m:\n\u001b[1;32m   1493\u001b[0m     lc_r \u001b[39m=\u001b[39m dmp_LC(r, K)\n\u001b[0;32m-> 1494\u001b[0m     c, R \u001b[39m=\u001b[39m dmp_ff_div(lc_r, lc_g, v, K)\n\u001b[1;32m   1496\u001b[0m     \u001b[39mif\u001b[39;00m \u001b[39mnot\u001b[39;00m dmp_zero_p(R, v):\n\u001b[1;32m   1497\u001b[0m         \u001b[39mbreak\u001b[39;00m\n",
      "File \u001b[0;32m/Library/Frameworks/Python.framework/Versions/3.10/lib/python3.10/site-packages/sympy/polys/densearith.py:1494\u001b[0m, in \u001b[0;36mdmp_ff_div\u001b[0;34m(f, g, u, K)\u001b[0m\n\u001b[1;32m   1492\u001b[0m \u001b[39mwhile\u001b[39;00m \u001b[39mTrue\u001b[39;00m:\n\u001b[1;32m   1493\u001b[0m     lc_r \u001b[39m=\u001b[39m dmp_LC(r, K)\n\u001b[0;32m-> 1494\u001b[0m     c, R \u001b[39m=\u001b[39m dmp_ff_div(lc_r, lc_g, v, K)\n\u001b[1;32m   1496\u001b[0m     \u001b[39mif\u001b[39;00m \u001b[39mnot\u001b[39;00m dmp_zero_p(R, v):\n\u001b[1;32m   1497\u001b[0m         \u001b[39mbreak\u001b[39;00m\n",
      "    \u001b[0;31m[... skipping similar frames: dmp_ff_div at line 1494 (5 times)]\u001b[0m\n",
      "File \u001b[0;32m/Library/Frameworks/Python.framework/Versions/3.10/lib/python3.10/site-packages/sympy/polys/densearith.py:1494\u001b[0m, in \u001b[0;36mdmp_ff_div\u001b[0;34m(f, g, u, K)\u001b[0m\n\u001b[1;32m   1492\u001b[0m \u001b[39mwhile\u001b[39;00m \u001b[39mTrue\u001b[39;00m:\n\u001b[1;32m   1493\u001b[0m     lc_r \u001b[39m=\u001b[39m dmp_LC(r, K)\n\u001b[0;32m-> 1494\u001b[0m     c, R \u001b[39m=\u001b[39m dmp_ff_div(lc_r, lc_g, v, K)\n\u001b[1;32m   1496\u001b[0m     \u001b[39mif\u001b[39;00m \u001b[39mnot\u001b[39;00m dmp_zero_p(R, v):\n\u001b[1;32m   1497\u001b[0m         \u001b[39mbreak\u001b[39;00m\n",
      "File \u001b[0;32m/Library/Frameworks/Python.framework/Versions/3.10/lib/python3.10/site-packages/sympy/polys/densearith.py:1501\u001b[0m, in \u001b[0;36mdmp_ff_div\u001b[0;34m(f, g, u, K)\u001b[0m\n\u001b[1;32m   1497\u001b[0m     \u001b[39mbreak\u001b[39;00m\n\u001b[1;32m   1499\u001b[0m j \u001b[39m=\u001b[39m dr \u001b[39m-\u001b[39m dg\n\u001b[0;32m-> 1501\u001b[0m q \u001b[39m=\u001b[39m dmp_add_term(q, c, j, u, K)\n\u001b[1;32m   1502\u001b[0m h \u001b[39m=\u001b[39m dmp_mul_term(g, c, j, u, K)\n\u001b[1;32m   1503\u001b[0m r \u001b[39m=\u001b[39m dmp_sub(r, h, u, K)\n",
      "File \u001b[0;32m/Library/Frameworks/Python.framework/Versions/3.10/lib/python3.10/site-packages/sympy/polys/densearith.py:69\u001b[0m, in \u001b[0;36mdmp_add_term\u001b[0;34m(f, c, i, u, K)\u001b[0m\n\u001b[1;32m     66\u001b[0m m \u001b[39m=\u001b[39m n \u001b[39m-\u001b[39m i \u001b[39m-\u001b[39m \u001b[39m1\u001b[39m\n\u001b[1;32m     68\u001b[0m \u001b[39mif\u001b[39;00m i \u001b[39m==\u001b[39m n \u001b[39m-\u001b[39m \u001b[39m1\u001b[39m:\n\u001b[0;32m---> 69\u001b[0m     \u001b[39mreturn\u001b[39;00m dmp_strip([dmp_add(f[\u001b[39m0\u001b[39;49m], c, v, K)] \u001b[39m+\u001b[39m f[\u001b[39m1\u001b[39m:], u)\n\u001b[1;32m     70\u001b[0m \u001b[39melse\u001b[39;00m:\n\u001b[1;32m     71\u001b[0m     \u001b[39mif\u001b[39;00m i \u001b[39m>\u001b[39m\u001b[39m=\u001b[39m n:\n",
      "File \u001b[0;32m/Library/Frameworks/Python.framework/Versions/3.10/lib/python3.10/site-packages/sympy/polys/densearith.py:567\u001b[0m, in \u001b[0;36mdmp_add\u001b[0;34m(f, g, u, K)\u001b[0m\n\u001b[1;32m    563\u001b[0m     \u001b[39mreturn\u001b[39;00m dup_add(f, g, K)\n\u001b[1;32m    565\u001b[0m df \u001b[39m=\u001b[39m dmp_degree(f, u)\n\u001b[0;32m--> 567\u001b[0m \u001b[39mif\u001b[39;00m df \u001b[39m<\u001b[39;49m \u001b[39m0\u001b[39;49m:\n\u001b[1;32m    568\u001b[0m     \u001b[39mreturn\u001b[39;00m g\n\u001b[1;32m    570\u001b[0m dg \u001b[39m=\u001b[39m dmp_degree(g, u)\n",
      "File \u001b[0;32m/Library/Frameworks/Python.framework/Versions/3.10/lib/python3.10/site-packages/sympy/core/decorators.py:266\u001b[0m, in \u001b[0;36m_SympifyWrapper.make_wrapped.<locals>._func\u001b[0;34m(self, other)\u001b[0m\n\u001b[1;32m    264\u001b[0m \u001b[39mif\u001b[39;00m \u001b[39mnot\u001b[39;00m \u001b[39misinstance\u001b[39m(other, expectedcls):\n\u001b[1;32m    265\u001b[0m     \u001b[39mreturn\u001b[39;00m retval\n\u001b[0;32m--> 266\u001b[0m \u001b[39mreturn\u001b[39;00m func(\u001b[39mself\u001b[39;49m, other)\n",
      "File \u001b[0;32m/Library/Frameworks/Python.framework/Versions/3.10/lib/python3.10/site-packages/sympy/core/expr.py:384\u001b[0m, in \u001b[0;36mExpr.__lt__\u001b[0;34m(self, other)\u001b[0m\n\u001b[1;32m    381\u001b[0m \u001b[39m@sympify_return\u001b[39m([(\u001b[39m'\u001b[39m\u001b[39mother\u001b[39m\u001b[39m'\u001b[39m, \u001b[39m'\u001b[39m\u001b[39mExpr\u001b[39m\u001b[39m'\u001b[39m)], \u001b[39mNotImplemented\u001b[39m)\n\u001b[1;32m    382\u001b[0m \u001b[39mdef\u001b[39;00m \u001b[39m__lt__\u001b[39m(\u001b[39mself\u001b[39m, other):\n\u001b[1;32m    383\u001b[0m     \u001b[39mfrom\u001b[39;00m \u001b[39m.\u001b[39;00m\u001b[39mrelational\u001b[39;00m \u001b[39mimport\u001b[39;00m StrictLessThan\n\u001b[0;32m--> 384\u001b[0m     \u001b[39mreturn\u001b[39;00m StrictLessThan(\u001b[39mself\u001b[39;49m, other)\n",
      "File \u001b[0;32m/Library/Frameworks/Python.framework/Versions/3.10/lib/python3.10/site-packages/sympy/core/relational.py:697\u001b[0m, in \u001b[0;36m_Inequality.__new__\u001b[0;34m(cls, lhs, rhs, **options)\u001b[0m\n\u001b[1;32m    694\u001b[0m \u001b[39mdef\u001b[39;00m \u001b[39m__new__\u001b[39m(\u001b[39mcls\u001b[39m, lhs, rhs, \u001b[39m*\u001b[39m\u001b[39m*\u001b[39moptions):\n\u001b[1;32m    696\u001b[0m     \u001b[39mtry\u001b[39;00m:\n\u001b[0;32m--> 697\u001b[0m         lhs \u001b[39m=\u001b[39m _sympify(lhs)\n\u001b[1;32m    698\u001b[0m         rhs \u001b[39m=\u001b[39m _sympify(rhs)\n\u001b[1;32m    699\u001b[0m     \u001b[39mexcept\u001b[39;00m SympifyError:\n",
      "File \u001b[0;32m/Library/Frameworks/Python.framework/Versions/3.10/lib/python3.10/site-packages/sympy/core/sympify.py:479\u001b[0m, in \u001b[0;36m_sympify\u001b[0;34m(a)\u001b[0m\n\u001b[1;32m    474\u001b[0m         \u001b[39mraise\u001b[39;00m SympifyError(\u001b[39m'\u001b[39m\u001b[39mcould not parse \u001b[39m\u001b[39m%r\u001b[39;00m\u001b[39m'\u001b[39m \u001b[39m%\u001b[39m a, exc)\n\u001b[1;32m    476\u001b[0m     \u001b[39mreturn\u001b[39;00m expr\n\u001b[0;32m--> 479\u001b[0m \u001b[39mdef\u001b[39;00m \u001b[39m_sympify\u001b[39m(a):\n\u001b[1;32m    480\u001b[0m     \u001b[39m\"\"\"\u001b[39;00m\n\u001b[1;32m    481\u001b[0m \u001b[39m    Short version of sympify for internal usage for __add__ and __eq__ methods\u001b[39;00m\n\u001b[1;32m    482\u001b[0m \u001b[39m    where it is ok to allow some things (like Python integers and floats) in\u001b[39;00m\n\u001b[0;32m   (...)\u001b[0m\n\u001b[1;32m    503\u001b[0m \n\u001b[1;32m    504\u001b[0m \u001b[39m    \"\"\"\u001b[39;00m\n\u001b[1;32m    505\u001b[0m     \u001b[39mreturn\u001b[39;00m sympify(a, strict\u001b[39m=\u001b[39m\u001b[39mTrue\u001b[39;00m)\n",
      "\u001b[0;31mKeyboardInterrupt\u001b[0m: "
     ]
    }
   ],
   "source": [
    "sol = solve(eqs, rho)"
   ]
  },
  {
   "cell_type": "code",
   "execution_count": null,
   "metadata": {},
   "outputs": [
    {
     "ename": "KeyError",
     "evalue": "rho_33",
     "output_type": "error",
     "traceback": [
      "\u001b[0;31m---------------------------------------------------------------------------\u001b[0m",
      "\u001b[0;31mKeyError\u001b[0m                                  Traceback (most recent call last)",
      "\u001b[1;32m/Users/valerio/Documents/open quantum systems/single_atom/bloch_three_levels.ipynb Cell 7\u001b[0m in \u001b[0;36m<cell line: 1>\u001b[0;34m()\u001b[0m\n\u001b[0;32m----> <a href='vscode-notebook-cell:/Users/valerio/Documents/open%20quantum%20systems/single_atom/bloch_three_levels.ipynb#W5sZmlsZQ%3D%3D?line=0'>1</a>\u001b[0m sp\u001b[39m.\u001b[39mMatrix([sp\u001b[39m.\u001b[39msimplify(sol[rho[\u001b[39m8\u001b[39;49m]])])\n",
      "\u001b[0;31mKeyError\u001b[0m: rho_33"
     ]
    }
   ],
   "source": [
    "sp.Matrix([sp.simplify(sol[rho[8]])])"
   ]
  },
  {
   "cell_type": "code",
   "execution_count": 54,
   "metadata": {},
   "outputs": [],
   "source": [
    "Om_b = sp.Symbol(\"\\Omega_b\")\n",
    "Om_r = sp.Symbol(\"\\Omega_r\")\n",
    "om_b = sp.Symbol(\"\\omega_b\")\n",
    "om_r = sp.Symbol(\"\\omega_r\")\n",
    "Delta = sp.Symbol(\"\\Delta\")\n",
    "delta = sp.Symbol(\"\\delta\")\n",
    "t = sp.Symbol(\"t\")\n",
    "\n",
    "rho = sp.symbols(\"rho_11,rho_12,rho_13, rho_21,rho_22,rho_23, rho_31,rho_32,rho_33\")\n",
    "\n",
    "Rho = sp.Matrix([\n",
    "    [rho[0],rho[1],rho[2]],\n",
    "    [rho[3],rho[4],rho[5]],\n",
    "    [rho[6],rho[7],rho[8]]\n",
    "])\n",
    "\n",
    "H = sp.Matrix([\n",
    "    [0, Om_b/2 * sp.exp(-sp.I*om_b*t), 0],\n",
    "    [Om_b/2 * sp.exp(sp.I*om_b*t), -(Delta+sp.I*Gamma_i/2), Om_r/2 * sp.exp(sp.I*om_r*t)],\n",
    "    [0, Om_r/2 * sp.exp(-sp.I*om_r*t), -(delta+sp.I*Gamma_r/2)],\n",
    "])\n",
    "\n",
    "C1_dot, C2_dot, C3_dot = sp.symbols(\"C1_d, C2_d, C3_d\")"
   ]
  },
  {
   "cell_type": "code",
   "execution_count": null,
   "metadata": {},
   "outputs": [],
   "source": [
    "\n",
    "rho_dot = -sp.I*(H*Rho-Rho*H)\n",
    "range_ = [0,1,2,4,5,8]\n",
    "eqs = [sp.simplify(rho_dot[i]) for i in range_] + [rho[0]+rho[4]+rho[8]-1, rho[1]-rho[3].conjugate(), rho[2]-rho[6].conjugate(), rho[5]-rho[7].conjugate()]\n",
    "\n",
    "sp.Matrix(eqs)"
   ]
  },
  {
   "cell_type": "code",
   "execution_count": null,
   "metadata": {},
   "outputs": [],
   "source": []
  }
 ],
 "metadata": {
  "kernelspec": {
   "display_name": "Python 3.10.2 64-bit",
   "language": "python",
   "name": "python3"
  },
  "language_info": {
   "codemirror_mode": {
    "name": "ipython",
    "version": 3
   },
   "file_extension": ".py",
   "mimetype": "text/x-python",
   "name": "python",
   "nbconvert_exporter": "python",
   "pygments_lexer": "ipython3",
   "version": "3.10.2"
  },
  "orig_nbformat": 4,
  "vscode": {
   "interpreter": {
    "hash": "aee8b7b246df8f9039afb4144a1f6fd8d2ca17a180786b69acc140d282b71a49"
   }
  }
 },
 "nbformat": 4,
 "nbformat_minor": 2
}
