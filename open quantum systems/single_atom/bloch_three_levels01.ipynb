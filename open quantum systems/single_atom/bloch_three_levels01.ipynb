{
 "cells": [
  {
   "cell_type": "code",
   "execution_count": 44,
   "metadata": {},
   "outputs": [],
   "source": [
    "import numpy as np\n",
    "import sympy as sp\n",
    "from sympy.physics.quantum.commutator import Commutator as commut\n",
    "from sympy.solvers import solve"
   ]
  },
  {
   "cell_type": "markdown",
   "metadata": {},
   "source": [
    "# three-level system Bloch equations\n",
    "\n",
    "$$ \n",
    "H_0 = \n",
    "\\begin{pmatrix}\n",
    "    \\omega_1 & 0 & 0 \\\\\n",
    "    0 & \\omega_2 & 0 \\\\\n",
    "    0 & 0 & \\omega_3 \n",
    "\\end{pmatrix}\n",
    "\\ \\ ; \\ \\\n",
    "V = \n",
    "\\begin{pmatrix}\n",
    "    0 & \\frac{\\Omega_l}{2} & 0 \\\\\n",
    "    \\frac{\\Omega_l}{2} & -\\Delta & \\frac{\\Omega_h}{2} \\\\\n",
    "    0 & \\frac{\\Omega_h}{2} & -\\delta \n",
    "\\end{pmatrix}\n",
    "$$\n",
    "\n",
    "$$\n",
    "i \\hbar \\frac{d}{dt} \\psi(t) = (H_0 + V) \\psi(t)\n",
    "$$"
   ]
  },
  {
   "cell_type": "code",
   "execution_count": 45,
   "metadata": {},
   "outputs": [
    {
     "data": {
      "text/plain": [
       "[C1*\\omega_1*exp(-I*\\omega_1*t) + C2*\\Omega_b*exp(-I*\\omega_2*t)/2 - I*(-I*C1*\\omega_1 + \\dot{C}_1)*exp(-I*\\omega_1*t),\n",
       " C1*\\Omega_b*exp(-I*\\omega_1*t)/2 + C2*(-\\Delta + \\omega_2)*exp(-I*\\omega_2*t) + C3*\\Omega_r*exp(-I*\\omega_3*t)/2 - I*(-I*C2*\\omega_2 + \\dot{C}_2)*exp(-I*\\omega_2*t),\n",
       " C2*\\Omega_r*exp(-I*\\omega_2*t)/2 + C3*(-\\delta + \\omega_3)*exp(-I*\\omega_3*t) - I*(-I*C3*\\omega_3 + \\dot{C}_3)*exp(-I*\\omega_3*t)]"
      ]
     },
     "execution_count": 45,
     "metadata": {},
     "output_type": "execute_result"
    }
   ],
   "source": [
    "om_1, om_2, om_3 = sp.symbols(\"\\omega_1,\\omega_2,\\omega_3\")\n",
    "Om_b = sp.Symbol(\"\\Omega_b\")\n",
    "Om_r = sp.Symbol(\"\\Omega_r\")\n",
    "Delta = sp.Symbol(\"\\Delta\")\n",
    "delta = sp.Symbol(\"\\delta\")\n",
    "t = sp.Symbol(\"t\")\n",
    "\n",
    "C1_dot, C2_dot, C3_dot = sp.symbols(\"\\dot{C}_1, \\dot{C}_2, \\dot{C}_3\")\n",
    "C1, C2, C3 = sp.symbols(\"C1, C2, C3\")\n",
    "Cs = [C1,C2,C3]\n",
    "\n",
    "H0 = sp.Matrix([\n",
    "    [om_1, 0, 0],\n",
    "    [0, om_2, 0],\n",
    "    [0, 0, om_3],\n",
    "])\n",
    "\n",
    "V = sp.Matrix([\n",
    "    [0, Om_b/2, 0],\n",
    "    [Om_b/2, -Delta, Om_r/2],\n",
    "    [0, Om_r/2, -delta],\n",
    "])\n",
    "\n",
    "psi = sp.Matrix([C1 * sp.exp(-sp.I*om_1*t),C2 * sp.exp(-sp.I*om_2*t),C3 * sp.exp(-sp.I*om_3*t)])\n",
    "psi_dot = sp.Matrix([(C1_dot-sp.I*om_1*C1) * sp.exp(-sp.I*om_1*t),(C2_dot-sp.I*om_2*C2) * sp.exp(-sp.I*om_2*t),(C3_dot-sp.I*om_3*C3) * sp.exp(-sp.I*om_3*t)])\n",
    "\n",
    "eqs_vector = (H0+V)*psi-sp.I*psi_dot\n",
    "eqs = [eqs_vector[i] for i in range(3)]\n",
    "eqs"
   ]
  },
  {
   "cell_type": "code",
   "execution_count": 46,
   "metadata": {},
   "outputs": [],
   "source": [
    "sol = list(solve(eqs, [C1_dot, C2_dot, C3_dot]).values())"
   ]
  },
  {
   "cell_type": "code",
   "execution_count": 47,
   "metadata": {},
   "outputs": [
    {
     "data": {
      "text/latex": [
       "$\\displaystyle - \\frac{i C_{2} \\Omega_{b} e^{i \\omega_{1} t} e^{- i \\omega_{2} t}}{2}$"
      ],
      "text/plain": [
       "-I*C2*\\Omega_b*exp(I*\\omega_1*t)*exp(-I*\\omega_2*t)/2"
      ]
     },
     "execution_count": 47,
     "metadata": {},
     "output_type": "execute_result"
    }
   ],
   "source": [
    "sol[0]"
   ]
  },
  {
   "cell_type": "code",
   "execution_count": 48,
   "metadata": {},
   "outputs": [],
   "source": [
    "def rho_dot(i, j):\n",
    "    return sol[i-1]*Cs[j-1].conjugate()+Cs[i-1]*sol[j-1].conjugate()"
   ]
  },
  {
   "cell_type": "code",
   "execution_count": 58,
   "metadata": {},
   "outputs": [
    {
     "data": {
      "text/plain": [
       "[I*C1*exp(-I*conjugate(\\omega_1)*conjugate(t))*exp(I*conjugate(\\omega_2)*conjugate(t))*conjugate(C2)*conjugate(\\Omega_b)/2 - I*C2*\\Omega_b*exp(I*\\omega_1*t)*exp(-I*\\omega_2*t)*conjugate(C1)/2,\n",
       " C1*(I*exp(I*conjugate(\\omega_1)*conjugate(t))*exp(-I*conjugate(\\omega_2)*conjugate(t))*conjugate(C1)*conjugate(\\Omega_b)/2 - I*conjugate(C2)*conjugate(\\Delta) + I*exp(-I*conjugate(\\omega_2)*conjugate(t))*exp(I*conjugate(\\omega_3)*conjugate(t))*conjugate(C3)*conjugate(\\Omega_r)/2) - I*C2*\\Omega_b*exp(I*\\omega_1*t)*exp(-I*\\omega_2*t)*conjugate(C2)/2,\n",
       " C1*(I*exp(I*conjugate(\\omega_2)*conjugate(t))*exp(-I*conjugate(\\omega_3)*conjugate(t))*conjugate(C2)*conjugate(\\Omega_r)/2 - I*conjugate(C3)*conjugate(\\delta)) - I*C2*\\Omega_b*exp(I*\\omega_1*t)*exp(-I*\\omega_2*t)*conjugate(C3)/2,\n",
       " C2*(I*exp(I*conjugate(\\omega_1)*conjugate(t))*exp(-I*conjugate(\\omega_2)*conjugate(t))*conjugate(C1)*conjugate(\\Omega_b)/2 - I*conjugate(C2)*conjugate(\\Delta) + I*exp(-I*conjugate(\\omega_2)*conjugate(t))*exp(I*conjugate(\\omega_3)*conjugate(t))*conjugate(C3)*conjugate(\\Omega_r)/2) + (-I*C1*\\Omega_b*exp(-I*\\omega_1*t)*exp(I*\\omega_2*t)/2 + I*C2*\\Delta - I*C3*\\Omega_r*exp(I*\\omega_2*t)*exp(-I*\\omega_3*t)/2)*conjugate(C2),\n",
       " C2*(I*exp(I*conjugate(\\omega_2)*conjugate(t))*exp(-I*conjugate(\\omega_3)*conjugate(t))*conjugate(C2)*conjugate(\\Omega_r)/2 - I*conjugate(C3)*conjugate(\\delta)) + (-I*C1*\\Omega_b*exp(-I*\\omega_1*t)*exp(I*\\omega_2*t)/2 + I*C2*\\Delta - I*C3*\\Omega_r*exp(I*\\omega_2*t)*exp(-I*\\omega_3*t)/2)*conjugate(C3),\n",
       " C3*(I*exp(I*conjugate(\\omega_2)*conjugate(t))*exp(-I*conjugate(\\omega_3)*conjugate(t))*conjugate(C2)*conjugate(\\Omega_r)/2 - I*conjugate(C3)*conjugate(\\delta)) + (-I*C2*\\Omega_r*exp(-I*\\omega_2*t)*exp(I*\\omega_3*t)/2 + I*C3*\\delta)*conjugate(C3),\n",
       " C1*conjugate(C1) + C2*conjugate(C2) + C3*conjugate(C3) - 1]"
      ]
     },
     "execution_count": 58,
     "metadata": {},
     "output_type": "execute_result"
    }
   ],
   "source": [
    "equations = [rho_dot(1,1), rho_dot(1,2), rho_dot(1,3), rho_dot(2,2), rho_dot(2,3), rho_dot(3,3), \n",
    "            C1*C1.conjugate() + C2*C2.conjugate() + C3*C3.conjugate() - 1]\n",
    "equations"
   ]
  },
  {
   "cell_type": "code",
   "execution_count": 60,
   "metadata": {},
   "outputs": [
    {
     "ename": "KeyboardInterrupt",
     "evalue": "",
     "output_type": "error",
     "traceback": [
      "\u001b[0;31m---------------------------------------------------------------------------\u001b[0m",
      "\u001b[0;31mKeyError\u001b[0m                                  Traceback (most recent call last)",
      "File \u001b[0;32m/Library/Frameworks/Python.framework/Versions/3.10/lib/python3.10/site-packages/sympy/core/assumptions.py:462\u001b[0m, in \u001b[0;36mmake_property.<locals>.getit\u001b[0;34m(self)\u001b[0m\n\u001b[1;32m    461\u001b[0m \u001b[39mtry\u001b[39;00m:\n\u001b[0;32m--> 462\u001b[0m     \u001b[39mreturn\u001b[39;00m \u001b[39mself\u001b[39;49m\u001b[39m.\u001b[39;49m_assumptions[fact]\n\u001b[1;32m    463\u001b[0m \u001b[39mexcept\u001b[39;00m \u001b[39mKeyError\u001b[39;00m:\n",
      "\u001b[0;31mKeyError\u001b[0m: 'negative'",
      "\nDuring handling of the above exception, another exception occurred:\n",
      "\u001b[0;31mKeyError\u001b[0m                                  Traceback (most recent call last)",
      "File \u001b[0;32m/Library/Frameworks/Python.framework/Versions/3.10/lib/python3.10/site-packages/sympy/core/assumptions.py:462\u001b[0m, in \u001b[0;36mmake_property.<locals>.getit\u001b[0;34m(self)\u001b[0m\n\u001b[1;32m    461\u001b[0m \u001b[39mtry\u001b[39;00m:\n\u001b[0;32m--> 462\u001b[0m     \u001b[39mreturn\u001b[39;00m \u001b[39mself\u001b[39;49m\u001b[39m.\u001b[39;49m_assumptions[fact]\n\u001b[1;32m    463\u001b[0m \u001b[39mexcept\u001b[39;00m \u001b[39mKeyError\u001b[39;00m:\n",
      "\u001b[0;31mKeyError\u001b[0m: 'finite'",
      "\nDuring handling of the above exception, another exception occurred:\n",
      "\u001b[0;31mKeyError\u001b[0m                                  Traceback (most recent call last)",
      "File \u001b[0;32m/Library/Frameworks/Python.framework/Versions/3.10/lib/python3.10/site-packages/sympy/core/assumptions.py:462\u001b[0m, in \u001b[0;36mmake_property.<locals>.getit\u001b[0;34m(self)\u001b[0m\n\u001b[1;32m    461\u001b[0m \u001b[39mtry\u001b[39;00m:\n\u001b[0;32m--> 462\u001b[0m     \u001b[39mreturn\u001b[39;00m \u001b[39mself\u001b[39;49m\u001b[39m.\u001b[39;49m_assumptions[fact]\n\u001b[1;32m    463\u001b[0m \u001b[39mexcept\u001b[39;00m \u001b[39mKeyError\u001b[39;00m:\n",
      "\u001b[0;31mKeyError\u001b[0m: 'integer'",
      "\nDuring handling of the above exception, another exception occurred:\n",
      "\u001b[0;31mKeyError\u001b[0m                                  Traceback (most recent call last)",
      "File \u001b[0;32m/Library/Frameworks/Python.framework/Versions/3.10/lib/python3.10/site-packages/sympy/core/assumptions.py:462\u001b[0m, in \u001b[0;36mmake_property.<locals>.getit\u001b[0;34m(self)\u001b[0m\n\u001b[1;32m    461\u001b[0m \u001b[39mtry\u001b[39;00m:\n\u001b[0;32m--> 462\u001b[0m     \u001b[39mreturn\u001b[39;00m \u001b[39mself\u001b[39;49m\u001b[39m.\u001b[39;49m_assumptions[fact]\n\u001b[1;32m    463\u001b[0m \u001b[39mexcept\u001b[39;00m \u001b[39mKeyError\u001b[39;00m:\n",
      "\u001b[0;31mKeyError\u001b[0m: 'extended_positive'",
      "\nDuring handling of the above exception, another exception occurred:\n",
      "\u001b[0;31mKeyError\u001b[0m                                  Traceback (most recent call last)",
      "File \u001b[0;32m/Library/Frameworks/Python.framework/Versions/3.10/lib/python3.10/site-packages/sympy/core/assumptions.py:462\u001b[0m, in \u001b[0;36mmake_property.<locals>.getit\u001b[0;34m(self)\u001b[0m\n\u001b[1;32m    461\u001b[0m \u001b[39mtry\u001b[39;00m:\n\u001b[0;32m--> 462\u001b[0m     \u001b[39mreturn\u001b[39;00m \u001b[39mself\u001b[39;49m\u001b[39m.\u001b[39;49m_assumptions[fact]\n\u001b[1;32m    463\u001b[0m \u001b[39mexcept\u001b[39;00m \u001b[39mKeyError\u001b[39;00m:\n",
      "\u001b[0;31mKeyError\u001b[0m: 'zero'",
      "\nDuring handling of the above exception, another exception occurred:\n",
      "\u001b[0;31mKeyboardInterrupt\u001b[0m                         Traceback (most recent call last)",
      "\u001b[1;32m/Users/valerio/Documents/open quantum systems/single_atom/bloch_three_levels01.ipynb Cell 7\u001b[0m in \u001b[0;36m<cell line: 1>\u001b[0;34m()\u001b[0m\n\u001b[0;32m----> <a href='vscode-notebook-cell:/Users/valerio/Documents/open%20quantum%20systems/single_atom/bloch_three_levels01.ipynb#X34sZmlsZQ%3D%3D?line=0'>1</a>\u001b[0m sol2 \u001b[39m=\u001b[39m solve([rho_dot(\u001b[39m3\u001b[39;49m,\u001b[39m3\u001b[39;49m), rho_dot(\u001b[39m2\u001b[39;49m,\u001b[39m2\u001b[39;49m)], [C1, C2, C3])\n",
      "File \u001b[0;32m/Library/Frameworks/Python.framework/Versions/3.10/lib/python3.10/site-packages/sympy/solvers/solvers.py:1097\u001b[0m, in \u001b[0;36msolve\u001b[0;34m(f, *symbols, **flags)\u001b[0m\n\u001b[1;32m   1095\u001b[0m     solution \u001b[39m=\u001b[39m _solve(f[\u001b[39m0\u001b[39m], \u001b[39m*\u001b[39msymbols, \u001b[39m*\u001b[39m\u001b[39m*\u001b[39mflags)\n\u001b[1;32m   1096\u001b[0m \u001b[39melse\u001b[39;00m:\n\u001b[0;32m-> 1097\u001b[0m     solution \u001b[39m=\u001b[39m _solve_system(f, symbols, \u001b[39m*\u001b[39;49m\u001b[39m*\u001b[39;49mflags)\n\u001b[1;32m   1099\u001b[0m \u001b[39m#\u001b[39;00m\n\u001b[1;32m   1100\u001b[0m \u001b[39m# postprocessing\u001b[39;00m\n\u001b[1;32m   1101\u001b[0m \u001b[39m###########################################################################\u001b[39;00m\n\u001b[1;32m   1102\u001b[0m \u001b[39m# Restore masked-off objects\u001b[39;00m\n\u001b[1;32m   1103\u001b[0m \u001b[39mif\u001b[39;00m non_inverts:\n",
      "File \u001b[0;32m/Library/Frameworks/Python.framework/Versions/3.10/lib/python3.10/site-packages/sympy/solvers/solvers.py:1934\u001b[0m, in \u001b[0;36m_solve_system\u001b[0;34m(exprs, symbols, **flags)\u001b[0m\n\u001b[1;32m   1932\u001b[0m \u001b[39mfor\u001b[39;00m s \u001b[39min\u001b[39;00m ok_syms:\n\u001b[1;32m   1933\u001b[0m     \u001b[39mtry\u001b[39;00m:\n\u001b[0;32m-> 1934\u001b[0m         soln \u001b[39m=\u001b[39m _solve(eq2, s, \u001b[39m*\u001b[39;49m\u001b[39m*\u001b[39;49mflags)\n\u001b[1;32m   1935\u001b[0m     \u001b[39mexcept\u001b[39;00m \u001b[39mNotImplementedError\u001b[39;00m:\n\u001b[1;32m   1936\u001b[0m         \u001b[39mcontinue\u001b[39;00m\n",
      "File \u001b[0;32m/Library/Frameworks/Python.framework/Versions/3.10/lib/python3.10/site-packages/sympy/solvers/solvers.py:1701\u001b[0m, in \u001b[0;36m_solve\u001b[0;34m(f, *symbols, **flags)\u001b[0m\n\u001b[1;32m   1699\u001b[0m flags\u001b[39m.\u001b[39mpop(\u001b[39m'\u001b[39m\u001b[39mtsolve\u001b[39m\u001b[39m'\u001b[39m, \u001b[39mNone\u001b[39;00m)  \u001b[39m# allow tsolve to be used on next pass\u001b[39;00m\n\u001b[1;32m   1700\u001b[0m \u001b[39mtry\u001b[39;00m:\n\u001b[0;32m-> 1701\u001b[0m     soln \u001b[39m=\u001b[39m _tsolve(f_num, symbol, \u001b[39m*\u001b[39;49m\u001b[39m*\u001b[39;49mflags)\n\u001b[1;32m   1702\u001b[0m     \u001b[39mif\u001b[39;00m soln \u001b[39mis\u001b[39;00m \u001b[39mnot\u001b[39;00m \u001b[39mNone\u001b[39;00m:\n\u001b[1;32m   1703\u001b[0m         result \u001b[39m=\u001b[39m soln\n",
      "File \u001b[0;32m/Library/Frameworks/Python.framework/Versions/3.10/lib/python3.10/site-packages/sympy/solvers/solvers.py:2560\u001b[0m, in \u001b[0;36m_tsolve\u001b[0;34m(eq, sym, **flags)\u001b[0m\n\u001b[1;32m   2558\u001b[0m f \u001b[39m=\u001b[39m factor(powdenest(lhs \u001b[39m-\u001b[39m rhs))\n\u001b[1;32m   2559\u001b[0m \u001b[39mif\u001b[39;00m f\u001b[39m.\u001b[39mis_Mul:\n\u001b[0;32m-> 2560\u001b[0m     \u001b[39mreturn\u001b[39;00m _solve(f, sym, \u001b[39m*\u001b[39;49m\u001b[39m*\u001b[39;49mflags)\n\u001b[1;32m   2561\u001b[0m \u001b[39mif\u001b[39;00m rhs:\n\u001b[1;32m   2562\u001b[0m     f \u001b[39m=\u001b[39m logcombine(lhs, force\u001b[39m=\u001b[39mflags\u001b[39m.\u001b[39mget(\u001b[39m'\u001b[39m\u001b[39mforce\u001b[39m\u001b[39m'\u001b[39m, \u001b[39mTrue\u001b[39;00m))\n",
      "File \u001b[0;32m/Library/Frameworks/Python.framework/Versions/3.10/lib/python3.10/site-packages/sympy/solvers/solvers.py:1383\u001b[0m, in \u001b[0;36m_solve\u001b[0;34m(f, *symbols, **flags)\u001b[0m\n\u001b[1;32m   1381\u001b[0m         result \u001b[39m=\u001b[39m \u001b[39mset\u001b[39m()\n\u001b[1;32m   1382\u001b[0m         \u001b[39mbreak\u001b[39;00m\n\u001b[0;32m-> 1383\u001b[0m     soln \u001b[39m=\u001b[39m _solve(m, symbol, \u001b[39m*\u001b[39;49m\u001b[39m*\u001b[39;49mflags)\n\u001b[1;32m   1384\u001b[0m     result\u001b[39m.\u001b[39mupdate(\u001b[39mset\u001b[39m(soln))\n\u001b[1;32m   1385\u001b[0m result \u001b[39m=\u001b[39m \u001b[39mlist\u001b[39m(result)\n",
      "File \u001b[0;32m/Library/Frameworks/Python.framework/Versions/3.10/lib/python3.10/site-packages/sympy/solvers/solvers.py:1726\u001b[0m, in \u001b[0;36m_solve\u001b[0;34m(f, *symbols, **flags)\u001b[0m\n\u001b[1;32m   1721\u001b[0m     result \u001b[39m=\u001b[39m [s \u001b[39mfor\u001b[39;00m s \u001b[39min\u001b[39;00m result \u001b[39mif\u001b[39;00m\n\u001b[1;32m   1722\u001b[0m               \u001b[39mall\u001b[39m(\u001b[39mnot\u001b[39;00m checksol(d, {symbol: s}, \u001b[39m*\u001b[39m\u001b[39m*\u001b[39mflags)\n\u001b[1;32m   1723\u001b[0m                 \u001b[39mfor\u001b[39;00m d \u001b[39min\u001b[39;00m dens)]\n\u001b[1;32m   1724\u001b[0m \u001b[39mif\u001b[39;00m check:\n\u001b[1;32m   1725\u001b[0m     \u001b[39m# keep only results if the check is not False\u001b[39;00m\n\u001b[0;32m-> 1726\u001b[0m     result \u001b[39m=\u001b[39m [r \u001b[39mfor\u001b[39;00m r \u001b[39min\u001b[39;00m result \u001b[39mif\u001b[39;00m\n\u001b[1;32m   1727\u001b[0m               checksol(f_num, {symbol: r}, \u001b[39m*\u001b[39m\u001b[39m*\u001b[39mflags) \u001b[39mis\u001b[39;00m \u001b[39mnot\u001b[39;00m \u001b[39mFalse\u001b[39;00m]\n\u001b[1;32m   1728\u001b[0m \u001b[39mreturn\u001b[39;00m result\n",
      "File \u001b[0;32m/Library/Frameworks/Python.framework/Versions/3.10/lib/python3.10/site-packages/sympy/solvers/solvers.py:1727\u001b[0m, in \u001b[0;36m<listcomp>\u001b[0;34m(.0)\u001b[0m\n\u001b[1;32m   1721\u001b[0m     result \u001b[39m=\u001b[39m [s \u001b[39mfor\u001b[39;00m s \u001b[39min\u001b[39;00m result \u001b[39mif\u001b[39;00m\n\u001b[1;32m   1722\u001b[0m               \u001b[39mall\u001b[39m(\u001b[39mnot\u001b[39;00m checksol(d, {symbol: s}, \u001b[39m*\u001b[39m\u001b[39m*\u001b[39mflags)\n\u001b[1;32m   1723\u001b[0m                 \u001b[39mfor\u001b[39;00m d \u001b[39min\u001b[39;00m dens)]\n\u001b[1;32m   1724\u001b[0m \u001b[39mif\u001b[39;00m check:\n\u001b[1;32m   1725\u001b[0m     \u001b[39m# keep only results if the check is not False\u001b[39;00m\n\u001b[1;32m   1726\u001b[0m     result \u001b[39m=\u001b[39m [r \u001b[39mfor\u001b[39;00m r \u001b[39min\u001b[39;00m result \u001b[39mif\u001b[39;00m\n\u001b[0;32m-> 1727\u001b[0m               checksol(f_num, {symbol: r}, \u001b[39m*\u001b[39;49m\u001b[39m*\u001b[39;49mflags) \u001b[39mis\u001b[39;00m \u001b[39mnot\u001b[39;00m \u001b[39mFalse\u001b[39;00m]\n\u001b[1;32m   1728\u001b[0m \u001b[39mreturn\u001b[39;00m result\n",
      "File \u001b[0;32m/Library/Frameworks/Python.framework/Versions/3.10/lib/python3.10/site-packages/sympy/solvers/solvers.py:308\u001b[0m, in \u001b[0;36mchecksol\u001b[0;34m(f, symbol, sol, **flags)\u001b[0m\n\u001b[1;32m    306\u001b[0m         \u001b[39m# there are free symbols -- simple expansion might work\u001b[39;00m\n\u001b[1;32m    307\u001b[0m         _, val \u001b[39m=\u001b[39m val\u001b[39m.\u001b[39mas_content_primitive()\n\u001b[0;32m--> 308\u001b[0m         val \u001b[39m=\u001b[39m _mexpand(val\u001b[39m.\u001b[39;49mas_numer_denom()[\u001b[39m0\u001b[39;49m], recursive\u001b[39m=\u001b[39;49m\u001b[39mTrue\u001b[39;49;00m)\n\u001b[1;32m    309\u001b[0m \u001b[39melif\u001b[39;00m attempt \u001b[39m==\u001b[39m \u001b[39m2\u001b[39m:\n\u001b[1;32m    310\u001b[0m     \u001b[39mif\u001b[39;00m minimal:\n",
      "File \u001b[0;32m/Library/Frameworks/Python.framework/Versions/3.10/lib/python3.10/site-packages/sympy/core/function.py:2837\u001b[0m, in \u001b[0;36m_mexpand\u001b[0;34m(expr, recursive)\u001b[0m\n\u001b[1;32m   2835\u001b[0m was \u001b[39m=\u001b[39m \u001b[39mNone\u001b[39;00m\n\u001b[1;32m   2836\u001b[0m \u001b[39mwhile\u001b[39;00m was \u001b[39m!=\u001b[39m expr:\n\u001b[0;32m-> 2837\u001b[0m     was, expr \u001b[39m=\u001b[39m expr, expand_mul(expand_multinomial(expr))\n\u001b[1;32m   2838\u001b[0m     \u001b[39mif\u001b[39;00m \u001b[39mnot\u001b[39;00m recursive:\n\u001b[1;32m   2839\u001b[0m         \u001b[39mbreak\u001b[39;00m\n",
      "File \u001b[0;32m/Library/Frameworks/Python.framework/Versions/3.10/lib/python3.10/site-packages/sympy/core/function.py:2860\u001b[0m, in \u001b[0;36mexpand_mul\u001b[0;34m(expr, deep)\u001b[0m\n\u001b[1;32m   2846\u001b[0m \u001b[39mdef\u001b[39;00m \u001b[39mexpand_mul\u001b[39m(expr, deep\u001b[39m=\u001b[39m\u001b[39mTrue\u001b[39;00m):\n\u001b[1;32m   2847\u001b[0m     \u001b[39m\"\"\"\u001b[39;00m\n\u001b[1;32m   2848\u001b[0m \u001b[39m    Wrapper around expand that only uses the mul hint.  See the expand\u001b[39;00m\n\u001b[1;32m   2849\u001b[0m \u001b[39m    docstring for more information.\u001b[39;00m\n\u001b[0;32m   (...)\u001b[0m\n\u001b[1;32m   2858\u001b[0m \n\u001b[1;32m   2859\u001b[0m \u001b[39m    \"\"\"\u001b[39;00m\n\u001b[0;32m-> 2860\u001b[0m     \u001b[39mreturn\u001b[39;00m sympify(expr)\u001b[39m.\u001b[39;49mexpand(deep\u001b[39m=\u001b[39;49mdeep, mul\u001b[39m=\u001b[39;49m\u001b[39mTrue\u001b[39;49;00m, power_exp\u001b[39m=\u001b[39;49m\u001b[39mFalse\u001b[39;49;00m,\n\u001b[1;32m   2861\u001b[0m     power_base\u001b[39m=\u001b[39;49m\u001b[39mFalse\u001b[39;49;00m, basic\u001b[39m=\u001b[39;49m\u001b[39mFalse\u001b[39;49;00m, multinomial\u001b[39m=\u001b[39;49m\u001b[39mFalse\u001b[39;49;00m, log\u001b[39m=\u001b[39;49m\u001b[39mFalse\u001b[39;49;00m)\n",
      "File \u001b[0;32m/Library/Frameworks/Python.framework/Versions/3.10/lib/python3.10/site-packages/sympy/core/cache.py:72\u001b[0m, in \u001b[0;36m__cacheit.<locals>.func_wrapper.<locals>.wrapper\u001b[0;34m(*args, **kwargs)\u001b[0m\n\u001b[1;32m     69\u001b[0m \u001b[39m@wraps\u001b[39m(func)\n\u001b[1;32m     70\u001b[0m \u001b[39mdef\u001b[39;00m \u001b[39mwrapper\u001b[39m(\u001b[39m*\u001b[39margs, \u001b[39m*\u001b[39m\u001b[39m*\u001b[39mkwargs):\n\u001b[1;32m     71\u001b[0m     \u001b[39mtry\u001b[39;00m:\n\u001b[0;32m---> 72\u001b[0m         retval \u001b[39m=\u001b[39m cfunc(\u001b[39m*\u001b[39;49margs, \u001b[39m*\u001b[39;49m\u001b[39m*\u001b[39;49mkwargs)\n\u001b[1;32m     73\u001b[0m     \u001b[39mexcept\u001b[39;00m \u001b[39mTypeError\u001b[39;00m \u001b[39mas\u001b[39;00m e:\n\u001b[1;32m     74\u001b[0m         \u001b[39mif\u001b[39;00m \u001b[39mnot\u001b[39;00m e\u001b[39m.\u001b[39margs \u001b[39mor\u001b[39;00m \u001b[39mnot\u001b[39;00m e\u001b[39m.\u001b[39margs[\u001b[39m0\u001b[39m]\u001b[39m.\u001b[39mstartswith(\u001b[39m'\u001b[39m\u001b[39munhashable type:\u001b[39m\u001b[39m'\u001b[39m):\n",
      "File \u001b[0;32m/Library/Frameworks/Python.framework/Versions/3.10/lib/python3.10/site-packages/sympy/core/expr.py:3622\u001b[0m, in \u001b[0;36mExpr.expand\u001b[0;34m(self, deep, modulus, power_base, power_exp, mul, log, multinomial, basic, **hints)\u001b[0m\n\u001b[1;32m   3620\u001b[0m     \u001b[39mif\u001b[39;00m use_hint:\n\u001b[1;32m   3621\u001b[0m         hint \u001b[39m=\u001b[39m \u001b[39m'\u001b[39m\u001b[39m_eval_expand_\u001b[39m\u001b[39m'\u001b[39m \u001b[39m+\u001b[39m hint\n\u001b[0;32m-> 3622\u001b[0m         expr, hit \u001b[39m=\u001b[39m Expr\u001b[39m.\u001b[39;49m_expand_hint(expr, hint, deep\u001b[39m=\u001b[39;49mdeep, \u001b[39m*\u001b[39;49m\u001b[39m*\u001b[39;49mhints)\n\u001b[1;32m   3624\u001b[0m \u001b[39mwhile\u001b[39;00m \u001b[39mTrue\u001b[39;00m:\n\u001b[1;32m   3625\u001b[0m     was \u001b[39m=\u001b[39m expr\n",
      "File \u001b[0;32m/Library/Frameworks/Python.framework/Versions/3.10/lib/python3.10/site-packages/sympy/core/expr.py:3555\u001b[0m, in \u001b[0;36mExpr._expand_hint\u001b[0;34m(expr, hint, deep, **hints)\u001b[0m\n\u001b[1;32m   3553\u001b[0m sargs \u001b[39m=\u001b[39m []\n\u001b[1;32m   3554\u001b[0m \u001b[39mfor\u001b[39;00m arg \u001b[39min\u001b[39;00m expr\u001b[39m.\u001b[39margs:\n\u001b[0;32m-> 3555\u001b[0m     arg, arghit \u001b[39m=\u001b[39m Expr\u001b[39m.\u001b[39;49m_expand_hint(arg, hint, \u001b[39m*\u001b[39;49m\u001b[39m*\u001b[39;49mhints)\n\u001b[1;32m   3556\u001b[0m     hit \u001b[39m|\u001b[39m\u001b[39m=\u001b[39m arghit\n\u001b[1;32m   3557\u001b[0m     sargs\u001b[39m.\u001b[39mappend(arg)\n",
      "File \u001b[0;32m/Library/Frameworks/Python.framework/Versions/3.10/lib/python3.10/site-packages/sympy/core/expr.py:3563\u001b[0m, in \u001b[0;36mExpr._expand_hint\u001b[0;34m(expr, hint, deep, **hints)\u001b[0m\n\u001b[1;32m   3560\u001b[0m         expr \u001b[39m=\u001b[39m expr\u001b[39m.\u001b[39mfunc(\u001b[39m*\u001b[39msargs)\n\u001b[1;32m   3562\u001b[0m \u001b[39mif\u001b[39;00m \u001b[39mhasattr\u001b[39m(expr, hint):\n\u001b[0;32m-> 3563\u001b[0m     newexpr \u001b[39m=\u001b[39m \u001b[39mgetattr\u001b[39;49m(expr, hint)(\u001b[39m*\u001b[39;49m\u001b[39m*\u001b[39;49mhints)\n\u001b[1;32m   3564\u001b[0m     \u001b[39mif\u001b[39;00m newexpr \u001b[39m!=\u001b[39m expr:\n\u001b[1;32m   3565\u001b[0m         \u001b[39mreturn\u001b[39;00m (newexpr, \u001b[39mTrue\u001b[39;00m)\n",
      "File \u001b[0;32m/Library/Frameworks/Python.framework/Versions/3.10/lib/python3.10/site-packages/sympy/core/mul.py:936\u001b[0m, in \u001b[0;36mMul._eval_expand_mul\u001b[0;34m(self, **hints)\u001b[0m\n\u001b[1;32m    933\u001b[0m \u001b[39m# Handle things like 1/(x*(x + 1)), which are automatically converted\u001b[39;00m\n\u001b[1;32m    934\u001b[0m \u001b[39m# to 1/x*1/(x + 1)\u001b[39;00m\n\u001b[1;32m    935\u001b[0m expr \u001b[39m=\u001b[39m \u001b[39mself\u001b[39m\n\u001b[0;32m--> 936\u001b[0m n, d \u001b[39m=\u001b[39m fraction(expr)\n\u001b[1;32m    937\u001b[0m \u001b[39mif\u001b[39;00m d\u001b[39m.\u001b[39mis_Mul:\n\u001b[1;32m    938\u001b[0m     n, d \u001b[39m=\u001b[39m [i\u001b[39m.\u001b[39m_eval_expand_mul(\u001b[39m*\u001b[39m\u001b[39m*\u001b[39mhints) \u001b[39mif\u001b[39;00m i\u001b[39m.\u001b[39mis_Mul \u001b[39melse\u001b[39;00m i\n\u001b[1;32m    939\u001b[0m         \u001b[39mfor\u001b[39;00m i \u001b[39min\u001b[39;00m (n, d)]\n",
      "File \u001b[0;32m/Library/Frameworks/Python.framework/Versions/3.10/lib/python3.10/site-packages/sympy/simplify/radsimp.py:1101\u001b[0m, in \u001b[0;36mfraction\u001b[0;34m(expr, exact)\u001b[0m\n\u001b[1;32m   1099\u001b[0m     numer\u001b[39m.\u001b[39mappend(term)\n\u001b[1;32m   1100\u001b[0m \u001b[39melif\u001b[39;00m \u001b[39mnot\u001b[39;00m exact \u001b[39mand\u001b[39;00m ex\u001b[39m.\u001b[39mis_Mul:\n\u001b[0;32m-> 1101\u001b[0m     n, d \u001b[39m=\u001b[39m term\u001b[39m.\u001b[39;49mas_numer_denom()\n\u001b[1;32m   1102\u001b[0m     \u001b[39mif\u001b[39;00m n \u001b[39m!=\u001b[39m \u001b[39m1\u001b[39m:\n\u001b[1;32m   1103\u001b[0m         numer\u001b[39m.\u001b[39mappend(n)\n",
      "File \u001b[0;32m/Library/Frameworks/Python.framework/Versions/3.10/lib/python3.10/site-packages/sympy/functions/elementary/exponential.py:63\u001b[0m, in \u001b[0;36mExpBase.as_numer_denom\u001b[0;34m(self)\u001b[0m\n\u001b[1;32m     61\u001b[0m exp \u001b[39m=\u001b[39m \u001b[39mself\u001b[39m\u001b[39m.\u001b[39mexp\n\u001b[1;32m     62\u001b[0m neg_exp \u001b[39m=\u001b[39m exp\u001b[39m.\u001b[39mis_negative\n\u001b[0;32m---> 63\u001b[0m \u001b[39mif\u001b[39;00m \u001b[39mnot\u001b[39;00m neg_exp \u001b[39mand\u001b[39;00m \u001b[39mnot\u001b[39;00m (\u001b[39m-\u001b[39;49mexp)\u001b[39m.\u001b[39;49mis_negative:\n\u001b[1;32m     64\u001b[0m     neg_exp \u001b[39m=\u001b[39m _coeff_isneg(exp)\n\u001b[1;32m     65\u001b[0m \u001b[39mif\u001b[39;00m neg_exp:\n",
      "File \u001b[0;32m/Library/Frameworks/Python.framework/Versions/3.10/lib/python3.10/site-packages/sympy/core/assumptions.py:466\u001b[0m, in \u001b[0;36mmake_property.<locals>.getit\u001b[0;34m(self)\u001b[0m\n\u001b[1;32m    464\u001b[0m \u001b[39mif\u001b[39;00m \u001b[39mself\u001b[39m\u001b[39m.\u001b[39m_assumptions \u001b[39mis\u001b[39;00m \u001b[39mself\u001b[39m\u001b[39m.\u001b[39mdefault_assumptions:\n\u001b[1;32m    465\u001b[0m     \u001b[39mself\u001b[39m\u001b[39m.\u001b[39m_assumptions \u001b[39m=\u001b[39m \u001b[39mself\u001b[39m\u001b[39m.\u001b[39mdefault_assumptions\u001b[39m.\u001b[39mcopy()\n\u001b[0;32m--> 466\u001b[0m \u001b[39mreturn\u001b[39;00m _ask(fact, \u001b[39mself\u001b[39;49m)\n",
      "File \u001b[0;32m/Library/Frameworks/Python.framework/Versions/3.10/lib/python3.10/site-packages/sympy/core/assumptions.py:509\u001b[0m, in \u001b[0;36m_ask\u001b[0;34m(fact, obj)\u001b[0m\n\u001b[1;32m    507\u001b[0m     \u001b[39mpass\u001b[39;00m\n\u001b[1;32m    508\u001b[0m \u001b[39melse\u001b[39;00m:\n\u001b[0;32m--> 509\u001b[0m     a \u001b[39m=\u001b[39m evaluate(obj)\n\u001b[1;32m    510\u001b[0m     \u001b[39mif\u001b[39;00m a \u001b[39mis\u001b[39;00m \u001b[39mnot\u001b[39;00m \u001b[39mNone\u001b[39;00m:\n\u001b[1;32m    511\u001b[0m         assumptions\u001b[39m.\u001b[39mdeduce_all_facts(((fact, a),))\n",
      "File \u001b[0;32m/Library/Frameworks/Python.framework/Versions/3.10/lib/python3.10/site-packages/sympy/core/expr.py:860\u001b[0m, in \u001b[0;36mExpr._eval_is_negative\u001b[0;34m(self)\u001b[0m\n\u001b[1;32m    859\u001b[0m \u001b[39mdef\u001b[39;00m \u001b[39m_eval_is_negative\u001b[39m(\u001b[39mself\u001b[39m):\n\u001b[0;32m--> 860\u001b[0m     finite \u001b[39m=\u001b[39m \u001b[39mself\u001b[39;49m\u001b[39m.\u001b[39;49mis_finite\n\u001b[1;32m    861\u001b[0m     \u001b[39mif\u001b[39;00m finite \u001b[39mis\u001b[39;00m \u001b[39mFalse\u001b[39;00m:\n\u001b[1;32m    862\u001b[0m         \u001b[39mreturn\u001b[39;00m \u001b[39mFalse\u001b[39;00m\n",
      "File \u001b[0;32m/Library/Frameworks/Python.framework/Versions/3.10/lib/python3.10/site-packages/sympy/core/assumptions.py:466\u001b[0m, in \u001b[0;36mmake_property.<locals>.getit\u001b[0;34m(self)\u001b[0m\n\u001b[1;32m    464\u001b[0m \u001b[39mif\u001b[39;00m \u001b[39mself\u001b[39m\u001b[39m.\u001b[39m_assumptions \u001b[39mis\u001b[39;00m \u001b[39mself\u001b[39m\u001b[39m.\u001b[39mdefault_assumptions:\n\u001b[1;32m    465\u001b[0m     \u001b[39mself\u001b[39m\u001b[39m.\u001b[39m_assumptions \u001b[39m=\u001b[39m \u001b[39mself\u001b[39m\u001b[39m.\u001b[39mdefault_assumptions\u001b[39m.\u001b[39mcopy()\n\u001b[0;32m--> 466\u001b[0m \u001b[39mreturn\u001b[39;00m _ask(fact, \u001b[39mself\u001b[39;49m)\n",
      "File \u001b[0;32m/Library/Frameworks/Python.framework/Versions/3.10/lib/python3.10/site-packages/sympy/core/assumptions.py:521\u001b[0m, in \u001b[0;36m_ask\u001b[0;34m(fact, obj)\u001b[0m\n\u001b[1;32m    519\u001b[0m     \u001b[39mcontinue\u001b[39;00m\n\u001b[1;32m    520\u001b[0m \u001b[39mif\u001b[39;00m pk \u001b[39min\u001b[39;00m handler_map:\n\u001b[0;32m--> 521\u001b[0m     _ask(pk, obj)\n\u001b[1;32m    523\u001b[0m     \u001b[39m# we might have found the value of fact\u001b[39;00m\n\u001b[1;32m    524\u001b[0m     ret_val \u001b[39m=\u001b[39m assumptions\u001b[39m.\u001b[39mget(fact)\n",
      "File \u001b[0;32m/Library/Frameworks/Python.framework/Versions/3.10/lib/python3.10/site-packages/sympy/core/assumptions.py:521\u001b[0m, in \u001b[0;36m_ask\u001b[0;34m(fact, obj)\u001b[0m\n\u001b[1;32m    519\u001b[0m     \u001b[39mcontinue\u001b[39;00m\n\u001b[1;32m    520\u001b[0m \u001b[39mif\u001b[39;00m pk \u001b[39min\u001b[39;00m handler_map:\n\u001b[0;32m--> 521\u001b[0m     _ask(pk, obj)\n\u001b[1;32m    523\u001b[0m     \u001b[39m# we might have found the value of fact\u001b[39;00m\n\u001b[1;32m    524\u001b[0m     ret_val \u001b[39m=\u001b[39m assumptions\u001b[39m.\u001b[39mget(fact)\n",
      "File \u001b[0;32m/Library/Frameworks/Python.framework/Versions/3.10/lib/python3.10/site-packages/sympy/core/assumptions.py:509\u001b[0m, in \u001b[0;36m_ask\u001b[0;34m(fact, obj)\u001b[0m\n\u001b[1;32m    507\u001b[0m     \u001b[39mpass\u001b[39;00m\n\u001b[1;32m    508\u001b[0m \u001b[39melse\u001b[39;00m:\n\u001b[0;32m--> 509\u001b[0m     a \u001b[39m=\u001b[39m evaluate(obj)\n\u001b[1;32m    510\u001b[0m     \u001b[39mif\u001b[39;00m a \u001b[39mis\u001b[39;00m \u001b[39mnot\u001b[39;00m \u001b[39mNone\u001b[39;00m:\n\u001b[1;32m    511\u001b[0m         assumptions\u001b[39m.\u001b[39mdeduce_all_facts(((fact, a),))\n",
      "File \u001b[0;32m/Library/Frameworks/Python.framework/Versions/3.10/lib/python3.10/site-packages/sympy/core/mul.py:1578\u001b[0m, in \u001b[0;36mMul._eval_is_odd\u001b[0;34m(self)\u001b[0m\n\u001b[1;32m   1576\u001b[0m \u001b[39mdef\u001b[39;00m \u001b[39m_eval_is_odd\u001b[39m(\u001b[39mself\u001b[39m):\n\u001b[1;32m   1577\u001b[0m     \u001b[39mfrom\u001b[39;00m \u001b[39msympy\u001b[39;00m \u001b[39mimport\u001b[39;00m trailing, fraction\n\u001b[0;32m-> 1578\u001b[0m     is_integer \u001b[39m=\u001b[39m \u001b[39mself\u001b[39;49m\u001b[39m.\u001b[39;49mis_integer\n\u001b[1;32m   1579\u001b[0m     \u001b[39mif\u001b[39;00m is_integer:\n\u001b[1;32m   1580\u001b[0m         \u001b[39mif\u001b[39;00m \u001b[39mself\u001b[39m\u001b[39m.\u001b[39mis_zero:\n",
      "File \u001b[0;32m/Library/Frameworks/Python.framework/Versions/3.10/lib/python3.10/site-packages/sympy/core/assumptions.py:466\u001b[0m, in \u001b[0;36mmake_property.<locals>.getit\u001b[0;34m(self)\u001b[0m\n\u001b[1;32m    464\u001b[0m \u001b[39mif\u001b[39;00m \u001b[39mself\u001b[39m\u001b[39m.\u001b[39m_assumptions \u001b[39mis\u001b[39;00m \u001b[39mself\u001b[39m\u001b[39m.\u001b[39mdefault_assumptions:\n\u001b[1;32m    465\u001b[0m     \u001b[39mself\u001b[39m\u001b[39m.\u001b[39m_assumptions \u001b[39m=\u001b[39m \u001b[39mself\u001b[39m\u001b[39m.\u001b[39mdefault_assumptions\u001b[39m.\u001b[39mcopy()\n\u001b[0;32m--> 466\u001b[0m \u001b[39mreturn\u001b[39;00m _ask(fact, \u001b[39mself\u001b[39;49m)\n",
      "File \u001b[0;32m/Library/Frameworks/Python.framework/Versions/3.10/lib/python3.10/site-packages/sympy/core/assumptions.py:521\u001b[0m, in \u001b[0;36m_ask\u001b[0;34m(fact, obj)\u001b[0m\n\u001b[1;32m    519\u001b[0m     \u001b[39mcontinue\u001b[39;00m\n\u001b[1;32m    520\u001b[0m \u001b[39mif\u001b[39;00m pk \u001b[39min\u001b[39;00m handler_map:\n\u001b[0;32m--> 521\u001b[0m     _ask(pk, obj)\n\u001b[1;32m    523\u001b[0m     \u001b[39m# we might have found the value of fact\u001b[39;00m\n\u001b[1;32m    524\u001b[0m     ret_val \u001b[39m=\u001b[39m assumptions\u001b[39m.\u001b[39mget(fact)\n",
      "File \u001b[0;32m/Library/Frameworks/Python.framework/Versions/3.10/lib/python3.10/site-packages/sympy/core/assumptions.py:521\u001b[0m, in \u001b[0;36m_ask\u001b[0;34m(fact, obj)\u001b[0m\n\u001b[1;32m    519\u001b[0m     \u001b[39mcontinue\u001b[39;00m\n\u001b[1;32m    520\u001b[0m \u001b[39mif\u001b[39;00m pk \u001b[39min\u001b[39;00m handler_map:\n\u001b[0;32m--> 521\u001b[0m     _ask(pk, obj)\n\u001b[1;32m    523\u001b[0m     \u001b[39m# we might have found the value of fact\u001b[39;00m\n\u001b[1;32m    524\u001b[0m     ret_val \u001b[39m=\u001b[39m assumptions\u001b[39m.\u001b[39mget(fact)\n",
      "File \u001b[0;32m/Library/Frameworks/Python.framework/Versions/3.10/lib/python3.10/site-packages/sympy/core/assumptions.py:521\u001b[0m, in \u001b[0;36m_ask\u001b[0;34m(fact, obj)\u001b[0m\n\u001b[1;32m    519\u001b[0m     \u001b[39mcontinue\u001b[39;00m\n\u001b[1;32m    520\u001b[0m \u001b[39mif\u001b[39;00m pk \u001b[39min\u001b[39;00m handler_map:\n\u001b[0;32m--> 521\u001b[0m     _ask(pk, obj)\n\u001b[1;32m    523\u001b[0m     \u001b[39m# we might have found the value of fact\u001b[39;00m\n\u001b[1;32m    524\u001b[0m     ret_val \u001b[39m=\u001b[39m assumptions\u001b[39m.\u001b[39mget(fact)\n",
      "File \u001b[0;32m/Library/Frameworks/Python.framework/Versions/3.10/lib/python3.10/site-packages/sympy/core/assumptions.py:509\u001b[0m, in \u001b[0;36m_ask\u001b[0;34m(fact, obj)\u001b[0m\n\u001b[1;32m    507\u001b[0m     \u001b[39mpass\u001b[39;00m\n\u001b[1;32m    508\u001b[0m \u001b[39melse\u001b[39;00m:\n\u001b[0;32m--> 509\u001b[0m     a \u001b[39m=\u001b[39m evaluate(obj)\n\u001b[1;32m    510\u001b[0m     \u001b[39mif\u001b[39;00m a \u001b[39mis\u001b[39;00m \u001b[39mnot\u001b[39;00m \u001b[39mNone\u001b[39;00m:\n\u001b[1;32m    511\u001b[0m         assumptions\u001b[39m.\u001b[39mdeduce_all_facts(((fact, a),))\n",
      "File \u001b[0;32m/Library/Frameworks/Python.framework/Versions/3.10/lib/python3.10/site-packages/sympy/core/expr.py:853\u001b[0m, in \u001b[0;36mExpr._eval_is_positive\u001b[0;34m(self)\u001b[0m\n\u001b[1;32m    851\u001b[0m \u001b[39mif\u001b[39;00m finite \u001b[39mis\u001b[39;00m \u001b[39mFalse\u001b[39;00m:\n\u001b[1;32m    852\u001b[0m     \u001b[39mreturn\u001b[39;00m \u001b[39mFalse\u001b[39;00m\n\u001b[0;32m--> 853\u001b[0m extended_positive \u001b[39m=\u001b[39m \u001b[39mself\u001b[39;49m\u001b[39m.\u001b[39;49mis_extended_positive\n\u001b[1;32m    854\u001b[0m \u001b[39mif\u001b[39;00m finite \u001b[39mis\u001b[39;00m \u001b[39mTrue\u001b[39;00m:\n\u001b[1;32m    855\u001b[0m     \u001b[39mreturn\u001b[39;00m extended_positive\n",
      "File \u001b[0;32m/Library/Frameworks/Python.framework/Versions/3.10/lib/python3.10/site-packages/sympy/core/assumptions.py:466\u001b[0m, in \u001b[0;36mmake_property.<locals>.getit\u001b[0;34m(self)\u001b[0m\n\u001b[1;32m    464\u001b[0m \u001b[39mif\u001b[39;00m \u001b[39mself\u001b[39m\u001b[39m.\u001b[39m_assumptions \u001b[39mis\u001b[39;00m \u001b[39mself\u001b[39m\u001b[39m.\u001b[39mdefault_assumptions:\n\u001b[1;32m    465\u001b[0m     \u001b[39mself\u001b[39m\u001b[39m.\u001b[39m_assumptions \u001b[39m=\u001b[39m \u001b[39mself\u001b[39m\u001b[39m.\u001b[39mdefault_assumptions\u001b[39m.\u001b[39mcopy()\n\u001b[0;32m--> 466\u001b[0m \u001b[39mreturn\u001b[39;00m _ask(fact, \u001b[39mself\u001b[39;49m)\n",
      "File \u001b[0;32m/Library/Frameworks/Python.framework/Versions/3.10/lib/python3.10/site-packages/sympy/core/assumptions.py:521\u001b[0m, in \u001b[0;36m_ask\u001b[0;34m(fact, obj)\u001b[0m\n\u001b[1;32m    519\u001b[0m     \u001b[39mcontinue\u001b[39;00m\n\u001b[1;32m    520\u001b[0m \u001b[39mif\u001b[39;00m pk \u001b[39min\u001b[39;00m handler_map:\n\u001b[0;32m--> 521\u001b[0m     _ask(pk, obj)\n\u001b[1;32m    523\u001b[0m     \u001b[39m# we might have found the value of fact\u001b[39;00m\n\u001b[1;32m    524\u001b[0m     ret_val \u001b[39m=\u001b[39m assumptions\u001b[39m.\u001b[39mget(fact)\n",
      "File \u001b[0;32m/Library/Frameworks/Python.framework/Versions/3.10/lib/python3.10/site-packages/sympy/core/assumptions.py:509\u001b[0m, in \u001b[0;36m_ask\u001b[0;34m(fact, obj)\u001b[0m\n\u001b[1;32m    507\u001b[0m     \u001b[39mpass\u001b[39;00m\n\u001b[1;32m    508\u001b[0m \u001b[39melse\u001b[39;00m:\n\u001b[0;32m--> 509\u001b[0m     a \u001b[39m=\u001b[39m evaluate(obj)\n\u001b[1;32m    510\u001b[0m     \u001b[39mif\u001b[39;00m a \u001b[39mis\u001b[39;00m \u001b[39mnot\u001b[39;00m \u001b[39mNone\u001b[39;00m:\n\u001b[1;32m    511\u001b[0m         assumptions\u001b[39m.\u001b[39mdeduce_all_facts(((fact, a),))\n",
      "File \u001b[0;32m/Library/Frameworks/Python.framework/Versions/3.10/lib/python3.10/site-packages/sympy/core/mul.py:1455\u001b[0m, in \u001b[0;36mMul._eval_is_imaginary\u001b[0;34m(self)\u001b[0m\n\u001b[1;32m   1454\u001b[0m \u001b[39mdef\u001b[39;00m \u001b[39m_eval_is_imaginary\u001b[39m(\u001b[39mself\u001b[39m):\n\u001b[0;32m-> 1455\u001b[0m     z \u001b[39m=\u001b[39m \u001b[39mself\u001b[39;49m\u001b[39m.\u001b[39;49mis_zero\n\u001b[1;32m   1456\u001b[0m     \u001b[39mif\u001b[39;00m z:\n\u001b[1;32m   1457\u001b[0m         \u001b[39mreturn\u001b[39;00m \u001b[39mFalse\u001b[39;00m\n",
      "File \u001b[0;32m/Library/Frameworks/Python.framework/Versions/3.10/lib/python3.10/site-packages/sympy/core/assumptions.py:466\u001b[0m, in \u001b[0;36mmake_property.<locals>.getit\u001b[0;34m(self)\u001b[0m\n\u001b[1;32m    464\u001b[0m \u001b[39mif\u001b[39;00m \u001b[39mself\u001b[39m\u001b[39m.\u001b[39m_assumptions \u001b[39mis\u001b[39;00m \u001b[39mself\u001b[39m\u001b[39m.\u001b[39mdefault_assumptions:\n\u001b[1;32m    465\u001b[0m     \u001b[39mself\u001b[39m\u001b[39m.\u001b[39m_assumptions \u001b[39m=\u001b[39m \u001b[39mself\u001b[39m\u001b[39m.\u001b[39mdefault_assumptions\u001b[39m.\u001b[39mcopy()\n\u001b[0;32m--> 466\u001b[0m \u001b[39mreturn\u001b[39;00m _ask(fact, \u001b[39mself\u001b[39;49m)\n",
      "File \u001b[0;32m/Library/Frameworks/Python.framework/Versions/3.10/lib/python3.10/site-packages/sympy/core/assumptions.py:521\u001b[0m, in \u001b[0;36m_ask\u001b[0;34m(fact, obj)\u001b[0m\n\u001b[1;32m    519\u001b[0m     \u001b[39mcontinue\u001b[39;00m\n\u001b[1;32m    520\u001b[0m \u001b[39mif\u001b[39;00m pk \u001b[39min\u001b[39;00m handler_map:\n\u001b[0;32m--> 521\u001b[0m     _ask(pk, obj)\n\u001b[1;32m    523\u001b[0m     \u001b[39m# we might have found the value of fact\u001b[39;00m\n\u001b[1;32m    524\u001b[0m     ret_val \u001b[39m=\u001b[39m assumptions\u001b[39m.\u001b[39mget(fact)\n",
      "File \u001b[0;32m/Library/Frameworks/Python.framework/Versions/3.10/lib/python3.10/site-packages/sympy/core/assumptions.py:521\u001b[0m, in \u001b[0;36m_ask\u001b[0;34m(fact, obj)\u001b[0m\n\u001b[1;32m    519\u001b[0m     \u001b[39mcontinue\u001b[39;00m\n\u001b[1;32m    520\u001b[0m \u001b[39mif\u001b[39;00m pk \u001b[39min\u001b[39;00m handler_map:\n\u001b[0;32m--> 521\u001b[0m     _ask(pk, obj)\n\u001b[1;32m    523\u001b[0m     \u001b[39m# we might have found the value of fact\u001b[39;00m\n\u001b[1;32m    524\u001b[0m     ret_val \u001b[39m=\u001b[39m assumptions\u001b[39m.\u001b[39mget(fact)\n",
      "    \u001b[0;31m[... skipping similar frames: _ask at line 521 (4 times)]\u001b[0m\n",
      "File \u001b[0;32m/Library/Frameworks/Python.framework/Versions/3.10/lib/python3.10/site-packages/sympy/core/assumptions.py:521\u001b[0m, in \u001b[0;36m_ask\u001b[0;34m(fact, obj)\u001b[0m\n\u001b[1;32m    519\u001b[0m     \u001b[39mcontinue\u001b[39;00m\n\u001b[1;32m    520\u001b[0m \u001b[39mif\u001b[39;00m pk \u001b[39min\u001b[39;00m handler_map:\n\u001b[0;32m--> 521\u001b[0m     _ask(pk, obj)\n\u001b[1;32m    523\u001b[0m     \u001b[39m# we might have found the value of fact\u001b[39;00m\n\u001b[1;32m    524\u001b[0m     ret_val \u001b[39m=\u001b[39m assumptions\u001b[39m.\u001b[39mget(fact)\n",
      "File \u001b[0;32m/Library/Frameworks/Python.framework/Versions/3.10/lib/python3.10/site-packages/sympy/core/assumptions.py:516\u001b[0m, in \u001b[0;36m_ask\u001b[0;34m(fact, obj)\u001b[0m\n\u001b[1;32m    514\u001b[0m \u001b[39m# Try assumption's prerequisites\u001b[39;00m\n\u001b[1;32m    515\u001b[0m prereq \u001b[39m=\u001b[39m \u001b[39mlist\u001b[39m(_assume_rules\u001b[39m.\u001b[39mprereq[fact])\n\u001b[0;32m--> 516\u001b[0m shuffle(prereq)\n\u001b[1;32m    517\u001b[0m \u001b[39mfor\u001b[39;00m pk \u001b[39min\u001b[39;00m prereq:\n\u001b[1;32m    518\u001b[0m     \u001b[39mif\u001b[39;00m pk \u001b[39min\u001b[39;00m assumptions:\n",
      "File \u001b[0;32m/Library/Frameworks/Python.framework/Versions/3.10/lib/python3.10/random.py:394\u001b[0m, in \u001b[0;36mRandom.shuffle\u001b[0;34m(self, x, random)\u001b[0m\n\u001b[1;32m    391\u001b[0m     \u001b[39mfor\u001b[39;00m i \u001b[39min\u001b[39;00m \u001b[39mreversed\u001b[39m(\u001b[39mrange\u001b[39m(\u001b[39m1\u001b[39m, \u001b[39mlen\u001b[39m(x))):\n\u001b[1;32m    392\u001b[0m         \u001b[39m# pick an element in x[:i+1] with which to exchange x[i]\u001b[39;00m\n\u001b[1;32m    393\u001b[0m         j \u001b[39m=\u001b[39m randbelow(i \u001b[39m+\u001b[39m \u001b[39m1\u001b[39m)\n\u001b[0;32m--> 394\u001b[0m         x[i], x[j] \u001b[39m=\u001b[39m x[j], x[i]\n\u001b[1;32m    395\u001b[0m \u001b[39melse\u001b[39;00m:\n\u001b[1;32m    396\u001b[0m     _warn(\u001b[39m'\u001b[39m\u001b[39mThe *random* parameter to shuffle() has been deprecated\u001b[39m\u001b[39m\\n\u001b[39;00m\u001b[39m'\u001b[39m\n\u001b[1;32m    397\u001b[0m           \u001b[39m'\u001b[39m\u001b[39msince Python 3.9 and will be removed in a subsequent \u001b[39m\u001b[39m'\u001b[39m\n\u001b[1;32m    398\u001b[0m           \u001b[39m'\u001b[39m\u001b[39mversion.\u001b[39m\u001b[39m'\u001b[39m,\n\u001b[1;32m    399\u001b[0m           \u001b[39mDeprecationWarning\u001b[39;00m, \u001b[39m2\u001b[39m)\n",
      "\u001b[0;31mKeyboardInterrupt\u001b[0m: "
     ]
    }
   ],
   "source": [
    "sol2 = solve([rho_dot(3,3), rho_dot(2,2)], [C1, C2, C3])"
   ]
  },
  {
   "cell_type": "code",
   "execution_count": null,
   "metadata": {},
   "outputs": [
    {
     "data": {
      "text/latex": [
       "$\\displaystyle C_{1} \\left(\\frac{i e^{i \\overline{\\omega_{1}} \\overline{t}} e^{- i \\overline{\\omega_{2}} \\overline{t}} \\overline{C_{1}} \\overline{\\Omega_{b}}}{2} - i \\overline{C_{2}} \\overline{\\Delta} + \\frac{i e^{- i \\overline{\\omega_{2}} \\overline{t}} e^{i \\overline{\\omega_{3}} \\overline{t}} \\overline{C_{3}} \\overline{\\Omega_{r}}}{2}\\right) - \\frac{i C_{2} \\Omega_{b} e^{i \\omega_{1} t} e^{- i \\omega_{2} t} \\overline{C_{2}}}{2}$"
      ],
      "text/plain": [
       "C1*(I*exp(I*conjugate(\\omega_1)*conjugate(t))*exp(-I*conjugate(\\omega_2)*conjugate(t))*conjugate(C1)*conjugate(\\Omega_b)/2 - I*conjugate(C2)*conjugate(\\Delta) + I*exp(-I*conjugate(\\omega_2)*conjugate(t))*exp(I*conjugate(\\omega_3)*conjugate(t))*conjugate(C3)*conjugate(\\Omega_r)/2) - I*C2*\\Omega_b*exp(I*\\omega_1*t)*exp(-I*\\omega_2*t)*conjugate(C2)/2"
      ]
     },
     "execution_count": 49,
     "metadata": {},
     "output_type": "execute_result"
    }
   ],
   "source": [
    "sol2"
   ]
  },
  {
   "cell_type": "code",
   "execution_count": null,
   "metadata": {},
   "outputs": [],
   "source": []
  }
 ],
 "metadata": {
  "kernelspec": {
   "display_name": "Python 3.10.2 64-bit",
   "language": "python",
   "name": "python3"
  },
  "language_info": {
   "codemirror_mode": {
    "name": "ipython",
    "version": 3
   },
   "file_extension": ".py",
   "mimetype": "text/x-python",
   "name": "python",
   "nbconvert_exporter": "python",
   "pygments_lexer": "ipython3",
   "version": "3.10.2"
  },
  "orig_nbformat": 4,
  "vscode": {
   "interpreter": {
    "hash": "aee8b7b246df8f9039afb4144a1f6fd8d2ca17a180786b69acc140d282b71a49"
   }
  }
 },
 "nbformat": 4,
 "nbformat_minor": 2
}
