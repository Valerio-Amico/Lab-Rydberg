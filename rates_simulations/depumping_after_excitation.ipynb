{
 "cells": [
  {
   "cell_type": "code",
   "execution_count": 1,
   "metadata": {},
   "outputs": [],
   "source": [
    "import numpy as np\n",
    "from sympy import *\n",
    "import matplotlib.pyplot as plt"
   ]
  },
  {
   "cell_type": "markdown",
   "metadata": {},
   "source": [
    "for $0<t<t_0$:\n",
    "\n",
    "$\n",
    "N_2(t) = N_{Mot} \\Gamma_{exc} t\n",
    "$\n",
    "\n",
    "$\n",
    "N_1(t) = 0\n",
    "$\n",
    "\n",
    "for $t>t_0$:\n",
    "\n",
    "$\n",
    "N_2(t) = N_{Mot} \\Gamma_{exc} \\Gamma{ry} t_0 e^{-\\Gamma_{ry}(t-t_0)}\n",
    "$\n",
    "\n",
    "$\n",
    "N_1(t) = \\frac{N_{Mot} \\Gamma_{exc} \\Gamma{ry} t_0}{\\Gamma_{6p}-\\Gamma{ry}}(e^{-\\Gamma_{ry}(t-t_0)}-e^{-\\Gamma_{6p}(t-t_0)})\n",
    "$\n"
   ]
  },
  {
   "cell_type": "markdown",
   "metadata": {},
   "source": [
    "i don't implement them yet"
   ]
  },
  {
   "cell_type": "code",
   "execution_count": 2,
   "metadata": {},
   "outputs": [],
   "source": [
    "def N2(t, Gamma_ry, N_Mot, Gamma_exc): return (1-np.exp(-Gamma_ry*t))*N_Mot*Gamma_exc/Gamma_ry\n",
    "\n",
    "def N1(t, Gamma_ry, N_Mot, Gamma_exc, Gamma_6p): return N_Mot*Gamma_exc*np.exp(-Gamma_6p*t)*((1/Gamma_6p)*(1-np.exp(-Gamma_6p*t))-(1/(Gamma_ry+Gamma_6p))*(1-np.exp(-(Gamma_ry+Gamma_6p)*t)))"
   ]
  }
 ],
 "metadata": {
  "interpreter": {
   "hash": "aee8b7b246df8f9039afb4144a1f6fd8d2ca17a180786b69acc140d282b71a49"
  },
  "kernelspec": {
   "display_name": "Python 3.10.2 64-bit",
   "language": "python",
   "name": "python3"
  },
  "language_info": {
   "codemirror_mode": {
    "name": "ipython",
    "version": 3
   },
   "file_extension": ".py",
   "mimetype": "text/x-python",
   "name": "python",
   "nbconvert_exporter": "python",
   "pygments_lexer": "ipython3",
   "version": "3.10.2"
  },
  "orig_nbformat": 4
 },
 "nbformat": 4,
 "nbformat_minor": 2
}
