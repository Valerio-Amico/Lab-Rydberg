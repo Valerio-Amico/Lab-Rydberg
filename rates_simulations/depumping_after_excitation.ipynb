{
 "cells": [
  {
   "cell_type": "code",
   "execution_count": 3,
   "metadata": {},
   "outputs": [],
   "source": [
    "import numpy as np\n",
    "from sympy import *\n",
    "import matplotlib.pyplot as plt\n",
    "from scipy.integrate import solve_ivp"
   ]
  },
  {
   "cell_type": "markdown",
   "metadata": {},
   "source": [
    "for $0<t<t_0$:\n",
    "\n",
    "$\n",
    "N_2(t) = N_{Mot} \\Gamma_{exc} t\n",
    "$\n",
    "\n",
    "$\n",
    "N_1(t) = 0\n",
    "$\n",
    "\n",
    "for $t>t_0$:\n",
    "\n",
    "$\n",
    "N_2(t) = N_{Mot} \\Gamma_{exc} \\Gamma{ry} t_0 e^{-\\Gamma_{ry}(t-t_0)}\n",
    "$\n",
    "\n",
    "$\n",
    "N_1(t) = \\frac{N_{Mot} \\Gamma_{exc} \\Gamma{ry} t_0}{\\Gamma_{6p}-\\Gamma{ry}}(e^{-\\Gamma_{ry}(t-t_0)}-e^{-\\Gamma_{6p}(t-t_0)})\n",
    "$\n"
   ]
  },
  {
   "cell_type": "markdown",
   "metadata": {},
   "source": [
    "i don't implement them yet"
   ]
  },
  {
   "cell_type": "code",
   "execution_count": 2,
   "metadata": {},
   "outputs": [],
   "source": [
    "def N2(t, Gamma_ry, N_Mot, Gamma_exc): return (1-np.exp(-Gamma_ry*t))*N_Mot*Gamma_exc/Gamma_ry\n",
    "\n",
    "def N1(t, Gamma_ry, N_Mot, Gamma_exc, Gamma_6p): return N_Mot*Gamma_exc*np.exp(-Gamma_6p*t)*((1/Gamma_6p)*(1-np.exp(-Gamma_6p*t))-(1/(Gamma_ry+Gamma_6p))*(1-np.exp(-(Gamma_ry+Gamma_6p)*t)))"
   ]
  },
  {
   "cell_type": "code",
   "execution_count": null,
   "metadata": {},
   "outputs": [],
   "source": []
  },
  {
   "cell_type": "code",
   "execution_count": 44,
   "metadata": {},
   "outputs": [],
   "source": [
    "Gamma_ry_range = np.arange(0.00001,0.3,0.001)\n",
    "N6p = []\n",
    "N70s = []\n",
    "\n",
    "N_Mot = 10000\n",
    "Gamma_exc = 0.1/N_Mot\n",
    "Gamma_ry = 0.1\n",
    "Gamma_6p = 8\n",
    "C1 = -Gamma_exc*N_Mot/Gamma_ry\n",
    "\n",
    "for Gamma_ry in Gamma_ry_range:\n",
    "    F = lambda t, s: np.dot(np.array([[-Gamma_ry, Gamma_ry], [Gamma_ry, -(Gamma_6p+Gamma_ry)]]), s)#+np.array([N_Mot*Gamma_exc, 0])\n",
    "\n",
    "    t_eval = np.arange(0,6, 0.01)\n",
    "    sol = solve_ivp(F, [0, 6], [5, 0], t_eval=t_eval)\n",
    "\n",
    "    N6p.append(sol.y.T[-1, 1])\n",
    "    N70s.append(sol.y.T[-1, 0])"
   ]
  },
  {
   "cell_type": "code",
   "execution_count": 45,
   "metadata": {},
   "outputs": [
    {
     "data": {
      "image/png": "[encoded data removed]",
      "text/plain": [
       "<Figure size 432x288 with 2 Axes>"
      ]
     },
     "metadata": {
      "needs_background": "light"
     },
     "output_type": "display_data"
    }
   ],
   "source": [
    "fig, ax1 = plt.subplots()\n",
    "\n",
    "ax1.plot(Gamma_ry_range, N6p, label=\"N_6p\", color=\"b\")\n",
    "ax1.set_ylabel('N 6p', color=\"b\")\n",
    "\n",
    "ax2 = ax1.twinx() \n",
    "\n",
    "\n",
    "ax2.plot(Gamma_ry_range, N70s, label=\"N_ry\", color=\"r\")\n",
    "ax2.set_ylabel('N 70s', color=\"r\")\n",
    "ax2.set_ylim([0,max(N70s)+1])\n",
    "\n",
    "ax1.set_xlabel(\"dep. rate (Mhz)\")\n",
    "\n",
    "plt.show()"
   ]
  },
  {
   "cell_type": "code",
   "execution_count": 41,
   "metadata": {},
   "outputs": [
    {
     "data": {
      "text/plain": [
       "0.036"
      ]
     },
     "execution_count": 41,
     "metadata": {},
     "output_type": "execute_result"
    }
   ],
   "source": [
    "0.18/5"
   ]
  },
  {
   "cell_type": "code",
   "execution_count": null,
   "metadata": {},
   "outputs": [],
   "source": []
  }
 ],
 "metadata": {
  "interpreter": {
   "hash": "aee8b7b246df8f9039afb4144a1f6fd8d2ca17a180786b69acc140d282b71a49"
  },
  "kernelspec": {
   "display_name": "Python 3.10.2 64-bit",
   "language": "python",
   "name": "python3"
  },
  "language_info": {
   "codemirror_mode": {
    "name": "ipython",
    "version": 3
   },
   "file_extension": ".py",
   "mimetype": "text/x-python",
   "name": "python",
   "nbconvert_exporter": "python",
   "pygments_lexer": "ipython3",
   "version": "3.10.2"
  },
  "orig_nbformat": 4
 },
 "nbformat": 4,
 "nbformat_minor": 2
}
