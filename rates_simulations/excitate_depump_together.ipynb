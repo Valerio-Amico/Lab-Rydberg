{
 "cells": [
  {
   "cell_type": "markdown",
   "metadata": {},
   "source": [
    "# Excitation and depumping (together) rate\n",
    "\n",
    "We use the following notations:\n",
    "\n",
    "![energy_levels](figures/energy_levels.png)\n",
    "\n",
    "- $N_1(t)$ is the numer of 6p atoms by time.\n",
    "- $N_2(t)$ is the number of 70s atoms by time.\n",
    "- $N_{Mot}$ is the total number of atoms in the Mot, we assume it stable.\n",
    "\n",
    "We assume the following system of equations for the rates:\n",
    "\n",
    "- 1) equation for $N_2$:\n",
    "    - depends on the number of atoms in the mot times the excitation rate.\n",
    "    - depends on the number of states in the rydberg state that decades for both spontaneus (neglectble) and stimolated emission in the 6p.\n",
    "    - we neglect the transition 6p-70s couse of the detuning that make it neglectble.\n",
    "\n",
    "$\n",
    "\\frac{dN_2}{dt} = N_{Mot} \\Gamma_{exc} - N_2 \\Gamma_{ryd} + N_1 \\Gamma_{ry}\n",
    "$\n",
    "\n",
    "- 1) equation for $N_1$:\n",
    "    - depends on the number of atoms in the 6p times the decay rate.\n",
    "    - depends on the number of states in the rydberg state that decades for both spontaneus (neglectble) and stimolated emission in the 6p.\n",
    "\n",
    "$\n",
    "\\frac{dN_1}{dt} = - N_{1} (\\Gamma_{6p}+\\Gamma_{ry}) + N_2 \\Gamma_{ry}\n",
    "$\n",
    "\n",
    "Putting the initial condition $N_1(0)=N_2(0)=0$ the solutions are:\n",
    "\n",
    "$\n",
    "N_2(t) = \\frac{N_{Mot} \\Gamma_{exc}}{\\Gamma_{ry}}(1-e^{-\\Gamma_{ry}t})\n",
    "$\n",
    "\n",
    "$\n",
    "N_1(t) = \\frac{N_{Mot} \\Gamma_{exc}}{\\Gamma_{6p}}(1-e^{-\\Gamma_{6p}t})+\\frac{N_{Mot} \\Gamma_{exc}}{\\Gamma_{6p}-\\Gamma_{ry}}(e^{-\\Gamma_{6p}t}-e^{-\\Gamma_{ry}t})\n",
    "$"
   ]
  },
  {
   "cell_type": "code",
   "execution_count": 18,
   "metadata": {},
   "outputs": [],
   "source": [
    "import numpy as np\n",
    "from sympy import *\n",
    "import matplotlib.pyplot as plt"
   ]
  },
  {
   "cell_type": "code",
   "execution_count": 19,
   "metadata": {},
   "outputs": [],
   "source": [
    "def N2(t, Gamma_ry, N_Mot, Gamma_exc): return (1-np.exp(-Gamma_ry*t))*N_Mot*Gamma_exc/Gamma_ry\n",
    "\n",
    "def N1(t, Gamma_ry, N_Mot, Gamma_exc, Gamma_6p): return N_Mot*Gamma_exc*(1-np.exp(-Gamma_6p*t))*(1/Gamma_6p) + N_Mot*Gamma_exc*(np.exp(-Gamma_6p*t)-np.exp(-Gamma_ry*t))/(-Gamma_ry+Gamma_6p)"
   ]
  },
  {
   "cell_type": "code",
   "execution_count": 28,
   "metadata": {},
   "outputs": [],
   "source": [
    "Gamma_ry=np.linspace(0.001,2,500)\n",
    "\n",
    "t=10 #np.linspace(0.001,5,500)\n",
    "Gamma_6p = 10\n",
    "N_Mot = 10000\n",
    "Gamma_exc = 1/N_Mot\n",
    "\n",
    "N1_values = N1(t, Gamma_ry, N_Mot, Gamma_exc, Gamma_6p)\n",
    "\n",
    "N2_values = N2(t, Gamma_ry, N_Mot, Gamma_exc)\n"
   ]
  },
  {
   "cell_type": "code",
   "execution_count": 29,
   "metadata": {},
   "outputs": [
    {
     "data": {
      "image/png": "[encoded data removed]",
      "text/plain": [
       "<Figure size 432x288 with 2 Axes>"
      ]
     },
     "metadata": {
      "needs_background": "light"
     },
     "output_type": "display_data"
    }
   ],
   "source": [
    "fig, ax1 = plt.subplots()\n",
    "\n",
    "ax1.plot(Gamma_ry, N1_values, label=\"N_6p\", color=\"b\")\n",
    "ax1.set_ylabel('N 6p', color=\"b\")\n",
    "\n",
    "ax2 = ax1.twinx() \n",
    "\n",
    "\n",
    "ax2.plot(Gamma_ry, N2_values, label=\"N_ry\", color=\"r\")\n",
    "ax2.set_ylabel('N 70s', color=\"r\")\n",
    "\n",
    "ax1.set_xlabel(\"dep. rate (Mhz)\")\n",
    "\n",
    "plt.show()"
   ]
  },
  {
   "cell_type": "code",
   "execution_count": 26,
   "metadata": {},
   "outputs": [],
   "source": [
    "Gamma_ry=0.1\n",
    "\n",
    "t=np.linspace(0.001,100,500)\n",
    "Gamma_6p = 10\n",
    "N_Mot = 10000\n",
    "Gamma_exc = 1/N_Mot\n",
    "\n",
    "N1_values = N1(t, Gamma_ry, N_Mot, Gamma_exc, Gamma_6p)\n",
    "\n",
    "N2_values = N2(t, Gamma_ry, N_Mot, Gamma_exc)"
   ]
  },
  {
   "cell_type": "code",
   "execution_count": 27,
   "metadata": {},
   "outputs": [
    {
     "data": {
      "image/png": "[encoded data removed]",
      "text/plain": [
       "<Figure size 432x288 with 2 Axes>"
      ]
     },
     "metadata": {
      "needs_background": "light"
     },
     "output_type": "display_data"
    }
   ],
   "source": [
    "fig, ax1 = plt.subplots()\n",
    "\n",
    "ax1.plot(t, N1_values, label=\"N_6p\", color=\"b\")\n",
    "ax1.set_ylabel('N 6p', color=\"b\")\n",
    "\n",
    "ax2 = ax1.twinx() \n",
    "\n",
    "\n",
    "ax2.plot(t, N2_values, label=\"N_ry\", color=\"r\")\n",
    "ax2.set_ylabel('N 70s', color=\"r\")\n",
    "\n",
    "ax1.set_xlabel(\"time\")\n",
    "\n",
    "plt.show()"
   ]
  },
  {
   "cell_type": "code",
   "execution_count": null,
   "metadata": {},
   "outputs": [],
   "source": []
  }
 ],
 "metadata": {
  "interpreter": {
   "hash": "aee8b7b246df8f9039afb4144a1f6fd8d2ca17a180786b69acc140d282b71a49"
  },
  "kernelspec": {
   "display_name": "Python 3.10.2 64-bit",
   "language": "python",
   "name": "python3"
  },
  "language_info": {
   "codemirror_mode": {
    "name": "ipython",
    "version": 3
   },
   "file_extension": ".py",
   "mimetype": "text/x-python",
   "name": "python",
   "nbconvert_exporter": "python",
   "pygments_lexer": "ipython3",
   "version": "3.10.2"
  },
  "orig_nbformat": 4
 },
 "nbformat": 4,
 "nbformat_minor": 2
}
