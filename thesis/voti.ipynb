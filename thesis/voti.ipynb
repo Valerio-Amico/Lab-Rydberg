{
 "cells": [
  {
   "cell_type": "code",
   "execution_count": 5,
   "metadata": {},
   "outputs": [
    {
     "name": "stdout",
     "output_type": "stream",
     "text": [
      "tot crediti: 120\n",
      "29.08 / 30 ;  87.24 / 90\n",
      "110\n"
     ]
    }
   ],
   "source": [
    "esami = {\n",
    "    \"ottica_atomica\": [9, 30],\n",
    "    \"bayesiana\": [6, 30],\n",
    "    \"quantum_computing\": [9, 28],\n",
    "    \"dinamica_non_lineare\": [9, 29],\n",
    "    \"data_mining\": [6, 29],\n",
    "    \"fisica_statistica\": [9, 30],\n",
    "    \"sistemi_complessi\": [9, 30],\n",
    "    \"analisi_statistica\": [9, 27],\n",
    "    \"metodi_numerici\": [9, 29]\n",
    "}\n",
    "\n",
    "tot_crediti = 0\n",
    "media_pesata = 0\n",
    "\n",
    "for name in esami.keys():\n",
    "    tot_crediti += esami[name][0]\n",
    "    media_pesata += esami[name][0]*esami[name][1]\n",
    "\n",
    "media_pesata = media_pesata/tot_crediti\n",
    "print(\"tot crediti:\", tot_crediti + 45)\n",
    "print(media_pesata, \"/ 30 ; \", media_pesata/30*90, \"/ 90\")\n",
    "\n",
    "print(round(media_pesata/30*90)+23)"
   ]
  },
  {
   "cell_type": "code",
   "execution_count": null,
   "metadata": {},
   "outputs": [],
   "source": []
  }
 ],
 "metadata": {
  "kernelspec": {
   "display_name": "Python 3",
   "language": "python",
   "name": "python3"
  },
  "language_info": {
   "codemirror_mode": {
    "name": "ipython",
    "version": 3
   },
   "file_extension": ".py",
   "mimetype": "text/x-python",
   "name": "python",
   "nbconvert_exporter": "python",
   "pygments_lexer": "ipython3",
   "version": "3.10.2"
  },
  "orig_nbformat": 4,
  "vscode": {
   "interpreter": {
    "hash": "aee8b7b246df8f9039afb4144a1f6fd8d2ca17a180786b69acc140d282b71a49"
   }
  }
 },
 "nbformat": 4,
 "nbformat_minor": 2
}
