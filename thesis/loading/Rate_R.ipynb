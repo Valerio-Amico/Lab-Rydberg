{
 "cells": [
  {
   "attachments": {},
   "cell_type": "markdown",
   "metadata": {},
   "source": [
    "The model for R is\n",
    "$$\n",
    "R = \\frac{1}{4} n_{MOT} \\bar{v} A P_{trap}\n",
    "$$\n",
    "to estimate P_{trap} I need a model. \n",
    "When an atom fall in a FORT, which is a conservative potential, since the MOT beams are still on, it will fill a friction force which permit us to trap it.\n"
   ]
  },
  {
   "cell_type": "code",
   "execution_count": null,
   "metadata": {},
   "outputs": [],
   "source": []
  }
 ],
 "metadata": {
  "language_info": {
   "name": "python"
  },
  "orig_nbformat": 4
 },
 "nbformat": 4,
 "nbformat_minor": 2
}
