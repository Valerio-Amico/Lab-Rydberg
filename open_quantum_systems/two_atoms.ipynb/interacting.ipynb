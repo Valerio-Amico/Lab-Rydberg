{
 "cells": [
  {
   "cell_type": "code",
   "execution_count": 83,
   "metadata": {},
   "outputs": [],
   "source": [
    "import numpy as np\n",
    "import matplotlib.pyplot as plt\n",
    "from scipy.constants import hbar\n",
    "from sympy import Matrix\n",
    "from scipy.integrate import solve_ivp"
   ]
  },
  {
   "cell_type": "markdown",
   "metadata": {},
   "source": [
    "paper for this document: https://arxiv.org/pdf/2205.14621.pdf\n",
    "https://journals.aps.org/pra/pdf/10.1103/PhysRevA.65.022314\n",
    "\n",
    "about rydberg excitation rate (inchoerent regime)\n",
    "https://journals.aps.org/prl/pdf/10.1103/PhysRevLett.111.215305\n",
    "https://journals.aps.org/pra/pdf/10.1103/PhysRevA.90.021603\n",
    "\n",
    "about wan der waals interaction\n",
    "https://opg.optica.org/view_article.cfm?gotourl=%2FDirectPDFAccess%2F6B62A041%2D74C4%2D4C8F%2DB9A5BE55F3F75323%5F199884%2Fjosab%2D27%2D6%2DA208%2Epdf%3Fda%3D1%26id%3D199884%26seq%3D0%26mobile%3Dno&org=Universita%20di%20Pisa%20Biblioteca%20di%20Matematica%20Informatica&archive=y\n",
    "\n",
    "about facilitation shel\n",
    "https://journals.aps.org/pra/pdf/10.1103/PhysRevA.90.011603\n",
    "\n",
    "good thesis\n",
    "https://ruor.uottawa.ca/bitstream/10393/40790/3/Jaddua_Saad_2020_thesis.pdf\n",
    "\n",
    "paper to read:\n",
    "https://journals.aps.org/prl/pdf/10.1103/PhysRevLett.129.160501"
   ]
  },
  {
   "cell_type": "code",
   "execution_count": 55,
   "metadata": {},
   "outputs": [],
   "source": [
    "def sigma(a, b):\n",
    "    basis_a = [\n",
    "        np.array([[1],[0],[0]]),\n",
    "        np.array([[0],[1],[0]]),\n",
    "        np.array([[0],[0],[1]])\n",
    "    ]\n",
    "    basis_b = [\n",
    "        np.array([1,0,0]),\n",
    "        np.array([0,1,0]),\n",
    "        np.array([0,0,1])\n",
    "    ]\n",
    "    return np.kron(basis_a[a],basis_b[b])\n",
    "\n",
    "def H_a(Omega_p, Omega):\n",
    "    half = Omega_p*sigma(1,0)+Omega*sigma(2,1)\n",
    "    return -(1/2)*np.kron((half + half.transpose().conjugate()),np.eye(3))\n",
    "\n",
    "def H_b(Omega_c, Delta_c):\n",
    "    half = Omega_c*sigma(2,0)-Delta_c*sigma(2,2)\n",
    "    return -(1/2)*np.kron(np.eye(3), (half + half.transpose().conjugate()))\n",
    "\n",
    "def H_int(Vab):\n",
    "    return Vab*np.kron(sigma(2,2), sigma(2,2))\n",
    "\n",
    "def lindblad_term(Gamma, jump_operator, rho):\n",
    "    return Gamma*(np.dot(jump_operator,rho).dot(jump_operator.transpose().conjugate())-\n",
    "        (np.dot(jump_operator.transpose().conjugate(),jump_operator).dot(rho)+\n",
    "        np.dot(rho,jump_operator.transpose().conjugate()).dot(jump_operator))/2)\n",
    "\n",
    "def D(rho, a, b, Gamma, sys):\n",
    "    if sys == \"A\":\n",
    "        return lindblad_term(Gamma, np.kron(sigma(a,b), np.eye(3)), rho)\n",
    "    if sys == \"B\":\n",
    "        return lindblad_term(Gamma, np.kron(np.eye(3), sigma(a,b)), rho)\n",
    "\n",
    "def Dd(rho, a, Gamma, sys):\n",
    "    if sys == \"A\":\n",
    "        return lindblad_term(Gamma, np.kron(sigma(a,a), np.eye(3)), rho)\n",
    "    if sys == \"B\":\n",
    "        return lindblad_term(Gamma, np.kron(np.eye(3), sigma(a,a)), rho)\n",
    "\n",
    "def rho_dot(H, rho, GammaA, GammaB):\n",
    "    #subsystem B:\n",
    "    enviroment_B = D(rho,2,0,GammaB[2,0], sys=\"B\") + Dd(rho,2,GammaB[2,2], sys=\"B\") + Dd(rho,1,GammaB[1,1], sys=\"B\")\n",
    "    #subsystem A:\n",
    "    enviroment_A = D(rho,1,0,GammaA[1,0], sys=\"A\") + D(rho,2,1,GammaA[2,1], sys=\"A\") + Dd(rho,2,GammaA[2,2], sys=\"A\") + Dd(rho,1,GammaA[1,1], sys=\"A\")\n",
    "\n",
    "    enviroment_int = enviroment_B + enviroment_A\n",
    "    \n",
    "    return -1j*(np.dot(H,rho)-np.dot(rho,H))+enviroment_int\n",
    "\n",
    "def evolution(steps, dt, initial_state, H, GammaA, GammaB):\n",
    "    state = initial_state\n",
    "    state_evolution = [state]\n",
    "    for i in range(steps):\n",
    "        state = state + rho_dot(H, state, GammaA, GammaB)*dt\n",
    "        state_evolution.append(state)\n",
    "    return state_evolution"
   ]
  },
  {
   "cell_type": "code",
   "execution_count": 29,
   "metadata": {},
   "outputs": [
    {
     "data": {
      "text/plain": [
       "array([[ 0. ,  0. ,  0. ],\n",
       "       [ 0. ,  0. ,  0. ],\n",
       "       [ 0. , -0.5,  0. ]])"
      ]
     },
     "execution_count": 29,
     "metadata": {},
     "output_type": "execute_result"
    }
   ],
   "source": [
    "lindblad_term(1, sigma(0,1), sigma(2,1))"
   ]
  },
  {
   "cell_type": "code",
   "execution_count": 30,
   "metadata": {},
   "outputs": [
    {
     "data": {
      "text/plain": [
       "array([[0, 0, 0],\n",
       "       [1, 0, 0],\n",
       "       [0, 0, 0]])"
      ]
     },
     "execution_count": 30,
     "metadata": {},
     "output_type": "execute_result"
    }
   ],
   "source": [
    "sigma(1,0)"
   ]
  },
  {
   "cell_type": "code",
   "execution_count": 84,
   "metadata": {},
   "outputs": [
    {
     "name": "stderr",
     "output_type": "stream",
     "text": [
      "/Library/Frameworks/Python.framework/Versions/3.10/lib/python3.10/site-packages/matplotlib/cbook/__init__.py:1298: ComplexWarning: Casting complex values to real discards the imaginary part\n",
      "  return np.asarray(x, float)\n"
     ]
    },
    {
     "data": {
      "image/png": "[encoded data removed]",
      "text/plain": [
       "<Figure size 432x288 with 2 Axes>"
      ]
     },
     "metadata": {
      "needs_background": "light"
     },
     "output_type": "display_data"
    }
   ],
   "source": [
    "t = 10\n",
    "steps = 100\n",
    "dt = t/steps\n",
    "rho_0 = np.kron(sigma(0,0), sigma(0,0))\n",
    "GammaA = np.array([[1,1,1],[1,1,1],[1,1,1]])\n",
    "GammaB = np.array([[1,1,1],[1,1,1],[1,1,1]])\n",
    "Om_p = 1\n",
    "Om = 1\n",
    "Om_c = 1\n",
    "Delta_c = -4\n",
    "Vab = 1\n",
    "\n",
    "H = H_a(Om_p, Om) + H_b(Om_c, Delta_c) + H_int(Vab)\n",
    "evo = evolution(steps, dt, rho_0, H, GammaA, GammaB)\n",
    "#rho_00 = [evo[i][0,0] for i in range(steps+1)]\n",
    "#rho_11 = [evo[i][1,1] for i in range(steps+1)]\n",
    "Nb00 = [np.trace(np.dot(evo[i],np.kron(np.eye(3),sigma(0,0)))) for i in range(steps+1)]\n",
    "Nb11 = [np.trace(np.dot(evo[i],np.kron(np.eye(3),sigma(1,1)))) for i in range(steps+1)]\n",
    "Nb22 = [np.trace(np.dot(evo[i],np.kron(np.eye(3),sigma(2,2)))) for i in range(steps+1)]\n",
    "\n",
    "Na00 = [np.trace(np.dot(evo[i],np.kron(sigma(0,0),np.eye(3)))) for i in range(steps+1)]\n",
    "Na11 = [np.trace(np.dot(evo[i],np.kron(sigma(1,1),np.eye(3)))) for i in range(steps+1)]\n",
    "Na22 = [np.trace(np.dot(evo[i],np.kron(sigma(2,2),np.eye(3)))) for i in range(steps+1)]\n",
    "times = np.linspace(0,dt*(steps+1), steps+1)\n",
    "\n",
    "plt.subplot(211)\n",
    "\n",
    "plt.plot(times, Nb00, label=\"Nb00\")\n",
    "plt.plot(times, Nb11, label=\"Nb11\")\n",
    "plt.plot(times, Nb22, label=\"Nb22\")\n",
    "plt.plot([0,times[-1]],[1,1],\"--\", alpha=0.5)\n",
    "plt.plot([0,times[-1]],[0,0],\"--\", alpha=0.5)\n",
    "plt.plot([0,times[-1]],[1/2,1/2],\"--\", alpha=0.5)\n",
    "plt.legend()\n",
    "\n",
    "plt.subplot(212)\n",
    "\n",
    "plt.plot(times, Na00, label=\"Na00\")\n",
    "plt.plot(times, Na11, label=\"Na11\")\n",
    "plt.plot(times, Na22, label=\"Na22\")\n",
    "plt.plot([0,times[-1]],[1,1],\"--\", alpha=0.5)\n",
    "plt.plot([0,times[-1]],[0,0],\"--\", alpha=0.5)\n",
    "plt.plot([0,times[-1]],[1/2,1/2],\"--\", alpha=0.5)\n",
    "plt.legend()\n",
    "\n",
    "plt.show()"
   ]
  },
  {
   "cell_type": "code",
   "execution_count": 86,
   "metadata": {},
   "outputs": [
    {
     "ename": "ValueError",
     "evalue": "too many values to unpack (expected 2)",
     "output_type": "error",
     "traceback": [
      "\u001b[0;31m---------------------------------------------------------------------------\u001b[0m",
      "\u001b[0;31mValueError\u001b[0m                                Traceback (most recent call last)",
      "\u001b[1;32m/Users/valerio/Documents/open quantum systems/two_atoms.ipynb/interacting.ipynb Cell 7\u001b[0m in \u001b[0;36m<cell line: 4>\u001b[0;34m()\u001b[0m\n\u001b[1;32m      <a href='vscode-notebook-cell:/Users/valerio/Documents/open%20quantum%20systems/two_atoms.ipynb/interacting.ipynb#X15sZmlsZQ%3D%3D?line=0'>1</a>\u001b[0m \u001b[39mdef\u001b[39;00m \u001b[39mfun\u001b[39m(rho):\n\u001b[1;32m      <a href='vscode-notebook-cell:/Users/valerio/Documents/open%20quantum%20systems/two_atoms.ipynb/interacting.ipynb#X15sZmlsZQ%3D%3D?line=1'>2</a>\u001b[0m     \u001b[39mreturn\u001b[39;00m rho_dot(H, rho, GammaA, GammaB)\n\u001b[0;32m----> <a href='vscode-notebook-cell:/Users/valerio/Documents/open%20quantum%20systems/two_atoms.ipynb/interacting.ipynb#X15sZmlsZQ%3D%3D?line=3'>4</a>\u001b[0m solve_ivp(fun, t_span\u001b[39m=\u001b[39;49mtimes, y0\u001b[39m=\u001b[39;49mnp\u001b[39m.\u001b[39;49mkron(sigma(\u001b[39m0\u001b[39;49m,\u001b[39m0\u001b[39;49m), sigma(\u001b[39m0\u001b[39;49m,\u001b[39m0\u001b[39;49m)))\n",
      "File \u001b[0;32m/Library/Frameworks/Python.framework/Versions/3.10/lib/python3.10/site-packages/scipy/integrate/_ivp/ivp.py:512\u001b[0m, in \u001b[0;36msolve_ivp\u001b[0;34m(fun, t_span, y0, method, t_eval, dense_output, events, vectorized, args, **options)\u001b[0m\n\u001b[1;32m    507\u001b[0m \u001b[39mif\u001b[39;00m method \u001b[39mnot\u001b[39;00m \u001b[39min\u001b[39;00m METHODS \u001b[39mand\u001b[39;00m \u001b[39mnot\u001b[39;00m (\n\u001b[1;32m    508\u001b[0m         inspect\u001b[39m.\u001b[39misclass(method) \u001b[39mand\u001b[39;00m \u001b[39missubclass\u001b[39m(method, OdeSolver)):\n\u001b[1;32m    509\u001b[0m     \u001b[39mraise\u001b[39;00m \u001b[39mValueError\u001b[39;00m(\u001b[39m\"\u001b[39m\u001b[39m`method` must be one of \u001b[39m\u001b[39m{}\u001b[39;00m\u001b[39m or OdeSolver class.\u001b[39m\u001b[39m\"\u001b[39m\n\u001b[1;32m    510\u001b[0m                      \u001b[39m.\u001b[39mformat(METHODS))\n\u001b[0;32m--> 512\u001b[0m t0, tf \u001b[39m=\u001b[39m \u001b[39mmap\u001b[39m(\u001b[39mfloat\u001b[39m, t_span)\n\u001b[1;32m    514\u001b[0m \u001b[39mif\u001b[39;00m args \u001b[39mis\u001b[39;00m \u001b[39mnot\u001b[39;00m \u001b[39mNone\u001b[39;00m:\n\u001b[1;32m    515\u001b[0m     \u001b[39m# Wrap the user's fun (and jac, if given) in lambdas to hide the\u001b[39;00m\n\u001b[1;32m    516\u001b[0m     \u001b[39m# additional parameters.  Pass in the original fun as a keyword\u001b[39;00m\n\u001b[1;32m    517\u001b[0m     \u001b[39m# argument to keep it in the scope of the lambda.\u001b[39;00m\n\u001b[1;32m    518\u001b[0m     fun \u001b[39m=\u001b[39m \u001b[39mlambda\u001b[39;00m t, x, fun\u001b[39m=\u001b[39mfun: fun(t, x, \u001b[39m*\u001b[39margs)\n",
      "\u001b[0;31mValueError\u001b[0m: too many values to unpack (expected 2)"
     ]
    }
   ],
   "source": [
    "def fun(rho):\n",
    "    Lmatrix = rho_dot(H, rho, GammaA, GammaB)\n",
    "    \n",
    "\n",
    "solve_ivp(fun, t_span=times, y0=np.kron(sigma(0,0), sigma(0,0)))"
   ]
  },
  {
   "cell_type": "markdown",
   "metadata": {},
   "source": [
    "changing the detuning"
   ]
  },
  {
   "cell_type": "code",
   "execution_count": 75,
   "metadata": {},
   "outputs": [
    {
     "name": "stdout",
     "output_type": "stream",
     "text": [
      "[  0  -2  -4  -6  -8 -10 -12 -14]\n"
     ]
    }
   ],
   "source": [
    "t = 10\n",
    "steps = 100\n",
    "dt = t/steps\n",
    "rho_0 = np.kron(sigma(0,0), sigma(0,0))\n",
    "GammaA = np.array([[1,1,1],[1,1,1],[1,1,1]])\n",
    "GammaB = np.array([[1,1,1],[1,1,1],[1,1,1]])\n",
    "Om_p = 1\n",
    "Om = 1\n",
    "Om_c = 1\n",
    "Vab = 1\n",
    "\n",
    "Nb = {\"00\":[],\"11\":[],\"22\":[]}\n",
    "Na = {\"00\":[],\"11\":[],\"22\":[]}\n",
    "\n",
    "values_delta_c = np.arange(0,-16, step=-2)\n",
    "print(values_delta_c)\n",
    "\n",
    "for Delta_c in values_delta_c:\n",
    "    H = H_a(Om_p, Om) + H_b(Om_c, Delta_c) + H_int(Vab)\n",
    "    evo = evolution(steps, dt, rho_0, H, GammaA, GammaB)\n",
    "\n",
    "    Nb[\"00\"].append(np.trace(np.dot(evo[-1],np.kron(np.eye(3),sigma(0,0)))))\n",
    "    Nb[\"11\"].append(np.trace(np.dot(evo[-1],np.kron(np.eye(3),sigma(1,1)))))\n",
    "    Nb[\"22\"].append(np.trace(np.dot(evo[-1],np.kron(np.eye(3),sigma(2,2)))))\n",
    "\n",
    "    Na[\"00\"].append(np.trace(np.dot(evo[-1],np.kron(sigma(0,0),np.eye(3)))))\n",
    "    Na[\"11\"].append(np.trace(np.dot(evo[-1],np.kron(sigma(1,1),np.eye(3)))))\n",
    "    Na[\"22\"].append(np.trace(np.dot(evo[-1],np.kron(sigma(2,2),np.eye(3)))))"
   ]
  },
  {
   "cell_type": "code",
   "execution_count": 76,
   "metadata": {},
   "outputs": [
    {
     "data": {
      "image/png": "[encoded data removed]",
      "text/plain": [
       "<Figure size 432x288 with 2 Axes>"
      ]
     },
     "metadata": {
      "needs_background": "light"
     },
     "output_type": "display_data"
    }
   ],
   "source": [
    "plt.subplot(211)\n",
    "\n",
    "plt.plot(values_delta_c, Nb[\"00\"], label=\"Nb00\")\n",
    "plt.plot(values_delta_c, Nb[\"11\"], label=\"Nb11\")\n",
    "plt.plot(values_delta_c, Nb[\"22\"], label=\"Nb22\")\n",
    "plt.plot([0,values_delta_c[-1]],[1,1],\"--\", alpha=0.5)\n",
    "plt.plot([0,values_delta_c[-1]],[0,0],\"--\", alpha=0.5)\n",
    "plt.plot([0,values_delta_c[-1]],[1/2,1/2],\"--\", alpha=0.5)\n",
    "plt.legend()\n",
    "\n",
    "plt.subplot(212)\n",
    "\n",
    "plt.plot(values_delta_c, Na[\"00\"], label=\"Na00\")\n",
    "plt.plot(values_delta_c, Na[\"11\"], label=\"Na11\")\n",
    "plt.plot(values_delta_c, Na[\"22\"], label=\"Na22\")\n",
    "plt.plot([0,values_delta_c[-1]],[1,1],\"--\", alpha=0.5)\n",
    "plt.plot([0,values_delta_c[-1]],[0,0],\"--\", alpha=0.5)\n",
    "plt.plot([0,values_delta_c[-1]],[1/2,1/2],\"--\", alpha=0.5)\n",
    "plt.legend()\n",
    "\n",
    "plt.show()"
   ]
  },
  {
   "cell_type": "code",
   "execution_count": null,
   "metadata": {},
   "outputs": [],
   "source": []
  }
 ],
 "metadata": {
  "kernelspec": {
   "display_name": "Python 3.10.2 64-bit",
   "language": "python",
   "name": "python3"
  },
  "language_info": {
   "codemirror_mode": {
    "name": "ipython",
    "version": 3
   },
   "file_extension": ".py",
   "mimetype": "text/x-python",
   "name": "python",
   "nbconvert_exporter": "python",
   "pygments_lexer": "ipython3",
   "version": "3.10.2"
  },
  "orig_nbformat": 4,
  "vscode": {
   "interpreter": {
    "hash": "aee8b7b246df8f9039afb4144a1f6fd8d2ca17a180786b69acc140d282b71a49"
   }
  }
 },
 "nbformat": 4,
 "nbformat_minor": 2
}
