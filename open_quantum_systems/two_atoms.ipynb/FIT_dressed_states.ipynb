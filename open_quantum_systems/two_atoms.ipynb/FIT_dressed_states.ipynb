{
 "cells": [
  {
   "cell_type": "code",
   "execution_count": 30,
   "metadata": {},
   "outputs": [],
   "source": [
    "import numpy as np\n",
    "import matplotlib.pyplot as plt"
   ]
  },
  {
   "cell_type": "code",
   "execution_count": 31,
   "metadata": {},
   "outputs": [
    {
     "data": {
      "text/plain": [
       "array([[ 0. , -2.5, -2.5,  0. ],\n",
       "       [-2.5,  0. ,  0. , -2.5],\n",
       "       [-2.5,  0. ,  0. , -2.5],\n",
       "       [ 0. , -2.5, -2.5, 15. ]])"
      ]
     },
     "execution_count": 31,
     "metadata": {},
     "output_type": "execute_result"
    }
   ],
   "source": [
    "Om_c = 5\n",
    "Om = 5\n",
    "Om_p = 0.5\n",
    "Delta_c = 0\n",
    "Vab = 15\n",
    "\n",
    "H = np.array([\n",
    "            [0, -Om_c/2, -Om/2, 0],\n",
    "            [-Om_c/2, Delta_c, 0, -Om/2],\n",
    "            [-Om/2, 0, 0, -Om_c/2],\n",
    "            [0, -Om/2, -Om_c/2, Delta_c+Vab]\n",
    "        ])\n",
    "\n",
    "H"
   ]
  },
  {
   "cell_type": "code",
   "execution_count": 32,
   "metadata": {},
   "outputs": [
    {
     "data": {
      "text/plain": [
       "array([-3.88199777,  3.0509608 , 15.83103697,  0.        ])"
      ]
     },
     "execution_count": 32,
     "metadata": {},
     "output_type": "execute_result"
    }
   ],
   "source": [
    "l, v = np.linalg.eig(H)\n",
    "l"
   ]
  },
  {
   "cell_type": "code",
   "execution_count": 78,
   "metadata": {},
   "outputs": [],
   "source": [
    "Deltas = np.linspace(-20, 5, 100)\n",
    "\n",
    "landas = []\n",
    "\n",
    "for Delta_c in Deltas:\n",
    "    H = np.array([\n",
    "            [0, -Om_c/2, -Om/2, 0],\n",
    "            [-Om_c/2, Delta_c, 0, -Om/2],\n",
    "            [-Om/2, 0, 0, -Om_c/2],\n",
    "            [0, -Om/2, -Om_c/2, Delta_c+Vab]\n",
    "        ])\n",
    "    \n",
    "    l, v = np.linalg.eig(H)\n",
    "    landas.append(list(np.sort(l)))\n",
    "\n",
    "landas = np.array(landas)\n",
    "    "
   ]
  },
  {
   "cell_type": "code",
   "execution_count": 80,
   "metadata": {},
   "outputs": [
    {
     "data": {
      "text/plain": [
       "array([-5.73515803, -5.53499142, -5.33928765, -5.14851191, -4.96316341,\n",
       "       -4.78376858, -4.61086988, -4.44500974, -4.28670909, -4.13644164,\n",
       "       -3.99460527, -3.86149386, -3.73727339, -3.62196608, -3.51544577,\n",
       "       -3.41744539, -3.32757533, -3.24534971, -3.17021626, -3.10158593,\n",
       "       -3.03885917, -2.98144697, -2.92878638, -2.88035041, -2.83565363,\n",
       "       -2.79425412, -2.75575299, -2.71979227, -2.68605178, -2.65424556,\n",
       "       -2.62411816, -2.59544097, -2.56800879, -2.54163658, -2.51615659,\n",
       "       -2.49141573, -2.46727322, -2.44359845, -2.42026907, -2.39716932,\n",
       "       -2.37418842, -2.35121911, -2.32815637, -2.30489606, -2.28133376,\n",
       "       -2.25736357, -2.2328769 , -2.20776134, -2.18189944, -2.15516747,\n",
       "       -2.12743424, -2.09855977, -2.06839401, -2.03677553, -2.00353023,\n",
       "       -1.96847011, -1.93139217, -1.89207755, -1.85029099, -1.80578077,\n",
       "       -1.75827945, -1.70750547, -1.65316606, -1.59496164, -1.53259212,\n",
       "       -1.46576521, -1.39420695, -1.31767435, -1.23596981, -1.14895665,\n",
       "       -1.05657483, -0.95885576, -0.85593479, -0.74806037, -0.63559902,\n",
       "       -0.51903567, -0.39896939, -0.27610487, -0.15124019, -0.02525124,\n",
       "        0.10092717,  0.22632341,  0.34995493,  0.47085766,  0.58811866,\n",
       "        0.70091013,  0.80852216,  0.91039034,  1.00611468,  1.09546665,\n",
       "        1.17838371,  1.25495224,  1.3253822 ,  1.38997742,  1.4491055 ,\n",
       "        1.50317052,  1.55259024,  1.59777862,  1.63913342,  1.67702829])"
      ]
     },
     "execution_count": 80,
     "metadata": {},
     "output_type": "execute_result"
    }
   ],
   "source": [
    "landas[:,1]"
   ]
  },
  {
   "cell_type": "code",
   "execution_count": 88,
   "metadata": {},
   "outputs": [
    {
     "data": {
      "image/png": "[encoded data removed]",
      "text/plain": [
       "<Figure size 432x288 with 1 Axes>"
      ]
     },
     "metadata": {
      "needs_background": "light"
     },
     "output_type": "display_data"
    }
   ],
   "source": [
    "plt.plot(Deltas, landas[:,1:3], color=\"blue\")\n",
    "plt.plot(Deltas, landas[:,[0,3]], color=\"gray\")\n",
    "plt.plot([Deltas[0],Deltas[-1]],[0,0],\"--\", alpha=0.5, color=\"gray\")\n",
    "plt.ylim([-8,8])\n",
    "plt.show()"
   ]
  },
  {
   "cell_type": "code",
   "execution_count": 23,
   "metadata": {},
   "outputs": [],
   "source": [
    "def H3_ladder(Delta):\n",
    "    return np.array([\n",
    "    [ 0     ,   Om_p/2,        0],\n",
    "    [ Om_p/2, -Delta,   Om/2],\n",
    "    [ 0     ,   Om/2, -Delta],\n",
    "])"
   ]
  },
  {
   "cell_type": "code",
   "execution_count": 26,
   "metadata": {},
   "outputs": [],
   "source": [
    "Deltas = np.linspace(-5, 5, 100)\n",
    "\n",
    "landas = []\n",
    "\n",
    "for Delta in Deltas:\n",
    "    H = H3_ladder(Delta)\n",
    "    \n",
    "    l, v = np.linalg.eig(H)\n",
    "    landas.append(np.sort(l))"
   ]
  },
  {
   "cell_type": "code",
   "execution_count": 28,
   "metadata": {},
   "outputs": [
    {
     "data": {
      "image/png": "[encoded data removed]",
      "text/plain": [
       "<Figure size 432x288 with 1 Axes>"
      ]
     },
     "metadata": {
      "needs_background": "light"
     },
     "output_type": "display_data"
    }
   ],
   "source": [
    "plt.plot(Deltas, landas)\n",
    "plt.plot([Deltas[0],Deltas[-1]],[0,0],\"--\", alpha=0.5, color=\"gray\")\n",
    "plt.ylim([-1,1])\n",
    "plt.show()"
   ]
  },
  {
   "cell_type": "code",
   "execution_count": null,
   "metadata": {},
   "outputs": [],
   "source": [
    "LCESAAH3N6"
   ]
  },
  {
   "cell_type": "code",
   "execution_count": 20,
   "metadata": {},
   "outputs": [],
   "source": [
    "import numpy as np"
   ]
  },
  {
   "cell_type": "code",
   "execution_count": 21,
   "metadata": {},
   "outputs": [],
   "source": [
    "l = [183.4, 185, 182.6, 184.5, 185.8, 182.8, 186.1, 186.8, 187.9, 188.0]"
   ]
  },
  {
   "cell_type": "code",
   "execution_count": 23,
   "metadata": {},
   "outputs": [
    {
     "data": {
      "text/plain": [
       "0.010106707798434"
      ]
     },
     "execution_count": 23,
     "metadata": {},
     "output_type": "execute_result"
    }
   ],
   "source": [
    "np.std(l)/np.mean(l)"
   ]
  },
  {
   "cell_type": "code",
   "execution_count": null,
   "metadata": {},
   "outputs": [],
   "source": []
  }
 ],
 "metadata": {
  "kernelspec": {
   "display_name": "Python 3.10.2 64-bit",
   "language": "python",
   "name": "python3"
  },
  "language_info": {
   "codemirror_mode": {
    "name": "ipython",
    "version": 3
   },
   "file_extension": ".py",
   "mimetype": "text/x-python",
   "name": "python",
   "nbconvert_exporter": "python",
   "pygments_lexer": "ipython3",
   "version": "3.10.2"
  },
  "orig_nbformat": 4,
  "vscode": {
   "interpreter": {
    "hash": "aee8b7b246df8f9039afb4144a1f6fd8d2ca17a180786b69acc140d282b71a49"
   }
  }
 },
 "nbformat": 4,
 "nbformat_minor": 2
}
