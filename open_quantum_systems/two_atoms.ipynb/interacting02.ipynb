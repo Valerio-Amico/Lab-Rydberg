{
 "cells": [
  {
   "cell_type": "code",
   "execution_count": 1,
   "metadata": {},
   "outputs": [],
   "source": [
    "import numpy as np\n",
    "import matplotlib.pyplot as plt\n",
    "from scipy.constants import hbar\n",
    "from sympy import Matrix\n",
    "from scipy.integrate import solve_ivp\n",
    "from arc.alkali_atom_functions import AlkaliAtom\n",
    "import arc\n",
    "import qutip"
   ]
  },
  {
   "cell_type": "markdown",
   "metadata": {},
   "source": [
    "paper for this document: https://arxiv.org/pdf/2205.14621.pdf\n",
    "\n",
    "https://journals.aps.org/prl/pdf/10.1103/PhysRevLett.105.193603\n",
    "\n",
    "\n",
    "\n",
    "paper to read:\n",
    "https://journals.aps.org/prl/pdf/10.1103/PhysRevLett.129.160501"
   ]
  },
  {
   "cell_type": "markdown",
   "metadata": {},
   "source": [
    "# Simulation of two rubidium87 interacting atoms.\n",
    "\n",
    "Three levels of each atroms are considered: ground, 6p and 70s. So the hilbert space dimension will be 9.\n",
    "\n",
    "The atoms are indipendently coupled by two lasers, one will be on resonance, one out of resonance.\n",
    "\n",
    "$$ H_0 = \n",
    "\\begin{pmatrix}\n",
    "    0 & \\Omega_b & 0 \\\\\n",
    "    \\Omega_b & -\\Delta & \\Omega_{IR} \\\\\n",
    "    0 & \\Omega_{IR} & -\\delta \n",
    "\\end{pmatrix}\n",
    "$$\n",
    "where $\\Delta$ is the detuning from the intermediate state and $\\delta$ is the detuning from the rydberg.\n",
    "\n",
    "$$ H_{int} = \n",
    "\\begin{pmatrix}\n",
    "    0 & 0 & 0 \\\\\n",
    "    0 & 0 & 0 \\\\\n",
    "    0 & 0 & 1 \\\\\n",
    "\\end{pmatrix} \\otimes\n",
    "\\begin{pmatrix}\n",
    "    0 & 0 & 0 \\\\\n",
    "    0 & 0 & 0 \\\\\n",
    "    0 & 0 & 1 \\\\\n",
    "\\end{pmatrix} = \n",
    "\\begin{pmatrix}\n",
    "    0 & 0 & 0 & 0 & 0 & 0 & 0 & 0 & 0 \\\\\n",
    "    0 & 0 & 0 & 0 & 0 & 0 & 0 & 0 & 0 \\\\\n",
    "    0 & 0 & 0 & 0 & 0 & 0 & 0 & 0 & 0 \\\\\n",
    "    0 & 0 & 0 & 0 & 0 & 0 & 0 & 0 & 0 \\\\\n",
    "    0 & 0 & 0 & 0 & 0 & 0 & 0 & 0 & 0 \\\\\n",
    "    0 & 0 & 0 & 0 & 0 & 0 & 0 & 0 & 0 \\\\\n",
    "    0 & 0 & 0 & 0 & 0 & 0 & 0 & 0 & 0 \\\\\n",
    "    0 & 0 & 0 & 0 & 0 & 0 & 0 & 0 & 0 \\\\\n",
    "    0 & 0 & 0 & 0 & 0 & 0 & 0 & 0 & 1 \\\\\n",
    "\\end{pmatrix}\n",
    "$$\n",
    "\n",
    "$$ H_{tot} = I \\otimes H_0 + H_0 \\otimes I + H_{int} $$\n",
    "\n",
    "\n",
    "    \n",
    "The interaction is modilized ad a shifting of the |rr> level (r=\"rydberg\")."
   ]
  },
  {
   "cell_type": "code",
   "execution_count": 2,
   "metadata": {},
   "outputs": [],
   "source": [
    "\n",
    "def sigma(a, b): # |a><b| operator\n",
    "    basis_a = [\n",
    "        np.array([[1],[0],[0]]),\n",
    "        np.array([[0],[1],[0]]),\n",
    "        np.array([[0],[0],[1]])\n",
    "    ]\n",
    "    basis_b = [\n",
    "        np.array([1,0,0]),\n",
    "        np.array([0,1,0]),\n",
    "        np.array([0,0,1])\n",
    "    ]\n",
    "    return np.kron(basis_a[a],basis_b[b])\n",
    "\n",
    "def H_0(Omega_b, Omega_IR, Delta, delta):\n",
    "    dressed_H = np.array([[0, Omega_b, 0],[Omega_b, -Delta, Omega_IR],[0, Omega_IR, -delta]])\n",
    "    return dressed_H\n",
    "\n",
    "def H_int(V_fac): # V_fac = C_6 / r^6\n",
    "    return V_fac*np.kron(sigma(2,2), sigma(2,2))\n",
    "\n",
    "def lindblad_term(jump_operator, rho):\n",
    "    return (np.dot(jump_operator,rho).dot(jump_operator.transpose().conjugate())-\n",
    "        (np.dot(jump_operator.transpose().conjugate(),jump_operator).dot(rho)+\n",
    "        np.dot(rho,jump_operator.transpose().conjugate()).dot(jump_operator))/2)\n",
    "\n",
    "def rho_dot(H, rho, jump_ops = []):\n",
    "    environment_interaction = np.zeros(rho.shape, dtype=complex)\n",
    "    for jump_op in jump_ops:\n",
    "        environment_interaction += lindblad_term(jump_op, rho)\n",
    "    return -1j*(np.dot(H,rho)-np.dot(rho,H))+environment_interaction\n",
    "\n",
    "def evolution(initial_state, H, steps, dt, jump_ops = []):\n",
    "    state = initial_state\n",
    "    state_evolution = [state]\n",
    "    for i in range(steps):\n",
    "        state = state + rho_dot(H, state, jump_ops)*dt\n",
    "        state_evolution.append(state)\n",
    "    return state_evolution"
   ]
  },
  {
   "cell_type": "code",
   "execution_count": 3,
   "metadata": {},
   "outputs": [
    {
     "name": "stdout",
     "output_type": "stream",
     "text": [
      "omega/2pi = 5.992846e+07\n",
      "omega = 3.765416e+08\n",
      "omega/2pi = 2.266966e+06\n",
      "omega = 1.424377e+07\n",
      "two_photon_rabi_freq =  3.396395e+05\n"
     ]
    }
   ],
   "source": [
    "atom=arc.Rubidium87()\n",
    "# transition from 5s1/2 to 6p3/2\n",
    "O5s_6p = atom.getRabiFrequency(n1=5,  l1=0, j1=0.5, mj1=0.5,  n2=6,  l2=1, j2=3/2, q=0, laserPower=1.5*10**(-3), laserWaist=40*10**(-6), s=0.5)\n",
    "                           ### n1, l1,  j1, mj1, n2, l2,  j2,  q,   laserPower,  laserWaist, s=0.5 \n",
    "print(\"omega/2pi =\", \"{:e}\".format(O5s_6p/(2*np.pi)))\n",
    "print(\"omega =\", \"{:e}\".format(O5s_6p)) \n",
    "\n",
    "# transition from 6p3/2 to 70s1/2\n",
    "O6p_70s = atom.getRabiFrequency(n1=70,  l1=0, j1=0.5, mj1=0.5,  n2=6,  l2=1, j2=3/2, q=0, laserPower=48.2*10**(-3), laserWaist=200*10**(-6), s=0.5)\n",
    "                           ### n1, l1,  j1, mj1, n2, l2,  j2,  q,   laserPower,  laserWaist, s=0.5 \n",
    "print(\"omega/2pi =\", \"{:e}\".format(O6p_70s/(2*np.pi)))\n",
    "print(\"omega =\", \"{:e}\".format(O6p_70s))\n",
    "\n",
    "Delta = 200*10**6\n",
    "print(\"two_photon_rabi_freq = \", \"{:e}\".format((O6p_70s/(2*np.pi)*O5s_6p/(2*np.pi))/(2*Delta)))"
   ]
  },
  {
   "cell_type": "code",
   "execution_count": 16,
   "metadata": {},
   "outputs": [],
   "source": [
    "t = 10\n",
    "steps = 100000\n",
    "dt = t/steps\n",
    "rho_0 = np.kron(sigma(0,0), sigma(0,0))\n",
    "N_states = 3\n",
    "\n",
    "two_ph_r_f = 0.2\n",
    "\n",
    "Delta = 200\n",
    "delta = 0\n",
    "Om_b = 6/2 #np.sqrt(two_ph_r_f*2*Delta) #O5s_6p/(2*np.pi)*10**-6 # 10\n",
    "Om_IR = 2.2 #np.sqrt(two_ph_r_f*2*Delta) #5 #O6p_70s/(2*np.pi)*10**-6 # 3\n",
    "V_f = 10\n",
    "Gamma_6p = 8\n",
    "Gamma_70s = 0.02 # 0 # 0.02\n",
    "\n",
    "Na = {\"interacting\": {\"0\": 0, \"1\": 0, \"2\": 0}, \"not_interacting\": {\"0\": 0, \"1\": 0, \"2\": 0}}\n",
    "Nb = {\"interacting\": {\"0\": 0, \"1\": 0, \"2\": 0}, \"not_interacting\": {\"0\": 0, \"1\": 0, \"2\": 0}}\n",
    "\n",
    "S_minus_6p = Gamma_6p**(1/2)*np.array([[0,1,0],[0,0,0],[0,0,0]])\n",
    "S_minus_70s = Gamma_70s**(1/2)*np.array([[0,0,0],[0,0,1],[0,0,0]])\n",
    "Jump_ops = [np.kron(S_minus_6p, np.eye(3)), np.kron(np.eye(3), S_minus_6p), np.kron(S_minus_70s, np.eye(3)), np.kron(np.eye(3), S_minus_70s)]\n",
    "H = np.kron(H_0(Om_b, Om_IR, Delta, 0), np.eye(3)) + np.kron(np.eye(3), H_0(Om_b, Om_IR, Delta, delta))\n",
    "Hs = [H, H+H_int(V_f)]\n",
    "labels = [\"not_interacting\", \"interacting\"]\n",
    "\n",
    "for i, H in enumerate(Hs):\n",
    "    evo = evolution(rho_0, H, steps, dt, Jump_ops)\n",
    "    label = labels[i]\n",
    "    for l in range(N_states):\n",
    "        Nb[labels[i]][\"%d\"%l] = [np.trace(np.dot(evo[i],np.kron(np.eye(3),sigma(l,l)))) for i in range(steps+1)]\n",
    "        Na[labels[i]][\"%d\"%l] = [np.trace(np.dot(evo[i],np.kron(sigma(l,l),np.eye(3)))) for i in range(steps+1)]\n",
    "times = np.linspace(0,dt*(steps+1), steps+1)"
   ]
  },
  {
   "cell_type": "code",
   "execution_count": 17,
   "metadata": {},
   "outputs": [
    {
     "data": {
      "image/png": "[encoded data removed]",
      "text/plain": [
       "<Figure size 720x720 with 4 Axes>"
      ]
     },
     "metadata": {
      "needs_background": "light"
     },
     "output_type": "display_data"
    }
   ],
   "source": [
    "labels_ = [\"ground\",\"intermediate\",\"rydberg\"]\n",
    "plt.figure(figsize=(10,10))\n",
    "\n",
    "for i, label in enumerate(labels):\n",
    "    plt.subplot(2,2,i+1)\n",
    "    for j in range(N_states):\n",
    "        plt.plot(times, Nb[label][\"%d\"%j], label=labels_[j])\n",
    "    plt.plot([0,times[-1]],[1,1],\"--\", alpha=0.5)\n",
    "    plt.plot([0,times[-1]],[0,0],\"--\", alpha=0.5)\n",
    "    plt.plot([0,times[-1]],[1/2,1/2],\"--\", alpha=0.5)\n",
    "    plt.ylim([0,1])\n",
    "    plt.title(label)\n",
    "    plt.legend()\n",
    "\n",
    "    plt.subplot(2,2,i+3)\n",
    "    for j in range(N_states):\n",
    "        plt.plot(times, Na[label][\"%d\"%j], label=labels_[j])\n",
    "    plt.plot([0,times[-1]],[1,1],\"--\", alpha=0.5)\n",
    "    plt.plot([0,times[-1]],[0,0],\"--\", alpha=0.5)\n",
    "    plt.plot([0,times[-1]],[1/2,1/2],\"--\", alpha=0.5)\n",
    "    plt.ylim([0,0.01])\n",
    "    #plt.xlim([0,1])\n",
    "    plt.legend()\n",
    "plt.show()"
   ]
  },
  {
   "cell_type": "code",
   "execution_count": 6,
   "metadata": {},
   "outputs": [
    {
     "data": {
      "text/plain": [
       "40.0"
      ]
     },
     "execution_count": 6,
     "metadata": {},
     "output_type": "execute_result"
    }
   ],
   "source": [
    "0.005*20000*4/10\n"
   ]
  },
  {
   "cell_type": "code",
   "execution_count": 7,
   "metadata": {},
   "outputs": [
    {
     "ename": "NameError",
     "evalue": "name 'Na00' is not defined",
     "output_type": "error",
     "traceback": [
      "\u001b[0;31m---------------------------------------------------------------------------\u001b[0m",
      "\u001b[0;31mNameError\u001b[0m                                 Traceback (most recent call last)",
      "\u001b[1;32m/Users/valerio/Documents/open quantum systems/two_atoms.ipynb/interacting02.ipynb Cell 9\u001b[0m in \u001b[0;36m<cell line: 3>\u001b[0;34m()\u001b[0m\n\u001b[1;32m      <a href='vscode-notebook-cell:/Users/valerio/Documents/open%20quantum%20systems/two_atoms.ipynb/interacting02.ipynb#X11sZmlsZQ%3D%3D?line=0'>1</a>\u001b[0m plt\u001b[39m.\u001b[39msubplot(\u001b[39m223\u001b[39m)\n\u001b[0;32m----> <a href='vscode-notebook-cell:/Users/valerio/Documents/open%20quantum%20systems/two_atoms.ipynb/interacting02.ipynb#X11sZmlsZQ%3D%3D?line=2'>3</a>\u001b[0m plt\u001b[39m.\u001b[39mplot(times, Na00, label\u001b[39m=\u001b[39m\u001b[39m\"\u001b[39m\u001b[39mNa00\u001b[39m\u001b[39m\"\u001b[39m)\n\u001b[1;32m      <a href='vscode-notebook-cell:/Users/valerio/Documents/open%20quantum%20systems/two_atoms.ipynb/interacting02.ipynb#X11sZmlsZQ%3D%3D?line=3'>4</a>\u001b[0m plt\u001b[39m.\u001b[39mplot(times, Na11, label\u001b[39m=\u001b[39m\u001b[39m\"\u001b[39m\u001b[39mNa11\u001b[39m\u001b[39m\"\u001b[39m)\n\u001b[1;32m      <a href='vscode-notebook-cell:/Users/valerio/Documents/open%20quantum%20systems/two_atoms.ipynb/interacting02.ipynb#X11sZmlsZQ%3D%3D?line=4'>5</a>\u001b[0m plt\u001b[39m.\u001b[39mplot(times, Na22, label\u001b[39m=\u001b[39m\u001b[39m\"\u001b[39m\u001b[39mNa22\u001b[39m\u001b[39m\"\u001b[39m)\n",
      "\u001b[0;31mNameError\u001b[0m: name 'Na00' is not defined"
     ]
    },
    {
     "data": {
      "image/png": "[encoded data removed]",
      "text/plain": [
       "<Figure size 432x288 with 1 Axes>"
      ]
     },
     "metadata": {
      "needs_background": "light"
     },
     "output_type": "display_data"
    }
   ],
   "source": [
    "\n",
    "plt.subplot(223)\n",
    "\n",
    "plt.plot(times, Na00, label=\"Na00\")\n",
    "plt.plot(times, Na11, label=\"Na11\")\n",
    "plt.plot(times, Na22, label=\"Na22\")\n",
    "plt.plot([0,times[-1]],[1,1],\"--\", alpha=0.5)\n",
    "plt.plot([0,times[-1]],[0,0],\"--\", alpha=0.5)\n",
    "plt.plot([0,times[-1]],[1/2,1/2],\"--\", alpha=0.5)\n",
    "plt.ylim([0,1])\n",
    "plt.legend()\n",
    "\n",
    "plt.subplot(222)\n",
    "\n",
    "plt.plot(times, Nb00, label=\"Nb00\")\n",
    "plt.plot(times, Nb11, label=\"Nb11\")\n",
    "plt.plot(times, Nb22, label=\"Nb22\")\n",
    "plt.plot([0,times[-1]],[1,1],\"--\", alpha=0.5)\n",
    "plt.plot([0,times[-1]],[0,0],\"--\", alpha=0.5)\n",
    "plt.plot([0,times[-1]],[1/2,1/2],\"--\", alpha=0.5)\n",
    "plt.ylim([0,1])\n",
    "plt.legend()\n",
    "\n",
    "plt.subplot(224)\n",
    "\n",
    "plt.plot(times, Na00, label=\"Na00\")\n",
    "plt.plot(times, Na11, label=\"Na11\")\n",
    "plt.plot(times, Na22, label=\"Na22\")\n",
    "plt.plot([0,times[-1]],[1,1],\"--\", alpha=0.5)\n",
    "plt.plot([0,times[-1]],[0,0],\"--\", alpha=0.5)\n",
    "plt.plot([0,times[-1]],[1/2,1/2],\"--\", alpha=0.5)\n",
    "plt.ylim([0,1])\n",
    "plt.legend()\n",
    "\n",
    "plt.show()"
   ]
  },
  {
   "cell_type": "markdown",
   "metadata": {},
   "source": [
    "changing the detuning"
   ]
  },
  {
   "cell_type": "code",
   "execution_count": null,
   "metadata": {},
   "outputs": [
    {
     "name": "stdout",
     "output_type": "stream",
     "text": [
      "[  0  -2  -4  -6  -8 -10 -12 -14]\n"
     ]
    },
    {
     "ename": "NameError",
     "evalue": "name 'H_a' is not defined",
     "output_type": "error",
     "traceback": [
      "\u001b[0;31m---------------------------------------------------------------------------\u001b[0m",
      "\u001b[0;31mNameError\u001b[0m                                 Traceback (most recent call last)",
      "\u001b[1;32m/Users/valerio/Documents/open quantum systems/two_atoms.ipynb/interacting02.ipynb Cell 9\u001b[0m in \u001b[0;36m<cell line: 18>\u001b[0;34m()\u001b[0m\n\u001b[1;32m     <a href='vscode-notebook-cell:/Users/valerio/Documents/open%20quantum%20systems/two_atoms.ipynb/interacting02.ipynb#X11sZmlsZQ%3D%3D?line=15'>16</a>\u001b[0m \u001b[39mprint\u001b[39m(values_delta_c)\n\u001b[1;32m     <a href='vscode-notebook-cell:/Users/valerio/Documents/open%20quantum%20systems/two_atoms.ipynb/interacting02.ipynb#X11sZmlsZQ%3D%3D?line=17'>18</a>\u001b[0m \u001b[39mfor\u001b[39;00m Delta_c \u001b[39min\u001b[39;00m values_delta_c:\n\u001b[0;32m---> <a href='vscode-notebook-cell:/Users/valerio/Documents/open%20quantum%20systems/two_atoms.ipynb/interacting02.ipynb#X11sZmlsZQ%3D%3D?line=18'>19</a>\u001b[0m     H \u001b[39m=\u001b[39m H_a(Om_p, Om) \u001b[39m+\u001b[39m H_b(Om_c, Delta_c) \u001b[39m+\u001b[39m H_int(Vab)\n\u001b[1;32m     <a href='vscode-notebook-cell:/Users/valerio/Documents/open%20quantum%20systems/two_atoms.ipynb/interacting02.ipynb#X11sZmlsZQ%3D%3D?line=19'>20</a>\u001b[0m     evo \u001b[39m=\u001b[39m evolution(steps, dt, rho_0, H, GammaA, GammaB)\n\u001b[1;32m     <a href='vscode-notebook-cell:/Users/valerio/Documents/open%20quantum%20systems/two_atoms.ipynb/interacting02.ipynb#X11sZmlsZQ%3D%3D?line=21'>22</a>\u001b[0m     Nb[\u001b[39m\"\u001b[39m\u001b[39m00\u001b[39m\u001b[39m\"\u001b[39m]\u001b[39m.\u001b[39mappend(np\u001b[39m.\u001b[39mtrace(np\u001b[39m.\u001b[39mdot(evo[\u001b[39m-\u001b[39m\u001b[39m1\u001b[39m],np\u001b[39m.\u001b[39mkron(np\u001b[39m.\u001b[39meye(\u001b[39m3\u001b[39m),sigma(\u001b[39m0\u001b[39m,\u001b[39m0\u001b[39m)))))\n",
      "\u001b[0;31mNameError\u001b[0m: name 'H_a' is not defined"
     ]
    }
   ],
   "source": [
    "t = 10\n",
    "steps = 100\n",
    "dt = t/steps\n",
    "rho_0 = np.kron(sigma(0,0), sigma(0,0))\n",
    "GammaA = np.array([[1,1,1],[1,1,1],[1,1,1]])\n",
    "GammaB = np.array([[1,1,1],[1,1,1],[1,1,1]])\n",
    "Om_p = 1\n",
    "Om = 1\n",
    "Om_c = 1\n",
    "Vab = 1\n",
    "\n",
    "Nb = {\"00\":[],\"11\":[],\"22\":[]}\n",
    "Na = {\"00\":[],\"11\":[],\"22\":[]}\n",
    "\n",
    "values_delta_c = np.arange(0,-16, step=-2)\n",
    "print(values_delta_c)\n",
    "\n",
    "for Delta_c in values_delta_c:\n",
    "    H = H_a(Om_p, Om) + H_b(Om_c, Delta_c) + H_int(Vab)\n",
    "    evo = evolution(steps, dt, rho_0, H, GammaA, GammaB)\n",
    "\n",
    "    Nb[\"00\"].append(np.trace(np.dot(evo[-1],np.kron(np.eye(3),sigma(0,0)))))\n",
    "    Nb[\"11\"].append(np.trace(np.dot(evo[-1],np.kron(np.eye(3),sigma(1,1)))))\n",
    "    Nb[\"22\"].append(np.trace(np.dot(evo[-1],np.kron(np.eye(3),sigma(2,2)))))\n",
    "\n",
    "    Na[\"00\"].append(np.trace(np.dot(evo[-1],np.kron(sigma(0,0),np.eye(3)))))\n",
    "    Na[\"11\"].append(np.trace(np.dot(evo[-1],np.kron(sigma(1,1),np.eye(3)))))\n",
    "    Na[\"22\"].append(np.trace(np.dot(evo[-1],np.kron(sigma(2,2),np.eye(3)))))"
   ]
  },
  {
   "cell_type": "code",
   "execution_count": null,
   "metadata": {},
   "outputs": [
    {
     "data": {
      "image/png": "[encoded data removed]",
      "text/plain": [
       "<Figure size 432x288 with 2 Axes>"
      ]
     },
     "metadata": {
      "needs_background": "light"
     },
     "output_type": "display_data"
    }
   ],
   "source": [
    "plt.subplot(211)\n",
    "\n",
    "plt.plot(values_delta_c, Nb[\"00\"], label=\"Nb00\")\n",
    "plt.plot(values_delta_c, Nb[\"11\"], label=\"Nb11\")\n",
    "plt.plot(values_delta_c, Nb[\"22\"], label=\"Nb22\")\n",
    "plt.plot([0,values_delta_c[-1]],[1,1],\"--\", alpha=0.5)\n",
    "plt.plot([0,values_delta_c[-1]],[0,0],\"--\", alpha=0.5)\n",
    "plt.plot([0,values_delta_c[-1]],[1/2,1/2],\"--\", alpha=0.5)\n",
    "plt.legend()\n",
    "\n",
    "plt.subplot(212)\n",
    "\n",
    "plt.plot(values_delta_c, Na[\"00\"], label=\"Na00\")\n",
    "plt.plot(values_delta_c, Na[\"11\"], label=\"Na11\")\n",
    "plt.plot(values_delta_c, Na[\"22\"], label=\"Na22\")\n",
    "plt.plot([0,values_delta_c[-1]],[1,1],\"--\", alpha=0.5)\n",
    "plt.plot([0,values_delta_c[-1]],[0,0],\"--\", alpha=0.5)\n",
    "plt.plot([0,values_delta_c[-1]],[1/2,1/2],\"--\", alpha=0.5)\n",
    "plt.legend()\n",
    "\n",
    "plt.show()"
   ]
  },
  {
   "cell_type": "code",
   "execution_count": null,
   "metadata": {},
   "outputs": [],
   "source": []
  }
 ],
 "metadata": {
  "kernelspec": {
   "display_name": "Python 3.10.2 64-bit",
   "language": "python",
   "name": "python3"
  },
  "language_info": {
   "codemirror_mode": {
    "name": "ipython",
    "version": 3
   },
   "file_extension": ".py",
   "mimetype": "text/x-python",
   "name": "python",
   "nbconvert_exporter": "python",
   "pygments_lexer": "ipython3",
   "version": "3.10.2"
  },
  "orig_nbformat": 4,
  "vscode": {
   "interpreter": {
    "hash": "aee8b7b246df8f9039afb4144a1f6fd8d2ca17a180786b69acc140d282b71a49"
   }
  }
 },
 "nbformat": 4,
 "nbformat_minor": 2
}
