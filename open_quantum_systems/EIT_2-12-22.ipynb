{
 "cells": [
  {
   "cell_type": "code",
   "execution_count": 1,
   "metadata": {},
   "outputs": [],
   "source": [
    "from lib import twoatoms\n",
    "import numpy as np\n",
    "from IPython.display import clear_output\n",
    "import matplotlib.pyplot as plt"
   ]
  },
  {
   "cell_type": "code",
   "execution_count": 2,
   "metadata": {},
   "outputs": [],
   "source": [
    "def projector(a,b):\n",
    "    projector_ = np.zeros([4, 4])\n",
    "    projector_[a,b] = 1\n",
    "    return projector_"
   ]
  },
  {
   "cell_type": "code",
   "execution_count": 8,
   "metadata": {},
   "outputs": [
    {
     "name": "stdout",
     "output_type": "stream",
     "text": [
      "status: 400.0 %\n"
     ]
    }
   ],
   "source": [
    "N_points = 100\n",
    "detunings_IR = np.linspace(-200,200,N_points)\n",
    "res = []\n",
    "for detuning_IR in detunings_IR:\n",
    "    rho0 = np.zeros([4,4])\n",
    "    rho0[0,0] = 1\n",
    "    atom = twoatoms.single_atom(power_blue=0.73e-3, waste_blue=90e-6, power_IR=20e-3, waste_IR=130e-6, detuning_blue=100, detuning_IR=detuning_IR)\n",
    "    atom.evolve(time=10, steps=10000, initial_DM=rho0, include_spontaneous_emission=True, include_defasing=True)\n",
    "    res.append(atom.evo_results.states[-1])\n",
    "    clear_output(wait=True)\n",
    "    print(\"status:\", (detuning_IR-min(detunings_IR))/len(detunings_IR)*100, \"%\")"
   ]
  },
  {
   "cell_type": "code",
   "execution_count": 9,
   "metadata": {},
   "outputs": [
    {
     "data": {
      "image/png": "[encoded data removed]",
      "text/plain": [
       "<Figure size 432x288 with 1 Axes>"
      ]
     },
     "metadata": {
      "needs_background": "light"
     },
     "output_type": "display_data"
    }
   ],
   "source": [
    "populations = {}\n",
    "labels = [r\"$P_1$\",r\"$P_2$\",r\"$P_3$\"]\n",
    "\n",
    "for l, label in enumerate(labels):\n",
    "    populations[label] = [np.trace(np.dot(res[i],projector(l,l))) for i in range(N_points)]\n",
    "\n",
    "for label in labels[1:]:\n",
    "    plt.plot(detunings_IR, populations[label])\n",
    "\n",
    "plt.show()"
   ]
  },
  {
   "cell_type": "code",
   "execution_count": null,
   "metadata": {},
   "outputs": [],
   "source": []
  }
 ],
 "metadata": {
  "kernelspec": {
   "display_name": "Python 3.10.2 64-bit",
   "language": "python",
   "name": "python3"
  },
  "language_info": {
   "codemirror_mode": {
    "name": "ipython",
    "version": 3
   },
   "file_extension": ".py",
   "mimetype": "text/x-python",
   "name": "python",
   "nbconvert_exporter": "python",
   "pygments_lexer": "ipython3",
   "version": "3.10.2"
  },
  "orig_nbformat": 4,
  "vscode": {
   "interpreter": {
    "hash": "aee8b7b246df8f9039afb4144a1f6fd8d2ca17a180786b69acc140d282b71a49"
   }
  }
 },
 "nbformat": 4,
 "nbformat_minor": 2
}
