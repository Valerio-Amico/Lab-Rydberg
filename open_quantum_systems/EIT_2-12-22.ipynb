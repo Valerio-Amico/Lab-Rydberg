{
 "cells": [
  {
   "cell_type": "code",
   "execution_count": 1,
   "metadata": {},
   "outputs": [],
   "source": [
    "from lib import twoatoms\n",
    "import numpy as np\n",
    "from IPython.display import clear_output\n",
    "import matplotlib.pyplot as plt"
   ]
  },
  {
   "cell_type": "code",
   "execution_count": 2,
   "metadata": {},
   "outputs": [],
   "source": [
    "def projector(a,b):\n",
    "    projector_ = np.zeros([4, 4])\n",
    "    projector_[a,b] = 1\n",
    "    return projector_"
   ]
  },
  {
   "cell_type": "code",
   "execution_count": 20,
   "metadata": {},
   "outputs": [
    {
     "name": "stdout",
     "output_type": "stream",
     "text": [
      "status: 100.0 %\n"
     ]
    }
   ],
   "source": [
    "N_points = 100\n",
    "detunings_IR = np.linspace(-200,200,N_points)\n",
    "res = []\n",
    "for detuning_IR in detunings_IR:\n",
    "    rho0 = np.zeros([4,4])\n",
    "    rho0[0,0] = 1\n",
    "    atom = twoatoms.single_atom(power_blue=3e-6, waste_blue=40e-6, power_IR=20e-3, waste_IR=130e-6, detuning_blue=30, detuning_IR=detuning_IR)\n",
    "    atom.evolve(time=1, steps=10000, initial_DM=rho0, include_spontaneous_emission=True, include_defasing=True)\n",
    "    res.append(atom.evo_results.states[-1])\n",
    "    clear_output(wait=True)\n",
    "    print(\"status:\", (detuning_IR-min(detunings_IR))/(2*max(detunings_IR))*100, \"%\")\n"
   ]
  },
  {
   "cell_type": "code",
   "execution_count": 21,
   "metadata": {},
   "outputs": [
    {
     "data": {
      "text/plain": [
       "1.5885767227470016"
      ]
     },
     "execution_count": 21,
     "metadata": {},
     "output_type": "execute_result"
    }
   ],
   "source": [
    "atom.higher_transition_rabi_freq"
   ]
  },
  {
   "cell_type": "code",
   "execution_count": 22,
   "metadata": {},
   "outputs": [
    {
     "data": {
      "text/plain": [
       "1.8951043054819945"
      ]
     },
     "execution_count": 22,
     "metadata": {},
     "output_type": "execute_result"
    }
   ],
   "source": [
    "atom.lower_transition_rabi_freq"
   ]
  },
  {
   "cell_type": "code",
   "execution_count": 23,
   "metadata": {},
   "outputs": [
    {
     "name": "stderr",
     "output_type": "stream",
     "text": [
      "/Library/Frameworks/Python.framework/Versions/3.10/lib/python3.10/site-packages/matplotlib/cbook/__init__.py:1298: ComplexWarning: Casting complex values to real discards the imaginary part\n",
      "  return np.asarray(x, float)\n"
     ]
    },
    {
     "data": {
      "image/png": "[encoded data removed]",
      "text/plain": [
       "<Figure size 432x288 with 1 Axes>"
      ]
     },
     "metadata": {
      "needs_background": "light"
     },
     "output_type": "display_data"
    }
   ],
   "source": [
    "populations = {}\n",
    "labels = [r\"$P_1$\",r\"$P_2$\",r\"$P_3$\"]\n",
    "\n",
    "for l, label in enumerate(labels):\n",
    "    populations[label] = [np.trace(np.dot(res[i],projector(l,l))) for i in range(N_points)]\n",
    "\n",
    "for label in labels[1:]:\n",
    "    plt.plot(detunings_IR, populations[label])\n",
    "\n",
    "plt.show()"
   ]
  },
  {
   "cell_type": "code",
   "execution_count": null,
   "metadata": {},
   "outputs": [],
   "source": []
  }
 ],
 "metadata": {
  "kernelspec": {
   "display_name": "Python 3.10.2 64-bit",
   "language": "python",
   "name": "python3"
  },
  "language_info": {
   "codemirror_mode": {
    "name": "ipython",
    "version": 3
   },
   "file_extension": ".py",
   "mimetype": "text/x-python",
   "name": "python",
   "nbconvert_exporter": "python",
   "pygments_lexer": "ipython3",
   "version": "3.10.2 (v3.10.2:a58ebcc701, Jan 13 2022, 14:50:16) [Clang 13.0.0 (clang-1300.0.29.30)]"
  },
  "orig_nbformat": 4,
  "vscode": {
   "interpreter": {
    "hash": "aee8b7b246df8f9039afb4144a1f6fd8d2ca17a180786b69acc140d282b71a49"
   }
  }
 },
 "nbformat": 4,
 "nbformat_minor": 2
}
