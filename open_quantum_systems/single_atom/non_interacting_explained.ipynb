{
 "cells": [
  {
   "cell_type": "markdown",
   "metadata": {},
   "source": [
    "# Exact simulation of a three level system: rubidium 87\n",
    "\n",
    "The following levels or the rubidium87 are considered:\n",
    "\n",
    "- $\\ket{g}$ = 5s1/2 : ground\n",
    "- $\\ket{i}$ = 6p3/2 : intermediate\n",
    "- $\\ket{r}$ = 70s1/2 : rydberg\n",
    "\n",
    "so the hamiltonian of the atom is\n",
    "$$ H_0 = \n",
    "\\begin{pmatrix}\n",
    "  \\hbar \\omega_g & 0 & 0 \\\\\n",
    "  0 & \\hbar \\omega_i & 0\\\\ \n",
    "  0 & 0&  \\hbar\\omega_r \n",
    "\\end{pmatrix} $$\n",
    "\n",
    "the hamiltonian of the laser is\n",
    "$$ H_L = \\hbar \\omega_L a^+ a $$\n",
    "\n",
    "the states of the system in the $\\varepsilon_N$ manifold are:\n",
    "- $\\ket{g, N_r+1, N_b+1}$ with energy $E_0 = 0$.\n",
    "- $\\ket{i, N_r+1, N_b}$ with energy $- \\Delta$.\n",
    "- $\\ket{r, N_r, N_b}$ with energy $- \\delta$.\n",
    "\n",
    "the dressed-atom hamiltonian is\n",
    "$$ H = \\hbar\n",
    "\\begin{pmatrix}\n",
    "    0 & \\Omega_b/2 & 0 \\\\\n",
    "    \\Omega_b/2 & - \\Delta &  \\Omega_{IR}/2 \\\\\n",
    "    0 & \\Omega_{IR}/2 & - \\delta \n",
    "\\end{pmatrix}\n",
    "$$\n",
    "\n",
    "if we add also the depumping beam, than we have the following dressed states:\n",
    "- $\\ket{g, N_r+1, N_b+1, N_d}$ with energy $E_0 = 0$.\n",
    "- $\\ket{i, N_r+1, N_b, N_d}$ with energy $- \\Delta$.\n",
    "- $\\ket{r, N_r, N_b, N_d}$ with energy $- \\delta$.\n",
    "- $\\ket{i, N_r, N_b, N_d+1}$ with energy $- \\delta$.\n",
    "\n",
    "$$ H = \\hbar\n",
    "\\begin{pmatrix}\n",
    "    0 & \\Omega_b/2 & 0 & 0 \\\\\n",
    "    \\Omega_b/2 & - \\Delta &  \\Omega_{IR}/2 & 0\\\\\n",
    "    0 & \\Omega_{IR}/2 & - \\delta & \\Omega_{d}/2 \\\\\n",
    "    0 & 0 & \\Omega_{d}/2 & -\\delta \n",
    "\\end{pmatrix}\n",
    "$$\n",
    "\n",
    "so the dynamics of the system is described by the von newman equation:\n",
    "$$ \\dot{\\rho} = -\\frac{i}{\\hbar}[H,\\rho] $$\n",
    "\n",
    "considering also the spontaneous emission and/or other interaction with the enviroment this equation become\n",
    "$$ \\dot{\\rho} = -\\frac{i}{\\hbar}[H,\\rho] + \\sum_i L(J_i, \\rho) $$\n",
    "\n",
    "where $J_i$ are the jump operators and\n",
    "$$ L(J_i, \\rho) = J_i \\rho J_i^+ - \\frac{1}{2}(J_i^+ J_i \\rho + \\rho J_i^+ J_i) $$\n",
    "\n",
    "so\n",
    "$$ \\dot{\\rho} = -\\frac{i}{\\hbar}[H,\\rho] + L(\\sqrt{\\Gamma_r}S_{ri}, \\rho) + L(\\sqrt{\\Gamma_i}S_{ig}, \\rho) + L(\\sqrt{\\gamma_r}S_{rr}, \\rho) + L(\\sqrt{\\gamma_i}S_{ii}, \\rho) $$\n",
    "\n",
    "where $ S_{ab} = \\ket{a}\\bra{b} $ and $ \\Gamma_r, \\Gamma_i, \\gamma_r, \\gamma_i $ are respectively the stontaneus emission rates and the dephasing rates."
   ]
  },
  {
   "cell_type": "code",
   "execution_count": 1,
   "metadata": {},
   "outputs": [],
   "source": [
    "import numpy as np\n",
    "import matplotlib.pyplot as plt\n",
    "from scipy.constants import hbar\n",
    "from sympy import Matrix\n",
    "from scipy.integrate import solve_ivp\n",
    "from arc.alkali_atom_functions import AlkaliAtom\n",
    "from IPython.display import clear_output\n",
    "import arc\n",
    "import qutip as qtp"
   ]
  },
  {
   "cell_type": "code",
   "execution_count": 21,
   "metadata": {},
   "outputs": [],
   "source": [
    "Om_b = 10\n",
    "Om_r = 3\n",
    "Om_d = 0\n",
    "Delta = 1000\n",
    "delta = 0\n",
    "\n",
    "Om_b = 30\n",
    "Om_r = 2\n",
    "Om_d = 0\n",
    "Delta = 100\n",
    "delta = 0\n",
    "\n",
    "N_atoms_in_interaction_volume = 1\n",
    "N_states = 4\n",
    "\n",
    "steps = 1000\n",
    "time = 10\n",
    "times = np.linspace(0, time, steps)\n",
    "\n",
    "def H():\n",
    "    return np.array([\n",
    "    [0, Om_b/2, 0, 0],\n",
    "    [Om_b/2, -Delta, Om_r/2, 0],\n",
    "    [0, Om_r/2, -delta, Om_d/2],\n",
    "    [0, 0, Om_d/2, -delta]\n",
    "])\n",
    "\n",
    "psi0 = np.zeros([4,4])\n",
    "psi0[2,2] = 1\n",
    "\n",
    "# jump operators\n",
    "Gamma_i = 8\n",
    "Gamma_ry = 0.002\n",
    "def_ry = 4.4\n",
    "def_i = 0\n",
    "\n",
    "S_minus_i = qtp.Qobj(Gamma_i**(1/2)*(np.array([[0,1,0,1],[0,0,0,0],[0,0,0,0],[0,0,0,0]])))\n",
    "S_minus_ry = qtp.Qobj(Gamma_ry**(1/2)*np.array([[0,0,1,0],[0,0,0,0],[0,0,0,0],[0,0,0,0]]))\n",
    "J_def_i = qtp.Qobj(def_i**(1/2)*np.array([[0,0,0,0],[0,1,0,0],[0,0,0,0],[0,0,0,1]]))\n",
    "J_def_ry = qtp.Qobj(def_ry**(1/2)*np.array([[0,0,0,0],[0,0,0,0],[0,0,1,0],[0,0,0,0]]))\n",
    "\n",
    "Jump_ops = [S_minus_i, S_minus_ry, J_def_ry, J_def_i]"
   ]
  },
  {
   "cell_type": "code",
   "execution_count": 22,
   "metadata": {},
   "outputs": [],
   "source": [
    "result = qtp.mesolve(qtp.Qobj(H()), qtp.Qobj(psi0), times, c_ops = Jump_ops)"
   ]
  },
  {
   "cell_type": "code",
   "execution_count": 23,
   "metadata": {},
   "outputs": [],
   "source": [
    "def projector(a,b):\n",
    "    projector_ = np.zeros([N_states, N_states])\n",
    "    projector_[a,b] = 1\n",
    "    return projector_"
   ]
  },
  {
   "cell_type": "code",
   "execution_count": 24,
   "metadata": {},
   "outputs": [
    {
     "data": {
      "image/png": "[encoded data removed]",
      "text/plain": [
       "<Figure size 720x720 with 1 Axes>"
      ]
     },
     "metadata": {
      "needs_background": "light"
     },
     "output_type": "display_data"
    }
   ],
   "source": [
    "evo = [np.array(result.states[i]) for i in range(steps)]\n",
    "p_trace_res = {}\n",
    "labels = [\"ground\",\"intermediate\",\"rydberg\"]\n",
    "for l, label in enumerate(labels):\n",
    "    if l==1: projector_ = projector(1,1) + projector(3,3)\n",
    "    else: projector_ = projector(l,l)\n",
    "    p_trace_res[label] = [N_atoms_in_interaction_volume * np.trace(np.dot(evo[i], projector_)) for i in range(steps)]\n",
    "plt.figure(figsize=(10,10))\n",
    "\n",
    "for i, label in enumerate(labels):\n",
    "    plt.plot(times, p_trace_res[label], label=label)\n",
    "plt.plot([0,times[-1]],[N_atoms_in_interaction_volume,N_atoms_in_interaction_volume],\"--\", alpha=0.5)\n",
    "plt.plot([0,times[-1]],[0,0],\"--\", alpha=0.5)\n",
    "plt.plot([0,times[-1]],[N_atoms_in_interaction_volume/2,N_atoms_in_interaction_volume/2],\"--\", alpha=0.5)\n",
    "plt.ylim([-0.05,1.05])\n",
    "plt.title(label)\n",
    "plt.legend()\n",
    "\n",
    "plt.show()"
   ]
  },
  {
   "cell_type": "markdown",
   "metadata": {},
   "source": [
    "Try to see EIT with this model"
   ]
  },
  {
   "cell_type": "code",
   "execution_count": 69,
   "metadata": {},
   "outputs": [],
   "source": [
    "Om_b = 1.5\n",
    "Om_r = 1.58\n",
    "Om_d = 0\n",
    "Delta = 150\n",
    "delta = 0\n",
    "N_states = 4\n",
    "\n",
    "steps = 1000\n",
    "time = 10\n",
    "times = np.linspace(0, time, steps)\n",
    "\n",
    "psi0 = np.zeros([4,4])\n",
    "psi0[0,0] = 1\n",
    "\n",
    "# jump operators\n",
    "Gamma_i = 8\n",
    "Gamma_ry = 0.001\n",
    "def_ry = 4\n",
    "def_i = 0\n",
    "\n",
    "S_minus_i = qtp.Qobj(Gamma_i**(1/2)*(np.array([[0,1,0,1],[0,0,0,0],[0,0,0,0],[0,0,0,0]])))\n",
    "S_minus_ry = qtp.Qobj(Gamma_ry**(1/2)*np.array([[0,0,1,0],[0,0,0,0],[0,0,0,0],[0,0,0,0]]))\n",
    "J_def_i = qtp.Qobj(def_i**(1/2)*np.array([[0,0,0,0],[0,1,0,0],[0,0,0,0],[0,0,0,1]]))\n",
    "J_def_ry = qtp.Qobj(def_ry**(1/2)*np.array([[0,0,0,0],[0,0,0,0],[0,0,1,0],[0,0,0,0]]))\n",
    "\n",
    "Jump_ops = [S_minus_i, S_minus_ry, J_def_ry, J_def_i]"
   ]
  },
  {
   "cell_type": "code",
   "execution_count": 70,
   "metadata": {},
   "outputs": [],
   "source": [
    "result = qtp.mesolve(qtp.Qobj(H()), qtp.Qobj(psi0), times, c_ops = Jump_ops)"
   ]
  },
  {
   "cell_type": "code",
   "execution_count": 71,
   "metadata": {},
   "outputs": [
    {
     "name": "stdout",
     "output_type": "stream",
     "text": [
      "status: 100.0 %\n"
     ]
    }
   ],
   "source": [
    "N_points = 100\n",
    "deltas = np.linspace(-200,200,N_points)\n",
    "results = []\n",
    "for i, delta in enumerate(deltas):\n",
    "    clear_output(wait=True)\n",
    "    print(\"status: %.1f %%\"%((i+1)/N_points*100))\n",
    "    \n",
    "    result = qtp.mesolve(qtp.Qobj(H()), qtp.Qobj(psi0), times, c_ops = Jump_ops)\n",
    "    results.append(result.states[-1])"
   ]
  },
  {
   "cell_type": "code",
   "execution_count": 72,
   "metadata": {},
   "outputs": [
    {
     "data": {
      "image/png": "[encoded data removed]",
      "text/plain": [
       "<Figure size 720x720 with 1 Axes>"
      ]
     },
     "metadata": {
      "needs_background": "light"
     },
     "output_type": "display_data"
    }
   ],
   "source": [
    "populations = {}\n",
    "for l, label in enumerate(labels):\n",
    "    if l==1: projector_ = projector(1,1) + projector(3,3)\n",
    "    else: projector_ = projector(l,l)\n",
    "    populations[label] = [np.trace(np.dot(results[i],projector_)) for i in range(N_points)]\n",
    "\n",
    "plt.figure(figsize=(10,10))\n",
    "for l, label in enumerate(labels[1:]):\n",
    "    plt.plot(deltas, populations[label], label = label)\n",
    "plt.xlabel(\"$\\Delta_2$ [MHz]\", fontsize=16)\n",
    "plt.ylabel(\"probability\", fontsize=16)\n",
    "plt.legend(fontsize=16)\n",
    "plt.show()"
   ]
  },
  {
   "cell_type": "code",
   "execution_count": null,
   "metadata": {},
   "outputs": [],
   "source": []
  },
  {
   "cell_type": "code",
   "execution_count": null,
   "metadata": {},
   "outputs": [],
   "source": []
  }
 ],
 "metadata": {
  "kernelspec": {
   "display_name": "Python 3.10.2 64-bit",
   "language": "python",
   "name": "python3"
  },
  "language_info": {
   "codemirror_mode": {
    "name": "ipython",
    "version": 3
   },
   "file_extension": ".py",
   "mimetype": "text/x-python",
   "name": "python",
   "nbconvert_exporter": "python",
   "pygments_lexer": "ipython3",
   "version": "3.10.2"
  },
  "orig_nbformat": 4,
  "vscode": {
   "interpreter": {
    "hash": "aee8b7b246df8f9039afb4144a1f6fd8d2ca17a180786b69acc140d282b71a49"
   }
  }
 },
 "nbformat": 4,
 "nbformat_minor": 2
}
