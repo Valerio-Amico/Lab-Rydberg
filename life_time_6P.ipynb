{
 "cells": [
  {
   "cell_type": "code",
   "execution_count": 1,
   "metadata": {},
   "outputs": [],
   "source": [
    "import matplotlib.pyplot as plt\n",
    "import numpy as np"
   ]
  },
  {
   "cell_type": "code",
   "execution_count": 29,
   "metadata": {},
   "outputs": [],
   "source": [
    "N0=30\n",
    "gamma= 8 # VITA MEDIA 6P\n",
    "alpha=1 # rate eccitazione sul 70s\n",
    "\n",
    "\n"
   ]
  },
  {
   "cell_type": "code",
   "execution_count": 30,
   "metadata": {},
   "outputs": [],
   "source": [
    "def Prob_decadere_t(t,dt,life=gamma):\n",
    "    \n",
    "    a=np.exp(-life*t)*(1-np.exp(-life*dt))\n",
    "\n",
    "    return a"
   ]
  },
  {
   "cell_type": "code",
   "execution_count": 31,
   "metadata": {},
   "outputs": [],
   "source": [
    "def Prob_eccitare_Dt(Dt,dt,life=alpha):\n",
    "    \n",
    "    a=np.exp(-life*Dt)*(1-np.exp(-life*dt))\n",
    "\n",
    "    return a"
   ]
  },
  {
   "cell_type": "code",
   "execution_count": 48,
   "metadata": {},
   "outputs": [],
   "source": [
    "\n",
    "\n",
    "\n",
    "def evoluzione(t_blue,t_IR,N6p,N_step,gamma,alpha):\n",
    "    dt=t_IR/N_step\n",
    "    t=0\n",
    "    N70s=0\n",
    "    N5s=0\n",
    "    while N6p!=0 and t<t_blue:\n",
    "       # prima parte prima che si acccenda l'infrarosso\n",
    "        t=t+dt\n",
    "        for j in range(N6p):\n",
    "            a=np.random.uniform(0,1)\n",
    "            p5s=gamma*dt\n",
    "            if a<=p5s:\n",
    "                N6p=N6p-1\n",
    "                N5s=N5s+1\n",
    "\n",
    "    t=0\n",
    "    while N6p!=0 and t<t_IR:\n",
    "        t=t+dt\n",
    "        for i in range(N6p):\n",
    "            a=np.random.uniform(0,1)\n",
    "            p5s=gamma*dt\n",
    "            p70s=alpha*dt\n",
    "            if a<=p5s:\n",
    "                N6p=N6p-1\n",
    "                N5s=N5s+1\n",
    "            if p5s<=a<=p5s+p70s:\n",
    "                N6p=N6p-1\n",
    "                N70s=N70s+1\n",
    "\n",
    "    \n",
    "    return N70s, N5s, N6p\n",
    "\n",
    "\n",
    "\n",
    "    \n",
    "    \n",
    "\n"
   ]
  },
  {
   "cell_type": "code",
   "execution_count": 68,
   "metadata": {},
   "outputs": [
    {
     "data": {
      "image/png": "[encoded data removed]",
      "text/plain": [
       "<Figure size 432x288 with 1 Axes>"
      ]
     },
     "metadata": {
      "needs_background": "light"
     },
     "output_type": "display_data"
    }
   ],
   "source": [
    "N_punti=300\n",
    "alpha=10\n",
    "gamma=8\n",
    "Evo_70s=np.zeros(N_punti)\n",
    "Evo_5s=np.zeros(N_punti)\n",
    "Evo_6p=np.zeros(N_punti)\n",
    "t_delay=np.linspace(0,3,N_punti)\n",
    "t_INF=5\n",
    "N0=2000\n",
    "i=0\n",
    "for delay in np.linspace(0,3,N_punti):\n",
    "    Evo_70s[i],Evo_5s[i],Evo_6p[i]=evoluzione(delay,t_IR=t_INF,N6p=N0,N_step=1000,gamma=gamma,alpha=alpha)\n",
    "    i=i+1\n",
    "\n",
    "plt.plot(t_delay,Evo_70s,label='70S')\n",
    "plt.plot(t_delay,Evo_5s,label='5S')\n",
    "plt.plot(t_delay,Evo_6p,label='6P')\n",
    "plt.plot(t_delay,Evo_70s[0]*np.exp(-gamma*t_delay))\n",
    "plt.legend()\n",
    "\n",
    "plt.show()\n",
    "\n",
    "\n",
    "    \n",
    "    "
   ]
  },
  {
   "cell_type": "code",
   "execution_count": 65,
   "metadata": {},
   "outputs": [
    {
     "data": {
      "image/png": "[encoded data removed]",
      "text/plain": [
       "<Figure size 432x288 with 1 Axes>"
      ]
     },
     "metadata": {
      "needs_background": "light"
     },
     "output_type": "display_data"
    }
   ],
   "source": [
    "plt.plot(Evo_70s[0]*np.exp(-gamma*delay))\n",
    "plt.show()"
   ]
  },
  {
   "cell_type": "code",
   "execution_count": null,
   "metadata": {},
   "outputs": [],
   "source": []
  },
  {
   "cell_type": "code",
   "execution_count": null,
   "metadata": {},
   "outputs": [],
   "source": []
  },
  {
   "cell_type": "code",
   "execution_count": null,
   "metadata": {},
   "outputs": [],
   "source": []
  }
 ],
 "metadata": {
  "interpreter": {
   "hash": "aee8b7b246df8f9039afb4144a1f6fd8d2ca17a180786b69acc140d282b71a49"
  },
  "kernelspec": {
   "display_name": "Python 3.10.2 64-bit",
   "language": "python",
   "name": "python3"
  },
  "language_info": {
   "codemirror_mode": {
    "name": "ipython",
    "version": 3
   },
   "file_extension": ".py",
   "mimetype": "text/x-python",
   "name": "python",
   "nbconvert_exporter": "python",
   "pygments_lexer": "ipython3",
   "version": "3.10.2 (v3.10.2:a58ebcc701, Jan 13 2022, 14:50:16) [Clang 13.0.0 (clang-1300.0.29.30)]"
  },
  "orig_nbformat": 4
 },
 "nbformat": 4,
 "nbformat_minor": 2
}
